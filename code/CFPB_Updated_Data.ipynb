{
 "cells": [
  {
   "cell_type": "code",
   "execution_count": 509,
   "id": "b56491cc-2501-4fb2-8476-a2a5513aef93",
   "metadata": {},
   "outputs": [],
   "source": [
    "import pandas as pd\n",
    "import numpy as np\n",
    "import matplotlib.pyplot as plt\n",
    "import matplotlib.ticker as ticker\n",
    "from matplotlib import cm\n",
    "import seaborn as sns\n",
    "import re\n",
    "from datetime import datetime, timedelta\n",
    "import missingno as msno"
   ]
  },
  {
   "cell_type": "code",
   "execution_count": 296,
   "id": "7affb976-528f-4e1c-90ed-65e8105e11ae",
   "metadata": {},
   "outputs": [],
   "source": [
    "columns_to_read = 'B:FO'"
   ]
  },
  {
   "cell_type": "code",
   "execution_count": 297,
   "id": "05d81fd9-717c-48fc-a865-d1382d831f40",
   "metadata": {},
   "outputs": [],
   "source": [
    "df = pd.read_excel(\"../data/cfpb_updated_tccp.xlsx\",skiprows=9,usecols=columns_to_read)"
   ]
  },
  {
   "cell_type": "code",
   "execution_count": 298,
   "id": "8b2374e0-ec7c-47e0-b236-80fc5fa3efdd",
   "metadata": {},
   "outputs": [
    {
     "data": {
      "text/html": [
       "<div>\n",
       "<style scoped>\n",
       "    .dataframe tbody tr th:only-of-type {\n",
       "        vertical-align: middle;\n",
       "    }\n",
       "\n",
       "    .dataframe tbody tr th {\n",
       "        vertical-align: top;\n",
       "    }\n",
       "\n",
       "    .dataframe thead th {\n",
       "        text-align: right;\n",
       "    }\n",
       "</style>\n",
       "<table border=\"1\" class=\"dataframe\">\n",
       "  <thead>\n",
       "    <tr style=\"text-align: right;\">\n",
       "      <th></th>\n",
       "      <th>Institution Name</th>\n",
       "      <th>Product Name</th>\n",
       "      <th>Report Date</th>\n",
       "      <th>Availability of Credit Card Plan</th>\n",
       "      <th>State</th>\n",
       "      <th>State (Multiple)</th>\n",
       "      <th>Pertains to Specific Counties?</th>\n",
       "      <th>Requirements for Opening</th>\n",
       "      <th>Requirements for Opening Types</th>\n",
       "      <th>Geographic Restrictions</th>\n",
       "      <th>...</th>\n",
       "      <th>Services</th>\n",
       "      <th>Other Services</th>\n",
       "      <th>Rewards</th>\n",
       "      <th>Other Rewards</th>\n",
       "      <th>Card Features</th>\n",
       "      <th>Other Card Features</th>\n",
       "      <th>Contact Information Types</th>\n",
       "      <th>Website for Consumer</th>\n",
       "      <th>Telephone Number for Consumers</th>\n",
       "      <th>Created Date</th>\n",
       "    </tr>\n",
       "  </thead>\n",
       "  <tbody>\n",
       "    <tr>\n",
       "      <th>0</th>\n",
       "      <td>FNBT BANK</td>\n",
       "      <td>MasterCard</td>\n",
       "      <td>Data as of December 31</td>\n",
       "      <td>National</td>\n",
       "      <td>NaN</td>\n",
       "      <td>NaN</td>\n",
       "      <td>NaN</td>\n",
       "      <td>No</td>\n",
       "      <td>NaN</td>\n",
       "      <td>NaN</td>\n",
       "      <td>...</td>\n",
       "      <td>NaN</td>\n",
       "      <td>NaN</td>\n",
       "      <td>Cashback rewards</td>\n",
       "      <td>NaN</td>\n",
       "      <td>Chip card</td>\n",
       "      <td>NaN</td>\n",
       "      <td>Phone; Website</td>\n",
       "      <td>https:www.fnbt.com</td>\n",
       "      <td>1-800-899-4321</td>\n",
       "      <td>3/21/2023</td>\n",
       "    </tr>\n",
       "    <tr>\n",
       "      <th>1</th>\n",
       "      <td>WINTHROP AREA FEDERAL CREDIT UNION</td>\n",
       "      <td>Visa Credit Platinum</td>\n",
       "      <td>Data as of December 31</td>\n",
       "      <td>National</td>\n",
       "      <td>NaN</td>\n",
       "      <td>NaN</td>\n",
       "      <td>NaN</td>\n",
       "      <td>No</td>\n",
       "      <td>NaN</td>\n",
       "      <td>NaN</td>\n",
       "      <td>...</td>\n",
       "      <td>NaN</td>\n",
       "      <td>NaN</td>\n",
       "      <td>Cashback rewards; Travel-related rewards</td>\n",
       "      <td>NaN</td>\n",
       "      <td>Contactless Payments; Chip card; Fee-free fore...</td>\n",
       "      <td>NaN</td>\n",
       "      <td>Phone; Website</td>\n",
       "      <td>https://www.winthropcreditunion.org</td>\n",
       "      <td>800-511-1120</td>\n",
       "      <td>3/21/2023</td>\n",
       "    </tr>\n",
       "    <tr>\n",
       "      <th>2</th>\n",
       "      <td>WOORI AMERICA BANK</td>\n",
       "      <td>Classic</td>\n",
       "      <td>Data as of December 31</td>\n",
       "      <td>National</td>\n",
       "      <td>NaN</td>\n",
       "      <td>NaN</td>\n",
       "      <td>NaN</td>\n",
       "      <td>Yes</td>\n",
       "      <td>NaN</td>\n",
       "      <td>NaN</td>\n",
       "      <td>...</td>\n",
       "      <td>Automobile rental insurance; Credit card regis...</td>\n",
       "      <td>NaN</td>\n",
       "      <td>Travel-related rewards</td>\n",
       "      <td>NaN</td>\n",
       "      <td>Chip card; Fee-free foreign transactions; Mobi...</td>\n",
       "      <td>NaN</td>\n",
       "      <td>Website</td>\n",
       "      <td>https://www.wooriamericabank.com</td>\n",
       "      <td>NaN</td>\n",
       "      <td>3/21/2023</td>\n",
       "    </tr>\n",
       "    <tr>\n",
       "      <th>3</th>\n",
       "      <td>CENTRAL BANK &amp; TRUST COMPANY</td>\n",
       "      <td>Classic Visa</td>\n",
       "      <td>Data as of December 31</td>\n",
       "      <td>Regional</td>\n",
       "      <td>NaN</td>\n",
       "      <td>IN; KY; OH</td>\n",
       "      <td>No</td>\n",
       "      <td>Yes</td>\n",
       "      <td>NaN</td>\n",
       "      <td>NaN</td>\n",
       "      <td>...</td>\n",
       "      <td>Automobile rental insurance; Other</td>\n",
       "      <td>Roadside assistance</td>\n",
       "      <td>NaN</td>\n",
       "      <td>NaN</td>\n",
       "      <td>Contactless Payments; Chip card; Mobile wallet...</td>\n",
       "      <td>NaN</td>\n",
       "      <td>Phone; Website</td>\n",
       "      <td>https://www.centralbank.com</td>\n",
       "      <td>(800)637-6884</td>\n",
       "      <td>3/22/2023</td>\n",
       "    </tr>\n",
       "    <tr>\n",
       "      <th>4</th>\n",
       "      <td>CLEARWATER FEDERAL CREDIT UNION</td>\n",
       "      <td>Visa</td>\n",
       "      <td>Data as of December 31</td>\n",
       "      <td>National</td>\n",
       "      <td>NaN</td>\n",
       "      <td>NaN</td>\n",
       "      <td>NaN</td>\n",
       "      <td>No</td>\n",
       "      <td>Other. Please Describe:</td>\n",
       "      <td>NaN</td>\n",
       "      <td>...</td>\n",
       "      <td>Debt cancellation coverage; Other</td>\n",
       "      <td>Visa's credit monitoring (Norton Lifelock cred...</td>\n",
       "      <td>NaN</td>\n",
       "      <td>NaN</td>\n",
       "      <td>Contactless Payments; Chip card; Mobile wallet...</td>\n",
       "      <td>NaN</td>\n",
       "      <td>Phone; Website</td>\n",
       "      <td>https://www.clearwatercreditunion.org</td>\n",
       "      <td>800-254-1803</td>\n",
       "      <td>3/22/2023</td>\n",
       "    </tr>\n",
       "  </tbody>\n",
       "</table>\n",
       "<p>5 rows × 170 columns</p>\n",
       "</div>"
      ],
      "text/plain": [
       "                     Institution Name          Product Name  \\\n",
       "0                           FNBT BANK            MasterCard   \n",
       "1  WINTHROP AREA FEDERAL CREDIT UNION  Visa Credit Platinum   \n",
       "2                  WOORI AMERICA BANK               Classic   \n",
       "3        CENTRAL BANK & TRUST COMPANY          Classic Visa   \n",
       "4     CLEARWATER FEDERAL CREDIT UNION                  Visa   \n",
       "\n",
       "              Report Date Availability of Credit Card Plan State  \\\n",
       "0  Data as of December 31                         National   NaN   \n",
       "1  Data as of December 31                         National   NaN   \n",
       "2  Data as of December 31                         National   NaN   \n",
       "3  Data as of December 31                         Regional   NaN   \n",
       "4  Data as of December 31                         National   NaN   \n",
       "\n",
       "  State (Multiple) Pertains to Specific Counties? Requirements for Opening  \\\n",
       "0              NaN                            NaN                       No   \n",
       "1              NaN                            NaN                       No   \n",
       "2              NaN                            NaN                      Yes   \n",
       "3       IN; KY; OH                             No                      Yes   \n",
       "4              NaN                            NaN                       No   \n",
       "\n",
       "  Requirements for Opening Types Geographic Restrictions  ...  \\\n",
       "0                            NaN                     NaN  ...   \n",
       "1                            NaN                     NaN  ...   \n",
       "2                            NaN                     NaN  ...   \n",
       "3                            NaN                     NaN  ...   \n",
       "4        Other. Please Describe:                     NaN  ...   \n",
       "\n",
       "                                            Services  \\\n",
       "0                                                NaN   \n",
       "1                                                NaN   \n",
       "2  Automobile rental insurance; Credit card regis...   \n",
       "3                 Automobile rental insurance; Other   \n",
       "4                  Debt cancellation coverage; Other   \n",
       "\n",
       "                                      Other Services  \\\n",
       "0                                                NaN   \n",
       "1                                                NaN   \n",
       "2                                                NaN   \n",
       "3                                Roadside assistance   \n",
       "4  Visa's credit monitoring (Norton Lifelock cred...   \n",
       "\n",
       "                                    Rewards Other Rewards  \\\n",
       "0                          Cashback rewards           NaN   \n",
       "1  Cashback rewards; Travel-related rewards           NaN   \n",
       "2                    Travel-related rewards           NaN   \n",
       "3                                       NaN           NaN   \n",
       "4                                       NaN           NaN   \n",
       "\n",
       "                                       Card Features Other Card Features  \\\n",
       "0                                          Chip card                 NaN   \n",
       "1  Contactless Payments; Chip card; Fee-free fore...                 NaN   \n",
       "2  Chip card; Fee-free foreign transactions; Mobi...                 NaN   \n",
       "3  Contactless Payments; Chip card; Mobile wallet...                 NaN   \n",
       "4  Contactless Payments; Chip card; Mobile wallet...                 NaN   \n",
       "\n",
       "   Contact Information Types                   Website for Consumer  \\\n",
       "0             Phone; Website                     https:www.fnbt.com   \n",
       "1             Phone; Website    https://www.winthropcreditunion.org   \n",
       "2                    Website       https://www.wooriamericabank.com   \n",
       "3             Phone; Website            https://www.centralbank.com   \n",
       "4             Phone; Website  https://www.clearwatercreditunion.org   \n",
       "\n",
       "   Telephone Number for Consumers  Created Date  \n",
       "0                  1-800-899-4321     3/21/2023  \n",
       "1                    800-511-1120     3/21/2023  \n",
       "2                             NaN     3/21/2023  \n",
       "3                   (800)637-6884     3/22/2023  \n",
       "4                    800-254-1803     3/22/2023  \n",
       "\n",
       "[5 rows x 170 columns]"
      ]
     },
     "execution_count": 298,
     "metadata": {},
     "output_type": "execute_result"
    }
   ],
   "source": [
    "df.head()"
   ]
  },
  {
   "cell_type": "code",
   "execution_count": 299,
   "id": "5514a6d7-ed69-410b-a1fb-1bb0ac2ba136",
   "metadata": {},
   "outputs": [
    {
     "data": {
      "text/plain": [
       "(648, 170)"
      ]
     },
     "execution_count": 299,
     "metadata": {},
     "output_type": "execute_result"
    }
   ],
   "source": [
    "df.shape"
   ]
  },
  {
   "cell_type": "code",
   "execution_count": 300,
   "id": "fdae517f-bd42-41fb-8374-68733dd23e65",
   "metadata": {},
   "outputs": [
    {
     "data": {
      "text/plain": [
       "<Axes: >"
      ]
     },
     "execution_count": 300,
     "metadata": {},
     "output_type": "execute_result"
    },
    {
     "data": {
      "image/png": "[encoded data removed]",
      "text/plain": [
       "<Figure size 2500x1000 with 2 Axes>"
      ]
     },
     "metadata": {},
     "output_type": "display_data"
    }
   ],
   "source": [
    "msno.matrix(df.sample(250))"
   ]
  },
  {
   "cell_type": "code",
   "execution_count": 301,
   "id": "f00bb1c2-f826-472e-bab8-05757ab0a2b3",
   "metadata": {},
   "outputs": [
    {
     "name": "stdout",
     "output_type": "stream",
     "text": [
      "<class 'pandas.core.frame.DataFrame'>\n",
      "RangeIndex: 648 entries, 0 to 647\n",
      "Columns: 170 entries, Institution Name to Created Date\n",
      "dtypes: float64(97), object(73)\n",
      "memory usage: 860.8+ KB\n"
     ]
    }
   ],
   "source": [
    "df.info()"
   ]
  },
  {
   "cell_type": "code",
   "execution_count": 302,
   "id": "609166fd-6b61-4e6e-b409-e32b387852c8",
   "metadata": {},
   "outputs": [],
   "source": [
    "# Calculate the percentage of null values in each column\n",
    "null_percentage = (df.isnull().sum() / len(df)) * 100"
   ]
  },
  {
   "cell_type": "code",
   "execution_count": 303,
   "id": "bb16f9f0-1ea6-4b86-b407-ab559bfc2c86",
   "metadata": {},
   "outputs": [
    {
     "data": {
      "text/plain": [
       "pandas.core.series.Series"
      ]
     },
     "execution_count": 303,
     "metadata": {},
     "output_type": "execute_result"
    }
   ],
   "source": [
    "type(null_percentage)"
   ]
  },
  {
   "cell_type": "code",
   "execution_count": 304,
   "id": "b5cddc8f-e41c-4f8b-babe-c4a8082baf77",
   "metadata": {},
   "outputs": [
    {
     "data": {
      "text/plain": [
       "(170,)"
      ]
     },
     "execution_count": 304,
     "metadata": {},
     "output_type": "execute_result"
    }
   ],
   "source": [
    "null_percentage.shape"
   ]
  },
  {
   "cell_type": "code",
   "execution_count": 305,
   "id": "85fce74a-7259-4532-89fe-5994c1f3f943",
   "metadata": {},
   "outputs": [],
   "source": [
    "# set threshold\n",
    "threshold = 90"
   ]
  },
  {
   "cell_type": "code",
   "execution_count": 306,
   "id": "8ac1b0c4-b64e-41fd-a900-881a55170616",
   "metadata": {},
   "outputs": [],
   "source": [
    "# Create a list of column names to drop where the null percentage is greater than or equal to the threshold\n",
    "columns_to_drop = null_percentage[null_percentage >= threshold].index.tolist()"
   ]
  },
  {
   "cell_type": "code",
   "execution_count": 307,
   "id": "c84f06e2-82b3-433f-b268-6b3b5b99c579",
   "metadata": {},
   "outputs": [
    {
     "data": {
      "text/plain": [
       "68"
      ]
     },
     "execution_count": 307,
     "metadata": {},
     "output_type": "execute_result"
    }
   ],
   "source": [
    "len(columns_to_drop)"
   ]
  },
  {
   "cell_type": "code",
   "execution_count": 308,
   "id": "ad6ace69-82ea-4939-bc76-ec0dc8bf87e8",
   "metadata": {},
   "outputs": [],
   "source": [
    "# drop the columns\n",
    "df.drop(columns=columns_to_drop,inplace=True)"
   ]
  },
  {
   "cell_type": "code",
   "execution_count": 309,
   "id": "032b2252-6f26-4982-a877-4874e6dbc09b",
   "metadata": {},
   "outputs": [
    {
     "data": {
      "text/plain": [
       "(648, 102)"
      ]
     },
     "execution_count": 309,
     "metadata": {},
     "output_type": "execute_result"
    }
   ],
   "source": [
    "df.shape"
   ]
  },
  {
   "cell_type": "code",
   "execution_count": 310,
   "id": "a6630591-260a-42cc-aca5-9ae185dfee18",
   "metadata": {},
   "outputs": [
    {
     "data": {
      "text/plain": [
       "<Axes: >"
      ]
     },
     "execution_count": 310,
     "metadata": {},
     "output_type": "execute_result"
    },
    {
     "data": {
      "image/png": "[encoded data removed]",
      "text/plain": [
       "<Figure size 2500x1000 with 2 Axes>"
      ]
     },
     "metadata": {},
     "output_type": "display_data"
    }
   ],
   "source": [
    "msno.matrix(df.sample(250))"
   ]
  },
  {
   "cell_type": "code",
   "execution_count": 311,
   "id": "3a699529-a2d6-4945-b362-43476d880526",
   "metadata": {},
   "outputs": [
    {
     "data": {
      "text/html": [
       "<div>\n",
       "<style scoped>\n",
       "    .dataframe tbody tr th:only-of-type {\n",
       "        vertical-align: middle;\n",
       "    }\n",
       "\n",
       "    .dataframe tbody tr th {\n",
       "        vertical-align: top;\n",
       "    }\n",
       "\n",
       "    .dataframe thead th {\n",
       "        text-align: right;\n",
       "    }\n",
       "</style>\n",
       "<table border=\"1\" class=\"dataframe\">\n",
       "  <thead>\n",
       "    <tr style=\"text-align: right;\">\n",
       "      <th></th>\n",
       "      <th>Institution Name</th>\n",
       "      <th>Product Name</th>\n",
       "      <th>Report Date</th>\n",
       "      <th>Availability of Credit Card Plan</th>\n",
       "      <th>State (Multiple)</th>\n",
       "      <th>Pertains to Specific Counties?</th>\n",
       "      <th>Requirements for Opening</th>\n",
       "      <th>Requirements for Opening Types</th>\n",
       "      <th>Other</th>\n",
       "      <th>Secured Card</th>\n",
       "      <th>...</th>\n",
       "      <th>Other Fee Explanation.4</th>\n",
       "      <th>Services</th>\n",
       "      <th>Other Services</th>\n",
       "      <th>Rewards</th>\n",
       "      <th>Other Rewards</th>\n",
       "      <th>Card Features</th>\n",
       "      <th>Contact Information Types</th>\n",
       "      <th>Website for Consumer</th>\n",
       "      <th>Telephone Number for Consumers</th>\n",
       "      <th>Created Date</th>\n",
       "    </tr>\n",
       "  </thead>\n",
       "  <tbody>\n",
       "    <tr>\n",
       "      <th>0</th>\n",
       "      <td>FNBT BANK</td>\n",
       "      <td>MasterCard</td>\n",
       "      <td>Data as of December 31</td>\n",
       "      <td>National</td>\n",
       "      <td>NaN</td>\n",
       "      <td>NaN</td>\n",
       "      <td>No</td>\n",
       "      <td>NaN</td>\n",
       "      <td>NaN</td>\n",
       "      <td>No</td>\n",
       "      <td>...</td>\n",
       "      <td>NaN</td>\n",
       "      <td>NaN</td>\n",
       "      <td>NaN</td>\n",
       "      <td>Cashback rewards</td>\n",
       "      <td>NaN</td>\n",
       "      <td>Chip card</td>\n",
       "      <td>Phone; Website</td>\n",
       "      <td>https:www.fnbt.com</td>\n",
       "      <td>1-800-899-4321</td>\n",
       "      <td>3/21/2023</td>\n",
       "    </tr>\n",
       "    <tr>\n",
       "      <th>1</th>\n",
       "      <td>WINTHROP AREA FEDERAL CREDIT UNION</td>\n",
       "      <td>Visa Credit Platinum</td>\n",
       "      <td>Data as of December 31</td>\n",
       "      <td>National</td>\n",
       "      <td>NaN</td>\n",
       "      <td>NaN</td>\n",
       "      <td>No</td>\n",
       "      <td>NaN</td>\n",
       "      <td>NaN</td>\n",
       "      <td>No</td>\n",
       "      <td>...</td>\n",
       "      <td>NaN</td>\n",
       "      <td>NaN</td>\n",
       "      <td>NaN</td>\n",
       "      <td>Cashback rewards; Travel-related rewards</td>\n",
       "      <td>NaN</td>\n",
       "      <td>Contactless Payments; Chip card; Fee-free fore...</td>\n",
       "      <td>Phone; Website</td>\n",
       "      <td>https://www.winthropcreditunion.org</td>\n",
       "      <td>800-511-1120</td>\n",
       "      <td>3/21/2023</td>\n",
       "    </tr>\n",
       "    <tr>\n",
       "      <th>2</th>\n",
       "      <td>WOORI AMERICA BANK</td>\n",
       "      <td>Classic</td>\n",
       "      <td>Data as of December 31</td>\n",
       "      <td>National</td>\n",
       "      <td>NaN</td>\n",
       "      <td>NaN</td>\n",
       "      <td>Yes</td>\n",
       "      <td>NaN</td>\n",
       "      <td>NaN</td>\n",
       "      <td>No</td>\n",
       "      <td>...</td>\n",
       "      <td>NaN</td>\n",
       "      <td>Automobile rental insurance; Credit card regis...</td>\n",
       "      <td>NaN</td>\n",
       "      <td>Travel-related rewards</td>\n",
       "      <td>NaN</td>\n",
       "      <td>Chip card; Fee-free foreign transactions; Mobi...</td>\n",
       "      <td>Website</td>\n",
       "      <td>https://www.wooriamericabank.com</td>\n",
       "      <td>NaN</td>\n",
       "      <td>3/21/2023</td>\n",
       "    </tr>\n",
       "    <tr>\n",
       "      <th>3</th>\n",
       "      <td>CENTRAL BANK &amp; TRUST COMPANY</td>\n",
       "      <td>Classic Visa</td>\n",
       "      <td>Data as of December 31</td>\n",
       "      <td>Regional</td>\n",
       "      <td>IN; KY; OH</td>\n",
       "      <td>No</td>\n",
       "      <td>Yes</td>\n",
       "      <td>NaN</td>\n",
       "      <td>NaN</td>\n",
       "      <td>No</td>\n",
       "      <td>...</td>\n",
       "      <td>NaN</td>\n",
       "      <td>Automobile rental insurance; Other</td>\n",
       "      <td>Roadside assistance</td>\n",
       "      <td>NaN</td>\n",
       "      <td>NaN</td>\n",
       "      <td>Contactless Payments; Chip card; Mobile wallet...</td>\n",
       "      <td>Phone; Website</td>\n",
       "      <td>https://www.centralbank.com</td>\n",
       "      <td>(800)637-6884</td>\n",
       "      <td>3/22/2023</td>\n",
       "    </tr>\n",
       "    <tr>\n",
       "      <th>4</th>\n",
       "      <td>CLEARWATER FEDERAL CREDIT UNION</td>\n",
       "      <td>Visa</td>\n",
       "      <td>Data as of December 31</td>\n",
       "      <td>National</td>\n",
       "      <td>NaN</td>\n",
       "      <td>NaN</td>\n",
       "      <td>No</td>\n",
       "      <td>Other. Please Describe:</td>\n",
       "      <td>Person must qualify for membership based on th...</td>\n",
       "      <td>No</td>\n",
       "      <td>...</td>\n",
       "      <td>NaN</td>\n",
       "      <td>Debt cancellation coverage; Other</td>\n",
       "      <td>Visa's credit monitoring (Norton Lifelock cred...</td>\n",
       "      <td>NaN</td>\n",
       "      <td>NaN</td>\n",
       "      <td>Contactless Payments; Chip card; Mobile wallet...</td>\n",
       "      <td>Phone; Website</td>\n",
       "      <td>https://www.clearwatercreditunion.org</td>\n",
       "      <td>800-254-1803</td>\n",
       "      <td>3/22/2023</td>\n",
       "    </tr>\n",
       "  </tbody>\n",
       "</table>\n",
       "<p>5 rows × 102 columns</p>\n",
       "</div>"
      ],
      "text/plain": [
       "                     Institution Name          Product Name  \\\n",
       "0                           FNBT BANK            MasterCard   \n",
       "1  WINTHROP AREA FEDERAL CREDIT UNION  Visa Credit Platinum   \n",
       "2                  WOORI AMERICA BANK               Classic   \n",
       "3        CENTRAL BANK & TRUST COMPANY          Classic Visa   \n",
       "4     CLEARWATER FEDERAL CREDIT UNION                  Visa   \n",
       "\n",
       "              Report Date Availability of Credit Card Plan State (Multiple)  \\\n",
       "0  Data as of December 31                         National              NaN   \n",
       "1  Data as of December 31                         National              NaN   \n",
       "2  Data as of December 31                         National              NaN   \n",
       "3  Data as of December 31                         Regional       IN; KY; OH   \n",
       "4  Data as of December 31                         National              NaN   \n",
       "\n",
       "  Pertains to Specific Counties? Requirements for Opening  \\\n",
       "0                            NaN                       No   \n",
       "1                            NaN                       No   \n",
       "2                            NaN                      Yes   \n",
       "3                             No                      Yes   \n",
       "4                            NaN                       No   \n",
       "\n",
       "  Requirements for Opening Types  \\\n",
       "0                            NaN   \n",
       "1                            NaN   \n",
       "2                            NaN   \n",
       "3                            NaN   \n",
       "4        Other. Please Describe:   \n",
       "\n",
       "                                               Other Secured Card  ...  \\\n",
       "0                                                NaN           No  ...   \n",
       "1                                                NaN           No  ...   \n",
       "2                                                NaN           No  ...   \n",
       "3                                                NaN           No  ...   \n",
       "4  Person must qualify for membership based on th...           No  ...   \n",
       "\n",
       "  Other Fee Explanation.4                                           Services  \\\n",
       "0                     NaN                                                NaN   \n",
       "1                     NaN                                                NaN   \n",
       "2                     NaN  Automobile rental insurance; Credit card regis...   \n",
       "3                     NaN                 Automobile rental insurance; Other   \n",
       "4                     NaN                  Debt cancellation coverage; Other   \n",
       "\n",
       "                                      Other Services  \\\n",
       "0                                                NaN   \n",
       "1                                                NaN   \n",
       "2                                                NaN   \n",
       "3                                Roadside assistance   \n",
       "4  Visa's credit monitoring (Norton Lifelock cred...   \n",
       "\n",
       "                                    Rewards Other Rewards  \\\n",
       "0                          Cashback rewards           NaN   \n",
       "1  Cashback rewards; Travel-related rewards           NaN   \n",
       "2                    Travel-related rewards           NaN   \n",
       "3                                       NaN           NaN   \n",
       "4                                       NaN           NaN   \n",
       "\n",
       "                                       Card Features  \\\n",
       "0                                          Chip card   \n",
       "1  Contactless Payments; Chip card; Fee-free fore...   \n",
       "2  Chip card; Fee-free foreign transactions; Mobi...   \n",
       "3  Contactless Payments; Chip card; Mobile wallet...   \n",
       "4  Contactless Payments; Chip card; Mobile wallet...   \n",
       "\n",
       "  Contact Information Types                   Website for Consumer  \\\n",
       "0            Phone; Website                     https:www.fnbt.com   \n",
       "1            Phone; Website    https://www.winthropcreditunion.org   \n",
       "2                   Website       https://www.wooriamericabank.com   \n",
       "3            Phone; Website            https://www.centralbank.com   \n",
       "4            Phone; Website  https://www.clearwatercreditunion.org   \n",
       "\n",
       "   Telephone Number for Consumers  Created Date  \n",
       "0                  1-800-899-4321     3/21/2023  \n",
       "1                    800-511-1120     3/21/2023  \n",
       "2                             NaN     3/21/2023  \n",
       "3                   (800)637-6884     3/22/2023  \n",
       "4                    800-254-1803     3/22/2023  \n",
       "\n",
       "[5 rows x 102 columns]"
      ]
     },
     "execution_count": 311,
     "metadata": {},
     "output_type": "execute_result"
    }
   ],
   "source": [
    "df.head()"
   ]
  },
  {
   "cell_type": "code",
   "execution_count": 312,
   "id": "6c27dcfd-d107-4129-90cc-078f7e9001b6",
   "metadata": {},
   "outputs": [],
   "source": [
    "# get remaining column data types\n",
    "col_types = df.dtypes"
   ]
  },
  {
   "cell_type": "code",
   "execution_count": 313,
   "id": "468627d0-8db3-483d-8beb-b6738d8d87ec",
   "metadata": {},
   "outputs": [],
   "source": [
    "# separate out numerical and object columns\n",
    "num_cols = col_types[col_types != 'object'].index.tolist()\n",
    "obj_cols = col_types[col_types == 'object'].index.tolist()"
   ]
  },
  {
   "cell_type": "code",
   "execution_count": 314,
   "id": "d2067d62-ec7f-4cbd-a3e8-a9b940b0cbd9",
   "metadata": {},
   "outputs": [
    {
     "data": {
      "text/plain": [
       "(648, 40)"
      ]
     },
     "execution_count": 314,
     "metadata": {},
     "output_type": "execute_result"
    }
   ],
   "source": [
    "df[num_cols].shape"
   ]
  },
  {
   "cell_type": "code",
   "execution_count": 315,
   "id": "9245cc31-ab2e-43bb-9898-7ecc66dc5492",
   "metadata": {},
   "outputs": [
    {
     "data": {
      "text/plain": [
       "(648, 62)"
      ]
     },
     "execution_count": 315,
     "metadata": {},
     "output_type": "execute_result"
    }
   ],
   "source": [
    "df[obj_cols].shape"
   ]
  },
  {
   "cell_type": "code",
   "execution_count": 316,
   "id": "178bf4d1-9a51-47ec-8217-7d132a6e61c4",
   "metadata": {},
   "outputs": [
    {
     "data": {
      "text/plain": [
       "(13313, 11087)"
      ]
     },
     "execution_count": 316,
     "metadata": {},
     "output_type": "execute_result"
    }
   ],
   "source": [
    "df[num_cols].isnull().sum().sum(), df[obj_cols].isnull().sum().sum()"
   ]
  },
  {
   "cell_type": "code",
   "execution_count": 317,
   "id": "405c8ffa-3f42-4bf7-83ee-8556417a3eba",
   "metadata": {},
   "outputs": [],
   "source": [
    "# re-Calculate the percentage of null values in each column\n",
    "null_percentage = (df.isnull().sum() / len(df)) * 100"
   ]
  },
  {
   "cell_type": "code",
   "execution_count": 318,
   "id": "0d794c5f-3688-49a3-af72-0da8c6abaa49",
   "metadata": {},
   "outputs": [
    {
     "data": {
      "text/plain": [
       "Good Credit.3                           89.197531\n",
       "Great Credit.3                          89.197531\n",
       "Poor or Fair Credit.3                   89.197531\n",
       "Other Fee Explanation.4                 88.425926\n",
       "Other Fee Name.4                        88.425926\n",
       "Other Fee Amount.4                      88.425926\n",
       "Other Fee Name.3                        83.796296\n",
       "Poor or Fair Credit.2                   83.796296\n",
       "Other Fee Amount.3                      83.796296\n",
       "Other Fee Explanation.3                 83.796296\n",
       "Good Credit.2                           83.796296\n",
       "Great Credit.2                          83.796296\n",
       "Cash Advance Fee Calculation            81.481481\n",
       "Other Fee Amount.2                      81.481481\n",
       "Other Fee Explanation.2                 81.481481\n",
       "Other Fee Name.2                        81.481481\n",
       "Other                                   80.555556\n",
       "Minimum Balance Transfer Fee Amount     80.401235\n",
       "Requirements for Opening Types          75.000000\n",
       "Minimum Cash Advance Fee Amount         68.827160\n",
       "Median APR.1                            67.901235\n",
       "State (Multiple)                        67.901235\n",
       "Balance Transfer Fee ($)                67.592593\n",
       "Annual Fee                              67.283951\n",
       "Maximum APR.1                           66.975309\n",
       "Median Length of Introductory APR       66.975309\n",
       "Minimum APR.1                           66.975309\n",
       "Introductory APR Vary By Credit Tier    66.975309\n",
       "Periodic Fee Type                       66.666667\n",
       "Other Rewards                           65.277778\n",
       "Purchase APR Vary by Credit Tier        65.123457\n",
       "Median APR.2                            64.814815\n",
       "Amount (Dollars) - Transaction Fee      61.265432\n",
       "Pertains to Specific Counties?          60.648148\n",
       "dtype: float64"
      ]
     },
     "execution_count": 318,
     "metadata": {},
     "output_type": "execute_result"
    }
   ],
   "source": [
    "null_percentage.sort_values(ascending=False)[null_percentage >= 59]"
   ]
  },
  {
   "cell_type": "code",
   "execution_count": 319,
   "id": "e2aef606-8cd1-48eb-ac29-b4008151d6fd",
   "metadata": {},
   "outputs": [],
   "source": [
    "# additional columns to drop\n",
    "cols_to_drop = null_percentage[null_percentage >= 60].index.tolist()"
   ]
  },
  {
   "cell_type": "code",
   "execution_count": 320,
   "id": "6301afee-62b8-4340-a25d-d5ac768c6b8c",
   "metadata": {},
   "outputs": [
    {
     "data": {
      "text/plain": [
       "34"
      ]
     },
     "execution_count": 320,
     "metadata": {},
     "output_type": "execute_result"
    }
   ],
   "source": [
    "len(cols_to_drop)"
   ]
  },
  {
   "cell_type": "code",
   "execution_count": 321,
   "id": "c81d25aa-bdad-4d33-8844-12b7723839c1",
   "metadata": {},
   "outputs": [],
   "source": [
    "# drop additional columns\n",
    "# drop the columns\n",
    "df.drop(columns=cols_to_drop,inplace=True)"
   ]
  },
  {
   "cell_type": "code",
   "execution_count": 322,
   "id": "d2297d75-1582-49c4-be5b-22da42692a94",
   "metadata": {},
   "outputs": [
    {
     "name": "stdout",
     "output_type": "stream",
     "text": [
      "<class 'pandas.core.frame.DataFrame'>\n",
      "RangeIndex: 648 entries, 0 to 647\n",
      "Data columns (total 68 columns):\n",
      " #   Column                                    Non-Null Count  Dtype  \n",
      "---  ------                                    --------------  -----  \n",
      " 0   Institution Name                          648 non-null    object \n",
      " 1   Product Name                              648 non-null    object \n",
      " 2   Report Date                               648 non-null    object \n",
      " 3   Availability of Credit Card Plan          648 non-null    object \n",
      " 4   Requirements for Opening                  648 non-null    object \n",
      " 5   Secured Card                              648 non-null    object \n",
      " 6   Targeted Credit Tiers                     648 non-null    object \n",
      " 7   Purchase APR Offered?                     648 non-null    object \n",
      " 8   Purchase APR Vary by Balance              634 non-null    object \n",
      " 9   Purchase APR Index                        634 non-null    object \n",
      " 10  Variable Rate Index                       535 non-null    object \n",
      " 11  Index                                     648 non-null    object \n",
      " 12  Poor or Fair Credit                       362 non-null    float64\n",
      " 13  Good Credit                               362 non-null    float64\n",
      " 14  Great Credit                              362 non-null    float64\n",
      " 15  Minimum APR                               634 non-null    float64\n",
      " 16  Median APR                                272 non-null    float64\n",
      " 17  Maximum APR                               634 non-null    float64\n",
      " 18  Introductory APR Offered?                 648 non-null    object \n",
      " 19  Balance Transfer Offered?                 648 non-null    object \n",
      " 20  Balance Transfer APR Vary by Credit Tier  333 non-null    object \n",
      " 21  Minimum APR.2                             333 non-null    float64\n",
      " 22  Maximum APR.2                             333 non-null    float64\n",
      " 23  Median Length of Balance Transfer APR     333 non-null    float64\n",
      " 24  Balance Transfer Grace Period             333 non-null    object \n",
      " 25  Cash Advance APR Offered?                 648 non-null    object \n",
      " 26  Cash Advance APR Vary by Credit Tier      636 non-null    object \n",
      " 27  Minimum APR.3                             639 non-null    float64\n",
      " 28  Median APR.3                              566 non-null    float64\n",
      " 29  Maximum APR.3                             639 non-null    float64\n",
      " 30  Grace Period Offered?                     648 non-null    object \n",
      " 31  Grace Period                              644 non-null    float64\n",
      " 32  Minimum Finance Charge?                   648 non-null    object \n",
      " 33  Minimum Finance Charge (Dollars)          405 non-null    float64\n",
      " 34  Balance Computation Method                648 non-null    object \n",
      " 35  Purchase Transaction Fees                 648 non-null    object \n",
      " 36  Balance Transfer Fees?                    648 non-null    object \n",
      " 37  Balance Transfer Fee Types                409 non-null    object \n",
      " 38  Balance Transfer Fee (%)                  395 non-null    float64\n",
      " 39  Cash Advance Fees?                        648 non-null    object \n",
      " 40  Cash Advance Fee For Each Transaction     573 non-null    object \n",
      " 41  Cash Advance Fee Types                    573 non-null    object \n",
      " 42  Amount (Percent) - Transaction Fee        476 non-null    float64\n",
      " 43  Foreign Transaction Fees?                 648 non-null    object \n",
      " 44  Foreign Transaction Fees Types            403 non-null    object \n",
      " 45  Foreign Transaction Fee (%)               399 non-null    float64\n",
      " 46  Late Fees?                                648 non-null    object \n",
      " 47  Late Fee Types                            641 non-null    object \n",
      " 48  Amount (Dollars) - Late Payment Fee       538 non-null    float64\n",
      " 49  Late Fee Six Month Billing Cycle          518 non-null    float64\n",
      " 50  Late Fee Policy Details                   328 non-null    object \n",
      " 51  Over Limit Fees?                          648 non-null    object \n",
      " 52  Other Fees                                648 non-null    object \n",
      " 53  Additional Fees                           500 non-null    object \n",
      " 54  Other Fee Name                            500 non-null    object \n",
      " 55  Other Fee Amount                          500 non-null    float64\n",
      " 56  Other Fee Explanation                     500 non-null    object \n",
      " 57  Other Fee Name.1                          358 non-null    object \n",
      " 58  Other Fee Amount.1                        358 non-null    float64\n",
      " 59  Other Fee Explanation.1                   357 non-null    object \n",
      " 60  Services                                  539 non-null    object \n",
      " 61  Other Services                            450 non-null    object \n",
      " 62  Rewards                                   399 non-null    object \n",
      " 63  Card Features                             604 non-null    object \n",
      " 64  Contact Information Types                 648 non-null    object \n",
      " 65  Website for Consumer                      524 non-null    object \n",
      " 66  Telephone Number for Consumers            422 non-null    object \n",
      " 67  Created Date                              648 non-null    object \n",
      "dtypes: float64(21), object(47)\n",
      "memory usage: 344.4+ KB\n"
     ]
    }
   ],
   "source": [
    "df.info()"
   ]
  },
  {
   "cell_type": "code",
   "execution_count": 323,
   "id": "ea0744e8-7281-4f0d-a8d9-780c894f0e0b",
   "metadata": {},
   "outputs": [
    {
     "data": {
      "text/plain": [
       "<Axes: >"
      ]
     },
     "execution_count": 323,
     "metadata": {},
     "output_type": "execute_result"
    },
    {
     "data": {
      "image/png": "[encoded data removed]",
      "text/plain": [
       "<Figure size 2500x1000 with 2 Axes>"
      ]
     },
     "metadata": {},
     "output_type": "display_data"
    }
   ],
   "source": [
    "msno.matrix(df.sample(250))"
   ]
  },
  {
   "cell_type": "code",
   "execution_count": 324,
   "id": "64395616-df27-4dd7-800f-8075e509f838",
   "metadata": {},
   "outputs": [
    {
     "data": {
      "text/plain": [
       "(68,)"
      ]
     },
     "execution_count": 324,
     "metadata": {},
     "output_type": "execute_result"
    }
   ],
   "source": [
    "df.columns.shape"
   ]
  },
  {
   "cell_type": "markdown",
   "id": "7751199a-bbbd-4640-82fe-036144229bdc",
   "metadata": {},
   "source": [
    "## Ultimate Goal\n",
    "\n",
    "- Create Aggregate cards based on the targeted credit tiers \n",
    "- Capture APR, Grace Periods, Late Fees, Rewards, and Annual Fees"
   ]
  },
  {
   "cell_type": "markdown",
   "id": "e250044d-6dff-4166-a7c0-7787fc81f54e",
   "metadata": {},
   "source": [
    "### Columns 0 - 10 Clean & FE\n",
    "---"
   ]
  },
  {
   "cell_type": "code",
   "execution_count": 325,
   "id": "a6444b96-510f-43ba-812c-5806d869af9b",
   "metadata": {},
   "outputs": [
    {
     "data": {
      "text/html": [
       "<div>\n",
       "<style scoped>\n",
       "    .dataframe tbody tr th:only-of-type {\n",
       "        vertical-align: middle;\n",
       "    }\n",
       "\n",
       "    .dataframe tbody tr th {\n",
       "        vertical-align: top;\n",
       "    }\n",
       "\n",
       "    .dataframe thead th {\n",
       "        text-align: right;\n",
       "    }\n",
       "</style>\n",
       "<table border=\"1\" class=\"dataframe\">\n",
       "  <thead>\n",
       "    <tr style=\"text-align: right;\">\n",
       "      <th></th>\n",
       "      <th>Institution Name</th>\n",
       "      <th>Product Name</th>\n",
       "      <th>Report Date</th>\n",
       "      <th>Availability of Credit Card Plan</th>\n",
       "      <th>Requirements for Opening</th>\n",
       "      <th>Secured Card</th>\n",
       "      <th>Targeted Credit Tiers</th>\n",
       "      <th>Purchase APR Offered?</th>\n",
       "      <th>Purchase APR Vary by Balance</th>\n",
       "      <th>Purchase APR Index</th>\n",
       "      <th>Variable Rate Index</th>\n",
       "    </tr>\n",
       "  </thead>\n",
       "  <tbody>\n",
       "    <tr>\n",
       "      <th>0</th>\n",
       "      <td>FNBT BANK</td>\n",
       "      <td>MasterCard</td>\n",
       "      <td>Data as of December 31</td>\n",
       "      <td>National</td>\n",
       "      <td>No</td>\n",
       "      <td>No</td>\n",
       "      <td>Good credit (credit scores from 620 to 719)</td>\n",
       "      <td>Yes</td>\n",
       "      <td>No</td>\n",
       "      <td>No</td>\n",
       "      <td>NaN</td>\n",
       "    </tr>\n",
       "    <tr>\n",
       "      <th>1</th>\n",
       "      <td>WINTHROP AREA FEDERAL CREDIT UNION</td>\n",
       "      <td>Visa Credit Platinum</td>\n",
       "      <td>Data as of December 31</td>\n",
       "      <td>National</td>\n",
       "      <td>No</td>\n",
       "      <td>No</td>\n",
       "      <td>Good credit (credit scores from 620 to 719); G...</td>\n",
       "      <td>Yes</td>\n",
       "      <td>No</td>\n",
       "      <td>No</td>\n",
       "      <td>NaN</td>\n",
       "    </tr>\n",
       "    <tr>\n",
       "      <th>2</th>\n",
       "      <td>WOORI AMERICA BANK</td>\n",
       "      <td>Classic</td>\n",
       "      <td>Data as of December 31</td>\n",
       "      <td>National</td>\n",
       "      <td>Yes</td>\n",
       "      <td>No</td>\n",
       "      <td>Good credit (credit scores from 620 to 719); G...</td>\n",
       "      <td>Yes</td>\n",
       "      <td>No</td>\n",
       "      <td>Yes</td>\n",
       "      <td>Prime</td>\n",
       "    </tr>\n",
       "    <tr>\n",
       "      <th>3</th>\n",
       "      <td>CENTRAL BANK &amp; TRUST COMPANY</td>\n",
       "      <td>Classic Visa</td>\n",
       "      <td>Data as of December 31</td>\n",
       "      <td>Regional</td>\n",
       "      <td>Yes</td>\n",
       "      <td>No</td>\n",
       "      <td>Poor or fair credit (credit score 619 or less)...</td>\n",
       "      <td>No</td>\n",
       "      <td>NaN</td>\n",
       "      <td>NaN</td>\n",
       "      <td>NaN</td>\n",
       "    </tr>\n",
       "    <tr>\n",
       "      <th>4</th>\n",
       "      <td>CLEARWATER FEDERAL CREDIT UNION</td>\n",
       "      <td>Visa</td>\n",
       "      <td>Data as of December 31</td>\n",
       "      <td>National</td>\n",
       "      <td>No</td>\n",
       "      <td>No</td>\n",
       "      <td>Poor or fair credit (credit score 619 or less)...</td>\n",
       "      <td>Yes</td>\n",
       "      <td>No</td>\n",
       "      <td>No</td>\n",
       "      <td>NaN</td>\n",
       "    </tr>\n",
       "  </tbody>\n",
       "</table>\n",
       "</div>"
      ],
      "text/plain": [
       "                     Institution Name          Product Name  \\\n",
       "0                           FNBT BANK            MasterCard   \n",
       "1  WINTHROP AREA FEDERAL CREDIT UNION  Visa Credit Platinum   \n",
       "2                  WOORI AMERICA BANK               Classic   \n",
       "3        CENTRAL BANK & TRUST COMPANY          Classic Visa   \n",
       "4     CLEARWATER FEDERAL CREDIT UNION                  Visa   \n",
       "\n",
       "              Report Date Availability of Credit Card Plan  \\\n",
       "0  Data as of December 31                         National   \n",
       "1  Data as of December 31                         National   \n",
       "2  Data as of December 31                         National   \n",
       "3  Data as of December 31                         Regional   \n",
       "4  Data as of December 31                         National   \n",
       "\n",
       "  Requirements for Opening Secured Card  \\\n",
       "0                       No           No   \n",
       "1                       No           No   \n",
       "2                      Yes           No   \n",
       "3                      Yes           No   \n",
       "4                       No           No   \n",
       "\n",
       "                               Targeted Credit Tiers Purchase APR Offered?  \\\n",
       "0        Good credit (credit scores from 620 to 719)                   Yes   \n",
       "1  Good credit (credit scores from 620 to 719); G...                   Yes   \n",
       "2  Good credit (credit scores from 620 to 719); G...                   Yes   \n",
       "3  Poor or fair credit (credit score 619 or less)...                    No   \n",
       "4  Poor or fair credit (credit score 619 or less)...                   Yes   \n",
       "\n",
       "  Purchase APR Vary by Balance Purchase APR Index Variable Rate Index  \n",
       "0                           No                 No                 NaN  \n",
       "1                           No                 No                 NaN  \n",
       "2                           No                Yes               Prime  \n",
       "3                          NaN                NaN                 NaN  \n",
       "4                           No                 No                 NaN  "
      ]
     },
     "execution_count": 325,
     "metadata": {},
     "output_type": "execute_result"
    }
   ],
   "source": [
    "df.iloc[:5, 0:11]"
   ]
  },
  {
   "cell_type": "code",
   "execution_count": 326,
   "id": "aaf98cbf-b838-43bc-986a-4e30fdb75f9c",
   "metadata": {},
   "outputs": [
    {
     "data": {
      "text/plain": [
       "Institution Name                      0\n",
       "Product Name                          0\n",
       "Report Date                           0\n",
       "Availability of Credit Card Plan      0\n",
       "Requirements for Opening              0\n",
       "Secured Card                          0\n",
       "Targeted Credit Tiers                 0\n",
       "Purchase APR Offered?                 0\n",
       "Purchase APR Vary by Balance         14\n",
       "Purchase APR Index                   14\n",
       "Variable Rate Index                 113\n",
       "dtype: int64"
      ]
     },
     "execution_count": 326,
     "metadata": {},
     "output_type": "execute_result"
    }
   ],
   "source": [
    "df.iloc[:, 0:11].isnull().sum()"
   ]
  },
  {
   "cell_type": "code",
   "execution_count": 327,
   "id": "e1a512b4-8fe1-4024-9572-e95dfa636a2c",
   "metadata": {},
   "outputs": [
    {
     "data": {
      "text/plain": [
       "Institution Name                    14\n",
       "Product Name                        14\n",
       "Report Date                         14\n",
       "Availability of Credit Card Plan    14\n",
       "Requirements for Opening            14\n",
       "                                    ..\n",
       "Card Features                       13\n",
       "Contact Information Types           14\n",
       "Website for Consumer                11\n",
       "Telephone Number for Consumers      13\n",
       "Created Date                        14\n",
       "Length: 68, dtype: int64"
      ]
     },
     "execution_count": 327,
     "metadata": {},
     "output_type": "execute_result"
    }
   ],
   "source": [
    "df[df[\"Purchase APR Offered?\"] == \"No\"].count()"
   ]
  },
  {
   "cell_type": "code",
   "execution_count": 328,
   "id": "7817cefd-6e8e-42fe-9bba-857c844295d0",
   "metadata": {},
   "outputs": [],
   "source": [
    "# 14 null values exist in this column, which matches up with when Purchase APR Offered? is No. For eventual encoding, we are preserving the relationship by replacing null values with __\n",
    "df[\"Purchase APR Vary by Balance\"].fillna('__', inplace=True)"
   ]
  },
  {
   "cell_type": "code",
   "execution_count": 329,
   "id": "19afdb0e-a05c-4e56-88fe-f5e8ed9e1f9b",
   "metadata": {},
   "outputs": [],
   "source": [
    "# 14 null values exist in this column, which matches up with when Purchase APR Offered? is No. For eventual encoding, we are preserving the relationship by replacing null values with __\n",
    "df[\"Purchase APR Index\"].fillna('__', inplace=True)"
   ]
  },
  {
   "cell_type": "code",
   "execution_count": 330,
   "id": "0ec63260-5f3b-4c39-86f1-4e32647881cd",
   "metadata": {},
   "outputs": [],
   "source": [
    "mask = df[\"Variable Rate Index\"].isna()"
   ]
  },
  {
   "cell_type": "code",
   "execution_count": 331,
   "id": "13a26a34-dcd1-420e-9dc2-cffcd9bcea9c",
   "metadata": {},
   "outputs": [],
   "source": [
    "select_cols = [\"Purchase APR Offered?\",\"Purchase APR Vary by Balance\",\"Purchase APR Index\",\"Variable Rate Index\"]"
   ]
  },
  {
   "cell_type": "code",
   "execution_count": 332,
   "id": "8d12ba38-834e-4a97-a92d-e7d34040fa46",
   "metadata": {},
   "outputs": [
    {
     "name": "stdout",
     "output_type": "stream",
     "text": [
      "Yes    99\n",
      "No     14\n",
      "Name: Purchase APR Offered?, dtype: int64\n",
      "No    99\n",
      "__    14\n",
      "Name: Purchase APR Vary by Balance, dtype: int64\n",
      "No    99\n",
      "__    14\n",
      "Name: Purchase APR Index, dtype: int64\n",
      "Series([], Name: Variable Rate Index, dtype: int64)\n"
     ]
    }
   ],
   "source": [
    "for col in df[mask][select_cols]:\n",
    "    print(df[mask][col].value_counts())"
   ]
  },
  {
   "cell_type": "code",
   "execution_count": 333,
   "id": "c324fadd-89ff-439e-9d08-85996146b836",
   "metadata": {},
   "outputs": [],
   "source": [
    "# 113 null values, all related to either No values in related columns or our own input for NaN Values, similar decision in preserving relationship by replacing with __\n",
    "df[\"Variable Rate Index\"].fillna('__', inplace=True)"
   ]
  },
  {
   "cell_type": "code",
   "execution_count": 334,
   "id": "f0873337-6ddf-4a43-a601-232a9c4e257f",
   "metadata": {},
   "outputs": [
    {
     "data": {
      "text/plain": [
       "Poor or fair credit (credit score 619 or less); Good credit (credit scores from 620 to 719); Great Credit (credit score of 720 or greater)    275\n",
       "Good credit (credit scores from 620 to 719); Great Credit (credit score of 720 or greater)                                                    164\n",
       "Great Credit (credit score of 720 or greater)                                                                                                  89\n",
       "Poor or fair credit (credit score 619 or less)                                                                                                 80\n",
       "Good credit (credit scores from 620 to 719)                                                                                                    34\n",
       "Poor or fair credit (credit score 619 or less); Good credit (credit scores from 620 to 719)                                                     6\n",
       "Name: Targeted Credit Tiers, dtype: int64"
      ]
     },
     "execution_count": 334,
     "metadata": {},
     "output_type": "execute_result"
    }
   ],
   "source": [
    "df[\"Targeted Credit Tiers\"].value_counts()"
   ]
  },
  {
   "cell_type": "code",
   "execution_count": 335,
   "id": "16aeb17e-79f4-47db-af7b-c08e2a2fc212",
   "metadata": {},
   "outputs": [],
   "source": [
    "df_clean_copy = df.copy()"
   ]
  },
  {
   "cell_type": "code",
   "execution_count": 336,
   "id": "722bde48-bb93-40e1-8e96-cca0894cc1d0",
   "metadata": {},
   "outputs": [],
   "source": [
    "df_clean_copy.to_csv(\"../data/aggregated_cars_preclean.csv\")"
   ]
  },
  {
   "cell_type": "code",
   "execution_count": 350,
   "id": "733cfb71-b4e0-4508-b6e1-cdbf72a758d1",
   "metadata": {},
   "outputs": [],
   "source": [
    "df = pd.read_csv(\"../data/aggregated_cars_preclean.csv\", index_col=0)"
   ]
  },
  {
   "cell_type": "code",
   "execution_count": 351,
   "id": "23dfade5-d7ac-42fb-a50b-d7876da22506",
   "metadata": {},
   "outputs": [],
   "source": [
    "df[\"Targeted Credit Tiers\"] = df[\"Targeted Credit Tiers\"].apply(lambda x: x.lower())"
   ]
  },
  {
   "cell_type": "code",
   "execution_count": 352,
   "id": "76707135-c856-4bd9-afd6-cc01ae525be8",
   "metadata": {},
   "outputs": [
    {
     "data": {
      "text/plain": [
       "poor or fair credit (credit score 619 or less); good credit (credit scores from 620 to 719); great credit (credit score of 720 or greater)    275\n",
       "good credit (credit scores from 620 to 719); great credit (credit score of 720 or greater)                                                    164\n",
       "great credit (credit score of 720 or greater)                                                                                                  89\n",
       "poor or fair credit (credit score 619 or less)                                                                                                 80\n",
       "good credit (credit scores from 620 to 719)                                                                                                    34\n",
       "poor or fair credit (credit score 619 or less); good credit (credit scores from 620 to 719)                                                     6\n",
       "Name: Targeted Credit Tiers, dtype: int64"
      ]
     },
     "execution_count": 352,
     "metadata": {},
     "output_type": "execute_result"
    }
   ],
   "source": [
    "df[\"Targeted Credit Tiers\"].value_counts()"
   ]
  },
  {
   "cell_type": "code",
   "execution_count": 353,
   "id": "97027b6e-1406-4027-934c-c20dc67de928",
   "metadata": {},
   "outputs": [],
   "source": [
    "df[\"Targeted Credit Tiers\"] = df[\"Targeted Credit Tiers\"].str.split(\"; \")"
   ]
  },
  {
   "cell_type": "code",
   "execution_count": 354,
   "id": "65c9169e-bb67-4148-90f0-b3573bb55c04",
   "metadata": {},
   "outputs": [
    {
     "data": {
      "text/plain": [
       "['good credit (credit scores from 620 to 719)',\n",
       " 'great credit (credit score of 720 or greater)']"
      ]
     },
     "execution_count": 354,
     "metadata": {},
     "output_type": "execute_result"
    }
   ],
   "source": [
    "df[\"Targeted Credit Tiers\"][1]"
   ]
  },
  {
   "cell_type": "code",
   "execution_count": 355,
   "id": "72034844-e163-41e9-988b-9196f85115fe",
   "metadata": {},
   "outputs": [],
   "source": [
    "# Create Separate Columns for each bucket\n",
    "df['Poor_Fair_Group'] = df['Targeted Credit Tiers'].apply(lambda x: any(re.search(r'poor', s) for s in x))\n",
    "df['Good_Credit_Group'] = df['Targeted Credit Tiers'].apply(lambda x: any(re.search(r'good', s) for s in x))\n",
    "df['Great_Credit_Group'] = df['Targeted Credit Tiers'].apply(lambda x: any(re.search(r'great', s) for s in x))"
   ]
  },
  {
   "cell_type": "code",
   "execution_count": 356,
   "id": "17d107d5-0f49-418e-a4f6-051f419e1530",
   "metadata": {},
   "outputs": [
    {
     "data": {
      "text/html": [
       "<div>\n",
       "<style scoped>\n",
       "    .dataframe tbody tr th:only-of-type {\n",
       "        vertical-align: middle;\n",
       "    }\n",
       "\n",
       "    .dataframe tbody tr th {\n",
       "        vertical-align: top;\n",
       "    }\n",
       "\n",
       "    .dataframe thead th {\n",
       "        text-align: right;\n",
       "    }\n",
       "</style>\n",
       "<table border=\"1\" class=\"dataframe\">\n",
       "  <thead>\n",
       "    <tr style=\"text-align: right;\">\n",
       "      <th></th>\n",
       "      <th>Poor_Fair_Group</th>\n",
       "      <th>Good_Credit_Group</th>\n",
       "      <th>Great_Credit_Group</th>\n",
       "    </tr>\n",
       "  </thead>\n",
       "  <tbody>\n",
       "    <tr>\n",
       "      <th>0</th>\n",
       "      <td>False</td>\n",
       "      <td>True</td>\n",
       "      <td>False</td>\n",
       "    </tr>\n",
       "    <tr>\n",
       "      <th>1</th>\n",
       "      <td>False</td>\n",
       "      <td>True</td>\n",
       "      <td>True</td>\n",
       "    </tr>\n",
       "    <tr>\n",
       "      <th>2</th>\n",
       "      <td>False</td>\n",
       "      <td>True</td>\n",
       "      <td>True</td>\n",
       "    </tr>\n",
       "    <tr>\n",
       "      <th>3</th>\n",
       "      <td>True</td>\n",
       "      <td>True</td>\n",
       "      <td>True</td>\n",
       "    </tr>\n",
       "    <tr>\n",
       "      <th>4</th>\n",
       "      <td>True</td>\n",
       "      <td>True</td>\n",
       "      <td>True</td>\n",
       "    </tr>\n",
       "    <tr>\n",
       "      <th>...</th>\n",
       "      <td>...</td>\n",
       "      <td>...</td>\n",
       "      <td>...</td>\n",
       "    </tr>\n",
       "    <tr>\n",
       "      <th>643</th>\n",
       "      <td>False</td>\n",
       "      <td>False</td>\n",
       "      <td>True</td>\n",
       "    </tr>\n",
       "    <tr>\n",
       "      <th>644</th>\n",
       "      <td>False</td>\n",
       "      <td>False</td>\n",
       "      <td>True</td>\n",
       "    </tr>\n",
       "    <tr>\n",
       "      <th>645</th>\n",
       "      <td>False</td>\n",
       "      <td>False</td>\n",
       "      <td>True</td>\n",
       "    </tr>\n",
       "    <tr>\n",
       "      <th>646</th>\n",
       "      <td>True</td>\n",
       "      <td>True</td>\n",
       "      <td>True</td>\n",
       "    </tr>\n",
       "    <tr>\n",
       "      <th>647</th>\n",
       "      <td>False</td>\n",
       "      <td>True</td>\n",
       "      <td>True</td>\n",
       "    </tr>\n",
       "  </tbody>\n",
       "</table>\n",
       "<p>648 rows × 3 columns</p>\n",
       "</div>"
      ],
      "text/plain": [
       "     Poor_Fair_Group  Good_Credit_Group  Great_Credit_Group\n",
       "0              False               True               False\n",
       "1              False               True                True\n",
       "2              False               True                True\n",
       "3               True               True                True\n",
       "4               True               True                True\n",
       "..               ...                ...                 ...\n",
       "643            False              False                True\n",
       "644            False              False                True\n",
       "645            False              False                True\n",
       "646             True               True                True\n",
       "647            False               True                True\n",
       "\n",
       "[648 rows x 3 columns]"
      ]
     },
     "execution_count": 356,
     "metadata": {},
     "output_type": "execute_result"
    }
   ],
   "source": [
    "df[['Poor_Fair_Group','Good_Credit_Group','Great_Credit_Group']]"
   ]
  },
  {
   "cell_type": "code",
   "execution_count": 357,
   "id": "076e8922-4367-4760-b8f3-562d3db5c0d3",
   "metadata": {},
   "outputs": [],
   "source": [
    "# remove original column\n",
    "df.drop(\"Targeted Credit Tiers\", axis=1, inplace=True)"
   ]
  },
  {
   "cell_type": "code",
   "execution_count": 358,
   "id": "420ee5df-f3a0-432a-8e22-95c9612e157e",
   "metadata": {},
   "outputs": [],
   "source": [
    "# convert boolean into numerical values\n",
    "df['Poor_Fair_Group'] = df['Poor_Fair_Group'].astype(int)\n",
    "df['Good_Credit_Group'] = df['Good_Credit_Group'].astype(int)\n",
    "df['Great_Credit_Group'] = df['Great_Credit_Group'].astype(int)"
   ]
  },
  {
   "cell_type": "code",
   "execution_count": 359,
   "id": "66034e06-5a25-4a8c-bdad-30bb7f4f1462",
   "metadata": {},
   "outputs": [
    {
     "data": {
      "text/html": [
       "<div>\n",
       "<style scoped>\n",
       "    .dataframe tbody tr th:only-of-type {\n",
       "        vertical-align: middle;\n",
       "    }\n",
       "\n",
       "    .dataframe tbody tr th {\n",
       "        vertical-align: top;\n",
       "    }\n",
       "\n",
       "    .dataframe thead th {\n",
       "        text-align: right;\n",
       "    }\n",
       "</style>\n",
       "<table border=\"1\" class=\"dataframe\">\n",
       "  <thead>\n",
       "    <tr style=\"text-align: right;\">\n",
       "      <th></th>\n",
       "      <th>Poor_Fair_Group</th>\n",
       "      <th>Good_Credit_Group</th>\n",
       "      <th>Great_Credit_Group</th>\n",
       "    </tr>\n",
       "  </thead>\n",
       "  <tbody>\n",
       "    <tr>\n",
       "      <th>0</th>\n",
       "      <td>0</td>\n",
       "      <td>1</td>\n",
       "      <td>0</td>\n",
       "    </tr>\n",
       "    <tr>\n",
       "      <th>1</th>\n",
       "      <td>0</td>\n",
       "      <td>1</td>\n",
       "      <td>1</td>\n",
       "    </tr>\n",
       "    <tr>\n",
       "      <th>2</th>\n",
       "      <td>0</td>\n",
       "      <td>1</td>\n",
       "      <td>1</td>\n",
       "    </tr>\n",
       "    <tr>\n",
       "      <th>3</th>\n",
       "      <td>1</td>\n",
       "      <td>1</td>\n",
       "      <td>1</td>\n",
       "    </tr>\n",
       "    <tr>\n",
       "      <th>4</th>\n",
       "      <td>1</td>\n",
       "      <td>1</td>\n",
       "      <td>1</td>\n",
       "    </tr>\n",
       "  </tbody>\n",
       "</table>\n",
       "</div>"
      ],
      "text/plain": [
       "   Poor_Fair_Group  Good_Credit_Group  Great_Credit_Group\n",
       "0                0                  1                   0\n",
       "1                0                  1                   1\n",
       "2                0                  1                   1\n",
       "3                1                  1                   1\n",
       "4                1                  1                   1"
      ]
     },
     "execution_count": 359,
     "metadata": {},
     "output_type": "execute_result"
    }
   ],
   "source": [
    "df[['Poor_Fair_Group','Good_Credit_Group','Great_Credit_Group']].head()"
   ]
  },
  {
   "cell_type": "code",
   "execution_count": 360,
   "id": "305da7a6-86b8-4b3c-bf3d-0f81b5b3abb6",
   "metadata": {},
   "outputs": [
    {
     "data": {
      "text/plain": [
       "Institution Name                    0\n",
       "Product Name                        0\n",
       "Report Date                         0\n",
       "Availability of Credit Card Plan    0\n",
       "Requirements for Opening            0\n",
       "Secured Card                        0\n",
       "Purchase APR Offered?               0\n",
       "Purchase APR Vary by Balance        0\n",
       "Purchase APR Index                  0\n",
       "Variable Rate Index                 0\n",
       "Index                               0\n",
       "dtype: int64"
      ]
     },
     "execution_count": 360,
     "metadata": {},
     "output_type": "execute_result"
    }
   ],
   "source": [
    "df.iloc[:, 0:11].isnull().sum()"
   ]
  },
  {
   "cell_type": "code",
   "execution_count": 361,
   "id": "1529e9a4-ea42-4187-ac56-5ee3b3265b6d",
   "metadata": {},
   "outputs": [
    {
     "data": {
      "text/plain": [
       "(648, 70)"
      ]
     },
     "execution_count": 361,
     "metadata": {},
     "output_type": "execute_result"
    }
   ],
   "source": [
    "df.shape"
   ]
  },
  {
   "cell_type": "markdown",
   "id": "d8ed3119-61f6-476e-b988-7d946b5031d4",
   "metadata": {},
   "source": [
    "- Added 3 columns for Credit Group\n",
    "- Removed original column housing multiple options\n",
    "- removed null values by imputing a new string value of '__' to keep the difference as well as reduce complexity of potential ohe later on"
   ]
  },
  {
   "cell_type": "markdown",
   "id": "f99b822d-d6d3-4459-a8b8-c333066c70b8",
   "metadata": {},
   "source": [
    "### Columns 10 - 20 Clean\n",
    "---"
   ]
  },
  {
   "cell_type": "code",
   "execution_count": 364,
   "id": "6b054075-d143-4272-a968-943b679c1714",
   "metadata": {},
   "outputs": [
    {
     "data": {
      "text/html": [
       "<div>\n",
       "<style scoped>\n",
       "    .dataframe tbody tr th:only-of-type {\n",
       "        vertical-align: middle;\n",
       "    }\n",
       "\n",
       "    .dataframe tbody tr th {\n",
       "        vertical-align: top;\n",
       "    }\n",
       "\n",
       "    .dataframe thead th {\n",
       "        text-align: right;\n",
       "    }\n",
       "</style>\n",
       "<table border=\"1\" class=\"dataframe\">\n",
       "  <thead>\n",
       "    <tr style=\"text-align: right;\">\n",
       "      <th></th>\n",
       "      <th>Index</th>\n",
       "      <th>Poor or Fair Credit</th>\n",
       "      <th>Good Credit</th>\n",
       "      <th>Great Credit</th>\n",
       "      <th>Minimum APR</th>\n",
       "      <th>Median APR</th>\n",
       "      <th>Maximum APR</th>\n",
       "      <th>Introductory APR Offered?</th>\n",
       "      <th>Balance Transfer Offered?</th>\n",
       "      <th>Balance Transfer APR Vary by Credit Tier</th>\n",
       "      <th>Minimum APR.2</th>\n",
       "    </tr>\n",
       "  </thead>\n",
       "  <tbody>\n",
       "    <tr>\n",
       "      <th>0</th>\n",
       "      <td>F</td>\n",
       "      <td>NaN</td>\n",
       "      <td>NaN</td>\n",
       "      <td>NaN</td>\n",
       "      <td>0.1490</td>\n",
       "      <td>0.1490</td>\n",
       "      <td>0.1800</td>\n",
       "      <td>No</td>\n",
       "      <td>Yes</td>\n",
       "      <td>No</td>\n",
       "      <td>0.1490</td>\n",
       "    </tr>\n",
       "    <tr>\n",
       "      <th>1</th>\n",
       "      <td>F</td>\n",
       "      <td>NaN</td>\n",
       "      <td>NaN</td>\n",
       "      <td>NaN</td>\n",
       "      <td>0.1150</td>\n",
       "      <td>0.1150</td>\n",
       "      <td>0.1150</td>\n",
       "      <td>No</td>\n",
       "      <td>Yes</td>\n",
       "      <td>No</td>\n",
       "      <td>0.1150</td>\n",
       "    </tr>\n",
       "    <tr>\n",
       "      <th>2</th>\n",
       "      <td>V</td>\n",
       "      <td>NaN</td>\n",
       "      <td>NaN</td>\n",
       "      <td>NaN</td>\n",
       "      <td>0.2099</td>\n",
       "      <td>0.2099</td>\n",
       "      <td>0.2099</td>\n",
       "      <td>No</td>\n",
       "      <td>Yes</td>\n",
       "      <td>No</td>\n",
       "      <td>0.2099</td>\n",
       "    </tr>\n",
       "    <tr>\n",
       "      <th>3</th>\n",
       "      <td>F</td>\n",
       "      <td>NaN</td>\n",
       "      <td>NaN</td>\n",
       "      <td>NaN</td>\n",
       "      <td>NaN</td>\n",
       "      <td>NaN</td>\n",
       "      <td>NaN</td>\n",
       "      <td>No</td>\n",
       "      <td>Yes</td>\n",
       "      <td>No</td>\n",
       "      <td>0.1650</td>\n",
       "    </tr>\n",
       "    <tr>\n",
       "      <th>4</th>\n",
       "      <td>F</td>\n",
       "      <td>0.1590</td>\n",
       "      <td>0.1090</td>\n",
       "      <td>0.0790</td>\n",
       "      <td>0.0790</td>\n",
       "      <td>NaN</td>\n",
       "      <td>0.1690</td>\n",
       "      <td>No</td>\n",
       "      <td>Yes</td>\n",
       "      <td>Yes</td>\n",
       "      <td>0.0790</td>\n",
       "    </tr>\n",
       "    <tr>\n",
       "      <th>5</th>\n",
       "      <td>F</td>\n",
       "      <td>0.1680</td>\n",
       "      <td>0.1290</td>\n",
       "      <td>0.1290</td>\n",
       "      <td>0.1290</td>\n",
       "      <td>NaN</td>\n",
       "      <td>0.1680</td>\n",
       "      <td>No</td>\n",
       "      <td>Yes</td>\n",
       "      <td>Yes</td>\n",
       "      <td>0.1290</td>\n",
       "    </tr>\n",
       "    <tr>\n",
       "      <th>6</th>\n",
       "      <td>F</td>\n",
       "      <td>0.1521</td>\n",
       "      <td>0.1096</td>\n",
       "      <td>0.0799</td>\n",
       "      <td>0.0799</td>\n",
       "      <td>NaN</td>\n",
       "      <td>0.1800</td>\n",
       "      <td>No</td>\n",
       "      <td>Yes</td>\n",
       "      <td>Yes</td>\n",
       "      <td>0.0799</td>\n",
       "    </tr>\n",
       "    <tr>\n",
       "      <th>7</th>\n",
       "      <td>F</td>\n",
       "      <td>NaN</td>\n",
       "      <td>NaN</td>\n",
       "      <td>NaN</td>\n",
       "      <td>0.0999</td>\n",
       "      <td>0.0999</td>\n",
       "      <td>0.0999</td>\n",
       "      <td>No</td>\n",
       "      <td>Yes</td>\n",
       "      <td>No</td>\n",
       "      <td>0.0999</td>\n",
       "    </tr>\n",
       "    <tr>\n",
       "      <th>8</th>\n",
       "      <td>V</td>\n",
       "      <td>NaN</td>\n",
       "      <td>NaN</td>\n",
       "      <td>NaN</td>\n",
       "      <td>0.1025</td>\n",
       "      <td>0.1225</td>\n",
       "      <td>0.1425</td>\n",
       "      <td>No</td>\n",
       "      <td>Yes</td>\n",
       "      <td>No</td>\n",
       "      <td>0.1025</td>\n",
       "    </tr>\n",
       "    <tr>\n",
       "      <th>9</th>\n",
       "      <td>V</td>\n",
       "      <td>0.1800</td>\n",
       "      <td>0.1499</td>\n",
       "      <td>0.1050</td>\n",
       "      <td>0.1050</td>\n",
       "      <td>NaN</td>\n",
       "      <td>0.1800</td>\n",
       "      <td>No</td>\n",
       "      <td>Yes</td>\n",
       "      <td>Yes</td>\n",
       "      <td>0.1050</td>\n",
       "    </tr>\n",
       "  </tbody>\n",
       "</table>\n",
       "</div>"
      ],
      "text/plain": [
       "  Index  Poor or Fair Credit  Good Credit  Great Credit  Minimum APR  \\\n",
       "0     F                  NaN          NaN           NaN       0.1490   \n",
       "1     F                  NaN          NaN           NaN       0.1150   \n",
       "2     V                  NaN          NaN           NaN       0.2099   \n",
       "3     F                  NaN          NaN           NaN          NaN   \n",
       "4     F               0.1590       0.1090        0.0790       0.0790   \n",
       "5     F               0.1680       0.1290        0.1290       0.1290   \n",
       "6     F               0.1521       0.1096        0.0799       0.0799   \n",
       "7     F                  NaN          NaN           NaN       0.0999   \n",
       "8     V                  NaN          NaN           NaN       0.1025   \n",
       "9     V               0.1800       0.1499        0.1050       0.1050   \n",
       "\n",
       "   Median APR  Maximum APR Introductory APR Offered?  \\\n",
       "0      0.1490       0.1800                        No   \n",
       "1      0.1150       0.1150                        No   \n",
       "2      0.2099       0.2099                        No   \n",
       "3         NaN          NaN                        No   \n",
       "4         NaN       0.1690                        No   \n",
       "5         NaN       0.1680                        No   \n",
       "6         NaN       0.1800                        No   \n",
       "7      0.0999       0.0999                        No   \n",
       "8      0.1225       0.1425                        No   \n",
       "9         NaN       0.1800                        No   \n",
       "\n",
       "  Balance Transfer Offered? Balance Transfer APR Vary by Credit Tier  \\\n",
       "0                       Yes                                       No   \n",
       "1                       Yes                                       No   \n",
       "2                       Yes                                       No   \n",
       "3                       Yes                                       No   \n",
       "4                       Yes                                      Yes   \n",
       "5                       Yes                                      Yes   \n",
       "6                       Yes                                      Yes   \n",
       "7                       Yes                                       No   \n",
       "8                       Yes                                       No   \n",
       "9                       Yes                                      Yes   \n",
       "\n",
       "   Minimum APR.2  \n",
       "0         0.1490  \n",
       "1         0.1150  \n",
       "2         0.2099  \n",
       "3         0.1650  \n",
       "4         0.0790  \n",
       "5         0.1290  \n",
       "6         0.0799  \n",
       "7         0.0999  \n",
       "8         0.1025  \n",
       "9         0.1050  "
      ]
     },
     "execution_count": 364,
     "metadata": {},
     "output_type": "execute_result"
    }
   ],
   "source": [
    "df.iloc[:10, 10:21]"
   ]
  },
  {
   "cell_type": "code",
   "execution_count": 367,
   "id": "eab485c3-5456-4be5-b0c5-1f9a931fc5cb",
   "metadata": {},
   "outputs": [
    {
     "data": {
      "text/plain": [
       "Index                                         0\n",
       "Poor or Fair Credit                         286\n",
       "Good Credit                                 286\n",
       "Great Credit                                286\n",
       "Minimum APR                                  14\n",
       "Median APR                                  376\n",
       "Maximum APR                                  14\n",
       "Introductory APR Offered?                     0\n",
       "Balance Transfer Offered?                     0\n",
       "Balance Transfer APR Vary by Credit Tier    315\n",
       "Minimum APR.2                               315\n",
       "dtype: int64"
      ]
     },
     "execution_count": 367,
     "metadata": {},
     "output_type": "execute_result"
    }
   ],
   "source": [
    "df.iloc[:, 10:21].isnull().sum()"
   ]
  },
  {
   "cell_type": "markdown",
   "id": "1b47a7bc-f607-498c-bf62-94262dc5c089",
   "metadata": {},
   "source": [
    "- For Most missing numerical values with relation to APR specifically we will be using sklearn's KNNImputer (more on that below)\n",
    "- For more potentially obvious missing values such as Balance Transfer APR.., we'll solve below"
   ]
  },
  {
   "cell_type": "code",
   "execution_count": 372,
   "id": "b6c01762-ff2b-416f-8a0e-f16b54859271",
   "metadata": {},
   "outputs": [
    {
     "data": {
      "text/plain": [
       "Yes    333\n",
       "No     315\n",
       "Name: Balance Transfer Offered?, dtype: int64"
      ]
     },
     "execution_count": 372,
     "metadata": {},
     "output_type": "execute_result"
    }
   ],
   "source": [
    "df[\"Balance Transfer Offered?\"].value_counts()"
   ]
  },
  {
   "cell_type": "code",
   "execution_count": 371,
   "id": "c44788de-2f9c-4450-9f3b-4b16e3cd334e",
   "metadata": {},
   "outputs": [
    {
     "data": {
      "text/plain": [
       "No     228\n",
       "Yes    105\n",
       "Name: Balance Transfer APR Vary by Credit Tier, dtype: int64"
      ]
     },
     "execution_count": 371,
     "metadata": {},
     "output_type": "execute_result"
    }
   ],
   "source": [
    "df[\"Balance Transfer APR Vary by Credit Tier\"].value_counts()"
   ]
  },
  {
   "cell_type": "code",
   "execution_count": 373,
   "id": "4d4a0035-528c-4190-be98-58fc23f9e9f8",
   "metadata": {},
   "outputs": [],
   "source": [
    "df[\"Balance Transfer APR Vary by Credit Tier\"].fillna('__', inplace=True)"
   ]
  },
  {
   "cell_type": "code",
   "execution_count": 380,
   "id": "f2af738a-aaac-4d5a-9b06-ee22fb8572a6",
   "metadata": {},
   "outputs": [
    {
     "data": {
      "text/plain": [
       "Index                                         0\n",
       "Poor or Fair Credit                         286\n",
       "Good Credit                                 286\n",
       "Great Credit                                286\n",
       "Minimum APR                                  14\n",
       "Median APR                                  376\n",
       "Maximum APR                                  14\n",
       "Introductory APR Offered?                     0\n",
       "Balance Transfer Offered?                     0\n",
       "Balance Transfer APR Vary by Credit Tier      0\n",
       "BT_Min_APR                                  315\n",
       "dtype: int64"
      ]
     },
     "execution_count": 380,
     "metadata": {},
     "output_type": "execute_result"
    }
   ],
   "source": [
    "df.iloc[:, 10:21].isnull().sum()"
   ]
  },
  {
   "cell_type": "markdown",
   "id": "44a76333-f913-4a93-b1ba-050cf69c979d",
   "metadata": {},
   "source": [
    "- coincidence that there are also 315 missing values for Minimum APR.2, same figure we just solved for with Balance Transfer APR?\n",
    "- It is not, we now have a better understanding of the different columns we are working with. With no initial dictionary we had a hard time initially understanding what the different values could mean, but through cleaning we have gleaned an insight:\n",
    "    - each numbered APR (e.g.: Minimum APR.2, Maximum APR.n) is in relation to the previous categorical variables re: Balance Transfer, Cash Advance, etc.\n",
    "    - we'll rename the columns so they are more transparent\n",
    "    - further cleaning will take these groupings into account"
   ]
  },
  {
   "cell_type": "code",
   "execution_count": 377,
   "id": "38fc53a7-c7fc-4dc2-bfd5-1ce97c77d478",
   "metadata": {},
   "outputs": [],
   "source": [
    "df.rename(columns={\"Minimum APR.2\":\"BT_Min_APR\",\n",
    "                   \"Maximum APR.2\":\"BT_Max_APR\",\n",
    "                   \"Minimum APR.3\":\"CA_Min_APR\",\n",
    "                   \"Median APR.3\":\"CA_Median_APR\",\n",
    "                   \"Maximum APR.3\":\"CA_Max_APR\"}, inplace=True)"
   ]
  },
  {
   "cell_type": "markdown",
   "id": "249fe8c8-bb87-4bdc-98e6-7d8674b6306d",
   "metadata": {},
   "source": [
    "### Columns 20 - 30 Clean and FE"
   ]
  },
  {
   "cell_type": "code",
   "execution_count": 378,
   "id": "79800908-550c-4c91-8113-69f8be440e71",
   "metadata": {},
   "outputs": [
    {
     "data": {
      "text/html": [
       "<div>\n",
       "<style scoped>\n",
       "    .dataframe tbody tr th:only-of-type {\n",
       "        vertical-align: middle;\n",
       "    }\n",
       "\n",
       "    .dataframe tbody tr th {\n",
       "        vertical-align: top;\n",
       "    }\n",
       "\n",
       "    .dataframe thead th {\n",
       "        text-align: right;\n",
       "    }\n",
       "</style>\n",
       "<table border=\"1\" class=\"dataframe\">\n",
       "  <thead>\n",
       "    <tr style=\"text-align: right;\">\n",
       "      <th></th>\n",
       "      <th>BT_Min_APR</th>\n",
       "      <th>BT_Max_APR</th>\n",
       "      <th>Median Length of Balance Transfer APR</th>\n",
       "      <th>Balance Transfer Grace Period</th>\n",
       "      <th>Cash Advance APR Offered?</th>\n",
       "      <th>Cash Advance APR Vary by Credit Tier</th>\n",
       "      <th>CA_Min_APR</th>\n",
       "      <th>CA_Median_APR</th>\n",
       "      <th>CA_Max_APR</th>\n",
       "      <th>Grace Period Offered?</th>\n",
       "      <th>Grace Period</th>\n",
       "    </tr>\n",
       "  </thead>\n",
       "  <tbody>\n",
       "    <tr>\n",
       "      <th>0</th>\n",
       "      <td>0.1490</td>\n",
       "      <td>0.1800</td>\n",
       "      <td>0.0</td>\n",
       "      <td>No</td>\n",
       "      <td>Yes</td>\n",
       "      <td>No</td>\n",
       "      <td>0.1490</td>\n",
       "      <td>0.1490</td>\n",
       "      <td>0.1800</td>\n",
       "      <td>Yes</td>\n",
       "      <td>25.0</td>\n",
       "    </tr>\n",
       "    <tr>\n",
       "      <th>1</th>\n",
       "      <td>0.1150</td>\n",
       "      <td>0.1150</td>\n",
       "      <td>6.0</td>\n",
       "      <td>Yes</td>\n",
       "      <td>Yes</td>\n",
       "      <td>No</td>\n",
       "      <td>0.1150</td>\n",
       "      <td>0.1150</td>\n",
       "      <td>0.1150</td>\n",
       "      <td>Yes</td>\n",
       "      <td>25.0</td>\n",
       "    </tr>\n",
       "    <tr>\n",
       "      <th>2</th>\n",
       "      <td>0.2099</td>\n",
       "      <td>0.2099</td>\n",
       "      <td>6.0</td>\n",
       "      <td>Yes</td>\n",
       "      <td>Yes</td>\n",
       "      <td>No</td>\n",
       "      <td>0.2499</td>\n",
       "      <td>0.2499</td>\n",
       "      <td>0.2499</td>\n",
       "      <td>Yes</td>\n",
       "      <td>6.0</td>\n",
       "    </tr>\n",
       "    <tr>\n",
       "      <th>3</th>\n",
       "      <td>0.1650</td>\n",
       "      <td>0.1650</td>\n",
       "      <td>16.5</td>\n",
       "      <td>No</td>\n",
       "      <td>Yes</td>\n",
       "      <td>No</td>\n",
       "      <td>0.1650</td>\n",
       "      <td>0.1650</td>\n",
       "      <td>0.1650</td>\n",
       "      <td>Yes</td>\n",
       "      <td>25.0</td>\n",
       "    </tr>\n",
       "    <tr>\n",
       "      <th>4</th>\n",
       "      <td>0.0790</td>\n",
       "      <td>0.1690</td>\n",
       "      <td>6.0</td>\n",
       "      <td>No</td>\n",
       "      <td>Yes</td>\n",
       "      <td>Yes</td>\n",
       "      <td>0.0790</td>\n",
       "      <td>NaN</td>\n",
       "      <td>0.1690</td>\n",
       "      <td>Yes</td>\n",
       "      <td>25.0</td>\n",
       "    </tr>\n",
       "  </tbody>\n",
       "</table>\n",
       "</div>"
      ],
      "text/plain": [
       "   BT_Min_APR  BT_Max_APR  Median Length of Balance Transfer APR  \\\n",
       "0      0.1490      0.1800                                    0.0   \n",
       "1      0.1150      0.1150                                    6.0   \n",
       "2      0.2099      0.2099                                    6.0   \n",
       "3      0.1650      0.1650                                   16.5   \n",
       "4      0.0790      0.1690                                    6.0   \n",
       "\n",
       "  Balance Transfer Grace Period Cash Advance APR Offered?  \\\n",
       "0                            No                       Yes   \n",
       "1                           Yes                       Yes   \n",
       "2                           Yes                       Yes   \n",
       "3                            No                       Yes   \n",
       "4                            No                       Yes   \n",
       "\n",
       "  Cash Advance APR Vary by Credit Tier  CA_Min_APR  CA_Median_APR  CA_Max_APR  \\\n",
       "0                                   No      0.1490         0.1490      0.1800   \n",
       "1                                   No      0.1150         0.1150      0.1150   \n",
       "2                                   No      0.2499         0.2499      0.2499   \n",
       "3                                   No      0.1650         0.1650      0.1650   \n",
       "4                                  Yes      0.0790            NaN      0.1690   \n",
       "\n",
       "  Grace Period Offered?  Grace Period  \n",
       "0                   Yes          25.0  \n",
       "1                   Yes          25.0  \n",
       "2                   Yes           6.0  \n",
       "3                   Yes          25.0  \n",
       "4                   Yes          25.0  "
      ]
     },
     "execution_count": 378,
     "metadata": {},
     "output_type": "execute_result"
    }
   ],
   "source": [
    "df.iloc[:5, 20:31]"
   ]
  },
  {
   "cell_type": "code",
   "execution_count": 385,
   "id": "b8eca03f-b660-477b-81e0-cc661f00bf83",
   "metadata": {},
   "outputs": [
    {
     "data": {
      "text/plain": [
       "BT_Min_APR                               315\n",
       "BT_Max_APR                               315\n",
       "Median Length of Balance Transfer APR    315\n",
       "Balance Transfer Grace Period            315\n",
       "Cash Advance APR Offered?                  0\n",
       "Cash Advance APR Vary by Credit Tier      12\n",
       "CA_Min_APR                                 9\n",
       "CA_Median_APR                             82\n",
       "CA_Max_APR                                 9\n",
       "Grace Period Offered?                      0\n",
       "Grace Period                               4\n",
       "dtype: int64"
      ]
     },
     "execution_count": 385,
     "metadata": {},
     "output_type": "execute_result"
    }
   ],
   "source": [
    "df.iloc[:, 20:31].isnull().sum()"
   ]
  },
  {
   "cell_type": "code",
   "execution_count": 389,
   "id": "27c35c8c-a0d5-485f-9e48-51a7c2432da0",
   "metadata": {},
   "outputs": [],
   "source": [
    "df.BT_Min_APR.fillna(0.0, inplace=True)\n",
    "df.BT_Max_APR.fillna(0.0, inplace=True)\n",
    "df[\"Median Length of Balance Transfer APR\"].fillna(0.0, inplace=True)\n",
    "df[\"Balance Transfer Grace Period\"].fillna(0.0, inplace=True)"
   ]
  },
  {
   "cell_type": "code",
   "execution_count": 390,
   "id": "45e92d6f-08cf-4513-bd71-c18ca0936dfe",
   "metadata": {},
   "outputs": [
    {
     "data": {
      "text/plain": [
       "BT_Min_APR                                0\n",
       "BT_Max_APR                                0\n",
       "Median Length of Balance Transfer APR     0\n",
       "Balance Transfer Grace Period             0\n",
       "Cash Advance APR Offered?                 0\n",
       "Cash Advance APR Vary by Credit Tier     12\n",
       "CA_Min_APR                                9\n",
       "CA_Median_APR                            82\n",
       "CA_Max_APR                                9\n",
       "Grace Period Offered?                     0\n",
       "Grace Period                              4\n",
       "dtype: int64"
      ]
     },
     "execution_count": 390,
     "metadata": {},
     "output_type": "execute_result"
    }
   ],
   "source": [
    "df.iloc[:, 20:31].isnull().sum()"
   ]
  },
  {
   "cell_type": "markdown",
   "id": "c7673619-ac6e-4ef4-8b0e-d109870b1abb",
   "metadata": {},
   "source": [
    "- As there were 315 rows without Balance Transfer options, and now knowing that Min and Max APR.2 were in relation to having BT, for now we are going to impute 0.0 for the null values.\n",
    "- If we had more time we could try and do some feature engineering to maybe remove the numerical values altogether and instead signifiy with just boolean values if there was apr value or not and in combination report a median APR instead of a min and max.\n",
    "- Similarly will impute 0 for the other missing Balance Tranfer numerical fields:\n",
    "    - Median Length of Balance Transfer APR\n",
    "    - Balance Transfer Grace Period\n",
    "- Cash Advance below:"
   ]
  },
  {
   "cell_type": "code",
   "execution_count": 393,
   "id": "9e55efc1-3cdf-48cb-b3e4-7cacbfc7c4c5",
   "metadata": {},
   "outputs": [
    {
     "data": {
      "text/plain": [
       "No     566\n",
       "Yes     70\n",
       "Name: Cash Advance APR Vary by Credit Tier, dtype: int64"
      ]
     },
     "execution_count": 393,
     "metadata": {},
     "output_type": "execute_result"
    }
   ],
   "source": [
    "df[\"Cash Advance APR Vary by Credit Tier\"].value_counts()"
   ]
  },
  {
   "cell_type": "code",
   "execution_count": 397,
   "id": "b6e7df98-37dc-4b8b-8af5-97fca31626b0",
   "metadata": {},
   "outputs": [],
   "source": [
    "mask = df[\"Cash Advance APR Vary by Credit Tier\"].isna()"
   ]
  },
  {
   "cell_type": "code",
   "execution_count": 400,
   "id": "62bb56fa-6c37-42ac-9251-d9ef262fa063",
   "metadata": {},
   "outputs": [],
   "source": [
    "selected_cols = [\"Cash Advance APR Offered?\",\"CA_Min_APR\",\"CA_Median_APR\",\"CA_Max_APR\"]"
   ]
  },
  {
   "cell_type": "code",
   "execution_count": 401,
   "id": "8e023bd6-e9b4-47d2-a57a-580703ef1db8",
   "metadata": {},
   "outputs": [
    {
     "data": {
      "text/html": [
       "<div>\n",
       "<style scoped>\n",
       "    .dataframe tbody tr th:only-of-type {\n",
       "        vertical-align: middle;\n",
       "    }\n",
       "\n",
       "    .dataframe tbody tr th {\n",
       "        vertical-align: top;\n",
       "    }\n",
       "\n",
       "    .dataframe thead th {\n",
       "        text-align: right;\n",
       "    }\n",
       "</style>\n",
       "<table border=\"1\" class=\"dataframe\">\n",
       "  <thead>\n",
       "    <tr style=\"text-align: right;\">\n",
       "      <th></th>\n",
       "      <th>Cash Advance APR Offered?</th>\n",
       "      <th>CA_Min_APR</th>\n",
       "      <th>CA_Median_APR</th>\n",
       "      <th>CA_Max_APR</th>\n",
       "    </tr>\n",
       "  </thead>\n",
       "  <tbody>\n",
       "    <tr>\n",
       "      <th>10</th>\n",
       "      <td>No</td>\n",
       "      <td>NaN</td>\n",
       "      <td>NaN</td>\n",
       "      <td>NaN</td>\n",
       "    </tr>\n",
       "    <tr>\n",
       "      <th>14</th>\n",
       "      <td>No</td>\n",
       "      <td>NaN</td>\n",
       "      <td>NaN</td>\n",
       "      <td>NaN</td>\n",
       "    </tr>\n",
       "    <tr>\n",
       "      <th>138</th>\n",
       "      <td>No</td>\n",
       "      <td>NaN</td>\n",
       "      <td>NaN</td>\n",
       "      <td>NaN</td>\n",
       "    </tr>\n",
       "    <tr>\n",
       "      <th>166</th>\n",
       "      <td>No</td>\n",
       "      <td>NaN</td>\n",
       "      <td>NaN</td>\n",
       "      <td>NaN</td>\n",
       "    </tr>\n",
       "    <tr>\n",
       "      <th>169</th>\n",
       "      <td>No</td>\n",
       "      <td>NaN</td>\n",
       "      <td>NaN</td>\n",
       "      <td>NaN</td>\n",
       "    </tr>\n",
       "    <tr>\n",
       "      <th>170</th>\n",
       "      <td>No</td>\n",
       "      <td>NaN</td>\n",
       "      <td>NaN</td>\n",
       "      <td>NaN</td>\n",
       "    </tr>\n",
       "    <tr>\n",
       "      <th>470</th>\n",
       "      <td>No</td>\n",
       "      <td>NaN</td>\n",
       "      <td>NaN</td>\n",
       "      <td>NaN</td>\n",
       "    </tr>\n",
       "    <tr>\n",
       "      <th>471</th>\n",
       "      <td>No</td>\n",
       "      <td>NaN</td>\n",
       "      <td>NaN</td>\n",
       "      <td>NaN</td>\n",
       "    </tr>\n",
       "    <tr>\n",
       "      <th>485</th>\n",
       "      <td>Yes</td>\n",
       "      <td>0.0525</td>\n",
       "      <td>NaN</td>\n",
       "      <td>0.180</td>\n",
       "    </tr>\n",
       "    <tr>\n",
       "      <th>486</th>\n",
       "      <td>Yes</td>\n",
       "      <td>0.0525</td>\n",
       "      <td>NaN</td>\n",
       "      <td>0.180</td>\n",
       "    </tr>\n",
       "    <tr>\n",
       "      <th>491</th>\n",
       "      <td>No</td>\n",
       "      <td>NaN</td>\n",
       "      <td>NaN</td>\n",
       "      <td>NaN</td>\n",
       "    </tr>\n",
       "    <tr>\n",
       "      <th>589</th>\n",
       "      <td>Yes</td>\n",
       "      <td>0.1275</td>\n",
       "      <td>NaN</td>\n",
       "      <td>0.179</td>\n",
       "    </tr>\n",
       "  </tbody>\n",
       "</table>\n",
       "</div>"
      ],
      "text/plain": [
       "    Cash Advance APR Offered?  CA_Min_APR  CA_Median_APR  CA_Max_APR\n",
       "10                         No         NaN            NaN         NaN\n",
       "14                         No         NaN            NaN         NaN\n",
       "138                        No         NaN            NaN         NaN\n",
       "166                        No         NaN            NaN         NaN\n",
       "169                        No         NaN            NaN         NaN\n",
       "170                        No         NaN            NaN         NaN\n",
       "470                        No         NaN            NaN         NaN\n",
       "471                        No         NaN            NaN         NaN\n",
       "485                       Yes      0.0525            NaN       0.180\n",
       "486                       Yes      0.0525            NaN       0.180\n",
       "491                        No         NaN            NaN         NaN\n",
       "589                       Yes      0.1275            NaN       0.179"
      ]
     },
     "execution_count": 401,
     "metadata": {},
     "output_type": "execute_result"
    }
   ],
   "source": [
    "df[selected_cols][mask]"
   ]
  },
  {
   "cell_type": "code",
   "execution_count": 402,
   "id": "64ac4698-176a-45d4-8db0-da09730f08df",
   "metadata": {},
   "outputs": [
    {
     "data": {
      "text/html": [
       "<div>\n",
       "<style scoped>\n",
       "    .dataframe tbody tr th:only-of-type {\n",
       "        vertical-align: middle;\n",
       "    }\n",
       "\n",
       "    .dataframe tbody tr th {\n",
       "        vertical-align: top;\n",
       "    }\n",
       "\n",
       "    .dataframe thead th {\n",
       "        text-align: right;\n",
       "    }\n",
       "</style>\n",
       "<table border=\"1\" class=\"dataframe\">\n",
       "  <thead>\n",
       "    <tr style=\"text-align: right;\">\n",
       "      <th></th>\n",
       "      <th>Cash Advance APR Offered?</th>\n",
       "      <th>CA_Min_APR</th>\n",
       "      <th>CA_Median_APR</th>\n",
       "      <th>CA_Max_APR</th>\n",
       "    </tr>\n",
       "  </thead>\n",
       "  <tbody>\n",
       "    <tr>\n",
       "      <th>4</th>\n",
       "      <td>Yes</td>\n",
       "      <td>0.0790</td>\n",
       "      <td>NaN</td>\n",
       "      <td>0.1690</td>\n",
       "    </tr>\n",
       "    <tr>\n",
       "      <th>5</th>\n",
       "      <td>Yes</td>\n",
       "      <td>0.1290</td>\n",
       "      <td>NaN</td>\n",
       "      <td>0.1680</td>\n",
       "    </tr>\n",
       "    <tr>\n",
       "      <th>6</th>\n",
       "      <td>Yes</td>\n",
       "      <td>0.0799</td>\n",
       "      <td>NaN</td>\n",
       "      <td>0.1800</td>\n",
       "    </tr>\n",
       "    <tr>\n",
       "      <th>9</th>\n",
       "      <td>Yes</td>\n",
       "      <td>0.1050</td>\n",
       "      <td>NaN</td>\n",
       "      <td>0.1800</td>\n",
       "    </tr>\n",
       "    <tr>\n",
       "      <th>11</th>\n",
       "      <td>Yes</td>\n",
       "      <td>0.1099</td>\n",
       "      <td>NaN</td>\n",
       "      <td>0.1599</td>\n",
       "    </tr>\n",
       "    <tr>\n",
       "      <th>...</th>\n",
       "      <td>...</td>\n",
       "      <td>...</td>\n",
       "      <td>...</td>\n",
       "      <td>...</td>\n",
       "    </tr>\n",
       "    <tr>\n",
       "      <th>597</th>\n",
       "      <td>Yes</td>\n",
       "      <td>0.1299</td>\n",
       "      <td>NaN</td>\n",
       "      <td>0.2499</td>\n",
       "    </tr>\n",
       "    <tr>\n",
       "      <th>603</th>\n",
       "      <td>Yes</td>\n",
       "      <td>0.1415</td>\n",
       "      <td>NaN</td>\n",
       "      <td>0.1790</td>\n",
       "    </tr>\n",
       "    <tr>\n",
       "      <th>609</th>\n",
       "      <td>Yes</td>\n",
       "      <td>0.1465</td>\n",
       "      <td>NaN</td>\n",
       "      <td>0.1800</td>\n",
       "    </tr>\n",
       "    <tr>\n",
       "      <th>610</th>\n",
       "      <td>Yes</td>\n",
       "      <td>0.1399</td>\n",
       "      <td>NaN</td>\n",
       "      <td>0.1800</td>\n",
       "    </tr>\n",
       "    <tr>\n",
       "      <th>646</th>\n",
       "      <td>Yes</td>\n",
       "      <td>0.0750</td>\n",
       "      <td>NaN</td>\n",
       "      <td>0.1800</td>\n",
       "    </tr>\n",
       "  </tbody>\n",
       "</table>\n",
       "<p>70 rows × 4 columns</p>\n",
       "</div>"
      ],
      "text/plain": [
       "    Cash Advance APR Offered?  CA_Min_APR  CA_Median_APR  CA_Max_APR\n",
       "4                         Yes      0.0790            NaN      0.1690\n",
       "5                         Yes      0.1290            NaN      0.1680\n",
       "6                         Yes      0.0799            NaN      0.1800\n",
       "9                         Yes      0.1050            NaN      0.1800\n",
       "11                        Yes      0.1099            NaN      0.1599\n",
       "..                        ...         ...            ...         ...\n",
       "597                       Yes      0.1299            NaN      0.2499\n",
       "603                       Yes      0.1415            NaN      0.1790\n",
       "609                       Yes      0.1465            NaN      0.1800\n",
       "610                       Yes      0.1399            NaN      0.1800\n",
       "646                       Yes      0.0750            NaN      0.1800\n",
       "\n",
       "[70 rows x 4 columns]"
      ]
     },
     "execution_count": 402,
     "metadata": {},
     "output_type": "execute_result"
    }
   ],
   "source": [
    "mask = df[\"Cash Advance APR Vary by Credit Tier\"] == \"Yes\"\n",
    "df[selected_cols][mask]"
   ]
  },
  {
   "cell_type": "code",
   "execution_count": 404,
   "id": "855294c3-82e8-488d-897b-d86cf38a21de",
   "metadata": {},
   "outputs": [],
   "source": [
    "df[\"Cash Advance APR Vary by Credit Tier\"].fillna(df[\"Cash Advance APR Offered?\"], inplace=True)"
   ]
  },
  {
   "cell_type": "markdown",
   "id": "0d794f8b-868e-44e6-8f4c-aa2f589afd06",
   "metadata": {},
   "source": [
    "- For \"Cash Advance APR Vary..\", there's a mix of values in related columns, the majority are no or null. We'll impute \"No\" for the rows where \"Cash Advance APR Offered?\" is also No. We'll impute \"Yes\" where \"Cash Advance APR Offered?\" is also Yes as they follow similar behavior\n",
    "- for missing apr values, we'll be using KNNImputer as mentioned above, more on that below.\n",
    "- Grace Period below:"
   ]
  },
  {
   "cell_type": "code",
   "execution_count": 406,
   "id": "9fecbb37-7dff-42ae-89c8-b13ef733d1ca",
   "metadata": {},
   "outputs": [],
   "source": [
    "mask = df[\"Grace Period\"].isna()\n",
    "selected_cols = [\"Grace Period Offered?\"]"
   ]
  },
  {
   "cell_type": "code",
   "execution_count": 407,
   "id": "c16f997f-bec0-467d-a26e-f9dc2756f7a8",
   "metadata": {},
   "outputs": [
    {
     "data": {
      "text/html": [
       "<div>\n",
       "<style scoped>\n",
       "    .dataframe tbody tr th:only-of-type {\n",
       "        vertical-align: middle;\n",
       "    }\n",
       "\n",
       "    .dataframe tbody tr th {\n",
       "        vertical-align: top;\n",
       "    }\n",
       "\n",
       "    .dataframe thead th {\n",
       "        text-align: right;\n",
       "    }\n",
       "</style>\n",
       "<table border=\"1\" class=\"dataframe\">\n",
       "  <thead>\n",
       "    <tr style=\"text-align: right;\">\n",
       "      <th></th>\n",
       "      <th>Grace Period Offered?</th>\n",
       "    </tr>\n",
       "  </thead>\n",
       "  <tbody>\n",
       "    <tr>\n",
       "      <th>580</th>\n",
       "      <td>No</td>\n",
       "    </tr>\n",
       "    <tr>\n",
       "      <th>581</th>\n",
       "      <td>No</td>\n",
       "    </tr>\n",
       "    <tr>\n",
       "      <th>595</th>\n",
       "      <td>No</td>\n",
       "    </tr>\n",
       "    <tr>\n",
       "      <th>647</th>\n",
       "      <td>No</td>\n",
       "    </tr>\n",
       "  </tbody>\n",
       "</table>\n",
       "</div>"
      ],
      "text/plain": [
       "    Grace Period Offered?\n",
       "580                    No\n",
       "581                    No\n",
       "595                    No\n",
       "647                    No"
      ]
     },
     "execution_count": 407,
     "metadata": {},
     "output_type": "execute_result"
    }
   ],
   "source": [
    "df[selected_cols][mask]"
   ]
  },
  {
   "cell_type": "code",
   "execution_count": 408,
   "id": "76ac1d9c-0626-4116-9d71-ba697e4ddbac",
   "metadata": {},
   "outputs": [],
   "source": [
    "df[\"Grace Period\"].fillna(0.0, inplace=True)"
   ]
  },
  {
   "cell_type": "code",
   "execution_count": 409,
   "id": "6dfd750a-8348-4210-8f0a-42865cb273a3",
   "metadata": {
    "tags": []
   },
   "outputs": [
    {
     "data": {
      "text/plain": [
       "BT_Min_APR                                0\n",
       "BT_Max_APR                                0\n",
       "Median Length of Balance Transfer APR     0\n",
       "Balance Transfer Grace Period             0\n",
       "Cash Advance APR Offered?                 0\n",
       "Cash Advance APR Vary by Credit Tier      0\n",
       "CA_Min_APR                                9\n",
       "CA_Median_APR                            82\n",
       "CA_Max_APR                                9\n",
       "Grace Period Offered?                     0\n",
       "Grace Period                              0\n",
       "dtype: int64"
      ]
     },
     "execution_count": 409,
     "metadata": {},
     "output_type": "execute_result"
    }
   ],
   "source": [
    "df.iloc[:, 20:31].isnull().sum()"
   ]
  },
  {
   "cell_type": "markdown",
   "id": "88c19665-cd37-4cf4-86b8-e542d867a338",
   "metadata": {},
   "source": [
    "### Columns 31 - 40 Clean and FE\n",
    "---"
   ]
  },
  {
   "cell_type": "code",
   "execution_count": 414,
   "id": "256a6bcb-444d-49ff-ab89-b959b46c0778",
   "metadata": {},
   "outputs": [
    {
     "data": {
      "text/html": [
       "<div>\n",
       "<style scoped>\n",
       "    .dataframe tbody tr th:only-of-type {\n",
       "        vertical-align: middle;\n",
       "    }\n",
       "\n",
       "    .dataframe tbody tr th {\n",
       "        vertical-align: top;\n",
       "    }\n",
       "\n",
       "    .dataframe thead th {\n",
       "        text-align: right;\n",
       "    }\n",
       "</style>\n",
       "<table border=\"1\" class=\"dataframe\">\n",
       "  <thead>\n",
       "    <tr style=\"text-align: right;\">\n",
       "      <th></th>\n",
       "      <th>Minimum Finance Charge?</th>\n",
       "      <th>Minimum Finance Charge (Dollars)</th>\n",
       "      <th>Balance Computation Method</th>\n",
       "      <th>Purchase Transaction Fees</th>\n",
       "      <th>Balance Transfer Fees?</th>\n",
       "      <th>Balance Transfer Fee Types</th>\n",
       "      <th>Balance Transfer Fee (%)</th>\n",
       "      <th>Cash Advance Fees?</th>\n",
       "      <th>Cash Advance Fee For Each Transaction</th>\n",
       "      <th>Cash Advance Fee Types</th>\n",
       "    </tr>\n",
       "  </thead>\n",
       "  <tbody>\n",
       "    <tr>\n",
       "      <th>0</th>\n",
       "      <td>No</td>\n",
       "      <td>NaN</td>\n",
       "      <td>Average daily balance including new purchases</td>\n",
       "      <td>No</td>\n",
       "      <td>Yes</td>\n",
       "      <td>2. If fee is percentage of transaction amount,...</td>\n",
       "      <td>0.03</td>\n",
       "      <td>Yes</td>\n",
       "      <td>No</td>\n",
       "      <td>2. If the fee is a percentage of transaction a...</td>\n",
       "    </tr>\n",
       "    <tr>\n",
       "      <th>1</th>\n",
       "      <td>Yes</td>\n",
       "      <td>0.01</td>\n",
       "      <td>Average daily balance including new purchases</td>\n",
       "      <td>No</td>\n",
       "      <td>No</td>\n",
       "      <td>NaN</td>\n",
       "      <td>NaN</td>\n",
       "      <td>No</td>\n",
       "      <td>NaN</td>\n",
       "      <td>NaN</td>\n",
       "    </tr>\n",
       "    <tr>\n",
       "      <th>2</th>\n",
       "      <td>Yes</td>\n",
       "      <td>0.50</td>\n",
       "      <td>Average daily balance excluding new purchases</td>\n",
       "      <td>No</td>\n",
       "      <td>Yes</td>\n",
       "      <td>1. If fee is charged in dollars, what is the a...</td>\n",
       "      <td>0.03</td>\n",
       "      <td>Yes</td>\n",
       "      <td>Yes</td>\n",
       "      <td>1. If the fee is charged in dollars, what is t...</td>\n",
       "    </tr>\n",
       "    <tr>\n",
       "      <th>3</th>\n",
       "      <td>No</td>\n",
       "      <td>NaN</td>\n",
       "      <td>Average daily balance including new purchases</td>\n",
       "      <td>No</td>\n",
       "      <td>No</td>\n",
       "      <td>NaN</td>\n",
       "      <td>NaN</td>\n",
       "      <td>No</td>\n",
       "      <td>NaN</td>\n",
       "      <td>NaN</td>\n",
       "    </tr>\n",
       "    <tr>\n",
       "      <th>4</th>\n",
       "      <td>No</td>\n",
       "      <td>NaN</td>\n",
       "      <td>Average daily balance including new purchases</td>\n",
       "      <td>No</td>\n",
       "      <td>No</td>\n",
       "      <td>NaN</td>\n",
       "      <td>NaN</td>\n",
       "      <td>No</td>\n",
       "      <td>NaN</td>\n",
       "      <td>NaN</td>\n",
       "    </tr>\n",
       "  </tbody>\n",
       "</table>\n",
       "</div>"
      ],
      "text/plain": [
       "  Minimum Finance Charge?  Minimum Finance Charge (Dollars)  \\\n",
       "0                      No                               NaN   \n",
       "1                     Yes                              0.01   \n",
       "2                     Yes                              0.50   \n",
       "3                      No                               NaN   \n",
       "4                      No                               NaN   \n",
       "\n",
       "                      Balance Computation Method Purchase Transaction Fees  \\\n",
       "0  Average daily balance including new purchases                        No   \n",
       "1  Average daily balance including new purchases                        No   \n",
       "2  Average daily balance excluding new purchases                        No   \n",
       "3  Average daily balance including new purchases                        No   \n",
       "4  Average daily balance including new purchases                        No   \n",
       "\n",
       "  Balance Transfer Fees?                         Balance Transfer Fee Types  \\\n",
       "0                    Yes  2. If fee is percentage of transaction amount,...   \n",
       "1                     No                                                NaN   \n",
       "2                    Yes  1. If fee is charged in dollars, what is the a...   \n",
       "3                     No                                                NaN   \n",
       "4                     No                                                NaN   \n",
       "\n",
       "   Balance Transfer Fee (%) Cash Advance Fees?  \\\n",
       "0                      0.03                Yes   \n",
       "1                       NaN                 No   \n",
       "2                      0.03                Yes   \n",
       "3                       NaN                 No   \n",
       "4                       NaN                 No   \n",
       "\n",
       "  Cash Advance Fee For Each Transaction  \\\n",
       "0                                    No   \n",
       "1                                   NaN   \n",
       "2                                   Yes   \n",
       "3                                   NaN   \n",
       "4                                   NaN   \n",
       "\n",
       "                              Cash Advance Fee Types  \n",
       "0  2. If the fee is a percentage of transaction a...  \n",
       "1                                                NaN  \n",
       "2  1. If the fee is charged in dollars, what is t...  \n",
       "3                                                NaN  \n",
       "4                                                NaN  "
      ]
     },
     "execution_count": 414,
     "metadata": {},
     "output_type": "execute_result"
    }
   ],
   "source": [
    "df.iloc[:5, 31:41]"
   ]
  },
  {
   "cell_type": "code",
   "execution_count": 415,
   "id": "2728ad1f-0170-4df8-b88a-79eb9ad1684f",
   "metadata": {},
   "outputs": [
    {
     "data": {
      "text/plain": [
       "Minimum Finance Charge?                    0\n",
       "Minimum Finance Charge (Dollars)         243\n",
       "Balance Computation Method                 0\n",
       "Purchase Transaction Fees                  0\n",
       "Balance Transfer Fees?                     0\n",
       "Balance Transfer Fee Types               239\n",
       "Balance Transfer Fee (%)                 253\n",
       "Cash Advance Fees?                         0\n",
       "Cash Advance Fee For Each Transaction     75\n",
       "Cash Advance Fee Types                    75\n",
       "dtype: int64"
      ]
     },
     "execution_count": 415,
     "metadata": {},
     "output_type": "execute_result"
    }
   ],
   "source": [
    "df.iloc[:, 31:41].isnull().sum()"
   ]
  },
  {
   "cell_type": "code",
   "execution_count": 416,
   "id": "84602078-4bdd-474d-b12d-b16ff38076e5",
   "metadata": {},
   "outputs": [
    {
     "data": {
      "text/plain": [
       "Yes    405\n",
       "No     243\n",
       "Name: Minimum Finance Charge?, dtype: int64"
      ]
     },
     "execution_count": 416,
     "metadata": {},
     "output_type": "execute_result"
    }
   ],
   "source": [
    "df[\"Minimum Finance Charge?\"].value_counts()"
   ]
  },
  {
   "cell_type": "code",
   "execution_count": 417,
   "id": "80909a30-bdc3-4beb-8dc7-fbeb00680e55",
   "metadata": {},
   "outputs": [
    {
     "data": {
      "text/plain": [
       "Yes    409\n",
       "No     239\n",
       "Name: Balance Transfer Fees?, dtype: int64"
      ]
     },
     "execution_count": 417,
     "metadata": {},
     "output_type": "execute_result"
    }
   ],
   "source": [
    "df[\"Balance Transfer Fees?\"].value_counts()"
   ]
  },
  {
   "cell_type": "code",
   "execution_count": 419,
   "id": "018d7c69-3f4b-4e5f-8bb9-9175b61f477a",
   "metadata": {},
   "outputs": [
    {
     "data": {
      "text/plain": [
       "Yes    573\n",
       "No      75\n",
       "Name: Cash Advance Fees?, dtype: int64"
      ]
     },
     "execution_count": 419,
     "metadata": {},
     "output_type": "execute_result"
    }
   ],
   "source": [
    "df[\"Cash Advance Fees?\"].value_counts()"
   ]
  },
  {
   "cell_type": "code",
   "execution_count": 420,
   "id": "1f731d1d-e23d-43e2-865e-ca5ae808a1e2",
   "metadata": {},
   "outputs": [],
   "source": [
    "df[\"Minimum Finance Charge (Dollars)\"].fillna(0.0, inplace=True)"
   ]
  },
  {
   "cell_type": "code",
   "execution_count": 423,
   "id": "a6097476-8920-4072-a7a0-55d1926fe96e",
   "metadata": {},
   "outputs": [
    {
     "data": {
      "text/plain": [
       "__                                                                                                                                                                                                                                        239\n",
       "1. If fee is charged in dollars, what is the amount?; 2. If fee is percentage of transaction amount, what is it?                                                                                                                          199\n",
       "2. If fee is percentage of transaction amount, what is it?; 3. If there's a minimum dollar amount, what is it?                                                                                                                            124\n",
       "2. If fee is percentage of transaction amount, what is it?                                                                                                                                                                                 59\n",
       "4. If the fee is not a percentage, or a percentage subject to a minimum dollar amount, how do you calculate the fee?                                                                                                                       13\n",
       "1. If fee is charged in dollars, what is the amount?; 2. If fee is percentage of transaction amount, what is it?; 4. If the fee is not a percentage, or a percentage subject to a minimum dollar amount, how do you calculate the fee?      7\n",
       "2. If fee is percentage of transaction amount, what is it?; 4. If the fee is not a percentage, or a percentage subject to a minimum dollar amount, how do you calculate the fee?                                                            3\n",
       "1. If fee is charged in dollars, what is the amount?; 2. If fee is percentage of transaction amount, what is it?; 3. If there's a minimum dollar amount, what is it?                                                                        3\n",
       "1. If fee is charged in dollars, what is the amount?; 4. If the fee is not a percentage, or a percentage subject to a minimum dollar amount, how do you calculate the fee?                                                                  1\n",
       "Name: Balance Transfer Fee Types, dtype: int64"
      ]
     },
     "execution_count": 423,
     "metadata": {},
     "output_type": "execute_result"
    }
   ],
   "source": [
    "df[\"Balance Transfer Fee Types\"].value_counts()"
   ]
  },
  {
   "cell_type": "code",
   "execution_count": 422,
   "id": "7facb4f9-52c3-4dc0-8ae9-cb5000802457",
   "metadata": {},
   "outputs": [],
   "source": [
    "df[\"Balance Transfer Fee Types\"].fillna(\"__\", inplace=True)"
   ]
  },
  {
   "cell_type": "code",
   "execution_count": 430,
   "id": "c4a2fc8d-3274-4ecf-9889-2805b09fe001",
   "metadata": {},
   "outputs": [
    {
     "data": {
      "text/html": [
       "<div>\n",
       "<style scoped>\n",
       "    .dataframe tbody tr th:only-of-type {\n",
       "        vertical-align: middle;\n",
       "    }\n",
       "\n",
       "    .dataframe tbody tr th {\n",
       "        vertical-align: top;\n",
       "    }\n",
       "\n",
       "    .dataframe thead th {\n",
       "        text-align: right;\n",
       "    }\n",
       "</style>\n",
       "<table border=\"1\" class=\"dataframe\">\n",
       "  <thead>\n",
       "    <tr style=\"text-align: right;\">\n",
       "      <th></th>\n",
       "      <th>Balance Transfer Fees?</th>\n",
       "      <th>Balance Transfer Fee Types</th>\n",
       "    </tr>\n",
       "  </thead>\n",
       "  <tbody>\n",
       "    <tr>\n",
       "      <th>1</th>\n",
       "      <td>No</td>\n",
       "      <td>__</td>\n",
       "    </tr>\n",
       "    <tr>\n",
       "      <th>3</th>\n",
       "      <td>No</td>\n",
       "      <td>__</td>\n",
       "    </tr>\n",
       "    <tr>\n",
       "      <th>4</th>\n",
       "      <td>No</td>\n",
       "      <td>__</td>\n",
       "    </tr>\n",
       "    <tr>\n",
       "      <th>5</th>\n",
       "      <td>No</td>\n",
       "      <td>__</td>\n",
       "    </tr>\n",
       "    <tr>\n",
       "      <th>6</th>\n",
       "      <td>No</td>\n",
       "      <td>__</td>\n",
       "    </tr>\n",
       "    <tr>\n",
       "      <th>...</th>\n",
       "      <td>...</td>\n",
       "      <td>...</td>\n",
       "    </tr>\n",
       "    <tr>\n",
       "      <th>609</th>\n",
       "      <td>No</td>\n",
       "      <td>__</td>\n",
       "    </tr>\n",
       "    <tr>\n",
       "      <th>610</th>\n",
       "      <td>No</td>\n",
       "      <td>__</td>\n",
       "    </tr>\n",
       "    <tr>\n",
       "      <th>629</th>\n",
       "      <td>No</td>\n",
       "      <td>__</td>\n",
       "    </tr>\n",
       "    <tr>\n",
       "      <th>630</th>\n",
       "      <td>No</td>\n",
       "      <td>__</td>\n",
       "    </tr>\n",
       "    <tr>\n",
       "      <th>646</th>\n",
       "      <td>No</td>\n",
       "      <td>__</td>\n",
       "    </tr>\n",
       "  </tbody>\n",
       "</table>\n",
       "<p>253 rows × 2 columns</p>\n",
       "</div>"
      ],
      "text/plain": [
       "    Balance Transfer Fees? Balance Transfer Fee Types\n",
       "1                       No                         __\n",
       "3                       No                         __\n",
       "4                       No                         __\n",
       "5                       No                         __\n",
       "6                       No                         __\n",
       "..                     ...                        ...\n",
       "609                     No                         __\n",
       "610                     No                         __\n",
       "629                     No                         __\n",
       "630                     No                         __\n",
       "646                     No                         __\n",
       "\n",
       "[253 rows x 2 columns]"
      ]
     },
     "execution_count": 430,
     "metadata": {},
     "output_type": "execute_result"
    }
   ],
   "source": [
    "mask = df[\"Balance Transfer Fee (%)\"].isna()\n",
    "selected_cols = [\"Balance Transfer Fees?\",\"Balance Transfer Fee Types\"]\n",
    "df[selected_cols][mask]"
   ]
  },
  {
   "cell_type": "code",
   "execution_count": 432,
   "id": "e3f74d18-5007-4d15-b72c-15ab95fabc53",
   "metadata": {},
   "outputs": [],
   "source": [
    "df[\"Balance Transfer Fee (%)\"].fillna(0.0,inplace=True)"
   ]
  },
  {
   "cell_type": "code",
   "execution_count": 425,
   "id": "073a3e55-878d-475b-bb2e-a59be9228ec6",
   "metadata": {},
   "outputs": [
    {
     "data": {
      "text/plain": [
       "Yes    556\n",
       "No      17\n",
       "Name: Cash Advance Fee For Each Transaction, dtype: int64"
      ]
     },
     "execution_count": 425,
     "metadata": {},
     "output_type": "execute_result"
    }
   ],
   "source": [
    "df[\"Cash Advance Fee For Each Transaction\"].value_counts()"
   ]
  },
  {
   "cell_type": "code",
   "execution_count": 426,
   "id": "12a20f86-47c8-4296-8d28-36cf72d1a9bf",
   "metadata": {},
   "outputs": [],
   "source": [
    "df[\"Cash Advance Fee For Each Transaction\"].fillna(\"__\", inplace=True)\n",
    "df[\"Cash Advance Fee Types\"].fillna(\"__\", inplace=True)"
   ]
  },
  {
   "cell_type": "markdown",
   "id": "27e2d99c-e782-449a-ad6a-38158a5ab83f",
   "metadata": {},
   "source": [
    "- Easy Answers for a couple of columns, where their respective columns have \"No\" and the number of nulls lines up, we will impute with either 0 for numerical values, and '__' for categorical"
   ]
  },
  {
   "cell_type": "code",
   "execution_count": 433,
   "id": "100800fe-ed54-4704-a082-cc0688ec51a5",
   "metadata": {},
   "outputs": [
    {
     "data": {
      "text/plain": [
       "Minimum Finance Charge?                  0\n",
       "Minimum Finance Charge (Dollars)         0\n",
       "Balance Computation Method               0\n",
       "Purchase Transaction Fees                0\n",
       "Balance Transfer Fees?                   0\n",
       "Balance Transfer Fee Types               0\n",
       "Balance Transfer Fee (%)                 0\n",
       "Cash Advance Fees?                       0\n",
       "Cash Advance Fee For Each Transaction    0\n",
       "Cash Advance Fee Types                   0\n",
       "dtype: int64"
      ]
     },
     "execution_count": 433,
     "metadata": {},
     "output_type": "execute_result"
    }
   ],
   "source": [
    "df.iloc[:, 31:41].isnull().sum()"
   ]
  },
  {
   "cell_type": "markdown",
   "id": "b90843dc-def5-4f69-8c17-6c5ca5c4f646",
   "metadata": {},
   "source": [
    "### Columns 41 - 50 Clean and FE\n",
    "---"
   ]
  },
  {
   "cell_type": "code",
   "execution_count": 434,
   "id": "cba9733c-080f-465a-b861-17f0dfb64350",
   "metadata": {},
   "outputs": [
    {
     "data": {
      "text/html": [
       "<div>\n",
       "<style scoped>\n",
       "    .dataframe tbody tr th:only-of-type {\n",
       "        vertical-align: middle;\n",
       "    }\n",
       "\n",
       "    .dataframe tbody tr th {\n",
       "        vertical-align: top;\n",
       "    }\n",
       "\n",
       "    .dataframe thead th {\n",
       "        text-align: right;\n",
       "    }\n",
       "</style>\n",
       "<table border=\"1\" class=\"dataframe\">\n",
       "  <thead>\n",
       "    <tr style=\"text-align: right;\">\n",
       "      <th></th>\n",
       "      <th>Amount (Percent) - Transaction Fee</th>\n",
       "      <th>Foreign Transaction Fees?</th>\n",
       "      <th>Foreign Transaction Fees Types</th>\n",
       "      <th>Foreign Transaction Fee (%)</th>\n",
       "      <th>Late Fees?</th>\n",
       "      <th>Late Fee Types</th>\n",
       "      <th>Amount (Dollars) - Late Payment Fee</th>\n",
       "      <th>Late Fee Six Month Billing Cycle</th>\n",
       "      <th>Late Fee Policy Details</th>\n",
       "      <th>Over Limit Fees?</th>\n",
       "    </tr>\n",
       "  </thead>\n",
       "  <tbody>\n",
       "    <tr>\n",
       "      <th>0</th>\n",
       "      <td>0.02</td>\n",
       "      <td>Yes</td>\n",
       "      <td>2. If fee is percentage of transaction amount,...</td>\n",
       "      <td>0.01</td>\n",
       "      <td>Yes</td>\n",
       "      <td>1. What is the amount of the first late fee on...</td>\n",
       "      <td>10.0</td>\n",
       "      <td>NaN</td>\n",
       "      <td>NaN</td>\n",
       "      <td>No</td>\n",
       "    </tr>\n",
       "    <tr>\n",
       "      <th>1</th>\n",
       "      <td>NaN</td>\n",
       "      <td>No</td>\n",
       "      <td>NaN</td>\n",
       "      <td>NaN</td>\n",
       "      <td>No</td>\n",
       "      <td>NaN</td>\n",
       "      <td>NaN</td>\n",
       "      <td>NaN</td>\n",
       "      <td>NaN</td>\n",
       "      <td>Yes</td>\n",
       "    </tr>\n",
       "    <tr>\n",
       "      <th>2</th>\n",
       "      <td>0.03</td>\n",
       "      <td>No</td>\n",
       "      <td>NaN</td>\n",
       "      <td>NaN</td>\n",
       "      <td>Yes</td>\n",
       "      <td>1. What is the amount of the first late fee on...</td>\n",
       "      <td>29.0</td>\n",
       "      <td>40.0</td>\n",
       "      <td>NaN</td>\n",
       "      <td>No</td>\n",
       "    </tr>\n",
       "    <tr>\n",
       "      <th>3</th>\n",
       "      <td>NaN</td>\n",
       "      <td>Yes</td>\n",
       "      <td>2. If fee is percentage of transaction amount,...</td>\n",
       "      <td>0.01</td>\n",
       "      <td>Yes</td>\n",
       "      <td>3. If you charge late fees that are not fixed ...</td>\n",
       "      <td>NaN</td>\n",
       "      <td>NaN</td>\n",
       "      <td>$5.00 or if balance is less than $5.00 then th...</td>\n",
       "      <td>No</td>\n",
       "    </tr>\n",
       "    <tr>\n",
       "      <th>4</th>\n",
       "      <td>NaN</td>\n",
       "      <td>Yes</td>\n",
       "      <td>2. If fee is percentage of transaction amount,...</td>\n",
       "      <td>0.01</td>\n",
       "      <td>Yes</td>\n",
       "      <td>3. If you charge late fees that are not fixed ...</td>\n",
       "      <td>NaN</td>\n",
       "      <td>NaN</td>\n",
       "      <td>5% of the payment due, minimum $15.00 not to e...</td>\n",
       "      <td>No</td>\n",
       "    </tr>\n",
       "  </tbody>\n",
       "</table>\n",
       "</div>"
      ],
      "text/plain": [
       "   Amount (Percent) - Transaction Fee Foreign Transaction Fees?  \\\n",
       "0                                0.02                       Yes   \n",
       "1                                 NaN                        No   \n",
       "2                                0.03                        No   \n",
       "3                                 NaN                       Yes   \n",
       "4                                 NaN                       Yes   \n",
       "\n",
       "                      Foreign Transaction Fees Types  \\\n",
       "0  2. If fee is percentage of transaction amount,...   \n",
       "1                                                NaN   \n",
       "2                                                NaN   \n",
       "3  2. If fee is percentage of transaction amount,...   \n",
       "4  2. If fee is percentage of transaction amount,...   \n",
       "\n",
       "   Foreign Transaction Fee (%) Late Fees?  \\\n",
       "0                         0.01        Yes   \n",
       "1                          NaN         No   \n",
       "2                          NaN        Yes   \n",
       "3                         0.01        Yes   \n",
       "4                         0.01        Yes   \n",
       "\n",
       "                                      Late Fee Types  \\\n",
       "0  1. What is the amount of the first late fee on...   \n",
       "1                                                NaN   \n",
       "2  1. What is the amount of the first late fee on...   \n",
       "3  3. If you charge late fees that are not fixed ...   \n",
       "4  3. If you charge late fees that are not fixed ...   \n",
       "\n",
       "   Amount (Dollars) - Late Payment Fee  Late Fee Six Month Billing Cycle  \\\n",
       "0                                 10.0                               NaN   \n",
       "1                                  NaN                               NaN   \n",
       "2                                 29.0                              40.0   \n",
       "3                                  NaN                               NaN   \n",
       "4                                  NaN                               NaN   \n",
       "\n",
       "                             Late Fee Policy Details Over Limit Fees?  \n",
       "0                                                NaN               No  \n",
       "1                                                NaN              Yes  \n",
       "2                                                NaN               No  \n",
       "3  $5.00 or if balance is less than $5.00 then th...               No  \n",
       "4  5% of the payment due, minimum $15.00 not to e...               No  "
      ]
     },
     "execution_count": 434,
     "metadata": {},
     "output_type": "execute_result"
    }
   ],
   "source": [
    "df.iloc[:5, 41:51]"
   ]
  },
  {
   "cell_type": "code",
   "execution_count": 439,
   "id": "680bd80c-9a91-4dca-978e-6e94f2bbda2c",
   "metadata": {},
   "outputs": [
    {
     "data": {
      "text/plain": [
       "Amount (Percent) - Transaction Fee     172\n",
       "Foreign Transaction Fees?                0\n",
       "Foreign Transaction Fees Types         245\n",
       "Foreign Transaction Fee (%)            249\n",
       "Late Fees?                               0\n",
       "Late Fee Types                           7\n",
       "Amount (Dollars) - Late Payment Fee    110\n",
       "Late Fee Six Month Billing Cycle       130\n",
       "Late Fee Policy Details                320\n",
       "Over Limit Fees?                         0\n",
       "dtype: int64"
      ]
     },
     "execution_count": 439,
     "metadata": {},
     "output_type": "execute_result"
    }
   ],
   "source": [
    "df.iloc[:, 41:51].isnull().sum()"
   ]
  },
  {
   "cell_type": "markdown",
   "id": "08dbc516-e215-40c7-8407-8d484c1c99b3",
   "metadata": {},
   "source": [
    "- There's no real way to verify what the Amount - fields are in reference to and so will drop them for now. If in the future someone is able to decipher their meaning feel free to include them again\n",
    "- Similar treatments as above patterns"
   ]
  },
  {
   "cell_type": "code",
   "execution_count": 442,
   "id": "37c07486-4c84-4724-8286-0b965fee547a",
   "metadata": {},
   "outputs": [],
   "source": [
    "df.drop(columns=[\"Amount (Percent) - Transaction Fee\",\"Amount (Dollars) - Late Payment Fee\"], inplace=True)"
   ]
  },
  {
   "cell_type": "code",
   "execution_count": 443,
   "id": "7bbd90d9-c09d-4d41-918e-215ba88a6b3f",
   "metadata": {},
   "outputs": [
    {
     "data": {
      "text/plain": [
       "Foreign Transaction Fees?             0\n",
       "Foreign Transaction Fees Types      245\n",
       "Foreign Transaction Fee (%)         249\n",
       "Late Fees?                            0\n",
       "Late Fee Types                        7\n",
       "Late Fee Six Month Billing Cycle    130\n",
       "Late Fee Policy Details             320\n",
       "Over Limit Fees?                      0\n",
       "Other Fees                            0\n",
       "Additional Fees                     148\n",
       "dtype: int64"
      ]
     },
     "execution_count": 443,
     "metadata": {},
     "output_type": "execute_result"
    }
   ],
   "source": [
    "df.iloc[:, 41:51].isnull().sum()"
   ]
  },
  {
   "cell_type": "code",
   "execution_count": 445,
   "id": "57a05158-8bc6-459b-812f-52993a897c73",
   "metadata": {},
   "outputs": [
    {
     "data": {
      "text/plain": [
       "Yes    403\n",
       "No     245\n",
       "Name: Foreign Transaction Fees?, dtype: int64"
      ]
     },
     "execution_count": 445,
     "metadata": {},
     "output_type": "execute_result"
    }
   ],
   "source": [
    "df[\"Foreign Transaction Fees?\"].value_counts()"
   ]
  },
  {
   "cell_type": "code",
   "execution_count": 448,
   "id": "bd9b05e3-b6e2-40a6-b242-c51174827303",
   "metadata": {},
   "outputs": [],
   "source": [
    "df[\"Foreign Transaction Fees Types\"].fillna('__', inplace=True)"
   ]
  },
  {
   "cell_type": "code",
   "execution_count": 467,
   "id": "f9a08a5e-6f99-4192-8de2-fce6913986a6",
   "metadata": {},
   "outputs": [
    {
     "data": {
      "text/plain": [
       "Foreign Transaction Fees Types                                                                                      \n",
       "4. If the fee is not a percentage, or a percentage subject to a minimum dollar amount, how do you calculate the fee?    4\n",
       "dtype: int64"
      ]
     },
     "execution_count": 467,
     "metadata": {},
     "output_type": "execute_result"
    }
   ],
   "source": [
    "mask = df[\"Foreign Transaction Fee (%)\"].isna()\n",
    "df[[\"Foreign Transaction Fees Types\"]][mask].value_counts()"
   ]
  },
  {
   "cell_type": "code",
   "execution_count": 468,
   "id": "d768a2c0-e932-4617-ae74-1f98adb8117e",
   "metadata": {},
   "outputs": [],
   "source": [
    "df[\"Foreign Transaction Fee (%)\"].fillna(4.0,inplace=True)"
   ]
  },
  {
   "cell_type": "markdown",
   "id": "8feab44d-3a4d-4f91-bce2-957203648d5e",
   "metadata": {},
   "source": [
    "- admittedly a quick decision, but given time constraints and the given value of FT fee type for the remaining null values, we imputed 4% as a guess from the above."
   ]
  },
  {
   "cell_type": "code",
   "execution_count": 446,
   "id": "4563a887-7818-402c-8a61-b17018f9b8e1",
   "metadata": {},
   "outputs": [
    {
     "data": {
      "text/plain": [
       "Yes    641\n",
       "No       7\n",
       "Name: Late Fees?, dtype: int64"
      ]
     },
     "execution_count": 446,
     "metadata": {},
     "output_type": "execute_result"
    }
   ],
   "source": [
    "df[\"Late Fees?\"].value_counts()"
   ]
  },
  {
   "cell_type": "code",
   "execution_count": 450,
   "id": "d58c8fdb-4285-4aaf-8907-8d095fc9fed3",
   "metadata": {},
   "outputs": [],
   "source": [
    "df[\"Late Fee Types\"].fillna('__', inplace=True)"
   ]
  },
  {
   "cell_type": "code",
   "execution_count": 472,
   "id": "c4d5b504-1279-4bc2-a251-b0ad977ee24a",
   "metadata": {},
   "outputs": [
    {
     "data": {
      "text/plain": [
       "1. What is the amount of the first late fee on the account?; 2. What is the amount of late fees charged within six billing cycles of a previous late fee (repeat late fee)?                                                                                                             264\n",
       "1. What is the amount of the first late fee on the account?; 2. What is the amount of late fees charged within six billing cycles of a previous late fee (repeat late fee)?; 3. If you charge late fees that are not fixed dollar amounts, please explain your late fee policy here.    219\n",
       "3. If you charge late fees that are not fixed dollar amounts, please explain your late fee policy here.                                                                                                                                                                                  68\n",
       "1. What is the amount of the first late fee on the account?                                                                                                                                                                                                                              50\n",
       "2. What is the amount of late fees charged within six billing cycles of a previous late fee (repeat late fee)?; 3. If you charge late fees that are not fixed dollar amounts, please explain your late fee policy here.                                                                  35\n",
       "__                                                                                                                                                                                                                                                                                        7\n",
       "1. What is the amount of the first late fee on the account?; 3. If you charge late fees that are not fixed dollar amounts, please explain your late fee policy here.                                                                                                                      5\n",
       "Name: Late Fee Types, dtype: int64"
      ]
     },
     "execution_count": 472,
     "metadata": {},
     "output_type": "execute_result"
    }
   ],
   "source": [
    "df[\"Late Fee Types\"].value_counts()"
   ]
  },
  {
   "cell_type": "code",
   "execution_count": 470,
   "id": "b793a300-59a5-415b-a9ee-5c38bcfb462a",
   "metadata": {},
   "outputs": [
    {
     "data": {
      "text/plain": [
       "40.0     309\n",
       "39.0      71\n",
       "41.0      55\n",
       "35.0      27\n",
       "25.0      17\n",
       "38.0      16\n",
       "15.0       6\n",
       "29.0       5\n",
       "27.0       4\n",
       "10.0       3\n",
       "37.0       2\n",
       "0.0        1\n",
       "24.5       1\n",
       "246.0      1\n",
       "Name: Late Fee Six Month Billing Cycle, dtype: int64"
      ]
     },
     "execution_count": 470,
     "metadata": {},
     "output_type": "execute_result"
    }
   ],
   "source": [
    "df[\"Late Fee Six Month Billing Cycle\"].value_counts()"
   ]
  },
  {
   "cell_type": "code",
   "execution_count": 475,
   "id": "a34c47b0-ca6d-421a-ac1c-c8cc8e887b5d",
   "metadata": {},
   "outputs": [],
   "source": [
    "df[\"Late Fee Six Month Billing Cycle\"].fillna(0.0, inplace=True)"
   ]
  },
  {
   "cell_type": "markdown",
   "id": "469fa5e9-d167-4c36-9b79-dc1836189f99",
   "metadata": {},
   "source": [
    "- given the array of values, it's possible that there is no late fee 6 month billing cycle thus no value, will impute 0.0 to retain value"
   ]
  },
  {
   "cell_type": "code",
   "execution_count": 471,
   "id": "4433a166-0908-46c6-b80f-ea4a1345c27f",
   "metadata": {},
   "outputs": [
    {
     "data": {
      "text/plain": [
       "Late Fee cannot exceed the minimum payment due.                163\n",
       "Up to $29.00 for first late fee.                                24\n",
       "The late fee will not exceed the Minimum Payment Due.           16\n",
       "Up to $41                                                       15\n",
       "Up to $27.00 for first late fee.                                 8\n",
       "                                                              ... \n",
       "$25.00 or your minimum payment required, whichever is less.      1\n",
       "The lesser of $15 or the amount past due.                        1\n",
       "5% of the payment due, minimum $15.00 not to exceed $27.00       1\n",
       "Up to $10                                                        1\n",
       "$10 or 10% of the outstanding balance, whichever is less         1\n",
       "Name: Late Fee Policy Details, Length: 63, dtype: int64"
      ]
     },
     "execution_count": 471,
     "metadata": {},
     "output_type": "execute_result"
    }
   ],
   "source": [
    "df[\"Late Fee Policy Details\"].value_counts()"
   ]
  },
  {
   "cell_type": "code",
   "execution_count": 473,
   "id": "2b5ec355-98dd-47f0-9eb8-25a408220dbf",
   "metadata": {},
   "outputs": [],
   "source": [
    "df[\"Late Fee Policy Details\"].fillna(\"__\", inplace=True)"
   ]
  },
  {
   "cell_type": "code",
   "execution_count": 447,
   "id": "5d22b51a-a13f-42c1-af05-94856cc814a4",
   "metadata": {},
   "outputs": [
    {
     "data": {
      "text/plain": [
       "Yes    358\n",
       "No     142\n",
       "Name: Additional Fees, dtype: int64"
      ]
     },
     "execution_count": 447,
     "metadata": {},
     "output_type": "execute_result"
    }
   ],
   "source": [
    "df[\"Additional Fees\"].value_counts()"
   ]
  },
  {
   "cell_type": "code",
   "execution_count": 476,
   "id": "2aa8de52-eed6-4d99-82e9-1e449a635601",
   "metadata": {},
   "outputs": [
    {
     "data": {
      "text/plain": [
       "Foreign Transaction Fees?             0\n",
       "Foreign Transaction Fees Types        0\n",
       "Foreign Transaction Fee (%)           0\n",
       "Late Fees?                            0\n",
       "Late Fee Types                        0\n",
       "Late Fee Six Month Billing Cycle      0\n",
       "Late Fee Policy Details               0\n",
       "Over Limit Fees?                      0\n",
       "Other Fees                            0\n",
       "Additional Fees                     148\n",
       "dtype: int64"
      ]
     },
     "execution_count": 476,
     "metadata": {},
     "output_type": "execute_result"
    }
   ],
   "source": [
    "df.iloc[:, 41:51].isnull().sum()"
   ]
  },
  {
   "cell_type": "markdown",
   "id": "24ce82e7-b8fb-4026-baf1-118826ac2184",
   "metadata": {
    "jp-MarkdownHeadingCollapsed": true,
    "tags": []
   },
   "source": [
    "### Columns 51 - 60 Clean and FE\n",
    "---"
   ]
  },
  {
   "cell_type": "code",
   "execution_count": 444,
   "id": "6220d820-2c5e-44a1-92b8-5e98e4e51d36",
   "metadata": {},
   "outputs": [
    {
     "data": {
      "text/html": [
       "<div>\n",
       "<style scoped>\n",
       "    .dataframe tbody tr th:only-of-type {\n",
       "        vertical-align: middle;\n",
       "    }\n",
       "\n",
       "    .dataframe tbody tr th {\n",
       "        vertical-align: top;\n",
       "    }\n",
       "\n",
       "    .dataframe thead th {\n",
       "        text-align: right;\n",
       "    }\n",
       "</style>\n",
       "<table border=\"1\" class=\"dataframe\">\n",
       "  <thead>\n",
       "    <tr style=\"text-align: right;\">\n",
       "      <th></th>\n",
       "      <th>Other Fee Name</th>\n",
       "      <th>Other Fee Amount</th>\n",
       "      <th>Other Fee Explanation</th>\n",
       "      <th>Other Fee Name.1</th>\n",
       "      <th>Other Fee Amount.1</th>\n",
       "      <th>Other Fee Explanation.1</th>\n",
       "      <th>Services</th>\n",
       "      <th>Other Services</th>\n",
       "      <th>Rewards</th>\n",
       "      <th>Card Features</th>\n",
       "    </tr>\n",
       "  </thead>\n",
       "  <tbody>\n",
       "    <tr>\n",
       "      <th>0</th>\n",
       "      <td>NaN</td>\n",
       "      <td>NaN</td>\n",
       "      <td>NaN</td>\n",
       "      <td>NaN</td>\n",
       "      <td>NaN</td>\n",
       "      <td>NaN</td>\n",
       "      <td>NaN</td>\n",
       "      <td>NaN</td>\n",
       "      <td>Cashback rewards</td>\n",
       "      <td>Chip card</td>\n",
       "    </tr>\n",
       "    <tr>\n",
       "      <th>1</th>\n",
       "      <td>NaN</td>\n",
       "      <td>NaN</td>\n",
       "      <td>NaN</td>\n",
       "      <td>NaN</td>\n",
       "      <td>NaN</td>\n",
       "      <td>NaN</td>\n",
       "      <td>NaN</td>\n",
       "      <td>NaN</td>\n",
       "      <td>Cashback rewards; Travel-related rewards</td>\n",
       "      <td>Contactless Payments; Chip card; Fee-free fore...</td>\n",
       "    </tr>\n",
       "    <tr>\n",
       "      <th>2</th>\n",
       "      <td>NaN</td>\n",
       "      <td>NaN</td>\n",
       "      <td>NaN</td>\n",
       "      <td>NaN</td>\n",
       "      <td>NaN</td>\n",
       "      <td>NaN</td>\n",
       "      <td>Automobile rental insurance; Credit card regis...</td>\n",
       "      <td>NaN</td>\n",
       "      <td>Travel-related rewards</td>\n",
       "      <td>Chip card; Fee-free foreign transactions; Mobi...</td>\n",
       "    </tr>\n",
       "    <tr>\n",
       "      <th>3</th>\n",
       "      <td>NaN</td>\n",
       "      <td>NaN</td>\n",
       "      <td>NaN</td>\n",
       "      <td>NaN</td>\n",
       "      <td>NaN</td>\n",
       "      <td>NaN</td>\n",
       "      <td>Automobile rental insurance; Other</td>\n",
       "      <td>Roadside assistance</td>\n",
       "      <td>NaN</td>\n",
       "      <td>Contactless Payments; Chip card; Mobile wallet...</td>\n",
       "    </tr>\n",
       "    <tr>\n",
       "      <th>4</th>\n",
       "      <td>Returned Payment Fee</td>\n",
       "      <td>10.0</td>\n",
       "      <td>Whenever a payment is returned for any reason.</td>\n",
       "      <td>NaN</td>\n",
       "      <td>NaN</td>\n",
       "      <td>NaN</td>\n",
       "      <td>Debt cancellation coverage; Other</td>\n",
       "      <td>Visa's credit monitoring (Norton Lifelock cred...</td>\n",
       "      <td>NaN</td>\n",
       "      <td>Contactless Payments; Chip card; Mobile wallet...</td>\n",
       "    </tr>\n",
       "  </tbody>\n",
       "</table>\n",
       "</div>"
      ],
      "text/plain": [
       "         Other Fee Name  Other Fee Amount  \\\n",
       "0                   NaN               NaN   \n",
       "1                   NaN               NaN   \n",
       "2                   NaN               NaN   \n",
       "3                   NaN               NaN   \n",
       "4  Returned Payment Fee              10.0   \n",
       "\n",
       "                            Other Fee Explanation Other Fee Name.1  \\\n",
       "0                                             NaN              NaN   \n",
       "1                                             NaN              NaN   \n",
       "2                                             NaN              NaN   \n",
       "3                                             NaN              NaN   \n",
       "4  Whenever a payment is returned for any reason.              NaN   \n",
       "\n",
       "   Other Fee Amount.1 Other Fee Explanation.1  \\\n",
       "0                 NaN                     NaN   \n",
       "1                 NaN                     NaN   \n",
       "2                 NaN                     NaN   \n",
       "3                 NaN                     NaN   \n",
       "4                 NaN                     NaN   \n",
       "\n",
       "                                            Services  \\\n",
       "0                                                NaN   \n",
       "1                                                NaN   \n",
       "2  Automobile rental insurance; Credit card regis...   \n",
       "3                 Automobile rental insurance; Other   \n",
       "4                  Debt cancellation coverage; Other   \n",
       "\n",
       "                                      Other Services  \\\n",
       "0                                                NaN   \n",
       "1                                                NaN   \n",
       "2                                                NaN   \n",
       "3                                Roadside assistance   \n",
       "4  Visa's credit monitoring (Norton Lifelock cred...   \n",
       "\n",
       "                                    Rewards  \\\n",
       "0                          Cashback rewards   \n",
       "1  Cashback rewards; Travel-related rewards   \n",
       "2                    Travel-related rewards   \n",
       "3                                       NaN   \n",
       "4                                       NaN   \n",
       "\n",
       "                                       Card Features  \n",
       "0                                          Chip card  \n",
       "1  Contactless Payments; Chip card; Fee-free fore...  \n",
       "2  Chip card; Fee-free foreign transactions; Mobi...  \n",
       "3  Contactless Payments; Chip card; Mobile wallet...  \n",
       "4  Contactless Payments; Chip card; Mobile wallet...  "
      ]
     },
     "execution_count": 444,
     "metadata": {},
     "output_type": "execute_result"
    }
   ],
   "source": [
    "df.iloc[:5, 51:61]"
   ]
  },
  {
   "cell_type": "markdown",
   "id": "67a5c9c4-9675-4025-a986-d8a59ecc3a85",
   "metadata": {
    "jp-MarkdownHeadingCollapsed": true,
    "tags": []
   },
   "source": [
    "### Columns 61 -  Clean and FE\n",
    "---"
   ]
  },
  {
   "cell_type": "code",
   "execution_count": 436,
   "id": "2edc7066-a510-42ec-83a1-7f307fae4640",
   "metadata": {},
   "outputs": [
    {
     "data": {
      "text/html": [
       "<div>\n",
       "<style scoped>\n",
       "    .dataframe tbody tr th:only-of-type {\n",
       "        vertical-align: middle;\n",
       "    }\n",
       "\n",
       "    .dataframe tbody tr th {\n",
       "        vertical-align: top;\n",
       "    }\n",
       "\n",
       "    .dataframe thead th {\n",
       "        text-align: right;\n",
       "    }\n",
       "</style>\n",
       "<table border=\"1\" class=\"dataframe\">\n",
       "  <thead>\n",
       "    <tr style=\"text-align: right;\">\n",
       "      <th></th>\n",
       "      <th>Rewards</th>\n",
       "      <th>Card Features</th>\n",
       "      <th>Contact Information Types</th>\n",
       "      <th>Website for Consumer</th>\n",
       "      <th>Telephone Number for Consumers</th>\n",
       "      <th>Created Date</th>\n",
       "      <th>Poor_Fair_Group</th>\n",
       "      <th>Good_Credit_Group</th>\n",
       "      <th>Great_Credit_Group</th>\n",
       "    </tr>\n",
       "  </thead>\n",
       "  <tbody>\n",
       "    <tr>\n",
       "      <th>0</th>\n",
       "      <td>Cashback rewards</td>\n",
       "      <td>Chip card</td>\n",
       "      <td>Phone; Website</td>\n",
       "      <td>https:www.fnbt.com</td>\n",
       "      <td>1-800-899-4321</td>\n",
       "      <td>3/21/2023</td>\n",
       "      <td>0</td>\n",
       "      <td>1</td>\n",
       "      <td>0</td>\n",
       "    </tr>\n",
       "    <tr>\n",
       "      <th>1</th>\n",
       "      <td>Cashback rewards; Travel-related rewards</td>\n",
       "      <td>Contactless Payments; Chip card; Fee-free fore...</td>\n",
       "      <td>Phone; Website</td>\n",
       "      <td>https://www.winthropcreditunion.org</td>\n",
       "      <td>800-511-1120</td>\n",
       "      <td>3/21/2023</td>\n",
       "      <td>0</td>\n",
       "      <td>1</td>\n",
       "      <td>1</td>\n",
       "    </tr>\n",
       "    <tr>\n",
       "      <th>2</th>\n",
       "      <td>Travel-related rewards</td>\n",
       "      <td>Chip card; Fee-free foreign transactions; Mobi...</td>\n",
       "      <td>Website</td>\n",
       "      <td>https://www.wooriamericabank.com</td>\n",
       "      <td>NaN</td>\n",
       "      <td>3/21/2023</td>\n",
       "      <td>0</td>\n",
       "      <td>1</td>\n",
       "      <td>1</td>\n",
       "    </tr>\n",
       "    <tr>\n",
       "      <th>3</th>\n",
       "      <td>NaN</td>\n",
       "      <td>Contactless Payments; Chip card; Mobile wallet...</td>\n",
       "      <td>Phone; Website</td>\n",
       "      <td>https://www.centralbank.com</td>\n",
       "      <td>(800)637-6884</td>\n",
       "      <td>3/22/2023</td>\n",
       "      <td>1</td>\n",
       "      <td>1</td>\n",
       "      <td>1</td>\n",
       "    </tr>\n",
       "    <tr>\n",
       "      <th>4</th>\n",
       "      <td>NaN</td>\n",
       "      <td>Contactless Payments; Chip card; Mobile wallet...</td>\n",
       "      <td>Phone; Website</td>\n",
       "      <td>https://www.clearwatercreditunion.org</td>\n",
       "      <td>800-254-1803</td>\n",
       "      <td>3/22/2023</td>\n",
       "      <td>1</td>\n",
       "      <td>1</td>\n",
       "      <td>1</td>\n",
       "    </tr>\n",
       "  </tbody>\n",
       "</table>\n",
       "</div>"
      ],
      "text/plain": [
       "                                    Rewards  \\\n",
       "0                          Cashback rewards   \n",
       "1  Cashback rewards; Travel-related rewards   \n",
       "2                    Travel-related rewards   \n",
       "3                                       NaN   \n",
       "4                                       NaN   \n",
       "\n",
       "                                       Card Features  \\\n",
       "0                                          Chip card   \n",
       "1  Contactless Payments; Chip card; Fee-free fore...   \n",
       "2  Chip card; Fee-free foreign transactions; Mobi...   \n",
       "3  Contactless Payments; Chip card; Mobile wallet...   \n",
       "4  Contactless Payments; Chip card; Mobile wallet...   \n",
       "\n",
       "  Contact Information Types                   Website for Consumer  \\\n",
       "0            Phone; Website                     https:www.fnbt.com   \n",
       "1            Phone; Website    https://www.winthropcreditunion.org   \n",
       "2                   Website       https://www.wooriamericabank.com   \n",
       "3            Phone; Website            https://www.centralbank.com   \n",
       "4            Phone; Website  https://www.clearwatercreditunion.org   \n",
       "\n",
       "  Telephone Number for Consumers Created Date  Poor_Fair_Group  \\\n",
       "0                 1-800-899-4321    3/21/2023                0   \n",
       "1                   800-511-1120    3/21/2023                0   \n",
       "2                            NaN    3/21/2023                0   \n",
       "3                  (800)637-6884    3/22/2023                1   \n",
       "4                   800-254-1803    3/22/2023                1   \n",
       "\n",
       "   Good_Credit_Group  Great_Credit_Group  \n",
       "0                  1                   0  \n",
       "1                  1                   1  \n",
       "2                  1                   1  \n",
       "3                  1                   1  \n",
       "4                  1                   1  "
      ]
     },
     "execution_count": 436,
     "metadata": {},
     "output_type": "execute_result"
    }
   ],
   "source": [
    "df.iloc[:5, 61:]"
   ]
  },
  {
   "cell_type": "code",
   "execution_count": null,
   "id": "b32980c3-53a2-43c3-a813-4494b34ea477",
   "metadata": {},
   "outputs": [],
   "source": []
  },
  {
   "cell_type": "markdown",
   "id": "6fec1dbf-b64a-4fdf-8bba-b8216ac1f9a3",
   "metadata": {
    "tags": []
   },
   "source": [
    "### KNNImpute for Clean and Clustering Card Attempts\n",
    "----"
   ]
  },
  {
   "cell_type": "markdown",
   "id": "d674c67b-8521-4588-9712-9ce9d52b6038",
   "metadata": {},
   "source": [
    "- For time sake, we are moving on from cleaning and feature engineering to start walking through KNNImputer and our cluster attemps"
   ]
  },
  {
   "cell_type": "code",
   "execution_count": 477,
   "id": "124ecb66-26ed-4732-95ab-23cd8435b122",
   "metadata": {},
   "outputs": [],
   "source": [
    "col_types = df.dtypes"
   ]
  },
  {
   "cell_type": "code",
   "execution_count": 478,
   "id": "e768c0a7-6372-4064-a57d-104f9ea54d7d",
   "metadata": {},
   "outputs": [],
   "source": [
    "num_cols = col_types[col_types != 'object'].index.tolist()\n",
    "obj_cols = col_types[col_types == 'object'].index.tolist()"
   ]
  },
  {
   "cell_type": "code",
   "execution_count": 480,
   "id": "24e08910-e4ef-4c20-8a8f-e4666f0bf342",
   "metadata": {},
   "outputs": [
    {
     "data": {
      "text/plain": [
       "['Poor or Fair Credit',\n",
       " 'Good Credit',\n",
       " 'Great Credit',\n",
       " 'Minimum APR',\n",
       " 'Median APR',\n",
       " 'Maximum APR',\n",
       " 'BT_Min_APR',\n",
       " 'BT_Max_APR',\n",
       " 'Median Length of Balance Transfer APR',\n",
       " 'CA_Min_APR',\n",
       " 'CA_Median_APR',\n",
       " 'CA_Max_APR',\n",
       " 'Grace Period',\n",
       " 'Minimum Finance Charge (Dollars)',\n",
       " 'Balance Transfer Fee (%)',\n",
       " 'Foreign Transaction Fee (%)',\n",
       " 'Late Fee Six Month Billing Cycle',\n",
       " 'Other Fee Amount',\n",
       " 'Other Fee Amount.1',\n",
       " 'Poor_Fair_Group',\n",
       " 'Good_Credit_Group',\n",
       " 'Great_Credit_Group']"
      ]
     },
     "execution_count": 480,
     "metadata": {},
     "output_type": "execute_result"
    }
   ],
   "source": [
    "num_cols"
   ]
  },
  {
   "cell_type": "code",
   "execution_count": 481,
   "id": "7773bedf-753d-46f4-b8df-cf41dffed61f",
   "metadata": {},
   "outputs": [
    {
     "data": {
      "text/plain": [
       "['Institution Name',\n",
       " 'Product Name',\n",
       " 'Report Date',\n",
       " 'Availability of Credit Card Plan',\n",
       " 'Requirements for Opening',\n",
       " 'Secured Card',\n",
       " 'Purchase APR Offered?',\n",
       " 'Purchase APR Vary by Balance',\n",
       " 'Purchase APR Index',\n",
       " 'Variable Rate Index',\n",
       " 'Index',\n",
       " 'Introductory APR Offered?',\n",
       " 'Balance Transfer Offered?',\n",
       " 'Balance Transfer APR Vary by Credit Tier',\n",
       " 'Balance Transfer Grace Period',\n",
       " 'Cash Advance APR Offered?',\n",
       " 'Cash Advance APR Vary by Credit Tier',\n",
       " 'Grace Period Offered?',\n",
       " 'Minimum Finance Charge?',\n",
       " 'Balance Computation Method',\n",
       " 'Purchase Transaction Fees',\n",
       " 'Balance Transfer Fees?',\n",
       " 'Balance Transfer Fee Types',\n",
       " 'Cash Advance Fees?',\n",
       " 'Cash Advance Fee For Each Transaction',\n",
       " 'Cash Advance Fee Types',\n",
       " 'Foreign Transaction Fees?',\n",
       " 'Foreign Transaction Fees Types',\n",
       " 'Late Fees?',\n",
       " 'Late Fee Types',\n",
       " 'Late Fee Policy Details',\n",
       " 'Over Limit Fees?',\n",
       " 'Other Fees',\n",
       " 'Additional Fees',\n",
       " 'Other Fee Name',\n",
       " 'Other Fee Explanation',\n",
       " 'Other Fee Name.1',\n",
       " 'Other Fee Explanation.1',\n",
       " 'Services',\n",
       " 'Other Services',\n",
       " 'Rewards',\n",
       " 'Card Features',\n",
       " 'Contact Information Types',\n",
       " 'Website for Consumer',\n",
       " 'Telephone Number for Consumers',\n",
       " 'Created Date']"
      ]
     },
     "execution_count": 481,
     "metadata": {},
     "output_type": "execute_result"
    }
   ],
   "source": [
    "obj_cols"
   ]
  },
  {
   "cell_type": "markdown",
   "id": "13d4571b-06f0-49d1-ab10-a37663f776b4",
   "metadata": {},
   "source": [
    "Num Columns to Keep"
   ]
  },
  {
   "cell_type": "markdown",
   "id": "9ca1fff7-edd2-4a6e-9c21-fec8d591e17b",
   "metadata": {},
   "source": [
    "- let's rename for easier future use and better readability"
   ]
  },
  {
   "cell_type": "code",
   "execution_count": 487,
   "id": "5dd22133-d94e-46fd-b1c0-5294d2b943d1",
   "metadata": {},
   "outputs": [],
   "source": [
    "df.rename(columns={\"Poor or Fair Credit\":\"PF_Credit_APR\",\n",
    " \"Good Credit\":\"Good_Credit_APR\",\n",
    " \"Great Credit\":\"Great_Credit_APR\",\n",
    " \"Minimum Finance Charge (Dollars)\":\"Min_FinCharge_USD\",\n",
    " \"Balance Transfer Fee (%)\":\"BT_Fee_Percent\",\n",
    " \"Foreign Transaction Fee (%)\":\"FgnTx_Fee_Percent\",\n",
    " \"Late Fee Six Month Billing Cycle\":\"LF_6mo_BillCycle\"},inplace=True)"
   ]
  },
  {
   "cell_type": "code",
   "execution_count": 498,
   "id": "522a793a-0471-490a-8a9a-2ff40c5229cb",
   "metadata": {},
   "outputs": [],
   "source": [
    "num_to_keep = ['PF_Credit_APR',\n",
    " 'Good_Credit_APR',\n",
    " 'Great_Credit_APR',\n",
    " 'Minimum APR',\n",
    " 'Median APR',\n",
    " 'Maximum APR',\n",
    " 'BT_Min_APR',\n",
    " 'BT_Max_APR',\n",
    " 'Median Length of Balance Transfer APR',\n",
    " 'CA_Min_APR',\n",
    " 'CA_Median_APR',\n",
    " 'CA_Max_APR',\n",
    " 'Grace Period',\n",
    " 'Min_FinCharge_USD',\n",
    " 'BT_Fee_Percent',\n",
    " 'FgnTx_Fee_Percent',\n",
    " 'LF_6mo_BillCycle',\n",
    " 'Poor_Fair_Group',\n",
    " 'Good_Credit_Group',\n",
    " 'Great_Credit_Group']"
   ]
  },
  {
   "cell_type": "markdown",
   "id": "2c36a75c-f809-4028-a446-6588287faa7e",
   "metadata": {},
   "source": [
    "Object Columns to Keep"
   ]
  },
  {
   "cell_type": "code",
   "execution_count": 491,
   "id": "04b25366-ec69-4c5e-a74d-6a096900498c",
   "metadata": {},
   "outputs": [
    {
     "data": {
      "text/plain": [
       "Institution Name                              0\n",
       "Product Name                                  0\n",
       "Report Date                                   0\n",
       "Availability of Credit Card Plan              0\n",
       "Requirements for Opening                      0\n",
       "Secured Card                                  0\n",
       "Purchase APR Offered?                         0\n",
       "Purchase APR Vary by Balance                  0\n",
       "Purchase APR Index                            0\n",
       "Variable Rate Index                           0\n",
       "Index                                         0\n",
       "Introductory APR Offered?                     0\n",
       "Balance Transfer Offered?                     0\n",
       "Balance Transfer APR Vary by Credit Tier      0\n",
       "Balance Transfer Grace Period                 0\n",
       "Cash Advance APR Offered?                     0\n",
       "Cash Advance APR Vary by Credit Tier          0\n",
       "Grace Period Offered?                         0\n",
       "Minimum Finance Charge?                       0\n",
       "Balance Computation Method                    0\n",
       "Purchase Transaction Fees                     0\n",
       "Balance Transfer Fees?                        0\n",
       "Balance Transfer Fee Types                    0\n",
       "Cash Advance Fees?                            0\n",
       "Cash Advance Fee For Each Transaction         0\n",
       "Cash Advance Fee Types                        0\n",
       "Foreign Transaction Fees?                     0\n",
       "Foreign Transaction Fees Types                0\n",
       "Late Fees?                                    0\n",
       "Late Fee Types                                0\n",
       "Late Fee Policy Details                       0\n",
       "Over Limit Fees?                              0\n",
       "Other Fees                                    0\n",
       "Additional Fees                             148\n",
       "Other Fee Name                              148\n",
       "Other Fee Explanation                       148\n",
       "Other Fee Name.1                            290\n",
       "Other Fee Explanation.1                     291\n",
       "Services                                    109\n",
       "Other Services                              198\n",
       "Rewards                                     249\n",
       "Card Features                                44\n",
       "Contact Information Types                     0\n",
       "Website for Consumer                        124\n",
       "Telephone Number for Consumers              226\n",
       "Created Date                                  0\n",
       "dtype: int64"
      ]
     },
     "execution_count": 491,
     "metadata": {},
     "output_type": "execute_result"
    }
   ],
   "source": [
    "df[obj_cols].isnull().sum()"
   ]
  },
  {
   "cell_type": "code",
   "execution_count": 497,
   "id": "0542cf0b-5624-444c-b83c-9580f8c2d194",
   "metadata": {},
   "outputs": [],
   "source": [
    "obj_to_keep = ['Availability of Credit Card Plan',\n",
    " 'Requirements for Opening',\n",
    " 'Secured Card',\n",
    " 'Purchase APR Offered?',\n",
    " 'Purchase APR Vary by Balance',\n",
    " 'Purchase APR Index',\n",
    " 'Variable Rate Index',\n",
    " 'Index',\n",
    " 'Introductory APR Offered?',\n",
    " 'Balance Transfer Offered?',\n",
    " 'Balance Transfer APR Vary by Credit Tier',\n",
    " 'Balance Transfer Grace Period',\n",
    " 'Cash Advance APR Offered?',\n",
    " 'Cash Advance APR Vary by Credit Tier',\n",
    " 'Grace Period Offered?',\n",
    " 'Minimum Finance Charge?',\n",
    " 'Balance Computation Method',\n",
    " 'Purchase Transaction Fees',\n",
    " 'Balance Transfer Fees?',\n",
    " 'Cash Advance Fees?',\n",
    " 'Foreign Transaction Fees?',\n",
    " 'Late Fees?']"
   ]
  },
  {
   "cell_type": "code",
   "execution_count": 494,
   "id": "f80b8e24-e697-4f4c-81e5-c11182d657df",
   "metadata": {},
   "outputs": [
    {
     "data": {
      "text/plain": [
       "(22, 46)"
      ]
     },
     "execution_count": 494,
     "metadata": {},
     "output_type": "execute_result"
    }
   ],
   "source": [
    "len(num_cols),len(obj_cols)"
   ]
  },
  {
   "cell_type": "code",
   "execution_count": 499,
   "id": "09e2773a-c07d-4d9d-896e-5a5bdd40a2c8",
   "metadata": {},
   "outputs": [],
   "source": [
    "selected_cols_clustering = num_to_keep + obj_to_keep"
   ]
  },
  {
   "cell_type": "code",
   "execution_count": 500,
   "id": "d8bdd374-c048-4d04-8782-38f190672ab4",
   "metadata": {},
   "outputs": [
    {
     "data": {
      "text/plain": [
       "42"
      ]
     },
     "execution_count": 500,
     "metadata": {},
     "output_type": "execute_result"
    }
   ],
   "source": [
    "len(selected_cols_clustering)"
   ]
  },
  {
   "cell_type": "code",
   "execution_count": 502,
   "id": "61482eb3-1453-44f1-8e9e-1d38ab94b2ee",
   "metadata": {},
   "outputs": [],
   "source": [
    "cols_for_cluster = [col for col in df.columns if col in selected_cols_clustering]"
   ]
  },
  {
   "cell_type": "code",
   "execution_count": 503,
   "id": "03874c74-db72-4131-8a80-f0899818dc6c",
   "metadata": {},
   "outputs": [],
   "source": [
    "df[cols_for_cluster].to_csv(\"../data/df_for_clustering.csv\")"
   ]
  },
  {
   "cell_type": "code",
   "execution_count": 504,
   "id": "78f08960-b640-492c-be0e-05ed7d262052",
   "metadata": {},
   "outputs": [],
   "source": [
    "df_to_cluster = pd.read_csv(\"../data/df_for_clustering.csv\", index_col = 0)"
   ]
  },
  {
   "cell_type": "code",
   "execution_count": 505,
   "id": "29b3c2c8-4efb-4766-8707-9087c54ec29b",
   "metadata": {},
   "outputs": [],
   "source": [
    "col_types = df_to_cluster.dtypes\n",
    "num_cols = col_types[col_types != 'object'].index.tolist()\n",
    "obj_cols = col_types[col_types == 'object'].index.tolist()"
   ]
  },
  {
   "cell_type": "code",
   "execution_count": 512,
   "id": "a924fa09-54f6-42c8-a7ea-6d999c465fe9",
   "metadata": {},
   "outputs": [
    {
     "data": {
      "text/plain": [
       "(648, 42)"
      ]
     },
     "execution_count": 512,
     "metadata": {},
     "output_type": "execute_result"
    }
   ],
   "source": [
    "df_to_cluster.shape"
   ]
  },
  {
   "cell_type": "code",
   "execution_count": 518,
   "id": "802cdda3-e0b3-45e6-a8b2-8277a869c1c0",
   "metadata": {},
   "outputs": [
    {
     "data": {
      "text/plain": [
       "Availability of Credit Card Plan              0\n",
       "Requirements for Opening                      0\n",
       "Secured Card                                  0\n",
       "Purchase APR Offered?                         0\n",
       "Purchase APR Vary by Balance                  0\n",
       "Purchase APR Index                            0\n",
       "Variable Rate Index                           0\n",
       "Index                                         0\n",
       "PF_Credit_APR                               286\n",
       "Good_Credit_APR                             286\n",
       "Great_Credit_APR                            286\n",
       "Minimum APR                                  14\n",
       "Median APR                                  376\n",
       "Maximum APR                                  14\n",
       "Introductory APR Offered?                     0\n",
       "Balance Transfer Offered?                     0\n",
       "Balance Transfer APR Vary by Credit Tier      0\n",
       "BT_Min_APR                                    0\n",
       "BT_Max_APR                                    0\n",
       "Median Length of Balance Transfer APR         0\n",
       "Balance Transfer Grace Period                 0\n",
       "Cash Advance APR Offered?                     0\n",
       "Cash Advance APR Vary by Credit Tier          0\n",
       "CA_Min_APR                                    9\n",
       "CA_Median_APR                                82\n",
       "CA_Max_APR                                    9\n",
       "Grace Period Offered?                         0\n",
       "Grace Period                                  0\n",
       "Minimum Finance Charge?                       0\n",
       "Min_FinCharge_USD                             0\n",
       "Balance Computation Method                    0\n",
       "Purchase Transaction Fees                     0\n",
       "Balance Transfer Fees?                        0\n",
       "BT_Fee_Percent                                0\n",
       "Cash Advance Fees?                            0\n",
       "Foreign Transaction Fees?                     0\n",
       "FgnTx_Fee_Percent                             0\n",
       "Late Fees?                                    0\n",
       "LF_6mo_BillCycle                              0\n",
       "Poor_Fair_Group                               0\n",
       "Good_Credit_Group                             0\n",
       "Great_Credit_Group                            0\n",
       "dtype: int64"
      ]
     },
     "execution_count": 518,
     "metadata": {},
     "output_type": "execute_result"
    }
   ],
   "source": [
    "df_to_cluster.isnull().sum()"
   ]
  },
  {
   "cell_type": "markdown",
   "id": "57fd9bfa-fe3d-47e2-990c-dd9d69a29ee2",
   "metadata": {},
   "source": [
    "### Imputing Values with KNN\n",
    "---"
   ]
  },
  {
   "cell_type": "markdown",
   "id": "51e5bec3-d990-4933-b18b-5de8e09aa5f0",
   "metadata": {},
   "source": [
    "Preparation for Imputing: Looking at the descriptive stats to benchmark and backdrop changes made"
   ]
  },
  {
   "cell_type": "code",
   "execution_count": 521,
   "id": "ee8807eb-58cc-4b71-a6b0-0998bf254a64",
   "metadata": {},
   "outputs": [
    {
     "data": {
      "text/html": [
       "<div>\n",
       "<style scoped>\n",
       "    .dataframe tbody tr th:only-of-type {\n",
       "        vertical-align: middle;\n",
       "    }\n",
       "\n",
       "    .dataframe tbody tr th {\n",
       "        vertical-align: top;\n",
       "    }\n",
       "\n",
       "    .dataframe thead th {\n",
       "        text-align: right;\n",
       "    }\n",
       "</style>\n",
       "<table border=\"1\" class=\"dataframe\">\n",
       "  <thead>\n",
       "    <tr style=\"text-align: right;\">\n",
       "      <th></th>\n",
       "      <th>PF_Credit_APR</th>\n",
       "      <th>Good_Credit_APR</th>\n",
       "      <th>Great_Credit_APR</th>\n",
       "      <th>Minimum APR</th>\n",
       "      <th>Median APR</th>\n",
       "      <th>Maximum APR</th>\n",
       "    </tr>\n",
       "  </thead>\n",
       "  <tbody>\n",
       "    <tr>\n",
       "      <th>count</th>\n",
       "      <td>362.000000</td>\n",
       "      <td>362.000000</td>\n",
       "      <td>362.000000</td>\n",
       "      <td>634.000000</td>\n",
       "      <td>272.000000</td>\n",
       "      <td>634.000000</td>\n",
       "    </tr>\n",
       "    <tr>\n",
       "      <th>mean</th>\n",
       "      <td>3.405962</td>\n",
       "      <td>0.687660</td>\n",
       "      <td>0.458316</td>\n",
       "      <td>0.704495</td>\n",
       "      <td>0.684211</td>\n",
       "      <td>0.762063</td>\n",
       "    </tr>\n",
       "    <tr>\n",
       "      <th>std</th>\n",
       "      <td>4.585383</td>\n",
       "      <td>2.068337</td>\n",
       "      <td>1.609361</td>\n",
       "      <td>2.178740</td>\n",
       "      <td>2.004383</td>\n",
       "      <td>2.164822</td>\n",
       "    </tr>\n",
       "    <tr>\n",
       "      <th>min</th>\n",
       "      <td>0.000000</td>\n",
       "      <td>0.102500</td>\n",
       "      <td>0.077500</td>\n",
       "      <td>0.000000</td>\n",
       "      <td>0.000000</td>\n",
       "      <td>0.000000</td>\n",
       "    </tr>\n",
       "    <tr>\n",
       "      <th>25%</th>\n",
       "      <td>0.219900</td>\n",
       "      <td>0.197400</td>\n",
       "      <td>0.164900</td>\n",
       "      <td>0.149900</td>\n",
       "      <td>0.209275</td>\n",
       "      <td>0.222400</td>\n",
       "    </tr>\n",
       "    <tr>\n",
       "      <th>50%</th>\n",
       "      <td>0.274350</td>\n",
       "      <td>0.243650</td>\n",
       "      <td>0.197400</td>\n",
       "      <td>0.184900</td>\n",
       "      <td>0.264900</td>\n",
       "      <td>0.272400</td>\n",
       "    </tr>\n",
       "    <tr>\n",
       "      <th>75%</th>\n",
       "      <td>9.990000</td>\n",
       "      <td>0.272400</td>\n",
       "      <td>0.220000</td>\n",
       "      <td>0.232400</td>\n",
       "      <td>0.317425</td>\n",
       "      <td>0.292400</td>\n",
       "    </tr>\n",
       "    <tr>\n",
       "      <th>max</th>\n",
       "      <td>9.990000</td>\n",
       "      <td>9.990000</td>\n",
       "      <td>9.990000</td>\n",
       "      <td>9.990000</td>\n",
       "      <td>9.990000</td>\n",
       "      <td>9.990000</td>\n",
       "    </tr>\n",
       "  </tbody>\n",
       "</table>\n",
       "</div>"
      ],
      "text/plain": [
       "       PF_Credit_APR  Good_Credit_APR  Great_Credit_APR  Minimum APR  \\\n",
       "count     362.000000       362.000000        362.000000   634.000000   \n",
       "mean        3.405962         0.687660          0.458316     0.704495   \n",
       "std         4.585383         2.068337          1.609361     2.178740   \n",
       "min         0.000000         0.102500          0.077500     0.000000   \n",
       "25%         0.219900         0.197400          0.164900     0.149900   \n",
       "50%         0.274350         0.243650          0.197400     0.184900   \n",
       "75%         9.990000         0.272400          0.220000     0.232400   \n",
       "max         9.990000         9.990000          9.990000     9.990000   \n",
       "\n",
       "       Median APR  Maximum APR  \n",
       "count  272.000000   634.000000  \n",
       "mean     0.684211     0.762063  \n",
       "std      2.004383     2.164822  \n",
       "min      0.000000     0.000000  \n",
       "25%      0.209275     0.222400  \n",
       "50%      0.264900     0.272400  \n",
       "75%      0.317425     0.292400  \n",
       "max      9.990000     9.990000  "
      ]
     },
     "execution_count": 521,
     "metadata": {},
     "output_type": "execute_result"
    }
   ],
   "source": [
    "df_to_cluster[[\"PF_Credit_APR\",\"Good_Credit_APR\",\"Great_Credit_APR\",\"Minimum APR\",\"Median APR\",\"Maximum APR\"]].describe()"
   ]
  },
  {
   "cell_type": "markdown",
   "id": "b96fca5b-fa88-48b2-9563-74e36e7268ad",
   "metadata": {},
   "source": [
    "As the Survey results mention in the csv file: \"../data/cfpb_updated_tccp.csv\", values of 999.00% should be interpreted as \"not applicable\":\n",
    " - For both imputation and reality, we will need to change the values of numeric columns that have these kinds of values present, like all the above as you can see by the max row\n",
    " - We will impute all these values as 0.0%, and take note of the overall stat difference to account for reality"
   ]
  },
  {
   "cell_type": "code",
   "execution_count": null,
   "id": "b54cf5ff-7aba-4de6-b90a-8dfbdd9588ef",
   "metadata": {},
   "outputs": [],
   "source": [
    "df_to"
   ]
  },
  {
   "cell_type": "code",
   "execution_count": 524,
   "id": "13402214-e99d-4965-86e7-15c3fd1ea04b",
   "metadata": {},
   "outputs": [
    {
     "data": {
      "text/plain": [
       "9.9900    118\n",
       "0.2724     19\n",
       "0.1800     18\n",
       "0.0000     15\n",
       "0.2649     12\n",
       "         ... \n",
       "0.2474      1\n",
       "0.2311      1\n",
       "0.2149      1\n",
       "0.2249      1\n",
       "0.1650      1\n",
       "Name: PF_Credit_APR, Length: 97, dtype: int64"
      ]
     },
     "execution_count": 524,
     "metadata": {},
     "output_type": "execute_result"
    }
   ],
   "source": [
    "df_to_cluster[\"PF_Credit_APR\"].value_counts()"
   ]
  },
  {
   "cell_type": "code",
   "execution_count": 522,
   "id": "9476feaf-67a0-4d36-abd3-9646f5f171ff",
   "metadata": {},
   "outputs": [
    {
     "data": {
      "text/html": [
       "<div>\n",
       "<style scoped>\n",
       "    .dataframe tbody tr th:only-of-type {\n",
       "        vertical-align: middle;\n",
       "    }\n",
       "\n",
       "    .dataframe tbody tr th {\n",
       "        vertical-align: top;\n",
       "    }\n",
       "\n",
       "    .dataframe thead th {\n",
       "        text-align: right;\n",
       "    }\n",
       "</style>\n",
       "<table border=\"1\" class=\"dataframe\">\n",
       "  <thead>\n",
       "    <tr style=\"text-align: right;\">\n",
       "      <th></th>\n",
       "      <th>PF_Credit_APR</th>\n",
       "      <th>Good_Credit_APR</th>\n",
       "      <th>Great_Credit_APR</th>\n",
       "      <th>Minimum APR</th>\n",
       "      <th>Median APR</th>\n",
       "      <th>Maximum APR</th>\n",
       "    </tr>\n",
       "  </thead>\n",
       "  <tbody>\n",
       "    <tr>\n",
       "      <th>count</th>\n",
       "      <td>648.000000</td>\n",
       "      <td>648.000000</td>\n",
       "      <td>648.000000</td>\n",
       "      <td>648.000000</td>\n",
       "      <td>648.000000</td>\n",
       "      <td>648.000000</td>\n",
       "    </tr>\n",
       "    <tr>\n",
       "      <th>mean</th>\n",
       "      <td>3.551487</td>\n",
       "      <td>0.974861</td>\n",
       "      <td>1.013886</td>\n",
       "      <td>0.700170</td>\n",
       "      <td>0.464692</td>\n",
       "      <td>0.757707</td>\n",
       "    </tr>\n",
       "    <tr>\n",
       "      <th>std</th>\n",
       "      <td>4.202348</td>\n",
       "      <td>2.126303</td>\n",
       "      <td>2.178810</td>\n",
       "      <td>2.159031</td>\n",
       "      <td>1.518235</td>\n",
       "      <td>2.145206</td>\n",
       "    </tr>\n",
       "    <tr>\n",
       "      <th>min</th>\n",
       "      <td>0.000000</td>\n",
       "      <td>0.102500</td>\n",
       "      <td>0.077500</td>\n",
       "      <td>0.000000</td>\n",
       "      <td>0.000000</td>\n",
       "      <td>0.000000</td>\n",
       "    </tr>\n",
       "    <tr>\n",
       "      <th>25%</th>\n",
       "      <td>0.242400</td>\n",
       "      <td>0.220900</td>\n",
       "      <td>0.177400</td>\n",
       "      <td>0.149675</td>\n",
       "      <td>0.180000</td>\n",
       "      <td>0.219900</td>\n",
       "    </tr>\n",
       "    <tr>\n",
       "      <th>50%</th>\n",
       "      <td>0.292825</td>\n",
       "      <td>0.262400</td>\n",
       "      <td>0.211662</td>\n",
       "      <td>0.184900</td>\n",
       "      <td>0.223675</td>\n",
       "      <td>0.272400</td>\n",
       "    </tr>\n",
       "    <tr>\n",
       "      <th>75%</th>\n",
       "      <td>7.563256</td>\n",
       "      <td>0.280325</td>\n",
       "      <td>0.239600</td>\n",
       "      <td>0.232400</td>\n",
       "      <td>0.264900</td>\n",
       "      <td>0.292400</td>\n",
       "    </tr>\n",
       "    <tr>\n",
       "      <th>max</th>\n",
       "      <td>9.990000</td>\n",
       "      <td>9.990000</td>\n",
       "      <td>9.990000</td>\n",
       "      <td>9.990000</td>\n",
       "      <td>9.990000</td>\n",
       "      <td>9.990000</td>\n",
       "    </tr>\n",
       "  </tbody>\n",
       "</table>\n",
       "</div>"
      ],
      "text/plain": [
       "       PF_Credit_APR  Good_Credit_APR  Great_Credit_APR  Minimum APR  \\\n",
       "count     648.000000       648.000000        648.000000   648.000000   \n",
       "mean        3.551487         0.974861          1.013886     0.700170   \n",
       "std         4.202348         2.126303          2.178810     2.159031   \n",
       "min         0.000000         0.102500          0.077500     0.000000   \n",
       "25%         0.242400         0.220900          0.177400     0.149675   \n",
       "50%         0.292825         0.262400          0.211662     0.184900   \n",
       "75%         7.563256         0.280325          0.239600     0.232400   \n",
       "max         9.990000         9.990000          9.990000     9.990000   \n",
       "\n",
       "       Median APR  Maximum APR  \n",
       "count  648.000000   648.000000  \n",
       "mean     0.464692     0.757707  \n",
       "std      1.518235     2.145206  \n",
       "min      0.000000     0.000000  \n",
       "25%      0.180000     0.219900  \n",
       "50%      0.223675     0.272400  \n",
       "75%      0.264900     0.292400  \n",
       "max      9.990000     9.990000  "
      ]
     },
     "execution_count": 522,
     "metadata": {},
     "output_type": "execute_result"
    }
   ],
   "source": [
    "df1_num_tf[[\"PF_Credit_APR\",\"Good_Credit_APR\",\"Great_Credit_APR\",\"Minimum APR\",\"Median APR\",\"Maximum APR\"]].describe()"
   ]
  },
  {
   "cell_type": "code",
   "execution_count": 511,
   "id": "448123d1-9091-422a-b26d-13bed515f560",
   "metadata": {},
   "outputs": [],
   "source": [
    "# imputing\n",
    "from sklearn.impute import KNNImputer"
   ]
  },
  {
   "cell_type": "code",
   "execution_count": 514,
   "id": "9afdf23e-8e31-430b-a369-4501d42dde10",
   "metadata": {},
   "outputs": [],
   "source": [
    "knn = KNNImputer(missing_values=np.nan, n_neighbors=4,metric='nan_euclidean')"
   ]
  },
  {
   "cell_type": "code",
   "execution_count": 515,
   "id": "eb119c68-4ef9-4617-99e9-621ee6b7de9d",
   "metadata": {},
   "outputs": [],
   "source": [
    "data = knn.fit_transform(df_to_cluster[num_cols])"
   ]
  },
  {
   "cell_type": "code",
   "execution_count": 516,
   "id": "848d41b7-fd35-4577-9b21-514f2ce9f8e9",
   "metadata": {},
   "outputs": [],
   "source": [
    "df1_num_tf = pd.DataFrame(data=data,columns=knn.get_feature_names_out())"
   ]
  },
  {
   "cell_type": "code",
   "execution_count": 517,
   "id": "f9f4cdce-93e3-4fee-a042-a23572221e5e",
   "metadata": {},
   "outputs": [
    {
     "data": {
      "text/html": [
       "<div>\n",
       "<style scoped>\n",
       "    .dataframe tbody tr th:only-of-type {\n",
       "        vertical-align: middle;\n",
       "    }\n",
       "\n",
       "    .dataframe tbody tr th {\n",
       "        vertical-align: top;\n",
       "    }\n",
       "\n",
       "    .dataframe thead th {\n",
       "        text-align: right;\n",
       "    }\n",
       "</style>\n",
       "<table border=\"1\" class=\"dataframe\">\n",
       "  <thead>\n",
       "    <tr style=\"text-align: right;\">\n",
       "      <th></th>\n",
       "      <th>PF_Credit_APR</th>\n",
       "      <th>Good_Credit_APR</th>\n",
       "      <th>Great_Credit_APR</th>\n",
       "      <th>Minimum APR</th>\n",
       "      <th>Median APR</th>\n",
       "      <th>Maximum APR</th>\n",
       "      <th>BT_Min_APR</th>\n",
       "      <th>BT_Max_APR</th>\n",
       "      <th>Median Length of Balance Transfer APR</th>\n",
       "      <th>CA_Min_APR</th>\n",
       "      <th>CA_Median_APR</th>\n",
       "      <th>CA_Max_APR</th>\n",
       "      <th>Grace Period</th>\n",
       "      <th>Min_FinCharge_USD</th>\n",
       "      <th>BT_Fee_Percent</th>\n",
       "      <th>FgnTx_Fee_Percent</th>\n",
       "      <th>LF_6mo_BillCycle</th>\n",
       "      <th>Poor_Fair_Group</th>\n",
       "      <th>Good_Credit_Group</th>\n",
       "      <th>Great_Credit_Group</th>\n",
       "    </tr>\n",
       "  </thead>\n",
       "  <tbody>\n",
       "    <tr>\n",
       "      <th>0</th>\n",
       "      <td>2.659125</td>\n",
       "      <td>0.198475</td>\n",
       "      <td>0.170350</td>\n",
       "      <td>0.1490</td>\n",
       "      <td>0.14900</td>\n",
       "      <td>0.18000</td>\n",
       "      <td>0.1490</td>\n",
       "      <td>0.1800</td>\n",
       "      <td>0.0</td>\n",
       "      <td>0.1490</td>\n",
       "      <td>0.149000</td>\n",
       "      <td>0.1800</td>\n",
       "      <td>25.0</td>\n",
       "      <td>0.00</td>\n",
       "      <td>0.03</td>\n",
       "      <td>0.01</td>\n",
       "      <td>0.0</td>\n",
       "      <td>0.0</td>\n",
       "      <td>1.0</td>\n",
       "      <td>0.0</td>\n",
       "    </tr>\n",
       "    <tr>\n",
       "      <th>1</th>\n",
       "      <td>0.165375</td>\n",
       "      <td>0.152875</td>\n",
       "      <td>0.134725</td>\n",
       "      <td>0.1150</td>\n",
       "      <td>0.11500</td>\n",
       "      <td>0.11500</td>\n",
       "      <td>0.1150</td>\n",
       "      <td>0.1150</td>\n",
       "      <td>6.0</td>\n",
       "      <td>0.1150</td>\n",
       "      <td>0.115000</td>\n",
       "      <td>0.1150</td>\n",
       "      <td>25.0</td>\n",
       "      <td>0.01</td>\n",
       "      <td>0.00</td>\n",
       "      <td>0.00</td>\n",
       "      <td>0.0</td>\n",
       "      <td>0.0</td>\n",
       "      <td>1.0</td>\n",
       "      <td>1.0</td>\n",
       "    </tr>\n",
       "    <tr>\n",
       "      <th>2</th>\n",
       "      <td>0.253025</td>\n",
       "      <td>0.249900</td>\n",
       "      <td>0.214900</td>\n",
       "      <td>0.2099</td>\n",
       "      <td>0.20990</td>\n",
       "      <td>0.20990</td>\n",
       "      <td>0.2099</td>\n",
       "      <td>0.2099</td>\n",
       "      <td>6.0</td>\n",
       "      <td>0.2499</td>\n",
       "      <td>0.249900</td>\n",
       "      <td>0.2499</td>\n",
       "      <td>6.0</td>\n",
       "      <td>0.50</td>\n",
       "      <td>0.03</td>\n",
       "      <td>0.00</td>\n",
       "      <td>40.0</td>\n",
       "      <td>0.0</td>\n",
       "      <td>1.0</td>\n",
       "      <td>1.0</td>\n",
       "    </tr>\n",
       "    <tr>\n",
       "      <th>3</th>\n",
       "      <td>2.688675</td>\n",
       "      <td>0.227725</td>\n",
       "      <td>0.181150</td>\n",
       "      <td>0.1474</td>\n",
       "      <td>0.10595</td>\n",
       "      <td>0.23615</td>\n",
       "      <td>0.1650</td>\n",
       "      <td>0.1650</td>\n",
       "      <td>16.5</td>\n",
       "      <td>0.1650</td>\n",
       "      <td>0.165000</td>\n",
       "      <td>0.1650</td>\n",
       "      <td>25.0</td>\n",
       "      <td>0.00</td>\n",
       "      <td>0.00</td>\n",
       "      <td>0.01</td>\n",
       "      <td>0.0</td>\n",
       "      <td>1.0</td>\n",
       "      <td>1.0</td>\n",
       "      <td>1.0</td>\n",
       "    </tr>\n",
       "    <tr>\n",
       "      <th>4</th>\n",
       "      <td>0.159000</td>\n",
       "      <td>0.109000</td>\n",
       "      <td>0.079000</td>\n",
       "      <td>0.0790</td>\n",
       "      <td>0.09515</td>\n",
       "      <td>0.16900</td>\n",
       "      <td>0.0790</td>\n",
       "      <td>0.1690</td>\n",
       "      <td>6.0</td>\n",
       "      <td>0.0790</td>\n",
       "      <td>0.121125</td>\n",
       "      <td>0.1690</td>\n",
       "      <td>25.0</td>\n",
       "      <td>0.00</td>\n",
       "      <td>0.00</td>\n",
       "      <td>0.01</td>\n",
       "      <td>0.0</td>\n",
       "      <td>1.0</td>\n",
       "      <td>1.0</td>\n",
       "      <td>1.0</td>\n",
       "    </tr>\n",
       "  </tbody>\n",
       "</table>\n",
       "</div>"
      ],
      "text/plain": [
       "   PF_Credit_APR  Good_Credit_APR  Great_Credit_APR  Minimum APR  Median APR  \\\n",
       "0       2.659125         0.198475          0.170350       0.1490     0.14900   \n",
       "1       0.165375         0.152875          0.134725       0.1150     0.11500   \n",
       "2       0.253025         0.249900          0.214900       0.2099     0.20990   \n",
       "3       2.688675         0.227725          0.181150       0.1474     0.10595   \n",
       "4       0.159000         0.109000          0.079000       0.0790     0.09515   \n",
       "\n",
       "   Maximum APR  BT_Min_APR  BT_Max_APR  Median Length of Balance Transfer APR  \\\n",
       "0      0.18000      0.1490      0.1800                                    0.0   \n",
       "1      0.11500      0.1150      0.1150                                    6.0   \n",
       "2      0.20990      0.2099      0.2099                                    6.0   \n",
       "3      0.23615      0.1650      0.1650                                   16.5   \n",
       "4      0.16900      0.0790      0.1690                                    6.0   \n",
       "\n",
       "   CA_Min_APR  CA_Median_APR  CA_Max_APR  Grace Period  Min_FinCharge_USD  \\\n",
       "0      0.1490       0.149000      0.1800          25.0               0.00   \n",
       "1      0.1150       0.115000      0.1150          25.0               0.01   \n",
       "2      0.2499       0.249900      0.2499           6.0               0.50   \n",
       "3      0.1650       0.165000      0.1650          25.0               0.00   \n",
       "4      0.0790       0.121125      0.1690          25.0               0.00   \n",
       "\n",
       "   BT_Fee_Percent  FgnTx_Fee_Percent  LF_6mo_BillCycle  Poor_Fair_Group  \\\n",
       "0            0.03               0.01               0.0              0.0   \n",
       "1            0.00               0.00               0.0              0.0   \n",
       "2            0.03               0.00              40.0              0.0   \n",
       "3            0.00               0.01               0.0              1.0   \n",
       "4            0.00               0.01               0.0              1.0   \n",
       "\n",
       "   Good_Credit_Group  Great_Credit_Group  \n",
       "0                1.0                 0.0  \n",
       "1                1.0                 1.0  \n",
       "2                1.0                 1.0  \n",
       "3                1.0                 1.0  \n",
       "4                1.0                 1.0  "
      ]
     },
     "execution_count": 517,
     "metadata": {},
     "output_type": "execute_result"
    }
   ],
   "source": [
    "df1_num_tf.head()"
   ]
  },
  {
   "cell_type": "markdown",
   "id": "2fc0bc1c-aaff-4d73-ad55-e90bb344f905",
   "metadata": {},
   "source": [
    "### Updated Clustering Attempt on new data set\n",
    "---"
   ]
  },
  {
   "cell_type": "code",
   "execution_count": 508,
   "id": "8d8689cc-ba4e-4fc5-b339-43a30ca3415f",
   "metadata": {},
   "outputs": [],
   "source": [
    "# preprocessing\n",
    "from sklearn.preprocessing import StandardScaler\n",
    "from sklearn.compose import make_column_transformer\n",
    "#clustering\n",
    "from sklearn.cluster import KMeans, DBSCAN\n",
    "from sklearn.metrics import silhouette_score\n",
    "from sklearn.mixture import GaussianMixture\n",
    "from sklearn.decomposition import PCA"
   ]
  },
  {
   "cell_type": "code",
   "execution_count": null,
   "id": "b35cf4e7-ed43-4cc0-9af3-e5d0c44b3a6b",
   "metadata": {},
   "outputs": [],
   "source": []
  },
  {
   "cell_type": "code",
   "execution_count": null,
   "id": "34690485-b6ad-4fd4-acbf-fb8d6b33d812",
   "metadata": {},
   "outputs": [],
   "source": []
  },
  {
   "cell_type": "code",
   "execution_count": null,
   "id": "813c6c2d-bbbc-410c-8a6b-77809007834c",
   "metadata": {},
   "outputs": [],
   "source": []
  },
  {
   "cell_type": "code",
   "execution_count": null,
   "id": "ed9c2db2-4df9-4830-bf6c-26819eddb7ff",
   "metadata": {},
   "outputs": [],
   "source": []
  },
  {
   "cell_type": "code",
   "execution_count": null,
   "id": "150f1b29-f6ab-432d-9a11-37cb21bd4aae",
   "metadata": {},
   "outputs": [],
   "source": []
  },
  {
   "cell_type": "code",
   "execution_count": null,
   "id": "175dc1b7-41f0-491f-bb58-94844a31c49b",
   "metadata": {},
   "outputs": [],
   "source": []
  },
  {
   "cell_type": "markdown",
   "id": "0e81d874-3a3b-49b0-91bb-cbd1380a1321",
   "metadata": {},
   "source": [
    "### Original Clustering Attempt on new data set\n",
    "---"
   ]
  },
  {
   "cell_type": "code",
   "execution_count": 128,
   "id": "ac0f3f13-9c71-4c08-af4c-d56a0e25aee1",
   "metadata": {},
   "outputs": [],
   "source": [
    "df1 = df.copy()"
   ]
  },
  {
   "cell_type": "code",
   "execution_count": 151,
   "id": "e5de716b-463a-4339-aafa-cb296cc05e93",
   "metadata": {},
   "outputs": [],
   "source": [
    "df1_num = df[num_cols]"
   ]
  },
  {
   "cell_type": "code",
   "execution_count": 152,
   "id": "8aa58015-4a50-47bd-bc2b-defe2b8efb43",
   "metadata": {},
   "outputs": [],
   "source": [
    "from sklearn.impute import KNNImputer"
   ]
  },
  {
   "cell_type": "code",
   "execution_count": 153,
   "id": "711f55fa-a279-4abe-ad65-709b3c1f386a",
   "metadata": {},
   "outputs": [],
   "source": [
    "knn = KNNImputer(missing_values=np.nan, n_neighbors=5,metric='nan_euclidean')"
   ]
  },
  {
   "cell_type": "code",
   "execution_count": 154,
   "id": "73e60752-3ce7-4aa2-a970-0c9d36be4f41",
   "metadata": {},
   "outputs": [],
   "source": [
    "data = knn.fit_transform(df1_num)"
   ]
  },
  {
   "cell_type": "code",
   "execution_count": 155,
   "id": "69b7ee62-1ebe-47ea-a2e5-ce0fa6419a02",
   "metadata": {},
   "outputs": [],
   "source": [
    "df1_num_tf = pd.DataFrame(data=data,columns=knn.get_feature_names_out())"
   ]
  },
  {
   "cell_type": "code",
   "execution_count": 156,
   "id": "499db78e-56d3-4da1-98a5-cf8ac6041b2f",
   "metadata": {},
   "outputs": [
    {
     "data": {
      "text/html": [
       "<div>\n",
       "<style scoped>\n",
       "    .dataframe tbody tr th:only-of-type {\n",
       "        vertical-align: middle;\n",
       "    }\n",
       "\n",
       "    .dataframe tbody tr th {\n",
       "        vertical-align: top;\n",
       "    }\n",
       "\n",
       "    .dataframe thead th {\n",
       "        text-align: right;\n",
       "    }\n",
       "</style>\n",
       "<table border=\"1\" class=\"dataframe\">\n",
       "  <thead>\n",
       "    <tr style=\"text-align: right;\">\n",
       "      <th></th>\n",
       "      <th>Poor or Fair Credit</th>\n",
       "      <th>Good Credit</th>\n",
       "      <th>Great Credit</th>\n",
       "      <th>Minimum APR</th>\n",
       "      <th>Median APR</th>\n",
       "      <th>Maximum APR</th>\n",
       "      <th>Minimum APR.2</th>\n",
       "      <th>Maximum APR.2</th>\n",
       "      <th>Median Length of Balance Transfer APR</th>\n",
       "      <th>Minimum APR.3</th>\n",
       "      <th>...</th>\n",
       "      <th>Maximum APR.3</th>\n",
       "      <th>Grace Period</th>\n",
       "      <th>Minimum Finance Charge (Dollars)</th>\n",
       "      <th>Balance Transfer Fee (%)</th>\n",
       "      <th>Amount (Percent) - Transaction Fee</th>\n",
       "      <th>Foreign Transaction Fee (%)</th>\n",
       "      <th>Amount (Dollars) - Late Payment Fee</th>\n",
       "      <th>Late Fee Six Month Billing Cycle</th>\n",
       "      <th>Other Fee Amount</th>\n",
       "      <th>Other Fee Amount.1</th>\n",
       "    </tr>\n",
       "  </thead>\n",
       "  <tbody>\n",
       "    <tr>\n",
       "      <th>0</th>\n",
       "      <td>2.16780</td>\n",
       "      <td>0.19928</td>\n",
       "      <td>0.15578</td>\n",
       "      <td>0.14900</td>\n",
       "      <td>0.14900</td>\n",
       "      <td>0.18000</td>\n",
       "      <td>0.1490</td>\n",
       "      <td>0.1800</td>\n",
       "      <td>0.0</td>\n",
       "      <td>0.1490</td>\n",
       "      <td>...</td>\n",
       "      <td>0.1800</td>\n",
       "      <td>25.0</td>\n",
       "      <td>1.100</td>\n",
       "      <td>0.030</td>\n",
       "      <td>0.020</td>\n",
       "      <td>0.010</td>\n",
       "      <td>10.0</td>\n",
       "      <td>33.8</td>\n",
       "      <td>26.2</td>\n",
       "      <td>23.42</td>\n",
       "    </tr>\n",
       "    <tr>\n",
       "      <th>1</th>\n",
       "      <td>2.13680</td>\n",
       "      <td>0.14278</td>\n",
       "      <td>0.11426</td>\n",
       "      <td>0.11500</td>\n",
       "      <td>0.11500</td>\n",
       "      <td>0.11500</td>\n",
       "      <td>0.1150</td>\n",
       "      <td>0.1150</td>\n",
       "      <td>6.0</td>\n",
       "      <td>0.1150</td>\n",
       "      <td>...</td>\n",
       "      <td>0.1150</td>\n",
       "      <td>25.0</td>\n",
       "      <td>0.010</td>\n",
       "      <td>0.024</td>\n",
       "      <td>0.024</td>\n",
       "      <td>0.014</td>\n",
       "      <td>26.2</td>\n",
       "      <td>33.0</td>\n",
       "      <td>22.8</td>\n",
       "      <td>18.60</td>\n",
       "    </tr>\n",
       "    <tr>\n",
       "      <th>2</th>\n",
       "      <td>4.11096</td>\n",
       "      <td>0.19692</td>\n",
       "      <td>0.18062</td>\n",
       "      <td>0.20990</td>\n",
       "      <td>0.20990</td>\n",
       "      <td>0.20990</td>\n",
       "      <td>0.2099</td>\n",
       "      <td>0.2099</td>\n",
       "      <td>6.0</td>\n",
       "      <td>0.2499</td>\n",
       "      <td>...</td>\n",
       "      <td>0.2499</td>\n",
       "      <td>6.0</td>\n",
       "      <td>0.500</td>\n",
       "      <td>0.030</td>\n",
       "      <td>0.030</td>\n",
       "      <td>0.027</td>\n",
       "      <td>29.0</td>\n",
       "      <td>40.0</td>\n",
       "      <td>29.4</td>\n",
       "      <td>17.00</td>\n",
       "    </tr>\n",
       "    <tr>\n",
       "      <th>3</th>\n",
       "      <td>0.21430</td>\n",
       "      <td>0.20430</td>\n",
       "      <td>0.17532</td>\n",
       "      <td>0.15466</td>\n",
       "      <td>0.15844</td>\n",
       "      <td>0.18586</td>\n",
       "      <td>0.1650</td>\n",
       "      <td>0.1650</td>\n",
       "      <td>16.5</td>\n",
       "      <td>0.1650</td>\n",
       "      <td>...</td>\n",
       "      <td>0.1650</td>\n",
       "      <td>25.0</td>\n",
       "      <td>3.880</td>\n",
       "      <td>0.038</td>\n",
       "      <td>0.030</td>\n",
       "      <td>0.010</td>\n",
       "      <td>26.2</td>\n",
       "      <td>33.6</td>\n",
       "      <td>27.0</td>\n",
       "      <td>20.60</td>\n",
       "    </tr>\n",
       "    <tr>\n",
       "      <th>4</th>\n",
       "      <td>0.15900</td>\n",
       "      <td>0.10900</td>\n",
       "      <td>0.07900</td>\n",
       "      <td>0.07900</td>\n",
       "      <td>0.13540</td>\n",
       "      <td>0.16900</td>\n",
       "      <td>0.0790</td>\n",
       "      <td>0.1690</td>\n",
       "      <td>6.0</td>\n",
       "      <td>0.0790</td>\n",
       "      <td>...</td>\n",
       "      <td>0.1690</td>\n",
       "      <td>25.0</td>\n",
       "      <td>1.102</td>\n",
       "      <td>0.030</td>\n",
       "      <td>0.030</td>\n",
       "      <td>0.010</td>\n",
       "      <td>26.6</td>\n",
       "      <td>39.0</td>\n",
       "      <td>10.0</td>\n",
       "      <td>27.60</td>\n",
       "    </tr>\n",
       "  </tbody>\n",
       "</table>\n",
       "<p>5 rows × 21 columns</p>\n",
       "</div>"
      ],
      "text/plain": [
       "   Poor or Fair Credit  Good Credit  Great Credit  Minimum APR  Median APR  \\\n",
       "0              2.16780      0.19928       0.15578      0.14900     0.14900   \n",
       "1              2.13680      0.14278       0.11426      0.11500     0.11500   \n",
       "2              4.11096      0.19692       0.18062      0.20990     0.20990   \n",
       "3              0.21430      0.20430       0.17532      0.15466     0.15844   \n",
       "4              0.15900      0.10900       0.07900      0.07900     0.13540   \n",
       "\n",
       "   Maximum APR  Minimum APR.2  Maximum APR.2  \\\n",
       "0      0.18000         0.1490         0.1800   \n",
       "1      0.11500         0.1150         0.1150   \n",
       "2      0.20990         0.2099         0.2099   \n",
       "3      0.18586         0.1650         0.1650   \n",
       "4      0.16900         0.0790         0.1690   \n",
       "\n",
       "   Median Length of Balance Transfer APR  Minimum APR.3  ...  Maximum APR.3  \\\n",
       "0                                    0.0         0.1490  ...         0.1800   \n",
       "1                                    6.0         0.1150  ...         0.1150   \n",
       "2                                    6.0         0.2499  ...         0.2499   \n",
       "3                                   16.5         0.1650  ...         0.1650   \n",
       "4                                    6.0         0.0790  ...         0.1690   \n",
       "\n",
       "   Grace Period  Minimum Finance Charge (Dollars)  Balance Transfer Fee (%)  \\\n",
       "0          25.0                             1.100                     0.030   \n",
       "1          25.0                             0.010                     0.024   \n",
       "2           6.0                             0.500                     0.030   \n",
       "3          25.0                             3.880                     0.038   \n",
       "4          25.0                             1.102                     0.030   \n",
       "\n",
       "   Amount (Percent) - Transaction Fee  Foreign Transaction Fee (%)  \\\n",
       "0                               0.020                        0.010   \n",
       "1                               0.024                        0.014   \n",
       "2                               0.030                        0.027   \n",
       "3                               0.030                        0.010   \n",
       "4                               0.030                        0.010   \n",
       "\n",
       "   Amount (Dollars) - Late Payment Fee  Late Fee Six Month Billing Cycle  \\\n",
       "0                                 10.0                              33.8   \n",
       "1                                 26.2                              33.0   \n",
       "2                                 29.0                              40.0   \n",
       "3                                 26.2                              33.6   \n",
       "4                                 26.6                              39.0   \n",
       "\n",
       "   Other Fee Amount  Other Fee Amount.1  \n",
       "0              26.2               23.42  \n",
       "1              22.8               18.60  \n",
       "2              29.4               17.00  \n",
       "3              27.0               20.60  \n",
       "4              10.0               27.60  \n",
       "\n",
       "[5 rows x 21 columns]"
      ]
     },
     "execution_count": 156,
     "metadata": {},
     "output_type": "execute_result"
    }
   ],
   "source": [
    "df1_num_tf.head()"
   ]
  },
  {
   "cell_type": "markdown",
   "id": "9afae7f0-53ec-4917-b4fc-5b60dc818183",
   "metadata": {},
   "source": [
    "Clustering Alpha"
   ]
  },
  {
   "cell_type": "code",
   "execution_count": 145,
   "id": "11d89705-42e8-42b4-a4a8-882d1cc05f54",
   "metadata": {},
   "outputs": [],
   "source": [
    "# preprocessing\n",
    "from sklearn.preprocessing import StandardScaler\n",
    "from sklearn.compose import make_column_transformer\n",
    "#clustering\n",
    "from sklearn.cluster import KMeans, DBSCAN\n",
    "from sklearn.metrics import silhouette_score\n",
    "from sklearn.mixture import GaussianMixture\n",
    "from sklearn.decomposition import PCA"
   ]
  },
  {
   "cell_type": "code",
   "execution_count": 157,
   "id": "82b434a1-9041-4dbb-ac22-7c1b36191aa2",
   "metadata": {},
   "outputs": [],
   "source": [
    "sc = StandardScaler()"
   ]
  },
  {
   "cell_type": "code",
   "execution_count": 158,
   "id": "ef18fa3f-1dbe-4ab7-b34a-703b56d7f622",
   "metadata": {},
   "outputs": [],
   "source": [
    "data_scaled = sc.fit_transform(df1_num_tf)"
   ]
  },
  {
   "cell_type": "code",
   "execution_count": 159,
   "id": "17cc5e21-e0e6-4448-8f35-e2a67a2e8b59",
   "metadata": {},
   "outputs": [],
   "source": [
    "kmeans = KMeans(n_clusters=3, random_state=42)"
   ]
  },
  {
   "cell_type": "code",
   "execution_count": 160,
   "id": "c6ef1360-64f1-415f-8abe-4f07f07c7838",
   "metadata": {},
   "outputs": [
    {
     "name": "stderr",
     "output_type": "stream",
     "text": [
      "/Users/christopherjoyce/opt/anaconda3/lib/python3.9/site-packages/sklearn/cluster/_kmeans.py:870: FutureWarning: The default value of `n_init` will change from 10 to 'auto' in 1.4. Set the value of `n_init` explicitly to suppress the warning\n",
      "  warnings.warn(\n"
     ]
    }
   ],
   "source": [
    "df1_num_tf[\"cluster\"] = kmeans.fit_predict(data_scaled)"
   ]
  },
  {
   "cell_type": "code",
   "execution_count": 161,
   "id": "57b24ec5-ac90-4bed-95e7-a2fca37dfcfc",
   "metadata": {},
   "outputs": [],
   "source": [
    "pca = PCA(n_components=2)"
   ]
  },
  {
   "cell_type": "code",
   "execution_count": 162,
   "id": "eda2819d-4487-46ae-b6c6-80ac5d69bb6e",
   "metadata": {},
   "outputs": [],
   "source": [
    "data_2d = pca.fit_transform(data_scaled)"
   ]
  },
  {
   "cell_type": "code",
   "execution_count": 166,
   "id": "617d20dd-2e8b-468a-97a4-5e38432d000e",
   "metadata": {},
   "outputs": [
    {
     "data": {
      "image/png": "[encoded data removed]",
      "text/plain": [
       "<Figure size 640x480 with 1 Axes>"
      ]
     },
     "metadata": {},
     "output_type": "display_data"
    }
   ],
   "source": [
    "plt.scatter(data_2d[:, 0], data_2d[:, 1], c=df1_num_tf['cluster'], cmap='viridis')\n",
    "plt.title('Card Clusters')\n",
    "plt.xlabel('Principal Component 1')\n",
    "plt.ylabel('Principal Component 2')\n",
    "plt.show()"
   ]
  },
  {
   "cell_type": "code",
   "execution_count": 164,
   "id": "faf9a331-62bb-4057-a466-9592b106e0f2",
   "metadata": {},
   "outputs": [],
   "source": [
    "sil = silhouette_score(data_scaled, df1_num_tf[\"cluster\"])"
   ]
  },
  {
   "cell_type": "code",
   "execution_count": 165,
   "id": "b138915d-1d6a-4fbe-9f4d-b8304ea78cc8",
   "metadata": {},
   "outputs": [
    {
     "data": {
      "text/plain": [
       "0.1929077438312663"
      ]
     },
     "execution_count": 165,
     "metadata": {},
     "output_type": "execute_result"
    }
   ],
   "source": [
    "sil"
   ]
  },
  {
   "cell_type": "code",
   "execution_count": null,
   "id": "9da9d7f7-1a5d-4cdd-97f5-69732784faf6",
   "metadata": {},
   "outputs": [],
   "source": []
  }
 ],
 "metadata": {
  "kernelspec": {
   "display_name": "Python 3 (ipykernel)",
   "language": "python",
   "name": "python3"
  },
  "language_info": {
   "codemirror_mode": {
    "name": "ipython",
    "version": 3
   },
   "file_extension": ".py",
   "mimetype": "text/x-python",
   "name": "python",
   "nbconvert_exporter": "python",
   "pygments_lexer": "ipython3",
   "version": "3.9.13"
  }
 },
 "nbformat": 4,
 "nbformat_minor": 5
}
