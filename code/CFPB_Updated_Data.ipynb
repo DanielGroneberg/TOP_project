{
 "cells": [
  {
   "cell_type": "markdown",
   "id": "01eb06a0-8fd4-450e-9166-7af5e63754c8",
   "metadata": {},
   "source": [
    "# DSI Team Starting Point"
   ]
  },
  {
   "cell_type": "markdown",
   "id": "4e1bd30a-2ded-4ff3-85ba-fee68698ce72",
   "metadata": {},
   "source": [
    "### Background"
   ]
  },
  {
   "cell_type": "markdown",
   "id": "ca8de4fa-8057-4ff9-be1f-5c35af5c1525",
   "metadata": {},
   "source": [
    "DSI Phase I:\n",
    "- Cleaned and Analyzed Historical CFPB Agreement Data looking to understand offered APRs\n",
    "    - Team found initial analysis lacking in meaning due to the nature of the APR values reported in the agreements\n",
    "        - The Reported APRs were listed as a \"middle point\" across customer segments per plan per agreement.\n",
    "        - This ultiamtely meant that the APR value was already a range or a value from a range rather than the discreet values themselves.\n",
    "    - Later found out from data stewards that the historical data is non-verifiable, meaning the reported APRs were hard to relate to the actual offerings at that time.\n",
    "    - Data Teams Presentations:\n",
    "        - <a href=\"https://github.com/chrisJoyceDS/top_sprint_data/blob/main/code/CFPB_Data.ipynb\"> Jupyter Notebook Repo </a>\n",
    "        - <a href=\"https://docs.google.com/presentation/d/16vBsI7b5Fw_0tF1UQK4qW2dn32v66PwcC3VZ959mx4c/edit#slide=id.p\"> Presentation to the Team </a>\n",
    "        - <a href=\"https://docs.google.com/presentation/d/18uy5qkw0zQTg-SA-ceXDKOI2dCI4RLN-IjSQXfIwCIM/edit#slide=id.p\"> Presentation to the CFPB </a>"
   ]
  },
  {
   "cell_type": "markdown",
   "id": "99658f25-8138-4df5-b649-951ca6dc9d43",
   "metadata": {},
   "source": [
    "DSI Phase II:\n",
    "- After having it confirmed that the historical data was innacurate and far from reality, the team learned of and used the updated dataset provided by the CFPB\n",
    "- This data was from July 2022 to December 2022 and had a variety of updated information with respect to the historical data\n",
    "- Unfortunately there is no data dictionary for this dataset, and we will have to interpet their values based on the column descriptions\n",
    "- for the sake of the team, we left most of the column names intact, and update a few where we thought it was best/relevant\n",
    "- Please follow us along or Select \"Jump to Clustering\" below:"
   ]
  },
  {
   "cell_type": "markdown",
   "id": "10fe7f63-fabf-44c9-8565-2e22bc92ca77",
   "metadata": {},
   "source": [
    "[Jump to Clustering](#Clustering)"
   ]
  },
  {
   "cell_type": "code",
   "execution_count": 1,
   "id": "b56491cc-2501-4fb2-8476-a2a5513aef93",
   "metadata": {},
   "outputs": [],
   "source": [
    "import pandas as pd\n",
    "import numpy as np\n",
    "import matplotlib.pyplot as plt\n",
    "import matplotlib.ticker as ticker\n",
    "from matplotlib import cm\n",
    "import seaborn as sns\n",
    "import re\n",
    "import missingno as msno\n",
    "\n",
    "# imputing\n",
    "from sklearn.impute import KNNImputer\n",
    "# preprocessing\n",
    "from sklearn.preprocessing import StandardScaler,OneHotEncoder\n",
    "from sklearn.compose import make_column_transformer\n",
    "#clustering\n",
    "from sklearn.cluster import KMeans, DBSCAN\n",
    "from sklearn.metrics import silhouette_score\n",
    "from sklearn.mixture import GaussianMixture\n",
    "from sklearn.decomposition import PCA"
   ]
  },
  {
   "cell_type": "markdown",
   "id": "c01744db-eb29-4338-b7cb-90a552e564e8",
   "metadata": {},
   "source": [
    "- The dataset data doesn't fall on the usual A0 cell, we needed to adjust the pandas reader"
   ]
  },
  {
   "cell_type": "code",
   "execution_count": 2,
   "id": "7affb976-528f-4e1c-90ed-65e8105e11ae",
   "metadata": {},
   "outputs": [],
   "source": [
    "columns_to_read = 'B:FO'"
   ]
  },
  {
   "cell_type": "code",
   "execution_count": 3,
   "id": "05d81fd9-717c-48fc-a865-d1382d831f40",
   "metadata": {},
   "outputs": [],
   "source": [
    "df = pd.read_excel(\"../data/cfpb_updated_tccp.xlsx\",skiprows=9,usecols=columns_to_read)"
   ]
  },
  {
   "cell_type": "code",
   "execution_count": 4,
   "id": "8b2374e0-ec7c-47e0-b236-80fc5fa3efdd",
   "metadata": {},
   "outputs": [
    {
     "data": {
      "text/html": [
       "<div>\n",
       "<style scoped>\n",
       "    .dataframe tbody tr th:only-of-type {\n",
       "        vertical-align: middle;\n",
       "    }\n",
       "\n",
       "    .dataframe tbody tr th {\n",
       "        vertical-align: top;\n",
       "    }\n",
       "\n",
       "    .dataframe thead th {\n",
       "        text-align: right;\n",
       "    }\n",
       "</style>\n",
       "<table border=\"1\" class=\"dataframe\">\n",
       "  <thead>\n",
       "    <tr style=\"text-align: right;\">\n",
       "      <th></th>\n",
       "      <th>Institution Name</th>\n",
       "      <th>Product Name</th>\n",
       "      <th>Report Date</th>\n",
       "      <th>Availability of Credit Card Plan</th>\n",
       "      <th>State</th>\n",
       "      <th>State (Multiple)</th>\n",
       "      <th>Pertains to Specific Counties?</th>\n",
       "      <th>Requirements for Opening</th>\n",
       "      <th>Requirements for Opening Types</th>\n",
       "      <th>Geographic Restrictions</th>\n",
       "      <th>...</th>\n",
       "      <th>Services</th>\n",
       "      <th>Other Services</th>\n",
       "      <th>Rewards</th>\n",
       "      <th>Other Rewards</th>\n",
       "      <th>Card Features</th>\n",
       "      <th>Other Card Features</th>\n",
       "      <th>Contact Information Types</th>\n",
       "      <th>Website for Consumer</th>\n",
       "      <th>Telephone Number for Consumers</th>\n",
       "      <th>Created Date</th>\n",
       "    </tr>\n",
       "  </thead>\n",
       "  <tbody>\n",
       "    <tr>\n",
       "      <th>0</th>\n",
       "      <td>FNBT BANK</td>\n",
       "      <td>MasterCard</td>\n",
       "      <td>Data as of December 31</td>\n",
       "      <td>National</td>\n",
       "      <td>NaN</td>\n",
       "      <td>NaN</td>\n",
       "      <td>NaN</td>\n",
       "      <td>No</td>\n",
       "      <td>NaN</td>\n",
       "      <td>NaN</td>\n",
       "      <td>...</td>\n",
       "      <td>NaN</td>\n",
       "      <td>NaN</td>\n",
       "      <td>Cashback rewards</td>\n",
       "      <td>NaN</td>\n",
       "      <td>Chip card</td>\n",
       "      <td>NaN</td>\n",
       "      <td>Phone; Website</td>\n",
       "      <td>https:www.fnbt.com</td>\n",
       "      <td>1-800-899-4321</td>\n",
       "      <td>3/21/2023</td>\n",
       "    </tr>\n",
       "    <tr>\n",
       "      <th>1</th>\n",
       "      <td>WINTHROP AREA FEDERAL CREDIT UNION</td>\n",
       "      <td>Visa Credit Platinum</td>\n",
       "      <td>Data as of December 31</td>\n",
       "      <td>National</td>\n",
       "      <td>NaN</td>\n",
       "      <td>NaN</td>\n",
       "      <td>NaN</td>\n",
       "      <td>No</td>\n",
       "      <td>NaN</td>\n",
       "      <td>NaN</td>\n",
       "      <td>...</td>\n",
       "      <td>NaN</td>\n",
       "      <td>NaN</td>\n",
       "      <td>Cashback rewards; Travel-related rewards</td>\n",
       "      <td>NaN</td>\n",
       "      <td>Contactless Payments; Chip card; Fee-free fore...</td>\n",
       "      <td>NaN</td>\n",
       "      <td>Phone; Website</td>\n",
       "      <td>https://www.winthropcreditunion.org</td>\n",
       "      <td>800-511-1120</td>\n",
       "      <td>3/21/2023</td>\n",
       "    </tr>\n",
       "    <tr>\n",
       "      <th>2</th>\n",
       "      <td>WOORI AMERICA BANK</td>\n",
       "      <td>Classic</td>\n",
       "      <td>Data as of December 31</td>\n",
       "      <td>National</td>\n",
       "      <td>NaN</td>\n",
       "      <td>NaN</td>\n",
       "      <td>NaN</td>\n",
       "      <td>Yes</td>\n",
       "      <td>NaN</td>\n",
       "      <td>NaN</td>\n",
       "      <td>...</td>\n",
       "      <td>Automobile rental insurance; Credit card regis...</td>\n",
       "      <td>NaN</td>\n",
       "      <td>Travel-related rewards</td>\n",
       "      <td>NaN</td>\n",
       "      <td>Chip card; Fee-free foreign transactions; Mobi...</td>\n",
       "      <td>NaN</td>\n",
       "      <td>Website</td>\n",
       "      <td>https://www.wooriamericabank.com</td>\n",
       "      <td>NaN</td>\n",
       "      <td>3/21/2023</td>\n",
       "    </tr>\n",
       "    <tr>\n",
       "      <th>3</th>\n",
       "      <td>CENTRAL BANK &amp; TRUST COMPANY</td>\n",
       "      <td>Classic Visa</td>\n",
       "      <td>Data as of December 31</td>\n",
       "      <td>Regional</td>\n",
       "      <td>NaN</td>\n",
       "      <td>IN; KY; OH</td>\n",
       "      <td>No</td>\n",
       "      <td>Yes</td>\n",
       "      <td>NaN</td>\n",
       "      <td>NaN</td>\n",
       "      <td>...</td>\n",
       "      <td>Automobile rental insurance; Other</td>\n",
       "      <td>Roadside assistance</td>\n",
       "      <td>NaN</td>\n",
       "      <td>NaN</td>\n",
       "      <td>Contactless Payments; Chip card; Mobile wallet...</td>\n",
       "      <td>NaN</td>\n",
       "      <td>Phone; Website</td>\n",
       "      <td>https://www.centralbank.com</td>\n",
       "      <td>(800)637-6884</td>\n",
       "      <td>3/22/2023</td>\n",
       "    </tr>\n",
       "    <tr>\n",
       "      <th>4</th>\n",
       "      <td>CLEARWATER FEDERAL CREDIT UNION</td>\n",
       "      <td>Visa</td>\n",
       "      <td>Data as of December 31</td>\n",
       "      <td>National</td>\n",
       "      <td>NaN</td>\n",
       "      <td>NaN</td>\n",
       "      <td>NaN</td>\n",
       "      <td>No</td>\n",
       "      <td>Other. Please Describe:</td>\n",
       "      <td>NaN</td>\n",
       "      <td>...</td>\n",
       "      <td>Debt cancellation coverage; Other</td>\n",
       "      <td>Visa's credit monitoring (Norton Lifelock cred...</td>\n",
       "      <td>NaN</td>\n",
       "      <td>NaN</td>\n",
       "      <td>Contactless Payments; Chip card; Mobile wallet...</td>\n",
       "      <td>NaN</td>\n",
       "      <td>Phone; Website</td>\n",
       "      <td>https://www.clearwatercreditunion.org</td>\n",
       "      <td>800-254-1803</td>\n",
       "      <td>3/22/2023</td>\n",
       "    </tr>\n",
       "  </tbody>\n",
       "</table>\n",
       "<p>5 rows × 170 columns</p>\n",
       "</div>"
      ],
      "text/plain": [
       "                     Institution Name          Product Name  \\\n",
       "0                           FNBT BANK            MasterCard   \n",
       "1  WINTHROP AREA FEDERAL CREDIT UNION  Visa Credit Platinum   \n",
       "2                  WOORI AMERICA BANK               Classic   \n",
       "3        CENTRAL BANK & TRUST COMPANY          Classic Visa   \n",
       "4     CLEARWATER FEDERAL CREDIT UNION                  Visa   \n",
       "\n",
       "              Report Date Availability of Credit Card Plan State  \\\n",
       "0  Data as of December 31                         National   NaN   \n",
       "1  Data as of December 31                         National   NaN   \n",
       "2  Data as of December 31                         National   NaN   \n",
       "3  Data as of December 31                         Regional   NaN   \n",
       "4  Data as of December 31                         National   NaN   \n",
       "\n",
       "  State (Multiple) Pertains to Specific Counties? Requirements for Opening  \\\n",
       "0              NaN                            NaN                       No   \n",
       "1              NaN                            NaN                       No   \n",
       "2              NaN                            NaN                      Yes   \n",
       "3       IN; KY; OH                             No                      Yes   \n",
       "4              NaN                            NaN                       No   \n",
       "\n",
       "  Requirements for Opening Types Geographic Restrictions  ...  \\\n",
       "0                            NaN                     NaN  ...   \n",
       "1                            NaN                     NaN  ...   \n",
       "2                            NaN                     NaN  ...   \n",
       "3                            NaN                     NaN  ...   \n",
       "4        Other. Please Describe:                     NaN  ...   \n",
       "\n",
       "                                            Services  \\\n",
       "0                                                NaN   \n",
       "1                                                NaN   \n",
       "2  Automobile rental insurance; Credit card regis...   \n",
       "3                 Automobile rental insurance; Other   \n",
       "4                  Debt cancellation coverage; Other   \n",
       "\n",
       "                                      Other Services  \\\n",
       "0                                                NaN   \n",
       "1                                                NaN   \n",
       "2                                                NaN   \n",
       "3                                Roadside assistance   \n",
       "4  Visa's credit monitoring (Norton Lifelock cred...   \n",
       "\n",
       "                                    Rewards Other Rewards  \\\n",
       "0                          Cashback rewards           NaN   \n",
       "1  Cashback rewards; Travel-related rewards           NaN   \n",
       "2                    Travel-related rewards           NaN   \n",
       "3                                       NaN           NaN   \n",
       "4                                       NaN           NaN   \n",
       "\n",
       "                                       Card Features Other Card Features  \\\n",
       "0                                          Chip card                 NaN   \n",
       "1  Contactless Payments; Chip card; Fee-free fore...                 NaN   \n",
       "2  Chip card; Fee-free foreign transactions; Mobi...                 NaN   \n",
       "3  Contactless Payments; Chip card; Mobile wallet...                 NaN   \n",
       "4  Contactless Payments; Chip card; Mobile wallet...                 NaN   \n",
       "\n",
       "   Contact Information Types                   Website for Consumer  \\\n",
       "0             Phone; Website                     https:www.fnbt.com   \n",
       "1             Phone; Website    https://www.winthropcreditunion.org   \n",
       "2                    Website       https://www.wooriamericabank.com   \n",
       "3             Phone; Website            https://www.centralbank.com   \n",
       "4             Phone; Website  https://www.clearwatercreditunion.org   \n",
       "\n",
       "   Telephone Number for Consumers  Created Date  \n",
       "0                  1-800-899-4321     3/21/2023  \n",
       "1                    800-511-1120     3/21/2023  \n",
       "2                             NaN     3/21/2023  \n",
       "3                   (800)637-6884     3/22/2023  \n",
       "4                    800-254-1803     3/22/2023  \n",
       "\n",
       "[5 rows x 170 columns]"
      ]
     },
     "execution_count": 4,
     "metadata": {},
     "output_type": "execute_result"
    }
   ],
   "source": [
    "df.head()"
   ]
  },
  {
   "cell_type": "code",
   "execution_count": 5,
   "id": "5514a6d7-ed69-410b-a1fb-1bb0ac2ba136",
   "metadata": {},
   "outputs": [
    {
     "data": {
      "text/plain": [
       "(648, 170)"
      ]
     },
     "execution_count": 5,
     "metadata": {},
     "output_type": "execute_result"
    }
   ],
   "source": [
    "df.shape"
   ]
  },
  {
   "cell_type": "markdown",
   "id": "0c3f7f97-bbda-4be4-9ca0-2287b076ccd7",
   "metadata": {},
   "source": [
    "- Key differences between this data set and the historical data set\n",
    "    - This is not timeseries, it is each institution's plan data as of December 31 of the participants in the survey\n",
    "    - Phase I dataset was (rows:9556,columns:12)\n",
    "    - more dense of a dataset\n",
    "- let's check out the null landscape below"
   ]
  },
  {
   "cell_type": "code",
   "execution_count": 6,
   "id": "fdae517f-bd42-41fb-8374-68733dd23e65",
   "metadata": {},
   "outputs": [
    {
     "data": {
      "text/plain": [
       "<Axes: >"
      ]
     },
     "execution_count": 6,
     "metadata": {},
     "output_type": "execute_result"
    },
    {
     "data": {
      "image/png": "[encoded data removed]",
      "text/plain": [
       "<Figure size 2500x1000 with 2 Axes>"
      ]
     },
     "metadata": {},
     "output_type": "display_data"
    }
   ],
   "source": [
    "msno.matrix(df.sample(250))"
   ]
  },
  {
   "cell_type": "markdown",
   "id": "ecbe340d-93f5-4967-a38b-26fe1acc4fd6",
   "metadata": {},
   "source": [
    "- What you are seeing is a graphical representation of the data within the new data set:\n",
    "    - Black means data\n",
    "    - White means no data\n",
    "- With more fields collected, comes the even possibility of not collecting it.\n",
    "- Below is the start of our initial clean process. Because of the look of the dataset above, and the sheer amount of initial features we have (170) we are going to make some swift cuts"
   ]
  },
  {
   "cell_type": "code",
   "execution_count": 7,
   "id": "f00bb1c2-f826-472e-bab8-05757ab0a2b3",
   "metadata": {},
   "outputs": [
    {
     "name": "stdout",
     "output_type": "stream",
     "text": [
      "<class 'pandas.core.frame.DataFrame'>\n",
      "RangeIndex: 648 entries, 0 to 647\n",
      "Columns: 170 entries, Institution Name to Created Date\n",
      "dtypes: float64(97), object(73)\n",
      "memory usage: 860.8+ KB\n"
     ]
    }
   ],
   "source": [
    "df.info()"
   ]
  },
  {
   "cell_type": "code",
   "execution_count": 8,
   "id": "609166fd-6b61-4e6e-b409-e32b387852c8",
   "metadata": {},
   "outputs": [],
   "source": [
    "# Calculate the percentage of null values in each column\n",
    "null_percentage = (df.isnull().sum() / len(df)) * 100"
   ]
  },
  {
   "cell_type": "code",
   "execution_count": 9,
   "id": "bb16f9f0-1ea6-4b86-b407-ab559bfc2c86",
   "metadata": {},
   "outputs": [
    {
     "data": {
      "text/plain": [
       "pandas.core.series.Series"
      ]
     },
     "execution_count": 9,
     "metadata": {},
     "output_type": "execute_result"
    }
   ],
   "source": [
    "type(null_percentage)"
   ]
  },
  {
   "cell_type": "code",
   "execution_count": 10,
   "id": "b5cddc8f-e41c-4f8b-babe-c4a8082baf77",
   "metadata": {},
   "outputs": [
    {
     "data": {
      "text/plain": [
       "(170,)"
      ]
     },
     "execution_count": 10,
     "metadata": {},
     "output_type": "execute_result"
    }
   ],
   "source": [
    "null_percentage.shape"
   ]
  },
  {
   "cell_type": "code",
   "execution_count": 11,
   "id": "85fce74a-7259-4532-89fe-5994c1f3f943",
   "metadata": {},
   "outputs": [],
   "source": [
    "# set threshold\n",
    "threshold = 90"
   ]
  },
  {
   "cell_type": "code",
   "execution_count": 12,
   "id": "8ac1b0c4-b64e-41fd-a900-881a55170616",
   "metadata": {},
   "outputs": [],
   "source": [
    "# Create a list of column names to drop where the null percentage is greater than or equal to the threshold\n",
    "columns_to_drop = null_percentage[null_percentage >= threshold].index.tolist()"
   ]
  },
  {
   "cell_type": "code",
   "execution_count": 13,
   "id": "c84f06e2-82b3-433f-b268-6b3b5b99c579",
   "metadata": {},
   "outputs": [
    {
     "data": {
      "text/plain": [
       "68"
      ]
     },
     "execution_count": 13,
     "metadata": {},
     "output_type": "execute_result"
    }
   ],
   "source": [
    "len(columns_to_drop)"
   ]
  },
  {
   "cell_type": "code",
   "execution_count": 14,
   "id": "ad6ace69-82ea-4939-bc76-ec0dc8bf87e8",
   "metadata": {},
   "outputs": [],
   "source": [
    "# drop the columns\n",
    "df.drop(columns=columns_to_drop,inplace=True)"
   ]
  },
  {
   "cell_type": "code",
   "execution_count": 15,
   "id": "032b2252-6f26-4982-a877-4874e6dbc09b",
   "metadata": {},
   "outputs": [
    {
     "data": {
      "text/plain": [
       "(648, 102)"
      ]
     },
     "execution_count": 15,
     "metadata": {},
     "output_type": "execute_result"
    }
   ],
   "source": [
    "df.shape"
   ]
  },
  {
   "cell_type": "markdown",
   "id": "17bcc0e5-62e0-4963-b821-54ed985818bf",
   "metadata": {},
   "source": [
    "- Above we:\n",
    "    - Calculated the null percentage for each column of the 170\n",
    "    - set a threshold of 90 percent null as the cut off\n",
    "    - removed all columns that met that threshould and above\n",
    "    - resulting in dropping 68 columns\n",
    "- You can see the impact below, and it's much better, but we still have 102 features, which means we will be greedier in our selection"
   ]
  },
  {
   "cell_type": "code",
   "execution_count": 16,
   "id": "a6630591-260a-42cc-aca5-9ae185dfee18",
   "metadata": {},
   "outputs": [
    {
     "data": {
      "text/plain": [
       "<Axes: >"
      ]
     },
     "execution_count": 16,
     "metadata": {},
     "output_type": "execute_result"
    },
    {
     "data": {
      "image/png": "[encoded data removed]",
      "text/plain": [
       "<Figure size 2500x1000 with 2 Axes>"
      ]
     },
     "metadata": {},
     "output_type": "display_data"
    }
   ],
   "source": [
    "msno.matrix(df.sample(250))"
   ]
  },
  {
   "cell_type": "code",
   "execution_count": 17,
   "id": "3a699529-a2d6-4945-b362-43476d880526",
   "metadata": {},
   "outputs": [
    {
     "data": {
      "text/html": [
       "<div>\n",
       "<style scoped>\n",
       "    .dataframe tbody tr th:only-of-type {\n",
       "        vertical-align: middle;\n",
       "    }\n",
       "\n",
       "    .dataframe tbody tr th {\n",
       "        vertical-align: top;\n",
       "    }\n",
       "\n",
       "    .dataframe thead th {\n",
       "        text-align: right;\n",
       "    }\n",
       "</style>\n",
       "<table border=\"1\" class=\"dataframe\">\n",
       "  <thead>\n",
       "    <tr style=\"text-align: right;\">\n",
       "      <th></th>\n",
       "      <th>Institution Name</th>\n",
       "      <th>Product Name</th>\n",
       "      <th>Report Date</th>\n",
       "      <th>Availability of Credit Card Plan</th>\n",
       "      <th>State (Multiple)</th>\n",
       "      <th>Pertains to Specific Counties?</th>\n",
       "      <th>Requirements for Opening</th>\n",
       "      <th>Requirements for Opening Types</th>\n",
       "      <th>Other</th>\n",
       "      <th>Secured Card</th>\n",
       "      <th>...</th>\n",
       "      <th>Other Fee Explanation.4</th>\n",
       "      <th>Services</th>\n",
       "      <th>Other Services</th>\n",
       "      <th>Rewards</th>\n",
       "      <th>Other Rewards</th>\n",
       "      <th>Card Features</th>\n",
       "      <th>Contact Information Types</th>\n",
       "      <th>Website for Consumer</th>\n",
       "      <th>Telephone Number for Consumers</th>\n",
       "      <th>Created Date</th>\n",
       "    </tr>\n",
       "  </thead>\n",
       "  <tbody>\n",
       "    <tr>\n",
       "      <th>0</th>\n",
       "      <td>FNBT BANK</td>\n",
       "      <td>MasterCard</td>\n",
       "      <td>Data as of December 31</td>\n",
       "      <td>National</td>\n",
       "      <td>NaN</td>\n",
       "      <td>NaN</td>\n",
       "      <td>No</td>\n",
       "      <td>NaN</td>\n",
       "      <td>NaN</td>\n",
       "      <td>No</td>\n",
       "      <td>...</td>\n",
       "      <td>NaN</td>\n",
       "      <td>NaN</td>\n",
       "      <td>NaN</td>\n",
       "      <td>Cashback rewards</td>\n",
       "      <td>NaN</td>\n",
       "      <td>Chip card</td>\n",
       "      <td>Phone; Website</td>\n",
       "      <td>https:www.fnbt.com</td>\n",
       "      <td>1-800-899-4321</td>\n",
       "      <td>3/21/2023</td>\n",
       "    </tr>\n",
       "    <tr>\n",
       "      <th>1</th>\n",
       "      <td>WINTHROP AREA FEDERAL CREDIT UNION</td>\n",
       "      <td>Visa Credit Platinum</td>\n",
       "      <td>Data as of December 31</td>\n",
       "      <td>National</td>\n",
       "      <td>NaN</td>\n",
       "      <td>NaN</td>\n",
       "      <td>No</td>\n",
       "      <td>NaN</td>\n",
       "      <td>NaN</td>\n",
       "      <td>No</td>\n",
       "      <td>...</td>\n",
       "      <td>NaN</td>\n",
       "      <td>NaN</td>\n",
       "      <td>NaN</td>\n",
       "      <td>Cashback rewards; Travel-related rewards</td>\n",
       "      <td>NaN</td>\n",
       "      <td>Contactless Payments; Chip card; Fee-free fore...</td>\n",
       "      <td>Phone; Website</td>\n",
       "      <td>https://www.winthropcreditunion.org</td>\n",
       "      <td>800-511-1120</td>\n",
       "      <td>3/21/2023</td>\n",
       "    </tr>\n",
       "    <tr>\n",
       "      <th>2</th>\n",
       "      <td>WOORI AMERICA BANK</td>\n",
       "      <td>Classic</td>\n",
       "      <td>Data as of December 31</td>\n",
       "      <td>National</td>\n",
       "      <td>NaN</td>\n",
       "      <td>NaN</td>\n",
       "      <td>Yes</td>\n",
       "      <td>NaN</td>\n",
       "      <td>NaN</td>\n",
       "      <td>No</td>\n",
       "      <td>...</td>\n",
       "      <td>NaN</td>\n",
       "      <td>Automobile rental insurance; Credit card regis...</td>\n",
       "      <td>NaN</td>\n",
       "      <td>Travel-related rewards</td>\n",
       "      <td>NaN</td>\n",
       "      <td>Chip card; Fee-free foreign transactions; Mobi...</td>\n",
       "      <td>Website</td>\n",
       "      <td>https://www.wooriamericabank.com</td>\n",
       "      <td>NaN</td>\n",
       "      <td>3/21/2023</td>\n",
       "    </tr>\n",
       "    <tr>\n",
       "      <th>3</th>\n",
       "      <td>CENTRAL BANK &amp; TRUST COMPANY</td>\n",
       "      <td>Classic Visa</td>\n",
       "      <td>Data as of December 31</td>\n",
       "      <td>Regional</td>\n",
       "      <td>IN; KY; OH</td>\n",
       "      <td>No</td>\n",
       "      <td>Yes</td>\n",
       "      <td>NaN</td>\n",
       "      <td>NaN</td>\n",
       "      <td>No</td>\n",
       "      <td>...</td>\n",
       "      <td>NaN</td>\n",
       "      <td>Automobile rental insurance; Other</td>\n",
       "      <td>Roadside assistance</td>\n",
       "      <td>NaN</td>\n",
       "      <td>NaN</td>\n",
       "      <td>Contactless Payments; Chip card; Mobile wallet...</td>\n",
       "      <td>Phone; Website</td>\n",
       "      <td>https://www.centralbank.com</td>\n",
       "      <td>(800)637-6884</td>\n",
       "      <td>3/22/2023</td>\n",
       "    </tr>\n",
       "    <tr>\n",
       "      <th>4</th>\n",
       "      <td>CLEARWATER FEDERAL CREDIT UNION</td>\n",
       "      <td>Visa</td>\n",
       "      <td>Data as of December 31</td>\n",
       "      <td>National</td>\n",
       "      <td>NaN</td>\n",
       "      <td>NaN</td>\n",
       "      <td>No</td>\n",
       "      <td>Other. Please Describe:</td>\n",
       "      <td>Person must qualify for membership based on th...</td>\n",
       "      <td>No</td>\n",
       "      <td>...</td>\n",
       "      <td>NaN</td>\n",
       "      <td>Debt cancellation coverage; Other</td>\n",
       "      <td>Visa's credit monitoring (Norton Lifelock cred...</td>\n",
       "      <td>NaN</td>\n",
       "      <td>NaN</td>\n",
       "      <td>Contactless Payments; Chip card; Mobile wallet...</td>\n",
       "      <td>Phone; Website</td>\n",
       "      <td>https://www.clearwatercreditunion.org</td>\n",
       "      <td>800-254-1803</td>\n",
       "      <td>3/22/2023</td>\n",
       "    </tr>\n",
       "  </tbody>\n",
       "</table>\n",
       "<p>5 rows × 102 columns</p>\n",
       "</div>"
      ],
      "text/plain": [
       "                     Institution Name          Product Name  \\\n",
       "0                           FNBT BANK            MasterCard   \n",
       "1  WINTHROP AREA FEDERAL CREDIT UNION  Visa Credit Platinum   \n",
       "2                  WOORI AMERICA BANK               Classic   \n",
       "3        CENTRAL BANK & TRUST COMPANY          Classic Visa   \n",
       "4     CLEARWATER FEDERAL CREDIT UNION                  Visa   \n",
       "\n",
       "              Report Date Availability of Credit Card Plan State (Multiple)  \\\n",
       "0  Data as of December 31                         National              NaN   \n",
       "1  Data as of December 31                         National              NaN   \n",
       "2  Data as of December 31                         National              NaN   \n",
       "3  Data as of December 31                         Regional       IN; KY; OH   \n",
       "4  Data as of December 31                         National              NaN   \n",
       "\n",
       "  Pertains to Specific Counties? Requirements for Opening  \\\n",
       "0                            NaN                       No   \n",
       "1                            NaN                       No   \n",
       "2                            NaN                      Yes   \n",
       "3                             No                      Yes   \n",
       "4                            NaN                       No   \n",
       "\n",
       "  Requirements for Opening Types  \\\n",
       "0                            NaN   \n",
       "1                            NaN   \n",
       "2                            NaN   \n",
       "3                            NaN   \n",
       "4        Other. Please Describe:   \n",
       "\n",
       "                                               Other Secured Card  ...  \\\n",
       "0                                                NaN           No  ...   \n",
       "1                                                NaN           No  ...   \n",
       "2                                                NaN           No  ...   \n",
       "3                                                NaN           No  ...   \n",
       "4  Person must qualify for membership based on th...           No  ...   \n",
       "\n",
       "  Other Fee Explanation.4                                           Services  \\\n",
       "0                     NaN                                                NaN   \n",
       "1                     NaN                                                NaN   \n",
       "2                     NaN  Automobile rental insurance; Credit card regis...   \n",
       "3                     NaN                 Automobile rental insurance; Other   \n",
       "4                     NaN                  Debt cancellation coverage; Other   \n",
       "\n",
       "                                      Other Services  \\\n",
       "0                                                NaN   \n",
       "1                                                NaN   \n",
       "2                                                NaN   \n",
       "3                                Roadside assistance   \n",
       "4  Visa's credit monitoring (Norton Lifelock cred...   \n",
       "\n",
       "                                    Rewards Other Rewards  \\\n",
       "0                          Cashback rewards           NaN   \n",
       "1  Cashback rewards; Travel-related rewards           NaN   \n",
       "2                    Travel-related rewards           NaN   \n",
       "3                                       NaN           NaN   \n",
       "4                                       NaN           NaN   \n",
       "\n",
       "                                       Card Features  \\\n",
       "0                                          Chip card   \n",
       "1  Contactless Payments; Chip card; Fee-free fore...   \n",
       "2  Chip card; Fee-free foreign transactions; Mobi...   \n",
       "3  Contactless Payments; Chip card; Mobile wallet...   \n",
       "4  Contactless Payments; Chip card; Mobile wallet...   \n",
       "\n",
       "  Contact Information Types                   Website for Consumer  \\\n",
       "0            Phone; Website                     https:www.fnbt.com   \n",
       "1            Phone; Website    https://www.winthropcreditunion.org   \n",
       "2                   Website       https://www.wooriamericabank.com   \n",
       "3            Phone; Website            https://www.centralbank.com   \n",
       "4            Phone; Website  https://www.clearwatercreditunion.org   \n",
       "\n",
       "   Telephone Number for Consumers  Created Date  \n",
       "0                  1-800-899-4321     3/21/2023  \n",
       "1                    800-511-1120     3/21/2023  \n",
       "2                             NaN     3/21/2023  \n",
       "3                   (800)637-6884     3/22/2023  \n",
       "4                    800-254-1803     3/22/2023  \n",
       "\n",
       "[5 rows x 102 columns]"
      ]
     },
     "execution_count": 17,
     "metadata": {},
     "output_type": "execute_result"
    }
   ],
   "source": [
    "df.head()"
   ]
  },
  {
   "cell_type": "code",
   "execution_count": 18,
   "id": "6c27dcfd-d107-4129-90cc-078f7e9001b6",
   "metadata": {},
   "outputs": [],
   "source": [
    "# get remaining column data types\n",
    "col_types = df.dtypes"
   ]
  },
  {
   "cell_type": "code",
   "execution_count": 19,
   "id": "468627d0-8db3-483d-8beb-b6738d8d87ec",
   "metadata": {},
   "outputs": [],
   "source": [
    "# separate out numerical and object columns\n",
    "num_cols = col_types[col_types != 'object'].index.tolist()\n",
    "obj_cols = col_types[col_types == 'object'].index.tolist()"
   ]
  },
  {
   "cell_type": "code",
   "execution_count": 20,
   "id": "d2067d62-ec7f-4cbd-a3e8-a9b940b0cbd9",
   "metadata": {},
   "outputs": [
    {
     "data": {
      "text/plain": [
       "(648, 40)"
      ]
     },
     "execution_count": 20,
     "metadata": {},
     "output_type": "execute_result"
    }
   ],
   "source": [
    "df[num_cols].shape"
   ]
  },
  {
   "cell_type": "code",
   "execution_count": 21,
   "id": "9245cc31-ab2e-43bb-9898-7ecc66dc5492",
   "metadata": {},
   "outputs": [
    {
     "data": {
      "text/plain": [
       "(648, 62)"
      ]
     },
     "execution_count": 21,
     "metadata": {},
     "output_type": "execute_result"
    }
   ],
   "source": [
    "df[obj_cols].shape"
   ]
  },
  {
   "cell_type": "code",
   "execution_count": 22,
   "id": "178bf4d1-9a51-47ec-8217-7d132a6e61c4",
   "metadata": {},
   "outputs": [
    {
     "data": {
      "text/plain": [
       "(13313, 11087)"
      ]
     },
     "execution_count": 22,
     "metadata": {},
     "output_type": "execute_result"
    }
   ],
   "source": [
    "df[num_cols].isnull().sum().sum(), df[obj_cols].isnull().sum().sum()"
   ]
  },
  {
   "cell_type": "code",
   "execution_count": 23,
   "id": "405c8ffa-3f42-4bf7-83ee-8556417a3eba",
   "metadata": {},
   "outputs": [],
   "source": [
    "# re-Calculate the percentage of null values in each column\n",
    "null_percentage = (df.isnull().sum() / len(df)) * 100"
   ]
  },
  {
   "cell_type": "code",
   "execution_count": 24,
   "id": "0d794c5f-3688-49a3-af72-0da8c6abaa49",
   "metadata": {},
   "outputs": [
    {
     "data": {
      "text/plain": [
       "Good Credit.3                           89.197531\n",
       "Great Credit.3                          89.197531\n",
       "Poor or Fair Credit.3                   89.197531\n",
       "Other Fee Explanation.4                 88.425926\n",
       "Other Fee Name.4                        88.425926\n",
       "Other Fee Amount.4                      88.425926\n",
       "Other Fee Name.3                        83.796296\n",
       "Poor or Fair Credit.2                   83.796296\n",
       "Other Fee Amount.3                      83.796296\n",
       "Other Fee Explanation.3                 83.796296\n",
       "Good Credit.2                           83.796296\n",
       "Great Credit.2                          83.796296\n",
       "Cash Advance Fee Calculation            81.481481\n",
       "Other Fee Amount.2                      81.481481\n",
       "Other Fee Explanation.2                 81.481481\n",
       "Other Fee Name.2                        81.481481\n",
       "Other                                   80.555556\n",
       "Minimum Balance Transfer Fee Amount     80.401235\n",
       "Requirements for Opening Types          75.000000\n",
       "Minimum Cash Advance Fee Amount         68.827160\n",
       "Median APR.1                            67.901235\n",
       "State (Multiple)                        67.901235\n",
       "Balance Transfer Fee ($)                67.592593\n",
       "Annual Fee                              67.283951\n",
       "Maximum APR.1                           66.975309\n",
       "Median Length of Introductory APR       66.975309\n",
       "Minimum APR.1                           66.975309\n",
       "Introductory APR Vary By Credit Tier    66.975309\n",
       "Periodic Fee Type                       66.666667\n",
       "Other Rewards                           65.277778\n",
       "Purchase APR Vary by Credit Tier        65.123457\n",
       "Median APR.2                            64.814815\n",
       "Amount (Dollars) - Transaction Fee      61.265432\n",
       "Pertains to Specific Counties?          60.648148\n",
       "dtype: float64"
      ]
     },
     "execution_count": 24,
     "metadata": {},
     "output_type": "execute_result"
    }
   ],
   "source": [
    "null_percentage.sort_values(ascending=False)[null_percentage >= 59]"
   ]
  },
  {
   "cell_type": "code",
   "execution_count": 25,
   "id": "e2aef606-8cd1-48eb-ac29-b4008151d6fd",
   "metadata": {},
   "outputs": [],
   "source": [
    "# additional columns to drop\n",
    "cols_to_drop = null_percentage[null_percentage >= 60].index.tolist()"
   ]
  },
  {
   "cell_type": "code",
   "execution_count": 26,
   "id": "6301afee-62b8-4340-a25d-d5ac768c6b8c",
   "metadata": {},
   "outputs": [
    {
     "data": {
      "text/plain": [
       "34"
      ]
     },
     "execution_count": 26,
     "metadata": {},
     "output_type": "execute_result"
    }
   ],
   "source": [
    "len(cols_to_drop)"
   ]
  },
  {
   "cell_type": "code",
   "execution_count": 27,
   "id": "c81d25aa-bdad-4d33-8844-12b7723839c1",
   "metadata": {},
   "outputs": [],
   "source": [
    "# drop additional columns\n",
    "# drop the columns\n",
    "df.drop(columns=cols_to_drop,inplace=True)"
   ]
  },
  {
   "cell_type": "code",
   "execution_count": 28,
   "id": "d2297d75-1582-49c4-be5b-22da42692a94",
   "metadata": {},
   "outputs": [
    {
     "name": "stdout",
     "output_type": "stream",
     "text": [
      "<class 'pandas.core.frame.DataFrame'>\n",
      "RangeIndex: 648 entries, 0 to 647\n",
      "Data columns (total 68 columns):\n",
      " #   Column                                    Non-Null Count  Dtype  \n",
      "---  ------                                    --------------  -----  \n",
      " 0   Institution Name                          648 non-null    object \n",
      " 1   Product Name                              648 non-null    object \n",
      " 2   Report Date                               648 non-null    object \n",
      " 3   Availability of Credit Card Plan          648 non-null    object \n",
      " 4   Requirements for Opening                  648 non-null    object \n",
      " 5   Secured Card                              648 non-null    object \n",
      " 6   Targeted Credit Tiers                     648 non-null    object \n",
      " 7   Purchase APR Offered?                     648 non-null    object \n",
      " 8   Purchase APR Vary by Balance              634 non-null    object \n",
      " 9   Purchase APR Index                        634 non-null    object \n",
      " 10  Variable Rate Index                       535 non-null    object \n",
      " 11  Index                                     648 non-null    object \n",
      " 12  Poor or Fair Credit                       362 non-null    float64\n",
      " 13  Good Credit                               362 non-null    float64\n",
      " 14  Great Credit                              362 non-null    float64\n",
      " 15  Minimum APR                               634 non-null    float64\n",
      " 16  Median APR                                272 non-null    float64\n",
      " 17  Maximum APR                               634 non-null    float64\n",
      " 18  Introductory APR Offered?                 648 non-null    object \n",
      " 19  Balance Transfer Offered?                 648 non-null    object \n",
      " 20  Balance Transfer APR Vary by Credit Tier  333 non-null    object \n",
      " 21  Minimum APR.2                             333 non-null    float64\n",
      " 22  Maximum APR.2                             333 non-null    float64\n",
      " 23  Median Length of Balance Transfer APR     333 non-null    float64\n",
      " 24  Balance Transfer Grace Period             333 non-null    object \n",
      " 25  Cash Advance APR Offered?                 648 non-null    object \n",
      " 26  Cash Advance APR Vary by Credit Tier      636 non-null    object \n",
      " 27  Minimum APR.3                             639 non-null    float64\n",
      " 28  Median APR.3                              566 non-null    float64\n",
      " 29  Maximum APR.3                             639 non-null    float64\n",
      " 30  Grace Period Offered?                     648 non-null    object \n",
      " 31  Grace Period                              644 non-null    float64\n",
      " 32  Minimum Finance Charge?                   648 non-null    object \n",
      " 33  Minimum Finance Charge (Dollars)          405 non-null    float64\n",
      " 34  Balance Computation Method                648 non-null    object \n",
      " 35  Purchase Transaction Fees                 648 non-null    object \n",
      " 36  Balance Transfer Fees?                    648 non-null    object \n",
      " 37  Balance Transfer Fee Types                409 non-null    object \n",
      " 38  Balance Transfer Fee (%)                  395 non-null    float64\n",
      " 39  Cash Advance Fees?                        648 non-null    object \n",
      " 40  Cash Advance Fee For Each Transaction     573 non-null    object \n",
      " 41  Cash Advance Fee Types                    573 non-null    object \n",
      " 42  Amount (Percent) - Transaction Fee        476 non-null    float64\n",
      " 43  Foreign Transaction Fees?                 648 non-null    object \n",
      " 44  Foreign Transaction Fees Types            403 non-null    object \n",
      " 45  Foreign Transaction Fee (%)               399 non-null    float64\n",
      " 46  Late Fees?                                648 non-null    object \n",
      " 47  Late Fee Types                            641 non-null    object \n",
      " 48  Amount (Dollars) - Late Payment Fee       538 non-null    float64\n",
      " 49  Late Fee Six Month Billing Cycle          518 non-null    float64\n",
      " 50  Late Fee Policy Details                   328 non-null    object \n",
      " 51  Over Limit Fees?                          648 non-null    object \n",
      " 52  Other Fees                                648 non-null    object \n",
      " 53  Additional Fees                           500 non-null    object \n",
      " 54  Other Fee Name                            500 non-null    object \n",
      " 55  Other Fee Amount                          500 non-null    float64\n",
      " 56  Other Fee Explanation                     500 non-null    object \n",
      " 57  Other Fee Name.1                          358 non-null    object \n",
      " 58  Other Fee Amount.1                        358 non-null    float64\n",
      " 59  Other Fee Explanation.1                   357 non-null    object \n",
      " 60  Services                                  539 non-null    object \n",
      " 61  Other Services                            450 non-null    object \n",
      " 62  Rewards                                   399 non-null    object \n",
      " 63  Card Features                             604 non-null    object \n",
      " 64  Contact Information Types                 648 non-null    object \n",
      " 65  Website for Consumer                      524 non-null    object \n",
      " 66  Telephone Number for Consumers            422 non-null    object \n",
      " 67  Created Date                              648 non-null    object \n",
      "dtypes: float64(21), object(47)\n",
      "memory usage: 344.4+ KB\n"
     ]
    }
   ],
   "source": [
    "df.info()"
   ]
  },
  {
   "cell_type": "markdown",
   "id": "6a5dcc66-e4b4-4dfc-9998-71ff77a81263",
   "metadata": {},
   "source": [
    "- Same exercise, new threshold, this time anything that was greater or equal to 59% null\n",
    "- Now we have 68 Columns (5.5 times the features we had with historical btw) with a much better look of data below"
   ]
  },
  {
   "cell_type": "code",
   "execution_count": 29,
   "id": "ea0744e8-7281-4f0d-a8d9-780c894f0e0b",
   "metadata": {},
   "outputs": [
    {
     "data": {
      "text/plain": [
       "<Axes: >"
      ]
     },
     "execution_count": 29,
     "metadata": {},
     "output_type": "execute_result"
    },
    {
     "data": {
      "image/png": "[encoded data removed]",
      "text/plain": [
       "<Figure size 2500x1000 with 2 Axes>"
      ]
     },
     "metadata": {},
     "output_type": "display_data"
    }
   ],
   "source": [
    "msno.matrix(df.sample(250))"
   ]
  },
  {
   "cell_type": "code",
   "execution_count": 30,
   "id": "64395616-df27-4dd7-800f-8075e509f838",
   "metadata": {},
   "outputs": [
    {
     "data": {
      "text/plain": [
       "(68,)"
      ]
     },
     "execution_count": 30,
     "metadata": {},
     "output_type": "execute_result"
    }
   ],
   "source": [
    "df.columns.shape"
   ]
  },
  {
   "cell_type": "markdown",
   "id": "950d3be6-873a-41a3-afb8-f9debebcb83f",
   "metadata": {},
   "source": [
    "- Something you will have noticed, if you read our initial analysis, is that there are less visualizations for this data set\n",
    "- There will be more going forward, but for now we have prioritized creating aggregate cards for the Software Engineering Team to be able to start building\n",
    "- From this point we will be doing a mix of cleaning, feature engineering, preprocessing, and clustering"
   ]
  },
  {
   "cell_type": "markdown",
   "id": "7751199a-bbbd-4640-82fe-036144229bdc",
   "metadata": {},
   "source": [
    "---\n",
    "## MVP Goal\n",
    "\n",
    "- Create Aggregate cards based on the targeted credit tiers \n",
    "- Capture APR, Grace Periods, Late Fees, Rewards, and Annual Fees"
   ]
  },
  {
   "cell_type": "markdown",
   "id": "e250044d-6dff-4166-a7c0-7787fc81f54e",
   "metadata": {},
   "source": [
    "### Columns 0 - 10 Clean & FE\n",
    "---"
   ]
  },
  {
   "cell_type": "code",
   "execution_count": 31,
   "id": "a6444b96-510f-43ba-812c-5806d869af9b",
   "metadata": {},
   "outputs": [
    {
     "data": {
      "text/html": [
       "<div>\n",
       "<style scoped>\n",
       "    .dataframe tbody tr th:only-of-type {\n",
       "        vertical-align: middle;\n",
       "    }\n",
       "\n",
       "    .dataframe tbody tr th {\n",
       "        vertical-align: top;\n",
       "    }\n",
       "\n",
       "    .dataframe thead th {\n",
       "        text-align: right;\n",
       "    }\n",
       "</style>\n",
       "<table border=\"1\" class=\"dataframe\">\n",
       "  <thead>\n",
       "    <tr style=\"text-align: right;\">\n",
       "      <th></th>\n",
       "      <th>Institution Name</th>\n",
       "      <th>Product Name</th>\n",
       "      <th>Report Date</th>\n",
       "      <th>Availability of Credit Card Plan</th>\n",
       "      <th>Requirements for Opening</th>\n",
       "      <th>Secured Card</th>\n",
       "      <th>Targeted Credit Tiers</th>\n",
       "      <th>Purchase APR Offered?</th>\n",
       "      <th>Purchase APR Vary by Balance</th>\n",
       "      <th>Purchase APR Index</th>\n",
       "      <th>Variable Rate Index</th>\n",
       "    </tr>\n",
       "  </thead>\n",
       "  <tbody>\n",
       "    <tr>\n",
       "      <th>0</th>\n",
       "      <td>FNBT BANK</td>\n",
       "      <td>MasterCard</td>\n",
       "      <td>Data as of December 31</td>\n",
       "      <td>National</td>\n",
       "      <td>No</td>\n",
       "      <td>No</td>\n",
       "      <td>Good credit (credit scores from 620 to 719)</td>\n",
       "      <td>Yes</td>\n",
       "      <td>No</td>\n",
       "      <td>No</td>\n",
       "      <td>NaN</td>\n",
       "    </tr>\n",
       "    <tr>\n",
       "      <th>1</th>\n",
       "      <td>WINTHROP AREA FEDERAL CREDIT UNION</td>\n",
       "      <td>Visa Credit Platinum</td>\n",
       "      <td>Data as of December 31</td>\n",
       "      <td>National</td>\n",
       "      <td>No</td>\n",
       "      <td>No</td>\n",
       "      <td>Good credit (credit scores from 620 to 719); G...</td>\n",
       "      <td>Yes</td>\n",
       "      <td>No</td>\n",
       "      <td>No</td>\n",
       "      <td>NaN</td>\n",
       "    </tr>\n",
       "    <tr>\n",
       "      <th>2</th>\n",
       "      <td>WOORI AMERICA BANK</td>\n",
       "      <td>Classic</td>\n",
       "      <td>Data as of December 31</td>\n",
       "      <td>National</td>\n",
       "      <td>Yes</td>\n",
       "      <td>No</td>\n",
       "      <td>Good credit (credit scores from 620 to 719); G...</td>\n",
       "      <td>Yes</td>\n",
       "      <td>No</td>\n",
       "      <td>Yes</td>\n",
       "      <td>Prime</td>\n",
       "    </tr>\n",
       "    <tr>\n",
       "      <th>3</th>\n",
       "      <td>CENTRAL BANK &amp; TRUST COMPANY</td>\n",
       "      <td>Classic Visa</td>\n",
       "      <td>Data as of December 31</td>\n",
       "      <td>Regional</td>\n",
       "      <td>Yes</td>\n",
       "      <td>No</td>\n",
       "      <td>Poor or fair credit (credit score 619 or less)...</td>\n",
       "      <td>No</td>\n",
       "      <td>NaN</td>\n",
       "      <td>NaN</td>\n",
       "      <td>NaN</td>\n",
       "    </tr>\n",
       "    <tr>\n",
       "      <th>4</th>\n",
       "      <td>CLEARWATER FEDERAL CREDIT UNION</td>\n",
       "      <td>Visa</td>\n",
       "      <td>Data as of December 31</td>\n",
       "      <td>National</td>\n",
       "      <td>No</td>\n",
       "      <td>No</td>\n",
       "      <td>Poor or fair credit (credit score 619 or less)...</td>\n",
       "      <td>Yes</td>\n",
       "      <td>No</td>\n",
       "      <td>No</td>\n",
       "      <td>NaN</td>\n",
       "    </tr>\n",
       "  </tbody>\n",
       "</table>\n",
       "</div>"
      ],
      "text/plain": [
       "                     Institution Name          Product Name  \\\n",
       "0                           FNBT BANK            MasterCard   \n",
       "1  WINTHROP AREA FEDERAL CREDIT UNION  Visa Credit Platinum   \n",
       "2                  WOORI AMERICA BANK               Classic   \n",
       "3        CENTRAL BANK & TRUST COMPANY          Classic Visa   \n",
       "4     CLEARWATER FEDERAL CREDIT UNION                  Visa   \n",
       "\n",
       "              Report Date Availability of Credit Card Plan  \\\n",
       "0  Data as of December 31                         National   \n",
       "1  Data as of December 31                         National   \n",
       "2  Data as of December 31                         National   \n",
       "3  Data as of December 31                         Regional   \n",
       "4  Data as of December 31                         National   \n",
       "\n",
       "  Requirements for Opening Secured Card  \\\n",
       "0                       No           No   \n",
       "1                       No           No   \n",
       "2                      Yes           No   \n",
       "3                      Yes           No   \n",
       "4                       No           No   \n",
       "\n",
       "                               Targeted Credit Tiers Purchase APR Offered?  \\\n",
       "0        Good credit (credit scores from 620 to 719)                   Yes   \n",
       "1  Good credit (credit scores from 620 to 719); G...                   Yes   \n",
       "2  Good credit (credit scores from 620 to 719); G...                   Yes   \n",
       "3  Poor or fair credit (credit score 619 or less)...                    No   \n",
       "4  Poor or fair credit (credit score 619 or less)...                   Yes   \n",
       "\n",
       "  Purchase APR Vary by Balance Purchase APR Index Variable Rate Index  \n",
       "0                           No                 No                 NaN  \n",
       "1                           No                 No                 NaN  \n",
       "2                           No                Yes               Prime  \n",
       "3                          NaN                NaN                 NaN  \n",
       "4                           No                 No                 NaN  "
      ]
     },
     "execution_count": 31,
     "metadata": {},
     "output_type": "execute_result"
    }
   ],
   "source": [
    "df.iloc[:5, 0:11]"
   ]
  },
  {
   "cell_type": "markdown",
   "id": "81ba7846-bc3e-49a6-a1ab-08abe2d36e70",
   "metadata": {},
   "source": [
    "- null count of these first 10 columns"
   ]
  },
  {
   "cell_type": "code",
   "execution_count": 32,
   "id": "aaf98cbf-b838-43bc-986a-4e30fdb75f9c",
   "metadata": {},
   "outputs": [
    {
     "data": {
      "text/plain": [
       "Institution Name                      0\n",
       "Product Name                          0\n",
       "Report Date                           0\n",
       "Availability of Credit Card Plan      0\n",
       "Requirements for Opening              0\n",
       "Secured Card                          0\n",
       "Targeted Credit Tiers                 0\n",
       "Purchase APR Offered?                 0\n",
       "Purchase APR Vary by Balance         14\n",
       "Purchase APR Index                   14\n",
       "Variable Rate Index                 113\n",
       "dtype: int64"
      ]
     },
     "execution_count": 32,
     "metadata": {},
     "output_type": "execute_result"
    }
   ],
   "source": [
    "df.iloc[:, 0:11].isnull().sum()"
   ]
  },
  {
   "cell_type": "markdown",
   "id": "c02afd83-3357-4bf7-abed-52934d7e665f",
   "metadata": {},
   "source": [
    "- Here we are seeing if the count of rows when the column \"Purchase APR Offered?\" is no, equals the amount of null values in the subsequent Purchase qeustions\n",
    "- it does in fact match and we can assume these values are missing because the parent question was False, in order to clean we will impute with our made up variable of '__'"
   ]
  },
  {
   "cell_type": "code",
   "execution_count": 33,
   "id": "e1a512b4-8fe1-4024-9572-e95dfa636a2c",
   "metadata": {},
   "outputs": [
    {
     "data": {
      "text/plain": [
       "Institution Name                    14\n",
       "Product Name                        14\n",
       "Report Date                         14\n",
       "Availability of Credit Card Plan    14\n",
       "Requirements for Opening            14\n",
       "                                    ..\n",
       "Card Features                       13\n",
       "Contact Information Types           14\n",
       "Website for Consumer                11\n",
       "Telephone Number for Consumers      13\n",
       "Created Date                        14\n",
       "Length: 68, dtype: int64"
      ]
     },
     "execution_count": 33,
     "metadata": {},
     "output_type": "execute_result"
    }
   ],
   "source": [
    "df[df[\"Purchase APR Offered?\"] == \"No\"].count()"
   ]
  },
  {
   "cell_type": "code",
   "execution_count": 34,
   "id": "7817cefd-6e8e-42fe-9bba-857c844295d0",
   "metadata": {},
   "outputs": [],
   "source": [
    "# 14 null values exist in this column, which matches up with when Purchase APR Offered? is No. For eventual encoding, we are preserving the relationship by replacing null values with __\n",
    "df[\"Purchase APR Vary by Balance\"].fillna('__', inplace=True)"
   ]
  },
  {
   "cell_type": "code",
   "execution_count": 35,
   "id": "19afdb0e-a05c-4e56-88fe-f5e8ed9e1f9b",
   "metadata": {},
   "outputs": [],
   "source": [
    "# 14 null values exist in this column, which matches up with when Purchase APR Offered? is No. For eventual encoding, we are preserving the relationship by replacing null values with __\n",
    "df[\"Purchase APR Index\"].fillna('__', inplace=True)"
   ]
  },
  {
   "cell_type": "code",
   "execution_count": 36,
   "id": "0ec63260-5f3b-4c39-86f1-4e32647881cd",
   "metadata": {},
   "outputs": [],
   "source": [
    "mask = df[\"Variable Rate Index\"].isna()"
   ]
  },
  {
   "cell_type": "code",
   "execution_count": 37,
   "id": "13a26a34-dcd1-420e-9dc2-cffcd9bcea9c",
   "metadata": {},
   "outputs": [],
   "source": [
    "select_cols = [\"Purchase APR Offered?\",\"Purchase APR Vary by Balance\",\"Purchase APR Index\",\"Variable Rate Index\"]"
   ]
  },
  {
   "cell_type": "code",
   "execution_count": 38,
   "id": "8d12ba38-834e-4a97-a92d-e7d34040fa46",
   "metadata": {},
   "outputs": [
    {
     "name": "stdout",
     "output_type": "stream",
     "text": [
      "Purchase APR Offered?\n",
      "Yes    99\n",
      "No     14\n",
      "Name: count, dtype: int64\n",
      "Purchase APR Vary by Balance\n",
      "No    99\n",
      "__    14\n",
      "Name: count, dtype: int64\n",
      "Purchase APR Index\n",
      "No    99\n",
      "__    14\n",
      "Name: count, dtype: int64\n",
      "Series([], Name: count, dtype: int64)\n"
     ]
    }
   ],
   "source": [
    "for col in df[mask][select_cols]:\n",
    "    print(df[mask][col].value_counts())"
   ]
  },
  {
   "cell_type": "code",
   "execution_count": 39,
   "id": "c324fadd-89ff-439e-9d08-85996146b836",
   "metadata": {},
   "outputs": [],
   "source": [
    "# 113 null values, all related to either No values in related columns or our own input for NaN Values, similar decision in preserving relationship by replacing with __\n",
    "df[\"Variable Rate Index\"].fillna('__', inplace=True)"
   ]
  },
  {
   "cell_type": "markdown",
   "id": "fa2c9107-7837-49c1-9eb9-ac123855c228",
   "metadata": {},
   "source": [
    "- Here we try some feature engineering to translate the \"Targeted Credit Tiers\" column into 3 binary columns denoting whether a given credit card plan belongs to one or many"
   ]
  },
  {
   "cell_type": "code",
   "execution_count": 40,
   "id": "f0873337-6ddf-4a43-a601-232a9c4e257f",
   "metadata": {},
   "outputs": [
    {
     "data": {
      "text/plain": [
       "Targeted Credit Tiers\n",
       "Poor or fair credit (credit score 619 or less); Good credit (credit scores from 620 to 719); Great Credit (credit score of 720 or greater)    275\n",
       "Good credit (credit scores from 620 to 719); Great Credit (credit score of 720 or greater)                                                    164\n",
       "Great Credit (credit score of 720 or greater)                                                                                                  89\n",
       "Poor or fair credit (credit score 619 or less)                                                                                                 80\n",
       "Good credit (credit scores from 620 to 719)                                                                                                    34\n",
       "Poor or fair credit (credit score 619 or less); Good credit (credit scores from 620 to 719)                                                     6\n",
       "Name: count, dtype: int64"
      ]
     },
     "execution_count": 40,
     "metadata": {},
     "output_type": "execute_result"
    }
   ],
   "source": [
    "df[\"Targeted Credit Tiers\"].value_counts()"
   ]
  },
  {
   "cell_type": "markdown",
   "id": "7087c6a4-6a75-4cda-b0ad-80459cce3897",
   "metadata": {},
   "source": [
    "- this is me being cautions and saving a checkpoint csv"
   ]
  },
  {
   "cell_type": "code",
   "execution_count": 41,
   "id": "16aeb17e-79f4-47db-af7b-c08e2a2fc212",
   "metadata": {},
   "outputs": [],
   "source": [
    "df_clean_copy = df.copy()"
   ]
  },
  {
   "cell_type": "code",
   "execution_count": 42,
   "id": "722bde48-bb93-40e1-8e96-cca0894cc1d0",
   "metadata": {},
   "outputs": [],
   "source": [
    "df_clean_copy.to_csv(\"../data/aggregated_cars_preclean.csv\")"
   ]
  },
  {
   "cell_type": "code",
   "execution_count": 43,
   "id": "733cfb71-b4e0-4508-b6e1-cdbf72a758d1",
   "metadata": {},
   "outputs": [],
   "source": [
    "df = pd.read_csv(\"../data/aggregated_cars_preclean.csv\", index_col=0)"
   ]
  },
  {
   "cell_type": "markdown",
   "id": "253f5373-6410-4f31-bec8-20e4f84e1736",
   "metadata": {},
   "source": [
    "- lowercase the answers"
   ]
  },
  {
   "cell_type": "code",
   "execution_count": 44,
   "id": "23dfade5-d7ac-42fb-a50b-d7876da22506",
   "metadata": {},
   "outputs": [],
   "source": [
    "df[\"Targeted Credit Tiers\"] = df[\"Targeted Credit Tiers\"].apply(lambda x: x.lower())"
   ]
  },
  {
   "cell_type": "markdown",
   "id": "1eea83a0-08cd-49dc-a8e9-375321e39ad3",
   "metadata": {},
   "source": [
    "- check the different answer combinations of the data"
   ]
  },
  {
   "cell_type": "code",
   "execution_count": 45,
   "id": "76707135-c856-4bd9-afd6-cc01ae525be8",
   "metadata": {},
   "outputs": [
    {
     "data": {
      "text/plain": [
       "Targeted Credit Tiers\n",
       "poor or fair credit (credit score 619 or less); good credit (credit scores from 620 to 719); great credit (credit score of 720 or greater)    275\n",
       "good credit (credit scores from 620 to 719); great credit (credit score of 720 or greater)                                                    164\n",
       "great credit (credit score of 720 or greater)                                                                                                  89\n",
       "poor or fair credit (credit score 619 or less)                                                                                                 80\n",
       "good credit (credit scores from 620 to 719)                                                                                                    34\n",
       "poor or fair credit (credit score 619 or less); good credit (credit scores from 620 to 719)                                                     6\n",
       "Name: count, dtype: int64"
      ]
     },
     "execution_count": 45,
     "metadata": {},
     "output_type": "execute_result"
    }
   ],
   "source": [
    "df[\"Targeted Credit Tiers\"].value_counts()"
   ]
  },
  {
   "cell_type": "markdown",
   "id": "53ea61d3-170a-4cb1-9c5a-8c8f94d82812",
   "metadata": {},
   "source": [
    "- split the strings on the ';'\n",
    "- for the non technical this just makes it easier for us to interact with\n",
    "- Goes from:\n",
    "    - good credit (credit scores from 620 to 719); great credit (credit score of 720 or greater) \n",
    "    - to\n",
    "    - ['good credit (credit scores from 620 to 719)',\n",
    " 'great credit (credit score of 720 or greater)']"
   ]
  },
  {
   "cell_type": "code",
   "execution_count": 46,
   "id": "97027b6e-1406-4027-934c-c20dc67de928",
   "metadata": {},
   "outputs": [],
   "source": [
    "df[\"Targeted Credit Tiers\"] = df[\"Targeted Credit Tiers\"].str.split(\"; \")"
   ]
  },
  {
   "cell_type": "markdown",
   "id": "366760a5-2113-4cb0-bc73-a0f2b1f4f120",
   "metadata": {},
   "source": [
    "- Create three columns that align with the credit score group.\n",
    "- if the word is found in a given list of options for a specific group, report True, else False "
   ]
  },
  {
   "cell_type": "code",
   "execution_count": 47,
   "id": "72034844-e163-41e9-988b-9196f85115fe",
   "metadata": {},
   "outputs": [],
   "source": [
    "# Create Separate Columns for each bucket\n",
    "df['Poor_Fair_Group'] = df['Targeted Credit Tiers'].apply(lambda x: any(re.search(r'poor', s) for s in x))\n",
    "df['Good_Credit_Group'] = df['Targeted Credit Tiers'].apply(lambda x: any(re.search(r'good', s) for s in x))\n",
    "df['Great_Credit_Group'] = df['Targeted Credit Tiers'].apply(lambda x: any(re.search(r'great', s) for s in x))"
   ]
  },
  {
   "cell_type": "code",
   "execution_count": 48,
   "id": "17d107d5-0f49-418e-a4f6-051f419e1530",
   "metadata": {},
   "outputs": [
    {
     "data": {
      "text/html": [
       "<div>\n",
       "<style scoped>\n",
       "    .dataframe tbody tr th:only-of-type {\n",
       "        vertical-align: middle;\n",
       "    }\n",
       "\n",
       "    .dataframe tbody tr th {\n",
       "        vertical-align: top;\n",
       "    }\n",
       "\n",
       "    .dataframe thead th {\n",
       "        text-align: right;\n",
       "    }\n",
       "</style>\n",
       "<table border=\"1\" class=\"dataframe\">\n",
       "  <thead>\n",
       "    <tr style=\"text-align: right;\">\n",
       "      <th></th>\n",
       "      <th>Poor_Fair_Group</th>\n",
       "      <th>Good_Credit_Group</th>\n",
       "      <th>Great_Credit_Group</th>\n",
       "    </tr>\n",
       "  </thead>\n",
       "  <tbody>\n",
       "    <tr>\n",
       "      <th>0</th>\n",
       "      <td>False</td>\n",
       "      <td>True</td>\n",
       "      <td>False</td>\n",
       "    </tr>\n",
       "    <tr>\n",
       "      <th>1</th>\n",
       "      <td>False</td>\n",
       "      <td>True</td>\n",
       "      <td>True</td>\n",
       "    </tr>\n",
       "    <tr>\n",
       "      <th>2</th>\n",
       "      <td>False</td>\n",
       "      <td>True</td>\n",
       "      <td>True</td>\n",
       "    </tr>\n",
       "    <tr>\n",
       "      <th>3</th>\n",
       "      <td>True</td>\n",
       "      <td>True</td>\n",
       "      <td>True</td>\n",
       "    </tr>\n",
       "    <tr>\n",
       "      <th>4</th>\n",
       "      <td>True</td>\n",
       "      <td>True</td>\n",
       "      <td>True</td>\n",
       "    </tr>\n",
       "    <tr>\n",
       "      <th>...</th>\n",
       "      <td>...</td>\n",
       "      <td>...</td>\n",
       "      <td>...</td>\n",
       "    </tr>\n",
       "    <tr>\n",
       "      <th>643</th>\n",
       "      <td>False</td>\n",
       "      <td>False</td>\n",
       "      <td>True</td>\n",
       "    </tr>\n",
       "    <tr>\n",
       "      <th>644</th>\n",
       "      <td>False</td>\n",
       "      <td>False</td>\n",
       "      <td>True</td>\n",
       "    </tr>\n",
       "    <tr>\n",
       "      <th>645</th>\n",
       "      <td>False</td>\n",
       "      <td>False</td>\n",
       "      <td>True</td>\n",
       "    </tr>\n",
       "    <tr>\n",
       "      <th>646</th>\n",
       "      <td>True</td>\n",
       "      <td>True</td>\n",
       "      <td>True</td>\n",
       "    </tr>\n",
       "    <tr>\n",
       "      <th>647</th>\n",
       "      <td>False</td>\n",
       "      <td>True</td>\n",
       "      <td>True</td>\n",
       "    </tr>\n",
       "  </tbody>\n",
       "</table>\n",
       "<p>648 rows × 3 columns</p>\n",
       "</div>"
      ],
      "text/plain": [
       "     Poor_Fair_Group  Good_Credit_Group  Great_Credit_Group\n",
       "0              False               True               False\n",
       "1              False               True                True\n",
       "2              False               True                True\n",
       "3               True               True                True\n",
       "4               True               True                True\n",
       "..               ...                ...                 ...\n",
       "643            False              False                True\n",
       "644            False              False                True\n",
       "645            False              False                True\n",
       "646             True               True                True\n",
       "647            False               True                True\n",
       "\n",
       "[648 rows x 3 columns]"
      ]
     },
     "execution_count": 48,
     "metadata": {},
     "output_type": "execute_result"
    }
   ],
   "source": [
    "df[['Poor_Fair_Group','Good_Credit_Group','Great_Credit_Group']]"
   ]
  },
  {
   "cell_type": "code",
   "execution_count": 49,
   "id": "076e8922-4367-4760-b8f3-562d3db5c0d3",
   "metadata": {},
   "outputs": [],
   "source": [
    "# remove original column\n",
    "df.drop(\"Targeted Credit Tiers\", axis=1, inplace=True)"
   ]
  },
  {
   "cell_type": "code",
   "execution_count": 50,
   "id": "420ee5df-f3a0-432a-8e22-95c9612e157e",
   "metadata": {},
   "outputs": [],
   "source": [
    "# convert boolean into numerical values\n",
    "df['Poor_Fair_Group'] = df['Poor_Fair_Group'].astype(int)\n",
    "df['Good_Credit_Group'] = df['Good_Credit_Group'].astype(int)\n",
    "df['Great_Credit_Group'] = df['Great_Credit_Group'].astype(int)"
   ]
  },
  {
   "cell_type": "code",
   "execution_count": 51,
   "id": "66034e06-5a25-4a8c-bdad-30bb7f4f1462",
   "metadata": {},
   "outputs": [
    {
     "data": {
      "text/html": [
       "<div>\n",
       "<style scoped>\n",
       "    .dataframe tbody tr th:only-of-type {\n",
       "        vertical-align: middle;\n",
       "    }\n",
       "\n",
       "    .dataframe tbody tr th {\n",
       "        vertical-align: top;\n",
       "    }\n",
       "\n",
       "    .dataframe thead th {\n",
       "        text-align: right;\n",
       "    }\n",
       "</style>\n",
       "<table border=\"1\" class=\"dataframe\">\n",
       "  <thead>\n",
       "    <tr style=\"text-align: right;\">\n",
       "      <th></th>\n",
       "      <th>Poor_Fair_Group</th>\n",
       "      <th>Good_Credit_Group</th>\n",
       "      <th>Great_Credit_Group</th>\n",
       "    </tr>\n",
       "  </thead>\n",
       "  <tbody>\n",
       "    <tr>\n",
       "      <th>0</th>\n",
       "      <td>0</td>\n",
       "      <td>1</td>\n",
       "      <td>0</td>\n",
       "    </tr>\n",
       "    <tr>\n",
       "      <th>1</th>\n",
       "      <td>0</td>\n",
       "      <td>1</td>\n",
       "      <td>1</td>\n",
       "    </tr>\n",
       "    <tr>\n",
       "      <th>2</th>\n",
       "      <td>0</td>\n",
       "      <td>1</td>\n",
       "      <td>1</td>\n",
       "    </tr>\n",
       "    <tr>\n",
       "      <th>3</th>\n",
       "      <td>1</td>\n",
       "      <td>1</td>\n",
       "      <td>1</td>\n",
       "    </tr>\n",
       "    <tr>\n",
       "      <th>4</th>\n",
       "      <td>1</td>\n",
       "      <td>1</td>\n",
       "      <td>1</td>\n",
       "    </tr>\n",
       "  </tbody>\n",
       "</table>\n",
       "</div>"
      ],
      "text/plain": [
       "   Poor_Fair_Group  Good_Credit_Group  Great_Credit_Group\n",
       "0                0                  1                   0\n",
       "1                0                  1                   1\n",
       "2                0                  1                   1\n",
       "3                1                  1                   1\n",
       "4                1                  1                   1"
      ]
     },
     "execution_count": 51,
     "metadata": {},
     "output_type": "execute_result"
    }
   ],
   "source": [
    "df[['Poor_Fair_Group','Good_Credit_Group','Great_Credit_Group']].head()"
   ]
  },
  {
   "cell_type": "code",
   "execution_count": 52,
   "id": "305da7a6-86b8-4b3c-bf3d-0f81b5b3abb6",
   "metadata": {},
   "outputs": [
    {
     "data": {
      "text/plain": [
       "Institution Name                    0\n",
       "Product Name                        0\n",
       "Report Date                         0\n",
       "Availability of Credit Card Plan    0\n",
       "Requirements for Opening            0\n",
       "Secured Card                        0\n",
       "Purchase APR Offered?               0\n",
       "Purchase APR Vary by Balance        0\n",
       "Purchase APR Index                  0\n",
       "Variable Rate Index                 0\n",
       "Index                               0\n",
       "dtype: int64"
      ]
     },
     "execution_count": 52,
     "metadata": {},
     "output_type": "execute_result"
    }
   ],
   "source": [
    "df.iloc[:, 0:11].isnull().sum()"
   ]
  },
  {
   "cell_type": "code",
   "execution_count": 53,
   "id": "1529e9a4-ea42-4187-ac56-5ee3b3265b6d",
   "metadata": {},
   "outputs": [
    {
     "data": {
      "text/plain": [
       "(648, 70)"
      ]
     },
     "execution_count": 53,
     "metadata": {},
     "output_type": "execute_result"
    }
   ],
   "source": [
    "df.shape"
   ]
  },
  {
   "cell_type": "markdown",
   "id": "d8ed3119-61f6-476e-b988-7d946b5031d4",
   "metadata": {},
   "source": [
    "- Added 3 columns for Credit Group\n",
    "- Removed original column housing multiple options\n",
    "- removed null values by imputing a new string value of '__' to keep the difference as well as reduce complexity of potential ohe later on"
   ]
  },
  {
   "cell_type": "markdown",
   "id": "f99b822d-d6d3-4459-a8b8-c333066c70b8",
   "metadata": {},
   "source": [
    "### Columns 10 - 20 Clean\n",
    "---"
   ]
  },
  {
   "cell_type": "code",
   "execution_count": 54,
   "id": "6b054075-d143-4272-a968-943b679c1714",
   "metadata": {},
   "outputs": [
    {
     "data": {
      "text/html": [
       "<div>\n",
       "<style scoped>\n",
       "    .dataframe tbody tr th:only-of-type {\n",
       "        vertical-align: middle;\n",
       "    }\n",
       "\n",
       "    .dataframe tbody tr th {\n",
       "        vertical-align: top;\n",
       "    }\n",
       "\n",
       "    .dataframe thead th {\n",
       "        text-align: right;\n",
       "    }\n",
       "</style>\n",
       "<table border=\"1\" class=\"dataframe\">\n",
       "  <thead>\n",
       "    <tr style=\"text-align: right;\">\n",
       "      <th></th>\n",
       "      <th>Index</th>\n",
       "      <th>Poor or Fair Credit</th>\n",
       "      <th>Good Credit</th>\n",
       "      <th>Great Credit</th>\n",
       "      <th>Minimum APR</th>\n",
       "      <th>Median APR</th>\n",
       "      <th>Maximum APR</th>\n",
       "      <th>Introductory APR Offered?</th>\n",
       "      <th>Balance Transfer Offered?</th>\n",
       "      <th>Balance Transfer APR Vary by Credit Tier</th>\n",
       "      <th>Minimum APR.2</th>\n",
       "    </tr>\n",
       "  </thead>\n",
       "  <tbody>\n",
       "    <tr>\n",
       "      <th>0</th>\n",
       "      <td>F</td>\n",
       "      <td>NaN</td>\n",
       "      <td>NaN</td>\n",
       "      <td>NaN</td>\n",
       "      <td>0.1490</td>\n",
       "      <td>0.1490</td>\n",
       "      <td>0.1800</td>\n",
       "      <td>No</td>\n",
       "      <td>Yes</td>\n",
       "      <td>No</td>\n",
       "      <td>0.1490</td>\n",
       "    </tr>\n",
       "    <tr>\n",
       "      <th>1</th>\n",
       "      <td>F</td>\n",
       "      <td>NaN</td>\n",
       "      <td>NaN</td>\n",
       "      <td>NaN</td>\n",
       "      <td>0.1150</td>\n",
       "      <td>0.1150</td>\n",
       "      <td>0.1150</td>\n",
       "      <td>No</td>\n",
       "      <td>Yes</td>\n",
       "      <td>No</td>\n",
       "      <td>0.1150</td>\n",
       "    </tr>\n",
       "    <tr>\n",
       "      <th>2</th>\n",
       "      <td>V</td>\n",
       "      <td>NaN</td>\n",
       "      <td>NaN</td>\n",
       "      <td>NaN</td>\n",
       "      <td>0.2099</td>\n",
       "      <td>0.2099</td>\n",
       "      <td>0.2099</td>\n",
       "      <td>No</td>\n",
       "      <td>Yes</td>\n",
       "      <td>No</td>\n",
       "      <td>0.2099</td>\n",
       "    </tr>\n",
       "    <tr>\n",
       "      <th>3</th>\n",
       "      <td>F</td>\n",
       "      <td>NaN</td>\n",
       "      <td>NaN</td>\n",
       "      <td>NaN</td>\n",
       "      <td>NaN</td>\n",
       "      <td>NaN</td>\n",
       "      <td>NaN</td>\n",
       "      <td>No</td>\n",
       "      <td>Yes</td>\n",
       "      <td>No</td>\n",
       "      <td>0.1650</td>\n",
       "    </tr>\n",
       "    <tr>\n",
       "      <th>4</th>\n",
       "      <td>F</td>\n",
       "      <td>0.1590</td>\n",
       "      <td>0.1090</td>\n",
       "      <td>0.0790</td>\n",
       "      <td>0.0790</td>\n",
       "      <td>NaN</td>\n",
       "      <td>0.1690</td>\n",
       "      <td>No</td>\n",
       "      <td>Yes</td>\n",
       "      <td>Yes</td>\n",
       "      <td>0.0790</td>\n",
       "    </tr>\n",
       "    <tr>\n",
       "      <th>5</th>\n",
       "      <td>F</td>\n",
       "      <td>0.1680</td>\n",
       "      <td>0.1290</td>\n",
       "      <td>0.1290</td>\n",
       "      <td>0.1290</td>\n",
       "      <td>NaN</td>\n",
       "      <td>0.1680</td>\n",
       "      <td>No</td>\n",
       "      <td>Yes</td>\n",
       "      <td>Yes</td>\n",
       "      <td>0.1290</td>\n",
       "    </tr>\n",
       "    <tr>\n",
       "      <th>6</th>\n",
       "      <td>F</td>\n",
       "      <td>0.1521</td>\n",
       "      <td>0.1096</td>\n",
       "      <td>0.0799</td>\n",
       "      <td>0.0799</td>\n",
       "      <td>NaN</td>\n",
       "      <td>0.1800</td>\n",
       "      <td>No</td>\n",
       "      <td>Yes</td>\n",
       "      <td>Yes</td>\n",
       "      <td>0.0799</td>\n",
       "    </tr>\n",
       "    <tr>\n",
       "      <th>7</th>\n",
       "      <td>F</td>\n",
       "      <td>NaN</td>\n",
       "      <td>NaN</td>\n",
       "      <td>NaN</td>\n",
       "      <td>0.0999</td>\n",
       "      <td>0.0999</td>\n",
       "      <td>0.0999</td>\n",
       "      <td>No</td>\n",
       "      <td>Yes</td>\n",
       "      <td>No</td>\n",
       "      <td>0.0999</td>\n",
       "    </tr>\n",
       "    <tr>\n",
       "      <th>8</th>\n",
       "      <td>V</td>\n",
       "      <td>NaN</td>\n",
       "      <td>NaN</td>\n",
       "      <td>NaN</td>\n",
       "      <td>0.1025</td>\n",
       "      <td>0.1225</td>\n",
       "      <td>0.1425</td>\n",
       "      <td>No</td>\n",
       "      <td>Yes</td>\n",
       "      <td>No</td>\n",
       "      <td>0.1025</td>\n",
       "    </tr>\n",
       "    <tr>\n",
       "      <th>9</th>\n",
       "      <td>V</td>\n",
       "      <td>0.1800</td>\n",
       "      <td>0.1499</td>\n",
       "      <td>0.1050</td>\n",
       "      <td>0.1050</td>\n",
       "      <td>NaN</td>\n",
       "      <td>0.1800</td>\n",
       "      <td>No</td>\n",
       "      <td>Yes</td>\n",
       "      <td>Yes</td>\n",
       "      <td>0.1050</td>\n",
       "    </tr>\n",
       "  </tbody>\n",
       "</table>\n",
       "</div>"
      ],
      "text/plain": [
       "  Index  Poor or Fair Credit  Good Credit  Great Credit  Minimum APR  \\\n",
       "0     F                  NaN          NaN           NaN       0.1490   \n",
       "1     F                  NaN          NaN           NaN       0.1150   \n",
       "2     V                  NaN          NaN           NaN       0.2099   \n",
       "3     F                  NaN          NaN           NaN          NaN   \n",
       "4     F               0.1590       0.1090        0.0790       0.0790   \n",
       "5     F               0.1680       0.1290        0.1290       0.1290   \n",
       "6     F               0.1521       0.1096        0.0799       0.0799   \n",
       "7     F                  NaN          NaN           NaN       0.0999   \n",
       "8     V                  NaN          NaN           NaN       0.1025   \n",
       "9     V               0.1800       0.1499        0.1050       0.1050   \n",
       "\n",
       "   Median APR  Maximum APR Introductory APR Offered?  \\\n",
       "0      0.1490       0.1800                        No   \n",
       "1      0.1150       0.1150                        No   \n",
       "2      0.2099       0.2099                        No   \n",
       "3         NaN          NaN                        No   \n",
       "4         NaN       0.1690                        No   \n",
       "5         NaN       0.1680                        No   \n",
       "6         NaN       0.1800                        No   \n",
       "7      0.0999       0.0999                        No   \n",
       "8      0.1225       0.1425                        No   \n",
       "9         NaN       0.1800                        No   \n",
       "\n",
       "  Balance Transfer Offered? Balance Transfer APR Vary by Credit Tier  \\\n",
       "0                       Yes                                       No   \n",
       "1                       Yes                                       No   \n",
       "2                       Yes                                       No   \n",
       "3                       Yes                                       No   \n",
       "4                       Yes                                      Yes   \n",
       "5                       Yes                                      Yes   \n",
       "6                       Yes                                      Yes   \n",
       "7                       Yes                                       No   \n",
       "8                       Yes                                       No   \n",
       "9                       Yes                                      Yes   \n",
       "\n",
       "   Minimum APR.2  \n",
       "0         0.1490  \n",
       "1         0.1150  \n",
       "2         0.2099  \n",
       "3         0.1650  \n",
       "4         0.0790  \n",
       "5         0.1290  \n",
       "6         0.0799  \n",
       "7         0.0999  \n",
       "8         0.1025  \n",
       "9         0.1050  "
      ]
     },
     "execution_count": 54,
     "metadata": {},
     "output_type": "execute_result"
    }
   ],
   "source": [
    "df.iloc[:10, 10:21]"
   ]
  },
  {
   "cell_type": "code",
   "execution_count": 55,
   "id": "eab485c3-5456-4be5-b0c5-1f9a931fc5cb",
   "metadata": {},
   "outputs": [
    {
     "data": {
      "text/plain": [
       "Index                                         0\n",
       "Poor or Fair Credit                         286\n",
       "Good Credit                                 286\n",
       "Great Credit                                286\n",
       "Minimum APR                                  14\n",
       "Median APR                                  376\n",
       "Maximum APR                                  14\n",
       "Introductory APR Offered?                     0\n",
       "Balance Transfer Offered?                     0\n",
       "Balance Transfer APR Vary by Credit Tier    315\n",
       "Minimum APR.2                               315\n",
       "dtype: int64"
      ]
     },
     "execution_count": 55,
     "metadata": {},
     "output_type": "execute_result"
    }
   ],
   "source": [
    "df.iloc[:, 10:21].isnull().sum()"
   ]
  },
  {
   "cell_type": "markdown",
   "id": "1b47a7bc-f607-498c-bf62-94262dc5c089",
   "metadata": {},
   "source": [
    "- For Most missing numerical values with relation to APR specifically we will be using sklearn's KNNImputer (more on that below)\n",
    "- For more potentially obvious missing values such as Balance Transfer APR.., we'll solve below"
   ]
  },
  {
   "cell_type": "code",
   "execution_count": 56,
   "id": "b6c01762-ff2b-416f-8a0e-f16b54859271",
   "metadata": {},
   "outputs": [
    {
     "data": {
      "text/plain": [
       "Balance Transfer Offered?\n",
       "Yes    333\n",
       "No     315\n",
       "Name: count, dtype: int64"
      ]
     },
     "execution_count": 56,
     "metadata": {},
     "output_type": "execute_result"
    }
   ],
   "source": [
    "df[\"Balance Transfer Offered?\"].value_counts()"
   ]
  },
  {
   "cell_type": "code",
   "execution_count": 57,
   "id": "c44788de-2f9c-4450-9f3b-4b16e3cd334e",
   "metadata": {},
   "outputs": [
    {
     "data": {
      "text/plain": [
       "Balance Transfer APR Vary by Credit Tier\n",
       "No     228\n",
       "Yes    105\n",
       "Name: count, dtype: int64"
      ]
     },
     "execution_count": 57,
     "metadata": {},
     "output_type": "execute_result"
    }
   ],
   "source": [
    "df[\"Balance Transfer APR Vary by Credit Tier\"].value_counts()"
   ]
  },
  {
   "cell_type": "markdown",
   "id": "c48df4f6-3f77-41ce-842a-644161722f79",
   "metadata": {},
   "source": [
    "- there are 315 BTO listed as no which equals the 315 nulls of BT APR\n",
    "- replace with our stand-in null value of '__'"
   ]
  },
  {
   "cell_type": "code",
   "execution_count": 58,
   "id": "4d4a0035-528c-4190-be98-58fc23f9e9f8",
   "metadata": {},
   "outputs": [],
   "source": [
    "df[\"Balance Transfer APR Vary by Credit Tier\"].fillna('__', inplace=True)"
   ]
  },
  {
   "cell_type": "code",
   "execution_count": 59,
   "id": "f2af738a-aaac-4d5a-9b06-ee22fb8572a6",
   "metadata": {},
   "outputs": [
    {
     "data": {
      "text/plain": [
       "Index                                         0\n",
       "Poor or Fair Credit                         286\n",
       "Good Credit                                 286\n",
       "Great Credit                                286\n",
       "Minimum APR                                  14\n",
       "Median APR                                  376\n",
       "Maximum APR                                  14\n",
       "Introductory APR Offered?                     0\n",
       "Balance Transfer Offered?                     0\n",
       "Balance Transfer APR Vary by Credit Tier      0\n",
       "Minimum APR.2                               315\n",
       "dtype: int64"
      ]
     },
     "execution_count": 59,
     "metadata": {},
     "output_type": "execute_result"
    }
   ],
   "source": [
    "df.iloc[:, 10:21].isnull().sum()"
   ]
  },
  {
   "cell_type": "markdown",
   "id": "44a76333-f913-4a93-b1ba-050cf69c979d",
   "metadata": {},
   "source": [
    "- coincidence that there are also 315 missing values for Minimum APR.2, same figure we just solved for with Balance Transfer APR?\n",
    "- It is not, we now have a better understanding of the different columns we are working with. With no initial dictionary we had a hard time initially understanding what the different values could mean, but through cleaning we have gleaned an insight:\n",
    "    - each numbered APR (e.g.: Minimum APR.2, Maximum APR.n) is in relation to the previous categorical variables re: Balance Transfer, Cash Advance, etc.\n",
    "    - we'll rename the columns so they are more transparent\n",
    "    - further cleaning will take these groupings into account"
   ]
  },
  {
   "cell_type": "code",
   "execution_count": 60,
   "id": "38fc53a7-c7fc-4dc2-bfd5-1ce97c77d478",
   "metadata": {},
   "outputs": [],
   "source": [
    "df.rename(columns={\"Minimum APR.2\":\"BT_Min_APR\",\n",
    "                   \"Maximum APR.2\":\"BT_Max_APR\",\n",
    "                   \"Minimum APR.3\":\"CA_Min_APR\",\n",
    "                   \"Median APR.3\":\"CA_Median_APR\",\n",
    "                   \"Maximum APR.3\":\"CA_Max_APR\"}, inplace=True)"
   ]
  },
  {
   "cell_type": "markdown",
   "id": "249fe8c8-bb87-4bdc-98e6-7d8674b6306d",
   "metadata": {},
   "source": [
    "### Columns 20 - 30 Clean and FE"
   ]
  },
  {
   "cell_type": "code",
   "execution_count": 61,
   "id": "79800908-550c-4c91-8113-69f8be440e71",
   "metadata": {},
   "outputs": [
    {
     "data": {
      "text/html": [
       "<div>\n",
       "<style scoped>\n",
       "    .dataframe tbody tr th:only-of-type {\n",
       "        vertical-align: middle;\n",
       "    }\n",
       "\n",
       "    .dataframe tbody tr th {\n",
       "        vertical-align: top;\n",
       "    }\n",
       "\n",
       "    .dataframe thead th {\n",
       "        text-align: right;\n",
       "    }\n",
       "</style>\n",
       "<table border=\"1\" class=\"dataframe\">\n",
       "  <thead>\n",
       "    <tr style=\"text-align: right;\">\n",
       "      <th></th>\n",
       "      <th>BT_Min_APR</th>\n",
       "      <th>BT_Max_APR</th>\n",
       "      <th>Median Length of Balance Transfer APR</th>\n",
       "      <th>Balance Transfer Grace Period</th>\n",
       "      <th>Cash Advance APR Offered?</th>\n",
       "      <th>Cash Advance APR Vary by Credit Tier</th>\n",
       "      <th>CA_Min_APR</th>\n",
       "      <th>CA_Median_APR</th>\n",
       "      <th>CA_Max_APR</th>\n",
       "      <th>Grace Period Offered?</th>\n",
       "      <th>Grace Period</th>\n",
       "    </tr>\n",
       "  </thead>\n",
       "  <tbody>\n",
       "    <tr>\n",
       "      <th>0</th>\n",
       "      <td>0.1490</td>\n",
       "      <td>0.1800</td>\n",
       "      <td>0.0</td>\n",
       "      <td>No</td>\n",
       "      <td>Yes</td>\n",
       "      <td>No</td>\n",
       "      <td>0.1490</td>\n",
       "      <td>0.1490</td>\n",
       "      <td>0.1800</td>\n",
       "      <td>Yes</td>\n",
       "      <td>25.0</td>\n",
       "    </tr>\n",
       "    <tr>\n",
       "      <th>1</th>\n",
       "      <td>0.1150</td>\n",
       "      <td>0.1150</td>\n",
       "      <td>6.0</td>\n",
       "      <td>Yes</td>\n",
       "      <td>Yes</td>\n",
       "      <td>No</td>\n",
       "      <td>0.1150</td>\n",
       "      <td>0.1150</td>\n",
       "      <td>0.1150</td>\n",
       "      <td>Yes</td>\n",
       "      <td>25.0</td>\n",
       "    </tr>\n",
       "    <tr>\n",
       "      <th>2</th>\n",
       "      <td>0.2099</td>\n",
       "      <td>0.2099</td>\n",
       "      <td>6.0</td>\n",
       "      <td>Yes</td>\n",
       "      <td>Yes</td>\n",
       "      <td>No</td>\n",
       "      <td>0.2499</td>\n",
       "      <td>0.2499</td>\n",
       "      <td>0.2499</td>\n",
       "      <td>Yes</td>\n",
       "      <td>6.0</td>\n",
       "    </tr>\n",
       "    <tr>\n",
       "      <th>3</th>\n",
       "      <td>0.1650</td>\n",
       "      <td>0.1650</td>\n",
       "      <td>16.5</td>\n",
       "      <td>No</td>\n",
       "      <td>Yes</td>\n",
       "      <td>No</td>\n",
       "      <td>0.1650</td>\n",
       "      <td>0.1650</td>\n",
       "      <td>0.1650</td>\n",
       "      <td>Yes</td>\n",
       "      <td>25.0</td>\n",
       "    </tr>\n",
       "    <tr>\n",
       "      <th>4</th>\n",
       "      <td>0.0790</td>\n",
       "      <td>0.1690</td>\n",
       "      <td>6.0</td>\n",
       "      <td>No</td>\n",
       "      <td>Yes</td>\n",
       "      <td>Yes</td>\n",
       "      <td>0.0790</td>\n",
       "      <td>NaN</td>\n",
       "      <td>0.1690</td>\n",
       "      <td>Yes</td>\n",
       "      <td>25.0</td>\n",
       "    </tr>\n",
       "  </tbody>\n",
       "</table>\n",
       "</div>"
      ],
      "text/plain": [
       "   BT_Min_APR  BT_Max_APR  Median Length of Balance Transfer APR  \\\n",
       "0      0.1490      0.1800                                    0.0   \n",
       "1      0.1150      0.1150                                    6.0   \n",
       "2      0.2099      0.2099                                    6.0   \n",
       "3      0.1650      0.1650                                   16.5   \n",
       "4      0.0790      0.1690                                    6.0   \n",
       "\n",
       "  Balance Transfer Grace Period Cash Advance APR Offered?  \\\n",
       "0                            No                       Yes   \n",
       "1                           Yes                       Yes   \n",
       "2                           Yes                       Yes   \n",
       "3                            No                       Yes   \n",
       "4                            No                       Yes   \n",
       "\n",
       "  Cash Advance APR Vary by Credit Tier  CA_Min_APR  CA_Median_APR  CA_Max_APR  \\\n",
       "0                                   No      0.1490         0.1490      0.1800   \n",
       "1                                   No      0.1150         0.1150      0.1150   \n",
       "2                                   No      0.2499         0.2499      0.2499   \n",
       "3                                   No      0.1650         0.1650      0.1650   \n",
       "4                                  Yes      0.0790            NaN      0.1690   \n",
       "\n",
       "  Grace Period Offered?  Grace Period  \n",
       "0                   Yes          25.0  \n",
       "1                   Yes          25.0  \n",
       "2                   Yes           6.0  \n",
       "3                   Yes          25.0  \n",
       "4                   Yes          25.0  "
      ]
     },
     "execution_count": 61,
     "metadata": {},
     "output_type": "execute_result"
    }
   ],
   "source": [
    "df.iloc[:5, 20:31]"
   ]
  },
  {
   "cell_type": "code",
   "execution_count": 62,
   "id": "b8eca03f-b660-477b-81e0-cc661f00bf83",
   "metadata": {},
   "outputs": [
    {
     "data": {
      "text/plain": [
       "BT_Min_APR                               315\n",
       "BT_Max_APR                               315\n",
       "Median Length of Balance Transfer APR    315\n",
       "Balance Transfer Grace Period            315\n",
       "Cash Advance APR Offered?                  0\n",
       "Cash Advance APR Vary by Credit Tier      12\n",
       "CA_Min_APR                                 9\n",
       "CA_Median_APR                             82\n",
       "CA_Max_APR                                 9\n",
       "Grace Period Offered?                      0\n",
       "Grace Period                               4\n",
       "dtype: int64"
      ]
     },
     "execution_count": 62,
     "metadata": {},
     "output_type": "execute_result"
    }
   ],
   "source": [
    "df.iloc[:, 20:31].isnull().sum()"
   ]
  },
  {
   "cell_type": "code",
   "execution_count": 63,
   "id": "27c35c8c-a0d5-485f-9e48-51a7c2432da0",
   "metadata": {},
   "outputs": [],
   "source": [
    "df.BT_Min_APR.fillna(0.0, inplace=True)\n",
    "df.BT_Max_APR.fillna(0.0, inplace=True)\n",
    "df[\"Median Length of Balance Transfer APR\"].fillna(0.0, inplace=True)\n",
    "df[\"Balance Transfer Grace Period\"].fillna(0.0, inplace=True)"
   ]
  },
  {
   "cell_type": "code",
   "execution_count": 64,
   "id": "45e92d6f-08cf-4513-bd71-c18ca0936dfe",
   "metadata": {},
   "outputs": [
    {
     "data": {
      "text/plain": [
       "BT_Min_APR                                0\n",
       "BT_Max_APR                                0\n",
       "Median Length of Balance Transfer APR     0\n",
       "Balance Transfer Grace Period             0\n",
       "Cash Advance APR Offered?                 0\n",
       "Cash Advance APR Vary by Credit Tier     12\n",
       "CA_Min_APR                                9\n",
       "CA_Median_APR                            82\n",
       "CA_Max_APR                                9\n",
       "Grace Period Offered?                     0\n",
       "Grace Period                              4\n",
       "dtype: int64"
      ]
     },
     "execution_count": 64,
     "metadata": {},
     "output_type": "execute_result"
    }
   ],
   "source": [
    "df.iloc[:, 20:31].isnull().sum()"
   ]
  },
  {
   "cell_type": "markdown",
   "id": "c7673619-ac6e-4ef4-8b0e-d109870b1abb",
   "metadata": {},
   "source": [
    "- As there were 315 rows without Balance Transfer options, and now knowing that Min and Max APR.2 were in relation to having BT, for now we are going to impute 0.0 for the null values.\n",
    "    - If we had more time we could try and do some feature engineering to maybe remove the numerical values altogether and instead signifiy with just boolean values if there was apr value or not and in combination report a median APR instead of a min and max.\n",
    "- Similarly will impute 0 for the other missing Balance Tranfer numerical fields:\n",
    "    - Median Length of Balance Transfer APR\n",
    "    - Balance Transfer Grace Period\n",
    "- Cash Advance below:"
   ]
  },
  {
   "cell_type": "code",
   "execution_count": 65,
   "id": "9e55efc1-3cdf-48cb-b3e4-7cacbfc7c4c5",
   "metadata": {},
   "outputs": [
    {
     "data": {
      "text/plain": [
       "Cash Advance APR Vary by Credit Tier\n",
       "No     566\n",
       "Yes     70\n",
       "Name: count, dtype: int64"
      ]
     },
     "execution_count": 65,
     "metadata": {},
     "output_type": "execute_result"
    }
   ],
   "source": [
    "df[\"Cash Advance APR Vary by Credit Tier\"].value_counts()"
   ]
  },
  {
   "cell_type": "markdown",
   "id": "f80e7e2a-a934-45e5-87d4-dca03e677f9d",
   "metadata": {},
   "source": [
    "- Mask is our filter\n",
    "- selected_cols are the columns we want filtered"
   ]
  },
  {
   "cell_type": "code",
   "execution_count": 66,
   "id": "b6e7df98-37dc-4b8b-8af5-97fca31626b0",
   "metadata": {},
   "outputs": [],
   "source": [
    "mask = df[\"Cash Advance APR Vary by Credit Tier\"].isna()"
   ]
  },
  {
   "cell_type": "code",
   "execution_count": 67,
   "id": "62bb56fa-6c37-42ac-9251-d9ef262fa063",
   "metadata": {},
   "outputs": [],
   "source": [
    "selected_cols = [\"Cash Advance APR Offered?\",\"CA_Min_APR\",\"CA_Median_APR\",\"CA_Max_APR\"]"
   ]
  },
  {
   "cell_type": "code",
   "execution_count": 68,
   "id": "8e023bd6-e9b4-47d2-a57a-580703ef1db8",
   "metadata": {},
   "outputs": [
    {
     "data": {
      "text/html": [
       "<div>\n",
       "<style scoped>\n",
       "    .dataframe tbody tr th:only-of-type {\n",
       "        vertical-align: middle;\n",
       "    }\n",
       "\n",
       "    .dataframe tbody tr th {\n",
       "        vertical-align: top;\n",
       "    }\n",
       "\n",
       "    .dataframe thead th {\n",
       "        text-align: right;\n",
       "    }\n",
       "</style>\n",
       "<table border=\"1\" class=\"dataframe\">\n",
       "  <thead>\n",
       "    <tr style=\"text-align: right;\">\n",
       "      <th></th>\n",
       "      <th>Cash Advance APR Offered?</th>\n",
       "      <th>CA_Min_APR</th>\n",
       "      <th>CA_Median_APR</th>\n",
       "      <th>CA_Max_APR</th>\n",
       "    </tr>\n",
       "  </thead>\n",
       "  <tbody>\n",
       "    <tr>\n",
       "      <th>10</th>\n",
       "      <td>No</td>\n",
       "      <td>NaN</td>\n",
       "      <td>NaN</td>\n",
       "      <td>NaN</td>\n",
       "    </tr>\n",
       "    <tr>\n",
       "      <th>14</th>\n",
       "      <td>No</td>\n",
       "      <td>NaN</td>\n",
       "      <td>NaN</td>\n",
       "      <td>NaN</td>\n",
       "    </tr>\n",
       "    <tr>\n",
       "      <th>138</th>\n",
       "      <td>No</td>\n",
       "      <td>NaN</td>\n",
       "      <td>NaN</td>\n",
       "      <td>NaN</td>\n",
       "    </tr>\n",
       "    <tr>\n",
       "      <th>166</th>\n",
       "      <td>No</td>\n",
       "      <td>NaN</td>\n",
       "      <td>NaN</td>\n",
       "      <td>NaN</td>\n",
       "    </tr>\n",
       "    <tr>\n",
       "      <th>169</th>\n",
       "      <td>No</td>\n",
       "      <td>NaN</td>\n",
       "      <td>NaN</td>\n",
       "      <td>NaN</td>\n",
       "    </tr>\n",
       "    <tr>\n",
       "      <th>170</th>\n",
       "      <td>No</td>\n",
       "      <td>NaN</td>\n",
       "      <td>NaN</td>\n",
       "      <td>NaN</td>\n",
       "    </tr>\n",
       "    <tr>\n",
       "      <th>470</th>\n",
       "      <td>No</td>\n",
       "      <td>NaN</td>\n",
       "      <td>NaN</td>\n",
       "      <td>NaN</td>\n",
       "    </tr>\n",
       "    <tr>\n",
       "      <th>471</th>\n",
       "      <td>No</td>\n",
       "      <td>NaN</td>\n",
       "      <td>NaN</td>\n",
       "      <td>NaN</td>\n",
       "    </tr>\n",
       "    <tr>\n",
       "      <th>485</th>\n",
       "      <td>Yes</td>\n",
       "      <td>0.0525</td>\n",
       "      <td>NaN</td>\n",
       "      <td>0.180</td>\n",
       "    </tr>\n",
       "    <tr>\n",
       "      <th>486</th>\n",
       "      <td>Yes</td>\n",
       "      <td>0.0525</td>\n",
       "      <td>NaN</td>\n",
       "      <td>0.180</td>\n",
       "    </tr>\n",
       "    <tr>\n",
       "      <th>491</th>\n",
       "      <td>No</td>\n",
       "      <td>NaN</td>\n",
       "      <td>NaN</td>\n",
       "      <td>NaN</td>\n",
       "    </tr>\n",
       "    <tr>\n",
       "      <th>589</th>\n",
       "      <td>Yes</td>\n",
       "      <td>0.1275</td>\n",
       "      <td>NaN</td>\n",
       "      <td>0.179</td>\n",
       "    </tr>\n",
       "  </tbody>\n",
       "</table>\n",
       "</div>"
      ],
      "text/plain": [
       "    Cash Advance APR Offered?  CA_Min_APR  CA_Median_APR  CA_Max_APR\n",
       "10                         No         NaN            NaN         NaN\n",
       "14                         No         NaN            NaN         NaN\n",
       "138                        No         NaN            NaN         NaN\n",
       "166                        No         NaN            NaN         NaN\n",
       "169                        No         NaN            NaN         NaN\n",
       "170                        No         NaN            NaN         NaN\n",
       "470                        No         NaN            NaN         NaN\n",
       "471                        No         NaN            NaN         NaN\n",
       "485                       Yes      0.0525            NaN       0.180\n",
       "486                       Yes      0.0525            NaN       0.180\n",
       "491                        No         NaN            NaN         NaN\n",
       "589                       Yes      0.1275            NaN       0.179"
      ]
     },
     "execution_count": 68,
     "metadata": {},
     "output_type": "execute_result"
    }
   ],
   "source": [
    "df[selected_cols][mask]"
   ]
  },
  {
   "cell_type": "code",
   "execution_count": 69,
   "id": "64ac4698-176a-45d4-8db0-da09730f08df",
   "metadata": {},
   "outputs": [
    {
     "data": {
      "text/html": [
       "<div>\n",
       "<style scoped>\n",
       "    .dataframe tbody tr th:only-of-type {\n",
       "        vertical-align: middle;\n",
       "    }\n",
       "\n",
       "    .dataframe tbody tr th {\n",
       "        vertical-align: top;\n",
       "    }\n",
       "\n",
       "    .dataframe thead th {\n",
       "        text-align: right;\n",
       "    }\n",
       "</style>\n",
       "<table border=\"1\" class=\"dataframe\">\n",
       "  <thead>\n",
       "    <tr style=\"text-align: right;\">\n",
       "      <th></th>\n",
       "      <th>Cash Advance APR Offered?</th>\n",
       "      <th>CA_Min_APR</th>\n",
       "      <th>CA_Median_APR</th>\n",
       "      <th>CA_Max_APR</th>\n",
       "    </tr>\n",
       "  </thead>\n",
       "  <tbody>\n",
       "    <tr>\n",
       "      <th>4</th>\n",
       "      <td>Yes</td>\n",
       "      <td>0.0790</td>\n",
       "      <td>NaN</td>\n",
       "      <td>0.1690</td>\n",
       "    </tr>\n",
       "    <tr>\n",
       "      <th>5</th>\n",
       "      <td>Yes</td>\n",
       "      <td>0.1290</td>\n",
       "      <td>NaN</td>\n",
       "      <td>0.1680</td>\n",
       "    </tr>\n",
       "    <tr>\n",
       "      <th>6</th>\n",
       "      <td>Yes</td>\n",
       "      <td>0.0799</td>\n",
       "      <td>NaN</td>\n",
       "      <td>0.1800</td>\n",
       "    </tr>\n",
       "    <tr>\n",
       "      <th>9</th>\n",
       "      <td>Yes</td>\n",
       "      <td>0.1050</td>\n",
       "      <td>NaN</td>\n",
       "      <td>0.1800</td>\n",
       "    </tr>\n",
       "    <tr>\n",
       "      <th>11</th>\n",
       "      <td>Yes</td>\n",
       "      <td>0.1099</td>\n",
       "      <td>NaN</td>\n",
       "      <td>0.1599</td>\n",
       "    </tr>\n",
       "    <tr>\n",
       "      <th>...</th>\n",
       "      <td>...</td>\n",
       "      <td>...</td>\n",
       "      <td>...</td>\n",
       "      <td>...</td>\n",
       "    </tr>\n",
       "    <tr>\n",
       "      <th>597</th>\n",
       "      <td>Yes</td>\n",
       "      <td>0.1299</td>\n",
       "      <td>NaN</td>\n",
       "      <td>0.2499</td>\n",
       "    </tr>\n",
       "    <tr>\n",
       "      <th>603</th>\n",
       "      <td>Yes</td>\n",
       "      <td>0.1415</td>\n",
       "      <td>NaN</td>\n",
       "      <td>0.1790</td>\n",
       "    </tr>\n",
       "    <tr>\n",
       "      <th>609</th>\n",
       "      <td>Yes</td>\n",
       "      <td>0.1465</td>\n",
       "      <td>NaN</td>\n",
       "      <td>0.1800</td>\n",
       "    </tr>\n",
       "    <tr>\n",
       "      <th>610</th>\n",
       "      <td>Yes</td>\n",
       "      <td>0.1399</td>\n",
       "      <td>NaN</td>\n",
       "      <td>0.1800</td>\n",
       "    </tr>\n",
       "    <tr>\n",
       "      <th>646</th>\n",
       "      <td>Yes</td>\n",
       "      <td>0.0750</td>\n",
       "      <td>NaN</td>\n",
       "      <td>0.1800</td>\n",
       "    </tr>\n",
       "  </tbody>\n",
       "</table>\n",
       "<p>70 rows × 4 columns</p>\n",
       "</div>"
      ],
      "text/plain": [
       "    Cash Advance APR Offered?  CA_Min_APR  CA_Median_APR  CA_Max_APR\n",
       "4                         Yes      0.0790            NaN      0.1690\n",
       "5                         Yes      0.1290            NaN      0.1680\n",
       "6                         Yes      0.0799            NaN      0.1800\n",
       "9                         Yes      0.1050            NaN      0.1800\n",
       "11                        Yes      0.1099            NaN      0.1599\n",
       "..                        ...         ...            ...         ...\n",
       "597                       Yes      0.1299            NaN      0.2499\n",
       "603                       Yes      0.1415            NaN      0.1790\n",
       "609                       Yes      0.1465            NaN      0.1800\n",
       "610                       Yes      0.1399            NaN      0.1800\n",
       "646                       Yes      0.0750            NaN      0.1800\n",
       "\n",
       "[70 rows x 4 columns]"
      ]
     },
     "execution_count": 69,
     "metadata": {},
     "output_type": "execute_result"
    }
   ],
   "source": [
    "mask = df[\"Cash Advance APR Vary by Credit Tier\"] == \"Yes\"\n",
    "df[selected_cols][mask]"
   ]
  },
  {
   "cell_type": "code",
   "execution_count": 70,
   "id": "855294c3-82e8-488d-897b-d86cf38a21de",
   "metadata": {},
   "outputs": [],
   "source": [
    "df[\"Cash Advance APR Vary by Credit Tier\"].fillna(df[\"Cash Advance APR Offered?\"], inplace=True)"
   ]
  },
  {
   "cell_type": "markdown",
   "id": "0d794f8b-868e-44e6-8f4c-aa2f589afd06",
   "metadata": {},
   "source": [
    "- For \"Cash Advance APR Vary..\", there's a mix of values in related columns, the majority are no or null. We'll impute \"No\" for the rows where \"Cash Advance APR Offered?\" is also No. We'll impute \"Yes\" where \"Cash Advance APR Offered?\" is also Yes as they follow similar behavior\n",
    "- for missing apr values, we'll be using KNNImputer as mentioned above, more on that below.\n",
    "- Grace Period below:"
   ]
  },
  {
   "cell_type": "code",
   "execution_count": 71,
   "id": "9fecbb37-7dff-42ae-89c8-b13ef733d1ca",
   "metadata": {},
   "outputs": [],
   "source": [
    "mask = df[\"Grace Period\"].isna()\n",
    "selected_cols = [\"Grace Period Offered?\"]"
   ]
  },
  {
   "cell_type": "code",
   "execution_count": 72,
   "id": "c16f997f-bec0-467d-a26e-f9dc2756f7a8",
   "metadata": {},
   "outputs": [
    {
     "data": {
      "text/html": [
       "<div>\n",
       "<style scoped>\n",
       "    .dataframe tbody tr th:only-of-type {\n",
       "        vertical-align: middle;\n",
       "    }\n",
       "\n",
       "    .dataframe tbody tr th {\n",
       "        vertical-align: top;\n",
       "    }\n",
       "\n",
       "    .dataframe thead th {\n",
       "        text-align: right;\n",
       "    }\n",
       "</style>\n",
       "<table border=\"1\" class=\"dataframe\">\n",
       "  <thead>\n",
       "    <tr style=\"text-align: right;\">\n",
       "      <th></th>\n",
       "      <th>Grace Period Offered?</th>\n",
       "    </tr>\n",
       "  </thead>\n",
       "  <tbody>\n",
       "    <tr>\n",
       "      <th>580</th>\n",
       "      <td>No</td>\n",
       "    </tr>\n",
       "    <tr>\n",
       "      <th>581</th>\n",
       "      <td>No</td>\n",
       "    </tr>\n",
       "    <tr>\n",
       "      <th>595</th>\n",
       "      <td>No</td>\n",
       "    </tr>\n",
       "    <tr>\n",
       "      <th>647</th>\n",
       "      <td>No</td>\n",
       "    </tr>\n",
       "  </tbody>\n",
       "</table>\n",
       "</div>"
      ],
      "text/plain": [
       "    Grace Period Offered?\n",
       "580                    No\n",
       "581                    No\n",
       "595                    No\n",
       "647                    No"
      ]
     },
     "execution_count": 72,
     "metadata": {},
     "output_type": "execute_result"
    }
   ],
   "source": [
    "df[selected_cols][mask]"
   ]
  },
  {
   "cell_type": "code",
   "execution_count": 73,
   "id": "76ac1d9c-0626-4116-9d71-ba697e4ddbac",
   "metadata": {},
   "outputs": [],
   "source": [
    "df[\"Grace Period\"].fillna(0.0, inplace=True)"
   ]
  },
  {
   "cell_type": "code",
   "execution_count": 74,
   "id": "6dfd750a-8348-4210-8f0a-42865cb273a3",
   "metadata": {
    "tags": []
   },
   "outputs": [
    {
     "data": {
      "text/plain": [
       "BT_Min_APR                                0\n",
       "BT_Max_APR                                0\n",
       "Median Length of Balance Transfer APR     0\n",
       "Balance Transfer Grace Period             0\n",
       "Cash Advance APR Offered?                 0\n",
       "Cash Advance APR Vary by Credit Tier      0\n",
       "CA_Min_APR                                9\n",
       "CA_Median_APR                            82\n",
       "CA_Max_APR                                9\n",
       "Grace Period Offered?                     0\n",
       "Grace Period                              0\n",
       "dtype: int64"
      ]
     },
     "execution_count": 74,
     "metadata": {},
     "output_type": "execute_result"
    }
   ],
   "source": [
    "df.iloc[:, 20:31].isnull().sum()"
   ]
  },
  {
   "cell_type": "markdown",
   "id": "88c19665-cd37-4cf4-86b8-e542d867a338",
   "metadata": {},
   "source": [
    "### Columns 31 - 40 Clean and FE\n",
    "---"
   ]
  },
  {
   "cell_type": "code",
   "execution_count": 75,
   "id": "256a6bcb-444d-49ff-ab89-b959b46c0778",
   "metadata": {},
   "outputs": [
    {
     "data": {
      "text/html": [
       "<div>\n",
       "<style scoped>\n",
       "    .dataframe tbody tr th:only-of-type {\n",
       "        vertical-align: middle;\n",
       "    }\n",
       "\n",
       "    .dataframe tbody tr th {\n",
       "        vertical-align: top;\n",
       "    }\n",
       "\n",
       "    .dataframe thead th {\n",
       "        text-align: right;\n",
       "    }\n",
       "</style>\n",
       "<table border=\"1\" class=\"dataframe\">\n",
       "  <thead>\n",
       "    <tr style=\"text-align: right;\">\n",
       "      <th></th>\n",
       "      <th>Minimum Finance Charge?</th>\n",
       "      <th>Minimum Finance Charge (Dollars)</th>\n",
       "      <th>Balance Computation Method</th>\n",
       "      <th>Purchase Transaction Fees</th>\n",
       "      <th>Balance Transfer Fees?</th>\n",
       "      <th>Balance Transfer Fee Types</th>\n",
       "      <th>Balance Transfer Fee (%)</th>\n",
       "      <th>Cash Advance Fees?</th>\n",
       "      <th>Cash Advance Fee For Each Transaction</th>\n",
       "      <th>Cash Advance Fee Types</th>\n",
       "    </tr>\n",
       "  </thead>\n",
       "  <tbody>\n",
       "    <tr>\n",
       "      <th>0</th>\n",
       "      <td>No</td>\n",
       "      <td>NaN</td>\n",
       "      <td>Average daily balance including new purchases</td>\n",
       "      <td>No</td>\n",
       "      <td>Yes</td>\n",
       "      <td>2. If fee is percentage of transaction amount,...</td>\n",
       "      <td>0.03</td>\n",
       "      <td>Yes</td>\n",
       "      <td>No</td>\n",
       "      <td>2. If the fee is a percentage of transaction a...</td>\n",
       "    </tr>\n",
       "    <tr>\n",
       "      <th>1</th>\n",
       "      <td>Yes</td>\n",
       "      <td>0.01</td>\n",
       "      <td>Average daily balance including new purchases</td>\n",
       "      <td>No</td>\n",
       "      <td>No</td>\n",
       "      <td>NaN</td>\n",
       "      <td>NaN</td>\n",
       "      <td>No</td>\n",
       "      <td>NaN</td>\n",
       "      <td>NaN</td>\n",
       "    </tr>\n",
       "    <tr>\n",
       "      <th>2</th>\n",
       "      <td>Yes</td>\n",
       "      <td>0.50</td>\n",
       "      <td>Average daily balance excluding new purchases</td>\n",
       "      <td>No</td>\n",
       "      <td>Yes</td>\n",
       "      <td>1. If fee is charged in dollars, what is the a...</td>\n",
       "      <td>0.03</td>\n",
       "      <td>Yes</td>\n",
       "      <td>Yes</td>\n",
       "      <td>1. If the fee is charged in dollars, what is t...</td>\n",
       "    </tr>\n",
       "    <tr>\n",
       "      <th>3</th>\n",
       "      <td>No</td>\n",
       "      <td>NaN</td>\n",
       "      <td>Average daily balance including new purchases</td>\n",
       "      <td>No</td>\n",
       "      <td>No</td>\n",
       "      <td>NaN</td>\n",
       "      <td>NaN</td>\n",
       "      <td>No</td>\n",
       "      <td>NaN</td>\n",
       "      <td>NaN</td>\n",
       "    </tr>\n",
       "    <tr>\n",
       "      <th>4</th>\n",
       "      <td>No</td>\n",
       "      <td>NaN</td>\n",
       "      <td>Average daily balance including new purchases</td>\n",
       "      <td>No</td>\n",
       "      <td>No</td>\n",
       "      <td>NaN</td>\n",
       "      <td>NaN</td>\n",
       "      <td>No</td>\n",
       "      <td>NaN</td>\n",
       "      <td>NaN</td>\n",
       "    </tr>\n",
       "  </tbody>\n",
       "</table>\n",
       "</div>"
      ],
      "text/plain": [
       "  Minimum Finance Charge?  Minimum Finance Charge (Dollars)  \\\n",
       "0                      No                               NaN   \n",
       "1                     Yes                              0.01   \n",
       "2                     Yes                              0.50   \n",
       "3                      No                               NaN   \n",
       "4                      No                               NaN   \n",
       "\n",
       "                      Balance Computation Method Purchase Transaction Fees  \\\n",
       "0  Average daily balance including new purchases                        No   \n",
       "1  Average daily balance including new purchases                        No   \n",
       "2  Average daily balance excluding new purchases                        No   \n",
       "3  Average daily balance including new purchases                        No   \n",
       "4  Average daily balance including new purchases                        No   \n",
       "\n",
       "  Balance Transfer Fees?                         Balance Transfer Fee Types  \\\n",
       "0                    Yes  2. If fee is percentage of transaction amount,...   \n",
       "1                     No                                                NaN   \n",
       "2                    Yes  1. If fee is charged in dollars, what is the a...   \n",
       "3                     No                                                NaN   \n",
       "4                     No                                                NaN   \n",
       "\n",
       "   Balance Transfer Fee (%) Cash Advance Fees?  \\\n",
       "0                      0.03                Yes   \n",
       "1                       NaN                 No   \n",
       "2                      0.03                Yes   \n",
       "3                       NaN                 No   \n",
       "4                       NaN                 No   \n",
       "\n",
       "  Cash Advance Fee For Each Transaction  \\\n",
       "0                                    No   \n",
       "1                                   NaN   \n",
       "2                                   Yes   \n",
       "3                                   NaN   \n",
       "4                                   NaN   \n",
       "\n",
       "                              Cash Advance Fee Types  \n",
       "0  2. If the fee is a percentage of transaction a...  \n",
       "1                                                NaN  \n",
       "2  1. If the fee is charged in dollars, what is t...  \n",
       "3                                                NaN  \n",
       "4                                                NaN  "
      ]
     },
     "execution_count": 75,
     "metadata": {},
     "output_type": "execute_result"
    }
   ],
   "source": [
    "df.iloc[:5, 31:41]"
   ]
  },
  {
   "cell_type": "code",
   "execution_count": 76,
   "id": "2728ad1f-0170-4df8-b88a-79eb9ad1684f",
   "metadata": {},
   "outputs": [
    {
     "data": {
      "text/plain": [
       "Minimum Finance Charge?                    0\n",
       "Minimum Finance Charge (Dollars)         243\n",
       "Balance Computation Method                 0\n",
       "Purchase Transaction Fees                  0\n",
       "Balance Transfer Fees?                     0\n",
       "Balance Transfer Fee Types               239\n",
       "Balance Transfer Fee (%)                 253\n",
       "Cash Advance Fees?                         0\n",
       "Cash Advance Fee For Each Transaction     75\n",
       "Cash Advance Fee Types                    75\n",
       "dtype: int64"
      ]
     },
     "execution_count": 76,
     "metadata": {},
     "output_type": "execute_result"
    }
   ],
   "source": [
    "df.iloc[:, 31:41].isnull().sum()"
   ]
  },
  {
   "cell_type": "code",
   "execution_count": 77,
   "id": "84602078-4bdd-474d-b12d-b16ff38076e5",
   "metadata": {},
   "outputs": [
    {
     "data": {
      "text/plain": [
       "Minimum Finance Charge?\n",
       "Yes    405\n",
       "No     243\n",
       "Name: count, dtype: int64"
      ]
     },
     "execution_count": 77,
     "metadata": {},
     "output_type": "execute_result"
    }
   ],
   "source": [
    "df[\"Minimum Finance Charge?\"].value_counts()"
   ]
  },
  {
   "cell_type": "code",
   "execution_count": 78,
   "id": "80909a30-bdc3-4beb-8dc7-fbeb00680e55",
   "metadata": {},
   "outputs": [
    {
     "data": {
      "text/plain": [
       "Balance Transfer Fees?\n",
       "Yes    409\n",
       "No     239\n",
       "Name: count, dtype: int64"
      ]
     },
     "execution_count": 78,
     "metadata": {},
     "output_type": "execute_result"
    }
   ],
   "source": [
    "df[\"Balance Transfer Fees?\"].value_counts()"
   ]
  },
  {
   "cell_type": "code",
   "execution_count": 79,
   "id": "018d7c69-3f4b-4e5f-8bb9-9175b61f477a",
   "metadata": {},
   "outputs": [
    {
     "data": {
      "text/plain": [
       "Cash Advance Fees?\n",
       "Yes    573\n",
       "No      75\n",
       "Name: count, dtype: int64"
      ]
     },
     "execution_count": 79,
     "metadata": {},
     "output_type": "execute_result"
    }
   ],
   "source": [
    "df[\"Cash Advance Fees?\"].value_counts()"
   ]
  },
  {
   "cell_type": "code",
   "execution_count": 80,
   "id": "1f731d1d-e23d-43e2-865e-ca5ae808a1e2",
   "metadata": {},
   "outputs": [],
   "source": [
    "df[\"Minimum Finance Charge (Dollars)\"].fillna(0.0, inplace=True)"
   ]
  },
  {
   "cell_type": "code",
   "execution_count": 81,
   "id": "a6097476-8920-4072-a7a0-55d1926fe96e",
   "metadata": {},
   "outputs": [
    {
     "data": {
      "text/plain": [
       "Balance Transfer Fee Types\n",
       "1. If fee is charged in dollars, what is the amount?; 2. If fee is percentage of transaction amount, what is it?                                                                                                                          199\n",
       "2. If fee is percentage of transaction amount, what is it?; 3. If there's a minimum dollar amount, what is it?                                                                                                                            124\n",
       "2. If fee is percentage of transaction amount, what is it?                                                                                                                                                                                 59\n",
       "4. If the fee is not a percentage, or a percentage subject to a minimum dollar amount, how do you calculate the fee?                                                                                                                       13\n",
       "1. If fee is charged in dollars, what is the amount?; 2. If fee is percentage of transaction amount, what is it?; 4. If the fee is not a percentage, or a percentage subject to a minimum dollar amount, how do you calculate the fee?      7\n",
       "2. If fee is percentage of transaction amount, what is it?; 4. If the fee is not a percentage, or a percentage subject to a minimum dollar amount, how do you calculate the fee?                                                            3\n",
       "1. If fee is charged in dollars, what is the amount?; 2. If fee is percentage of transaction amount, what is it?; 3. If there's a minimum dollar amount, what is it?                                                                        3\n",
       "1. If fee is charged in dollars, what is the amount?; 4. If the fee is not a percentage, or a percentage subject to a minimum dollar amount, how do you calculate the fee?                                                                  1\n",
       "Name: count, dtype: int64"
      ]
     },
     "execution_count": 81,
     "metadata": {},
     "output_type": "execute_result"
    }
   ],
   "source": [
    "df[\"Balance Transfer Fee Types\"].value_counts()"
   ]
  },
  {
   "cell_type": "code",
   "execution_count": 82,
   "id": "7facb4f9-52c3-4dc0-8ae9-cb5000802457",
   "metadata": {},
   "outputs": [],
   "source": [
    "df[\"Balance Transfer Fee Types\"].fillna(\"__\", inplace=True)"
   ]
  },
  {
   "cell_type": "code",
   "execution_count": 83,
   "id": "c4a2fc8d-3274-4ecf-9889-2805b09fe001",
   "metadata": {},
   "outputs": [
    {
     "data": {
      "text/html": [
       "<div>\n",
       "<style scoped>\n",
       "    .dataframe tbody tr th:only-of-type {\n",
       "        vertical-align: middle;\n",
       "    }\n",
       "\n",
       "    .dataframe tbody tr th {\n",
       "        vertical-align: top;\n",
       "    }\n",
       "\n",
       "    .dataframe thead th {\n",
       "        text-align: right;\n",
       "    }\n",
       "</style>\n",
       "<table border=\"1\" class=\"dataframe\">\n",
       "  <thead>\n",
       "    <tr style=\"text-align: right;\">\n",
       "      <th></th>\n",
       "      <th>Balance Transfer Fees?</th>\n",
       "      <th>Balance Transfer Fee Types</th>\n",
       "    </tr>\n",
       "  </thead>\n",
       "  <tbody>\n",
       "    <tr>\n",
       "      <th>1</th>\n",
       "      <td>No</td>\n",
       "      <td>__</td>\n",
       "    </tr>\n",
       "    <tr>\n",
       "      <th>3</th>\n",
       "      <td>No</td>\n",
       "      <td>__</td>\n",
       "    </tr>\n",
       "    <tr>\n",
       "      <th>4</th>\n",
       "      <td>No</td>\n",
       "      <td>__</td>\n",
       "    </tr>\n",
       "    <tr>\n",
       "      <th>5</th>\n",
       "      <td>No</td>\n",
       "      <td>__</td>\n",
       "    </tr>\n",
       "    <tr>\n",
       "      <th>6</th>\n",
       "      <td>No</td>\n",
       "      <td>__</td>\n",
       "    </tr>\n",
       "    <tr>\n",
       "      <th>...</th>\n",
       "      <td>...</td>\n",
       "      <td>...</td>\n",
       "    </tr>\n",
       "    <tr>\n",
       "      <th>609</th>\n",
       "      <td>No</td>\n",
       "      <td>__</td>\n",
       "    </tr>\n",
       "    <tr>\n",
       "      <th>610</th>\n",
       "      <td>No</td>\n",
       "      <td>__</td>\n",
       "    </tr>\n",
       "    <tr>\n",
       "      <th>629</th>\n",
       "      <td>No</td>\n",
       "      <td>__</td>\n",
       "    </tr>\n",
       "    <tr>\n",
       "      <th>630</th>\n",
       "      <td>No</td>\n",
       "      <td>__</td>\n",
       "    </tr>\n",
       "    <tr>\n",
       "      <th>646</th>\n",
       "      <td>No</td>\n",
       "      <td>__</td>\n",
       "    </tr>\n",
       "  </tbody>\n",
       "</table>\n",
       "<p>253 rows × 2 columns</p>\n",
       "</div>"
      ],
      "text/plain": [
       "    Balance Transfer Fees? Balance Transfer Fee Types\n",
       "1                       No                         __\n",
       "3                       No                         __\n",
       "4                       No                         __\n",
       "5                       No                         __\n",
       "6                       No                         __\n",
       "..                     ...                        ...\n",
       "609                     No                         __\n",
       "610                     No                         __\n",
       "629                     No                         __\n",
       "630                     No                         __\n",
       "646                     No                         __\n",
       "\n",
       "[253 rows x 2 columns]"
      ]
     },
     "execution_count": 83,
     "metadata": {},
     "output_type": "execute_result"
    }
   ],
   "source": [
    "mask = df[\"Balance Transfer Fee (%)\"].isna()\n",
    "selected_cols = [\"Balance Transfer Fees?\",\"Balance Transfer Fee Types\"]\n",
    "df[selected_cols][mask]"
   ]
  },
  {
   "cell_type": "code",
   "execution_count": 84,
   "id": "e3f74d18-5007-4d15-b72c-15ab95fabc53",
   "metadata": {},
   "outputs": [],
   "source": [
    "df[\"Balance Transfer Fee (%)\"].fillna(0.0,inplace=True)"
   ]
  },
  {
   "cell_type": "code",
   "execution_count": 85,
   "id": "073a3e55-878d-475b-bb2e-a59be9228ec6",
   "metadata": {},
   "outputs": [
    {
     "data": {
      "text/plain": [
       "Cash Advance Fee For Each Transaction\n",
       "Yes    556\n",
       "No      17\n",
       "Name: count, dtype: int64"
      ]
     },
     "execution_count": 85,
     "metadata": {},
     "output_type": "execute_result"
    }
   ],
   "source": [
    "df[\"Cash Advance Fee For Each Transaction\"].value_counts()"
   ]
  },
  {
   "cell_type": "code",
   "execution_count": 86,
   "id": "12a20f86-47c8-4296-8d28-36cf72d1a9bf",
   "metadata": {},
   "outputs": [],
   "source": [
    "df[\"Cash Advance Fee For Each Transaction\"].fillna(\"__\", inplace=True)\n",
    "df[\"Cash Advance Fee Types\"].fillna(\"__\", inplace=True)"
   ]
  },
  {
   "cell_type": "markdown",
   "id": "27e2d99c-e782-449a-ad6a-38158a5ab83f",
   "metadata": {},
   "source": [
    "- Easy Answers for a couple of columns, where their respective columns have \"No\" and the number of nulls lines up, we will impute with either 0 for numerical values, and '__' for categorical"
   ]
  },
  {
   "cell_type": "code",
   "execution_count": 87,
   "id": "100800fe-ed54-4704-a082-cc0688ec51a5",
   "metadata": {},
   "outputs": [
    {
     "data": {
      "text/plain": [
       "Minimum Finance Charge?                  0\n",
       "Minimum Finance Charge (Dollars)         0\n",
       "Balance Computation Method               0\n",
       "Purchase Transaction Fees                0\n",
       "Balance Transfer Fees?                   0\n",
       "Balance Transfer Fee Types               0\n",
       "Balance Transfer Fee (%)                 0\n",
       "Cash Advance Fees?                       0\n",
       "Cash Advance Fee For Each Transaction    0\n",
       "Cash Advance Fee Types                   0\n",
       "dtype: int64"
      ]
     },
     "execution_count": 87,
     "metadata": {},
     "output_type": "execute_result"
    }
   ],
   "source": [
    "df.iloc[:, 31:41].isnull().sum()"
   ]
  },
  {
   "cell_type": "markdown",
   "id": "b90843dc-def5-4f69-8c17-6c5ca5c4f646",
   "metadata": {},
   "source": [
    "### Columns 41 - 50 Clean and FE\n",
    "---"
   ]
  },
  {
   "cell_type": "code",
   "execution_count": 88,
   "id": "cba9733c-080f-465a-b861-17f0dfb64350",
   "metadata": {},
   "outputs": [
    {
     "data": {
      "text/html": [
       "<div>\n",
       "<style scoped>\n",
       "    .dataframe tbody tr th:only-of-type {\n",
       "        vertical-align: middle;\n",
       "    }\n",
       "\n",
       "    .dataframe tbody tr th {\n",
       "        vertical-align: top;\n",
       "    }\n",
       "\n",
       "    .dataframe thead th {\n",
       "        text-align: right;\n",
       "    }\n",
       "</style>\n",
       "<table border=\"1\" class=\"dataframe\">\n",
       "  <thead>\n",
       "    <tr style=\"text-align: right;\">\n",
       "      <th></th>\n",
       "      <th>Amount (Percent) - Transaction Fee</th>\n",
       "      <th>Foreign Transaction Fees?</th>\n",
       "      <th>Foreign Transaction Fees Types</th>\n",
       "      <th>Foreign Transaction Fee (%)</th>\n",
       "      <th>Late Fees?</th>\n",
       "      <th>Late Fee Types</th>\n",
       "      <th>Amount (Dollars) - Late Payment Fee</th>\n",
       "      <th>Late Fee Six Month Billing Cycle</th>\n",
       "      <th>Late Fee Policy Details</th>\n",
       "      <th>Over Limit Fees?</th>\n",
       "    </tr>\n",
       "  </thead>\n",
       "  <tbody>\n",
       "    <tr>\n",
       "      <th>0</th>\n",
       "      <td>0.02</td>\n",
       "      <td>Yes</td>\n",
       "      <td>2. If fee is percentage of transaction amount,...</td>\n",
       "      <td>0.01</td>\n",
       "      <td>Yes</td>\n",
       "      <td>1. What is the amount of the first late fee on...</td>\n",
       "      <td>10.0</td>\n",
       "      <td>NaN</td>\n",
       "      <td>NaN</td>\n",
       "      <td>No</td>\n",
       "    </tr>\n",
       "    <tr>\n",
       "      <th>1</th>\n",
       "      <td>NaN</td>\n",
       "      <td>No</td>\n",
       "      <td>NaN</td>\n",
       "      <td>NaN</td>\n",
       "      <td>No</td>\n",
       "      <td>NaN</td>\n",
       "      <td>NaN</td>\n",
       "      <td>NaN</td>\n",
       "      <td>NaN</td>\n",
       "      <td>Yes</td>\n",
       "    </tr>\n",
       "    <tr>\n",
       "      <th>2</th>\n",
       "      <td>0.03</td>\n",
       "      <td>No</td>\n",
       "      <td>NaN</td>\n",
       "      <td>NaN</td>\n",
       "      <td>Yes</td>\n",
       "      <td>1. What is the amount of the first late fee on...</td>\n",
       "      <td>29.0</td>\n",
       "      <td>40.0</td>\n",
       "      <td>NaN</td>\n",
       "      <td>No</td>\n",
       "    </tr>\n",
       "    <tr>\n",
       "      <th>3</th>\n",
       "      <td>NaN</td>\n",
       "      <td>Yes</td>\n",
       "      <td>2. If fee is percentage of transaction amount,...</td>\n",
       "      <td>0.01</td>\n",
       "      <td>Yes</td>\n",
       "      <td>3. If you charge late fees that are not fixed ...</td>\n",
       "      <td>NaN</td>\n",
       "      <td>NaN</td>\n",
       "      <td>$5.00 or if balance is less than $5.00 then th...</td>\n",
       "      <td>No</td>\n",
       "    </tr>\n",
       "    <tr>\n",
       "      <th>4</th>\n",
       "      <td>NaN</td>\n",
       "      <td>Yes</td>\n",
       "      <td>2. If fee is percentage of transaction amount,...</td>\n",
       "      <td>0.01</td>\n",
       "      <td>Yes</td>\n",
       "      <td>3. If you charge late fees that are not fixed ...</td>\n",
       "      <td>NaN</td>\n",
       "      <td>NaN</td>\n",
       "      <td>5% of the payment due, minimum $15.00 not to e...</td>\n",
       "      <td>No</td>\n",
       "    </tr>\n",
       "  </tbody>\n",
       "</table>\n",
       "</div>"
      ],
      "text/plain": [
       "   Amount (Percent) - Transaction Fee Foreign Transaction Fees?  \\\n",
       "0                                0.02                       Yes   \n",
       "1                                 NaN                        No   \n",
       "2                                0.03                        No   \n",
       "3                                 NaN                       Yes   \n",
       "4                                 NaN                       Yes   \n",
       "\n",
       "                      Foreign Transaction Fees Types  \\\n",
       "0  2. If fee is percentage of transaction amount,...   \n",
       "1                                                NaN   \n",
       "2                                                NaN   \n",
       "3  2. If fee is percentage of transaction amount,...   \n",
       "4  2. If fee is percentage of transaction amount,...   \n",
       "\n",
       "   Foreign Transaction Fee (%) Late Fees?  \\\n",
       "0                         0.01        Yes   \n",
       "1                          NaN         No   \n",
       "2                          NaN        Yes   \n",
       "3                         0.01        Yes   \n",
       "4                         0.01        Yes   \n",
       "\n",
       "                                      Late Fee Types  \\\n",
       "0  1. What is the amount of the first late fee on...   \n",
       "1                                                NaN   \n",
       "2  1. What is the amount of the first late fee on...   \n",
       "3  3. If you charge late fees that are not fixed ...   \n",
       "4  3. If you charge late fees that are not fixed ...   \n",
       "\n",
       "   Amount (Dollars) - Late Payment Fee  Late Fee Six Month Billing Cycle  \\\n",
       "0                                 10.0                               NaN   \n",
       "1                                  NaN                               NaN   \n",
       "2                                 29.0                              40.0   \n",
       "3                                  NaN                               NaN   \n",
       "4                                  NaN                               NaN   \n",
       "\n",
       "                             Late Fee Policy Details Over Limit Fees?  \n",
       "0                                                NaN               No  \n",
       "1                                                NaN              Yes  \n",
       "2                                                NaN               No  \n",
       "3  $5.00 or if balance is less than $5.00 then th...               No  \n",
       "4  5% of the payment due, minimum $15.00 not to e...               No  "
      ]
     },
     "execution_count": 88,
     "metadata": {},
     "output_type": "execute_result"
    }
   ],
   "source": [
    "df.iloc[:5, 41:51]"
   ]
  },
  {
   "cell_type": "code",
   "execution_count": 89,
   "id": "680bd80c-9a91-4dca-978e-6e94f2bbda2c",
   "metadata": {},
   "outputs": [
    {
     "data": {
      "text/plain": [
       "Amount (Percent) - Transaction Fee     172\n",
       "Foreign Transaction Fees?                0\n",
       "Foreign Transaction Fees Types         245\n",
       "Foreign Transaction Fee (%)            249\n",
       "Late Fees?                               0\n",
       "Late Fee Types                           7\n",
       "Amount (Dollars) - Late Payment Fee    110\n",
       "Late Fee Six Month Billing Cycle       130\n",
       "Late Fee Policy Details                320\n",
       "Over Limit Fees?                         0\n",
       "dtype: int64"
      ]
     },
     "execution_count": 89,
     "metadata": {},
     "output_type": "execute_result"
    }
   ],
   "source": [
    "df.iloc[:, 41:51].isnull().sum()"
   ]
  },
  {
   "cell_type": "markdown",
   "id": "08dbc516-e215-40c7-8407-8d484c1c99b3",
   "metadata": {},
   "source": [
    "- There's no real way to verify what the Amount - fields are in reference to and so will drop them for now. If in the future someone is able to decipher their meaning feel free to include them again\n",
    "- Similar treatments as above patterns"
   ]
  },
  {
   "cell_type": "code",
   "execution_count": 90,
   "id": "37c07486-4c84-4724-8286-0b965fee547a",
   "metadata": {},
   "outputs": [],
   "source": [
    "df.drop(columns=[\"Amount (Percent) - Transaction Fee\",\"Amount (Dollars) - Late Payment Fee\"], inplace=True)"
   ]
  },
  {
   "cell_type": "code",
   "execution_count": 91,
   "id": "7bbd90d9-c09d-4d41-918e-215ba88a6b3f",
   "metadata": {},
   "outputs": [
    {
     "data": {
      "text/plain": [
       "Foreign Transaction Fees?             0\n",
       "Foreign Transaction Fees Types      245\n",
       "Foreign Transaction Fee (%)         249\n",
       "Late Fees?                            0\n",
       "Late Fee Types                        7\n",
       "Late Fee Six Month Billing Cycle    130\n",
       "Late Fee Policy Details             320\n",
       "Over Limit Fees?                      0\n",
       "Other Fees                            0\n",
       "Additional Fees                     148\n",
       "dtype: int64"
      ]
     },
     "execution_count": 91,
     "metadata": {},
     "output_type": "execute_result"
    }
   ],
   "source": [
    "df.iloc[:, 41:51].isnull().sum()"
   ]
  },
  {
   "cell_type": "code",
   "execution_count": 92,
   "id": "57a05158-8bc6-459b-812f-52993a897c73",
   "metadata": {},
   "outputs": [
    {
     "data": {
      "text/plain": [
       "Foreign Transaction Fees?\n",
       "Yes    403\n",
       "No     245\n",
       "Name: count, dtype: int64"
      ]
     },
     "execution_count": 92,
     "metadata": {},
     "output_type": "execute_result"
    }
   ],
   "source": [
    "df[\"Foreign Transaction Fees?\"].value_counts()"
   ]
  },
  {
   "cell_type": "code",
   "execution_count": 93,
   "id": "bd9b05e3-b6e2-40a6-b242-c51174827303",
   "metadata": {},
   "outputs": [],
   "source": [
    "df[\"Foreign Transaction Fees Types\"].fillna('__', inplace=True)"
   ]
  },
  {
   "cell_type": "code",
   "execution_count": 94,
   "id": "f9a08a5e-6f99-4192-8de2-fce6913986a6",
   "metadata": {},
   "outputs": [
    {
     "data": {
      "text/plain": [
       "Foreign Transaction Fees Types                                                                                      \n",
       "__                                                                                                                      245\n",
       "4. If the fee is not a percentage, or a percentage subject to a minimum dollar amount, how do you calculate the fee?      4\n",
       "Name: count, dtype: int64"
      ]
     },
     "execution_count": 94,
     "metadata": {},
     "output_type": "execute_result"
    }
   ],
   "source": [
    "mask = df[\"Foreign Transaction Fee (%)\"].isna()\n",
    "df[[\"Foreign Transaction Fees Types\"]][mask].value_counts()"
   ]
  },
  {
   "cell_type": "code",
   "execution_count": 95,
   "id": "d768a2c0-e932-4617-ae74-1f98adb8117e",
   "metadata": {},
   "outputs": [],
   "source": [
    "df[\"Foreign Transaction Fee (%)\"].fillna(4.0,inplace=True)"
   ]
  },
  {
   "cell_type": "markdown",
   "id": "8feab44d-3a4d-4f91-bce2-957203648d5e",
   "metadata": {},
   "source": [
    "- admittedly a quick decision, but given time constraints and the given value of FT fee type for the remaining null values, we imputed 4% as a guess from the above."
   ]
  },
  {
   "cell_type": "code",
   "execution_count": 96,
   "id": "4563a887-7818-402c-8a61-b17018f9b8e1",
   "metadata": {},
   "outputs": [
    {
     "data": {
      "text/plain": [
       "Late Fees?\n",
       "Yes    641\n",
       "No       7\n",
       "Name: count, dtype: int64"
      ]
     },
     "execution_count": 96,
     "metadata": {},
     "output_type": "execute_result"
    }
   ],
   "source": [
    "df[\"Late Fees?\"].value_counts()"
   ]
  },
  {
   "cell_type": "code",
   "execution_count": 97,
   "id": "d58c8fdb-4285-4aaf-8907-8d095fc9fed3",
   "metadata": {},
   "outputs": [],
   "source": [
    "df[\"Late Fee Types\"].fillna('__', inplace=True)"
   ]
  },
  {
   "cell_type": "code",
   "execution_count": 98,
   "id": "c4d5b504-1279-4bc2-a251-b0ad977ee24a",
   "metadata": {},
   "outputs": [
    {
     "data": {
      "text/plain": [
       "Late Fee Types\n",
       "1. What is the amount of the first late fee on the account?; 2. What is the amount of late fees charged within six billing cycles of a previous late fee (repeat late fee)?                                                                                                             264\n",
       "1. What is the amount of the first late fee on the account?; 2. What is the amount of late fees charged within six billing cycles of a previous late fee (repeat late fee)?; 3. If you charge late fees that are not fixed dollar amounts, please explain your late fee policy here.    219\n",
       "3. If you charge late fees that are not fixed dollar amounts, please explain your late fee policy here.                                                                                                                                                                                  68\n",
       "1. What is the amount of the first late fee on the account?                                                                                                                                                                                                                              50\n",
       "2. What is the amount of late fees charged within six billing cycles of a previous late fee (repeat late fee)?; 3. If you charge late fees that are not fixed dollar amounts, please explain your late fee policy here.                                                                  35\n",
       "__                                                                                                                                                                                                                                                                                        7\n",
       "1. What is the amount of the first late fee on the account?; 3. If you charge late fees that are not fixed dollar amounts, please explain your late fee policy here.                                                                                                                      5\n",
       "Name: count, dtype: int64"
      ]
     },
     "execution_count": 98,
     "metadata": {},
     "output_type": "execute_result"
    }
   ],
   "source": [
    "df[\"Late Fee Types\"].value_counts()"
   ]
  },
  {
   "cell_type": "code",
   "execution_count": 99,
   "id": "b793a300-59a5-415b-a9ee-5c38bcfb462a",
   "metadata": {},
   "outputs": [
    {
     "data": {
      "text/plain": [
       "Late Fee Six Month Billing Cycle\n",
       "40.0     309\n",
       "39.0      71\n",
       "41.0      55\n",
       "35.0      27\n",
       "25.0      17\n",
       "38.0      16\n",
       "15.0       6\n",
       "29.0       5\n",
       "27.0       4\n",
       "10.0       3\n",
       "37.0       2\n",
       "0.0        1\n",
       "24.5       1\n",
       "246.0      1\n",
       "Name: count, dtype: int64"
      ]
     },
     "execution_count": 99,
     "metadata": {},
     "output_type": "execute_result"
    }
   ],
   "source": [
    "df[\"Late Fee Six Month Billing Cycle\"].value_counts()"
   ]
  },
  {
   "cell_type": "code",
   "execution_count": 100,
   "id": "a34c47b0-ca6d-421a-ac1c-c8cc8e887b5d",
   "metadata": {},
   "outputs": [],
   "source": [
    "df[\"Late Fee Six Month Billing Cycle\"].fillna(0.0, inplace=True)"
   ]
  },
  {
   "cell_type": "markdown",
   "id": "469fa5e9-d167-4c36-9b79-dc1836189f99",
   "metadata": {},
   "source": [
    "- given the array of values, it's possible that there is no late fee 6 month billing cycle thus no value, will impute 0.0 to retain value"
   ]
  },
  {
   "cell_type": "code",
   "execution_count": 101,
   "id": "4433a166-0908-46c6-b80f-ea4a1345c27f",
   "metadata": {},
   "outputs": [
    {
     "data": {
      "text/plain": [
       "Late Fee Policy Details\n",
       "Late Fee cannot exceed the minimum payment due.                163\n",
       "Up to $29.00 for first late fee.                                24\n",
       "The late fee will not exceed the Minimum Payment Due.           16\n",
       "Up to $41                                                       15\n",
       "Up to $27.00 for first late fee.                                 8\n",
       "                                                              ... \n",
       "$25.00 or your minimum payment required, whichever is less.      1\n",
       "The lesser of $15 or the amount past due.                        1\n",
       "5% of the payment due, minimum $15.00 not to exceed $27.00       1\n",
       "Up to $10                                                        1\n",
       "$10 or 10% of the outstanding balance, whichever is less         1\n",
       "Name: count, Length: 63, dtype: int64"
      ]
     },
     "execution_count": 101,
     "metadata": {},
     "output_type": "execute_result"
    }
   ],
   "source": [
    "df[\"Late Fee Policy Details\"].value_counts()"
   ]
  },
  {
   "cell_type": "code",
   "execution_count": 102,
   "id": "2b5ec355-98dd-47f0-9eb8-25a408220dbf",
   "metadata": {},
   "outputs": [],
   "source": [
    "df[\"Late Fee Policy Details\"].fillna(\"__\", inplace=True)"
   ]
  },
  {
   "cell_type": "code",
   "execution_count": 103,
   "id": "5d22b51a-a13f-42c1-af05-94856cc814a4",
   "metadata": {},
   "outputs": [
    {
     "data": {
      "text/plain": [
       "Additional Fees\n",
       "Yes    358\n",
       "No     142\n",
       "Name: count, dtype: int64"
      ]
     },
     "execution_count": 103,
     "metadata": {},
     "output_type": "execute_result"
    }
   ],
   "source": [
    "df[\"Additional Fees\"].value_counts()"
   ]
  },
  {
   "cell_type": "code",
   "execution_count": 104,
   "id": "2aa8de52-eed6-4d99-82e9-1e449a635601",
   "metadata": {},
   "outputs": [
    {
     "data": {
      "text/plain": [
       "Foreign Transaction Fees?             0\n",
       "Foreign Transaction Fees Types        0\n",
       "Foreign Transaction Fee (%)           0\n",
       "Late Fees?                            0\n",
       "Late Fee Types                        0\n",
       "Late Fee Six Month Billing Cycle      0\n",
       "Late Fee Policy Details               0\n",
       "Over Limit Fees?                      0\n",
       "Other Fees                            0\n",
       "Additional Fees                     148\n",
       "dtype: int64"
      ]
     },
     "execution_count": 104,
     "metadata": {},
     "output_type": "execute_result"
    }
   ],
   "source": [
    "df.iloc[:, 41:51].isnull().sum()"
   ]
  },
  {
   "cell_type": "markdown",
   "id": "24ce82e7-b8fb-4026-baf1-118826ac2184",
   "metadata": {
    "jp-MarkdownHeadingCollapsed": true,
    "tags": []
   },
   "source": [
    "### Columns 51 - 60 Clean and FE\n",
    "---"
   ]
  },
  {
   "cell_type": "code",
   "execution_count": 105,
   "id": "6220d820-2c5e-44a1-92b8-5e98e4e51d36",
   "metadata": {},
   "outputs": [
    {
     "data": {
      "text/html": [
       "<div>\n",
       "<style scoped>\n",
       "    .dataframe tbody tr th:only-of-type {\n",
       "        vertical-align: middle;\n",
       "    }\n",
       "\n",
       "    .dataframe tbody tr th {\n",
       "        vertical-align: top;\n",
       "    }\n",
       "\n",
       "    .dataframe thead th {\n",
       "        text-align: right;\n",
       "    }\n",
       "</style>\n",
       "<table border=\"1\" class=\"dataframe\">\n",
       "  <thead>\n",
       "    <tr style=\"text-align: right;\">\n",
       "      <th></th>\n",
       "      <th>Other Fee Name</th>\n",
       "      <th>Other Fee Amount</th>\n",
       "      <th>Other Fee Explanation</th>\n",
       "      <th>Other Fee Name.1</th>\n",
       "      <th>Other Fee Amount.1</th>\n",
       "      <th>Other Fee Explanation.1</th>\n",
       "      <th>Services</th>\n",
       "      <th>Other Services</th>\n",
       "      <th>Rewards</th>\n",
       "      <th>Card Features</th>\n",
       "    </tr>\n",
       "  </thead>\n",
       "  <tbody>\n",
       "    <tr>\n",
       "      <th>0</th>\n",
       "      <td>NaN</td>\n",
       "      <td>NaN</td>\n",
       "      <td>NaN</td>\n",
       "      <td>NaN</td>\n",
       "      <td>NaN</td>\n",
       "      <td>NaN</td>\n",
       "      <td>NaN</td>\n",
       "      <td>NaN</td>\n",
       "      <td>Cashback rewards</td>\n",
       "      <td>Chip card</td>\n",
       "    </tr>\n",
       "    <tr>\n",
       "      <th>1</th>\n",
       "      <td>NaN</td>\n",
       "      <td>NaN</td>\n",
       "      <td>NaN</td>\n",
       "      <td>NaN</td>\n",
       "      <td>NaN</td>\n",
       "      <td>NaN</td>\n",
       "      <td>NaN</td>\n",
       "      <td>NaN</td>\n",
       "      <td>Cashback rewards; Travel-related rewards</td>\n",
       "      <td>Contactless Payments; Chip card; Fee-free fore...</td>\n",
       "    </tr>\n",
       "    <tr>\n",
       "      <th>2</th>\n",
       "      <td>NaN</td>\n",
       "      <td>NaN</td>\n",
       "      <td>NaN</td>\n",
       "      <td>NaN</td>\n",
       "      <td>NaN</td>\n",
       "      <td>NaN</td>\n",
       "      <td>Automobile rental insurance; Credit card regis...</td>\n",
       "      <td>NaN</td>\n",
       "      <td>Travel-related rewards</td>\n",
       "      <td>Chip card; Fee-free foreign transactions; Mobi...</td>\n",
       "    </tr>\n",
       "    <tr>\n",
       "      <th>3</th>\n",
       "      <td>NaN</td>\n",
       "      <td>NaN</td>\n",
       "      <td>NaN</td>\n",
       "      <td>NaN</td>\n",
       "      <td>NaN</td>\n",
       "      <td>NaN</td>\n",
       "      <td>Automobile rental insurance; Other</td>\n",
       "      <td>Roadside assistance</td>\n",
       "      <td>NaN</td>\n",
       "      <td>Contactless Payments; Chip card; Mobile wallet...</td>\n",
       "    </tr>\n",
       "    <tr>\n",
       "      <th>4</th>\n",
       "      <td>Returned Payment Fee</td>\n",
       "      <td>10.0</td>\n",
       "      <td>Whenever a payment is returned for any reason.</td>\n",
       "      <td>NaN</td>\n",
       "      <td>NaN</td>\n",
       "      <td>NaN</td>\n",
       "      <td>Debt cancellation coverage; Other</td>\n",
       "      <td>Visa's credit monitoring (Norton Lifelock cred...</td>\n",
       "      <td>NaN</td>\n",
       "      <td>Contactless Payments; Chip card; Mobile wallet...</td>\n",
       "    </tr>\n",
       "  </tbody>\n",
       "</table>\n",
       "</div>"
      ],
      "text/plain": [
       "         Other Fee Name  Other Fee Amount  \\\n",
       "0                   NaN               NaN   \n",
       "1                   NaN               NaN   \n",
       "2                   NaN               NaN   \n",
       "3                   NaN               NaN   \n",
       "4  Returned Payment Fee              10.0   \n",
       "\n",
       "                            Other Fee Explanation Other Fee Name.1  \\\n",
       "0                                             NaN              NaN   \n",
       "1                                             NaN              NaN   \n",
       "2                                             NaN              NaN   \n",
       "3                                             NaN              NaN   \n",
       "4  Whenever a payment is returned for any reason.              NaN   \n",
       "\n",
       "   Other Fee Amount.1 Other Fee Explanation.1  \\\n",
       "0                 NaN                     NaN   \n",
       "1                 NaN                     NaN   \n",
       "2                 NaN                     NaN   \n",
       "3                 NaN                     NaN   \n",
       "4                 NaN                     NaN   \n",
       "\n",
       "                                            Services  \\\n",
       "0                                                NaN   \n",
       "1                                                NaN   \n",
       "2  Automobile rental insurance; Credit card regis...   \n",
       "3                 Automobile rental insurance; Other   \n",
       "4                  Debt cancellation coverage; Other   \n",
       "\n",
       "                                      Other Services  \\\n",
       "0                                                NaN   \n",
       "1                                                NaN   \n",
       "2                                                NaN   \n",
       "3                                Roadside assistance   \n",
       "4  Visa's credit monitoring (Norton Lifelock cred...   \n",
       "\n",
       "                                    Rewards  \\\n",
       "0                          Cashback rewards   \n",
       "1  Cashback rewards; Travel-related rewards   \n",
       "2                    Travel-related rewards   \n",
       "3                                       NaN   \n",
       "4                                       NaN   \n",
       "\n",
       "                                       Card Features  \n",
       "0                                          Chip card  \n",
       "1  Contactless Payments; Chip card; Fee-free fore...  \n",
       "2  Chip card; Fee-free foreign transactions; Mobi...  \n",
       "3  Contactless Payments; Chip card; Mobile wallet...  \n",
       "4  Contactless Payments; Chip card; Mobile wallet...  "
      ]
     },
     "execution_count": 105,
     "metadata": {},
     "output_type": "execute_result"
    }
   ],
   "source": [
    "df.iloc[:5, 51:61]"
   ]
  },
  {
   "cell_type": "markdown",
   "id": "67a5c9c4-9675-4025-a986-d8a59ecc3a85",
   "metadata": {
    "jp-MarkdownHeadingCollapsed": true,
    "tags": []
   },
   "source": [
    "### Columns 61 -  Clean and FE\n",
    "---"
   ]
  },
  {
   "cell_type": "code",
   "execution_count": 106,
   "id": "2edc7066-a510-42ec-83a1-7f307fae4640",
   "metadata": {},
   "outputs": [
    {
     "data": {
      "text/html": [
       "<div>\n",
       "<style scoped>\n",
       "    .dataframe tbody tr th:only-of-type {\n",
       "        vertical-align: middle;\n",
       "    }\n",
       "\n",
       "    .dataframe tbody tr th {\n",
       "        vertical-align: top;\n",
       "    }\n",
       "\n",
       "    .dataframe thead th {\n",
       "        text-align: right;\n",
       "    }\n",
       "</style>\n",
       "<table border=\"1\" class=\"dataframe\">\n",
       "  <thead>\n",
       "    <tr style=\"text-align: right;\">\n",
       "      <th></th>\n",
       "      <th>Contact Information Types</th>\n",
       "      <th>Website for Consumer</th>\n",
       "      <th>Telephone Number for Consumers</th>\n",
       "      <th>Created Date</th>\n",
       "      <th>Poor_Fair_Group</th>\n",
       "      <th>Good_Credit_Group</th>\n",
       "      <th>Great_Credit_Group</th>\n",
       "    </tr>\n",
       "  </thead>\n",
       "  <tbody>\n",
       "    <tr>\n",
       "      <th>0</th>\n",
       "      <td>Phone; Website</td>\n",
       "      <td>https:www.fnbt.com</td>\n",
       "      <td>1-800-899-4321</td>\n",
       "      <td>3/21/2023</td>\n",
       "      <td>0</td>\n",
       "      <td>1</td>\n",
       "      <td>0</td>\n",
       "    </tr>\n",
       "    <tr>\n",
       "      <th>1</th>\n",
       "      <td>Phone; Website</td>\n",
       "      <td>https://www.winthropcreditunion.org</td>\n",
       "      <td>800-511-1120</td>\n",
       "      <td>3/21/2023</td>\n",
       "      <td>0</td>\n",
       "      <td>1</td>\n",
       "      <td>1</td>\n",
       "    </tr>\n",
       "    <tr>\n",
       "      <th>2</th>\n",
       "      <td>Website</td>\n",
       "      <td>https://www.wooriamericabank.com</td>\n",
       "      <td>NaN</td>\n",
       "      <td>3/21/2023</td>\n",
       "      <td>0</td>\n",
       "      <td>1</td>\n",
       "      <td>1</td>\n",
       "    </tr>\n",
       "    <tr>\n",
       "      <th>3</th>\n",
       "      <td>Phone; Website</td>\n",
       "      <td>https://www.centralbank.com</td>\n",
       "      <td>(800)637-6884</td>\n",
       "      <td>3/22/2023</td>\n",
       "      <td>1</td>\n",
       "      <td>1</td>\n",
       "      <td>1</td>\n",
       "    </tr>\n",
       "    <tr>\n",
       "      <th>4</th>\n",
       "      <td>Phone; Website</td>\n",
       "      <td>https://www.clearwatercreditunion.org</td>\n",
       "      <td>800-254-1803</td>\n",
       "      <td>3/22/2023</td>\n",
       "      <td>1</td>\n",
       "      <td>1</td>\n",
       "      <td>1</td>\n",
       "    </tr>\n",
       "  </tbody>\n",
       "</table>\n",
       "</div>"
      ],
      "text/plain": [
       "  Contact Information Types                   Website for Consumer  \\\n",
       "0            Phone; Website                     https:www.fnbt.com   \n",
       "1            Phone; Website    https://www.winthropcreditunion.org   \n",
       "2                   Website       https://www.wooriamericabank.com   \n",
       "3            Phone; Website            https://www.centralbank.com   \n",
       "4            Phone; Website  https://www.clearwatercreditunion.org   \n",
       "\n",
       "  Telephone Number for Consumers Created Date  Poor_Fair_Group  \\\n",
       "0                 1-800-899-4321    3/21/2023                0   \n",
       "1                   800-511-1120    3/21/2023                0   \n",
       "2                            NaN    3/21/2023                0   \n",
       "3                  (800)637-6884    3/22/2023                1   \n",
       "4                   800-254-1803    3/22/2023                1   \n",
       "\n",
       "   Good_Credit_Group  Great_Credit_Group  \n",
       "0                  1                   0  \n",
       "1                  1                   1  \n",
       "2                  1                   1  \n",
       "3                  1                   1  \n",
       "4                  1                   1  "
      ]
     },
     "execution_count": 106,
     "metadata": {},
     "output_type": "execute_result"
    }
   ],
   "source": [
    "df.iloc[:5, 61:]"
   ]
  },
  {
   "cell_type": "code",
   "execution_count": null,
   "id": "b32980c3-53a2-43c3-a813-4494b34ea477",
   "metadata": {},
   "outputs": [],
   "source": []
  },
  {
   "cell_type": "markdown",
   "id": "6fec1dbf-b64a-4fdf-8bba-b8216ac1f9a3",
   "metadata": {
    "tags": []
   },
   "source": [
    "### KNNImpute for Clean and Clustering Card Attempts\n",
    "----"
   ]
  },
  {
   "cell_type": "markdown",
   "id": "d674c67b-8521-4588-9712-9ce9d52b6038",
   "metadata": {},
   "source": [
    "- For time sake, we are moving on from cleaning and feature engineering to start walking through KNNImputer and our cluster attemps\n",
    "- As we develop these aggregate cards and better understand the data that has an impact, we will revisit"
   ]
  },
  {
   "cell_type": "code",
   "execution_count": 107,
   "id": "124ecb66-26ed-4732-95ab-23cd8435b122",
   "metadata": {},
   "outputs": [],
   "source": [
    "col_types = df.dtypes"
   ]
  },
  {
   "cell_type": "code",
   "execution_count": 108,
   "id": "e768c0a7-6372-4064-a57d-104f9ea54d7d",
   "metadata": {},
   "outputs": [],
   "source": [
    "num_cols = col_types[col_types != 'object'].index.tolist()\n",
    "obj_cols = col_types[col_types == 'object'].index.tolist()"
   ]
  },
  {
   "cell_type": "code",
   "execution_count": 109,
   "id": "24e08910-e4ef-4c20-8a8f-e4666f0bf342",
   "metadata": {},
   "outputs": [
    {
     "data": {
      "text/plain": [
       "['Poor or Fair Credit',\n",
       " 'Good Credit',\n",
       " 'Great Credit',\n",
       " 'Minimum APR',\n",
       " 'Median APR',\n",
       " 'Maximum APR',\n",
       " 'BT_Min_APR',\n",
       " 'BT_Max_APR',\n",
       " 'Median Length of Balance Transfer APR',\n",
       " 'CA_Min_APR',\n",
       " 'CA_Median_APR',\n",
       " 'CA_Max_APR',\n",
       " 'Grace Period',\n",
       " 'Minimum Finance Charge (Dollars)',\n",
       " 'Balance Transfer Fee (%)',\n",
       " 'Foreign Transaction Fee (%)',\n",
       " 'Late Fee Six Month Billing Cycle',\n",
       " 'Other Fee Amount',\n",
       " 'Other Fee Amount.1',\n",
       " 'Poor_Fair_Group',\n",
       " 'Good_Credit_Group',\n",
       " 'Great_Credit_Group']"
      ]
     },
     "execution_count": 109,
     "metadata": {},
     "output_type": "execute_result"
    }
   ],
   "source": [
    "num_cols"
   ]
  },
  {
   "cell_type": "code",
   "execution_count": 110,
   "id": "7773bedf-753d-46f4-b8df-cf41dffed61f",
   "metadata": {},
   "outputs": [
    {
     "data": {
      "text/plain": [
       "['Institution Name',\n",
       " 'Product Name',\n",
       " 'Report Date',\n",
       " 'Availability of Credit Card Plan',\n",
       " 'Requirements for Opening',\n",
       " 'Secured Card',\n",
       " 'Purchase APR Offered?',\n",
       " 'Purchase APR Vary by Balance',\n",
       " 'Purchase APR Index',\n",
       " 'Variable Rate Index',\n",
       " 'Index',\n",
       " 'Introductory APR Offered?',\n",
       " 'Balance Transfer Offered?',\n",
       " 'Balance Transfer APR Vary by Credit Tier',\n",
       " 'Balance Transfer Grace Period',\n",
       " 'Cash Advance APR Offered?',\n",
       " 'Cash Advance APR Vary by Credit Tier',\n",
       " 'Grace Period Offered?',\n",
       " 'Minimum Finance Charge?',\n",
       " 'Balance Computation Method',\n",
       " 'Purchase Transaction Fees',\n",
       " 'Balance Transfer Fees?',\n",
       " 'Balance Transfer Fee Types',\n",
       " 'Cash Advance Fees?',\n",
       " 'Cash Advance Fee For Each Transaction',\n",
       " 'Cash Advance Fee Types',\n",
       " 'Foreign Transaction Fees?',\n",
       " 'Foreign Transaction Fees Types',\n",
       " 'Late Fees?',\n",
       " 'Late Fee Types',\n",
       " 'Late Fee Policy Details',\n",
       " 'Over Limit Fees?',\n",
       " 'Other Fees',\n",
       " 'Additional Fees',\n",
       " 'Other Fee Name',\n",
       " 'Other Fee Explanation',\n",
       " 'Other Fee Name.1',\n",
       " 'Other Fee Explanation.1',\n",
       " 'Services',\n",
       " 'Other Services',\n",
       " 'Rewards',\n",
       " 'Card Features',\n",
       " 'Contact Information Types',\n",
       " 'Website for Consumer',\n",
       " 'Telephone Number for Consumers',\n",
       " 'Created Date']"
      ]
     },
     "execution_count": 110,
     "metadata": {},
     "output_type": "execute_result"
    }
   ],
   "source": [
    "obj_cols"
   ]
  },
  {
   "cell_type": "markdown",
   "id": "13d4571b-06f0-49d1-ab10-a37663f776b4",
   "metadata": {},
   "source": [
    "Num Columns to Keep"
   ]
  },
  {
   "cell_type": "markdown",
   "id": "9ca1fff7-edd2-4a6e-9c21-fec8d591e17b",
   "metadata": {},
   "source": [
    "- let's rename for easier future use and better readability"
   ]
  },
  {
   "cell_type": "code",
   "execution_count": 111,
   "id": "5dd22133-d94e-46fd-b1c0-5294d2b943d1",
   "metadata": {},
   "outputs": [],
   "source": [
    "df.rename(columns={\"Poor or Fair Credit\":\"PF_Credit_APR\",\n",
    " \"Good Credit\":\"Good_Credit_APR\",\n",
    " \"Great Credit\":\"Great_Credit_APR\",\n",
    " \"Minimum Finance Charge (Dollars)\":\"Min_FinCharge_USD\",\n",
    " \"Balance Transfer Fee (%)\":\"BT_Fee_Percent\",\n",
    " \"Foreign Transaction Fee (%)\":\"FgnTx_Fee_Percent\",\n",
    " \"Late Fee Six Month Billing Cycle\":\"LF_6mo_BillCycle\"},inplace=True)"
   ]
  },
  {
   "cell_type": "code",
   "execution_count": 112,
   "id": "522a793a-0471-490a-8a9a-2ff40c5229cb",
   "metadata": {},
   "outputs": [],
   "source": [
    "num_to_keep = ['PF_Credit_APR',\n",
    " 'Good_Credit_APR',\n",
    " 'Great_Credit_APR',\n",
    " 'Minimum APR',\n",
    " 'Median APR',\n",
    " 'Maximum APR',\n",
    " 'BT_Min_APR',\n",
    " 'BT_Max_APR',\n",
    " 'Median Length of Balance Transfer APR',\n",
    " 'CA_Min_APR',\n",
    " 'CA_Median_APR',\n",
    " 'CA_Max_APR',\n",
    " 'Grace Period',\n",
    " 'Min_FinCharge_USD',\n",
    " 'BT_Fee_Percent',\n",
    " 'FgnTx_Fee_Percent',\n",
    " 'LF_6mo_BillCycle',\n",
    " 'Poor_Fair_Group',\n",
    " 'Good_Credit_Group',\n",
    " 'Great_Credit_Group']"
   ]
  },
  {
   "cell_type": "markdown",
   "id": "2c36a75c-f809-4028-a446-6588287faa7e",
   "metadata": {},
   "source": [
    "Object Columns to Keep"
   ]
  },
  {
   "cell_type": "code",
   "execution_count": 113,
   "id": "04b25366-ec69-4c5e-a74d-6a096900498c",
   "metadata": {},
   "outputs": [
    {
     "data": {
      "text/plain": [
       "Institution Name                              0\n",
       "Product Name                                  0\n",
       "Report Date                                   0\n",
       "Availability of Credit Card Plan              0\n",
       "Requirements for Opening                      0\n",
       "Secured Card                                  0\n",
       "Purchase APR Offered?                         0\n",
       "Purchase APR Vary by Balance                  0\n",
       "Purchase APR Index                            0\n",
       "Variable Rate Index                           0\n",
       "Index                                         0\n",
       "Introductory APR Offered?                     0\n",
       "Balance Transfer Offered?                     0\n",
       "Balance Transfer APR Vary by Credit Tier      0\n",
       "Balance Transfer Grace Period                 0\n",
       "Cash Advance APR Offered?                     0\n",
       "Cash Advance APR Vary by Credit Tier          0\n",
       "Grace Period Offered?                         0\n",
       "Minimum Finance Charge?                       0\n",
       "Balance Computation Method                    0\n",
       "Purchase Transaction Fees                     0\n",
       "Balance Transfer Fees?                        0\n",
       "Balance Transfer Fee Types                    0\n",
       "Cash Advance Fees?                            0\n",
       "Cash Advance Fee For Each Transaction         0\n",
       "Cash Advance Fee Types                        0\n",
       "Foreign Transaction Fees?                     0\n",
       "Foreign Transaction Fees Types                0\n",
       "Late Fees?                                    0\n",
       "Late Fee Types                                0\n",
       "Late Fee Policy Details                       0\n",
       "Over Limit Fees?                              0\n",
       "Other Fees                                    0\n",
       "Additional Fees                             148\n",
       "Other Fee Name                              148\n",
       "Other Fee Explanation                       148\n",
       "Other Fee Name.1                            290\n",
       "Other Fee Explanation.1                     291\n",
       "Services                                    109\n",
       "Other Services                              198\n",
       "Rewards                                     249\n",
       "Card Features                                44\n",
       "Contact Information Types                     0\n",
       "Website for Consumer                        124\n",
       "Telephone Number for Consumers              226\n",
       "Created Date                                  0\n",
       "dtype: int64"
      ]
     },
     "execution_count": 113,
     "metadata": {},
     "output_type": "execute_result"
    }
   ],
   "source": [
    "df[obj_cols].isnull().sum()"
   ]
  },
  {
   "cell_type": "code",
   "execution_count": 114,
   "id": "0542cf0b-5624-444c-b83c-9580f8c2d194",
   "metadata": {},
   "outputs": [],
   "source": [
    "obj_to_keep = ['Availability of Credit Card Plan',\n",
    " 'Requirements for Opening',\n",
    " 'Secured Card',\n",
    " 'Purchase APR Offered?',\n",
    " 'Purchase APR Vary by Balance',\n",
    " 'Purchase APR Index',\n",
    " 'Variable Rate Index',\n",
    " 'Index',\n",
    " 'Introductory APR Offered?',\n",
    " 'Balance Transfer Offered?',\n",
    " 'Balance Transfer APR Vary by Credit Tier',\n",
    " 'Balance Transfer Grace Period',\n",
    " 'Cash Advance APR Offered?',\n",
    " 'Cash Advance APR Vary by Credit Tier',\n",
    " 'Grace Period Offered?',\n",
    " 'Minimum Finance Charge?',\n",
    " 'Balance Computation Method',\n",
    " 'Purchase Transaction Fees',\n",
    " 'Balance Transfer Fees?',\n",
    " 'Cash Advance Fees?',\n",
    " 'Foreign Transaction Fees?',\n",
    " 'Late Fees?']"
   ]
  },
  {
   "cell_type": "code",
   "execution_count": 115,
   "id": "f80b8e24-e697-4f4c-81e5-c11182d657df",
   "metadata": {},
   "outputs": [
    {
     "data": {
      "text/plain": [
       "(22, 46)"
      ]
     },
     "execution_count": 115,
     "metadata": {},
     "output_type": "execute_result"
    }
   ],
   "source": [
    "len(num_cols),len(obj_cols)"
   ]
  },
  {
   "cell_type": "code",
   "execution_count": 116,
   "id": "09e2773a-c07d-4d9d-896e-5a5bdd40a2c8",
   "metadata": {},
   "outputs": [],
   "source": [
    "selected_cols_clustering = num_to_keep + obj_to_keep"
   ]
  },
  {
   "cell_type": "code",
   "execution_count": 117,
   "id": "d8bdd374-c048-4d04-8782-38f190672ab4",
   "metadata": {},
   "outputs": [
    {
     "data": {
      "text/plain": [
       "42"
      ]
     },
     "execution_count": 117,
     "metadata": {},
     "output_type": "execute_result"
    }
   ],
   "source": [
    "len(selected_cols_clustering)"
   ]
  },
  {
   "cell_type": "code",
   "execution_count": 118,
   "id": "61482eb3-1453-44f1-8e9e-1d38ab94b2ee",
   "metadata": {},
   "outputs": [],
   "source": [
    "cols_for_cluster = [col for col in df.columns if col in selected_cols_clustering]"
   ]
  },
  {
   "cell_type": "markdown",
   "id": "31de223e-821e-44db-b047-9a0d32d43dfb",
   "metadata": {},
   "source": [
    "- another checkpoint save for me"
   ]
  },
  {
   "cell_type": "code",
   "execution_count": 119,
   "id": "03874c74-db72-4131-8a80-f0899818dc6c",
   "metadata": {},
   "outputs": [],
   "source": [
    "df[cols_for_cluster].to_csv(\"../data/df_for_clustering.csv\")"
   ]
  },
  {
   "cell_type": "code",
   "execution_count": 120,
   "id": "78f08960-b640-492c-be0e-05ed7d262052",
   "metadata": {},
   "outputs": [],
   "source": [
    "df_to_cluster = pd.read_csv(\"../data/df_for_clustering.csv\", index_col = 0)"
   ]
  },
  {
   "cell_type": "code",
   "execution_count": 121,
   "id": "29b3c2c8-4efb-4766-8707-9087c54ec29b",
   "metadata": {},
   "outputs": [],
   "source": [
    "col_types = df_to_cluster.dtypes\n",
    "num_cols = col_types[col_types != 'object'].index.tolist()\n",
    "obj_cols = col_types[col_types == 'object'].index.tolist()"
   ]
  },
  {
   "cell_type": "code",
   "execution_count": 122,
   "id": "a924fa09-54f6-42c8-a7ea-6d999c465fe9",
   "metadata": {},
   "outputs": [
    {
     "data": {
      "text/plain": [
       "(648, 42)"
      ]
     },
     "execution_count": 122,
     "metadata": {},
     "output_type": "execute_result"
    }
   ],
   "source": [
    "df_to_cluster.shape"
   ]
  },
  {
   "cell_type": "code",
   "execution_count": 123,
   "id": "802cdda3-e0b3-45e6-a8b2-8277a869c1c0",
   "metadata": {},
   "outputs": [
    {
     "data": {
      "text/plain": [
       "Availability of Credit Card Plan              0\n",
       "Requirements for Opening                      0\n",
       "Secured Card                                  0\n",
       "Purchase APR Offered?                         0\n",
       "Purchase APR Vary by Balance                  0\n",
       "Purchase APR Index                            0\n",
       "Variable Rate Index                           0\n",
       "Index                                         0\n",
       "PF_Credit_APR                               286\n",
       "Good_Credit_APR                             286\n",
       "Great_Credit_APR                            286\n",
       "Minimum APR                                  14\n",
       "Median APR                                  376\n",
       "Maximum APR                                  14\n",
       "Introductory APR Offered?                     0\n",
       "Balance Transfer Offered?                     0\n",
       "Balance Transfer APR Vary by Credit Tier      0\n",
       "BT_Min_APR                                    0\n",
       "BT_Max_APR                                    0\n",
       "Median Length of Balance Transfer APR         0\n",
       "Balance Transfer Grace Period                 0\n",
       "Cash Advance APR Offered?                     0\n",
       "Cash Advance APR Vary by Credit Tier          0\n",
       "CA_Min_APR                                    9\n",
       "CA_Median_APR                                82\n",
       "CA_Max_APR                                    9\n",
       "Grace Period Offered?                         0\n",
       "Grace Period                                  0\n",
       "Minimum Finance Charge?                       0\n",
       "Min_FinCharge_USD                             0\n",
       "Balance Computation Method                    0\n",
       "Purchase Transaction Fees                     0\n",
       "Balance Transfer Fees?                        0\n",
       "BT_Fee_Percent                                0\n",
       "Cash Advance Fees?                            0\n",
       "Foreign Transaction Fees?                     0\n",
       "FgnTx_Fee_Percent                             0\n",
       "Late Fees?                                    0\n",
       "LF_6mo_BillCycle                              0\n",
       "Poor_Fair_Group                               0\n",
       "Good_Credit_Group                             0\n",
       "Great_Credit_Group                            0\n",
       "dtype: int64"
      ]
     },
     "execution_count": 123,
     "metadata": {},
     "output_type": "execute_result"
    }
   ],
   "source": [
    "df_to_cluster.isnull().sum()"
   ]
  },
  {
   "cell_type": "markdown",
   "id": "57fd9bfa-fe3d-47e2-990c-dd9d69a29ee2",
   "metadata": {},
   "source": [
    "### Preparation for Imputing with KNN\n",
    "---"
   ]
  },
  {
   "cell_type": "markdown",
   "id": "51e5bec3-d990-4933-b18b-5de8e09aa5f0",
   "metadata": {},
   "source": [
    "Preparation for Imputing: Looking at the descriptive stats to benchmark and backdrop changes made"
   ]
  },
  {
   "cell_type": "code",
   "execution_count": 124,
   "id": "ee8807eb-58cc-4b71-a6b0-0998bf254a64",
   "metadata": {},
   "outputs": [
    {
     "data": {
      "text/html": [
       "<div>\n",
       "<style scoped>\n",
       "    .dataframe tbody tr th:only-of-type {\n",
       "        vertical-align: middle;\n",
       "    }\n",
       "\n",
       "    .dataframe tbody tr th {\n",
       "        vertical-align: top;\n",
       "    }\n",
       "\n",
       "    .dataframe thead th {\n",
       "        text-align: right;\n",
       "    }\n",
       "</style>\n",
       "<table border=\"1\" class=\"dataframe\">\n",
       "  <thead>\n",
       "    <tr style=\"text-align: right;\">\n",
       "      <th></th>\n",
       "      <th>PF_Credit_APR</th>\n",
       "      <th>Good_Credit_APR</th>\n",
       "      <th>Great_Credit_APR</th>\n",
       "      <th>Minimum APR</th>\n",
       "      <th>Median APR</th>\n",
       "      <th>Maximum APR</th>\n",
       "    </tr>\n",
       "  </thead>\n",
       "  <tbody>\n",
       "    <tr>\n",
       "      <th>count</th>\n",
       "      <td>362.000000</td>\n",
       "      <td>362.000000</td>\n",
       "      <td>362.000000</td>\n",
       "      <td>634.000000</td>\n",
       "      <td>272.000000</td>\n",
       "      <td>634.000000</td>\n",
       "    </tr>\n",
       "    <tr>\n",
       "      <th>mean</th>\n",
       "      <td>3.405962</td>\n",
       "      <td>0.687660</td>\n",
       "      <td>0.458316</td>\n",
       "      <td>0.704495</td>\n",
       "      <td>0.684211</td>\n",
       "      <td>0.762063</td>\n",
       "    </tr>\n",
       "    <tr>\n",
       "      <th>std</th>\n",
       "      <td>4.585383</td>\n",
       "      <td>2.068337</td>\n",
       "      <td>1.609361</td>\n",
       "      <td>2.178740</td>\n",
       "      <td>2.004383</td>\n",
       "      <td>2.164822</td>\n",
       "    </tr>\n",
       "    <tr>\n",
       "      <th>min</th>\n",
       "      <td>0.000000</td>\n",
       "      <td>0.102500</td>\n",
       "      <td>0.077500</td>\n",
       "      <td>0.000000</td>\n",
       "      <td>0.000000</td>\n",
       "      <td>0.000000</td>\n",
       "    </tr>\n",
       "    <tr>\n",
       "      <th>25%</th>\n",
       "      <td>0.219900</td>\n",
       "      <td>0.197400</td>\n",
       "      <td>0.164900</td>\n",
       "      <td>0.149900</td>\n",
       "      <td>0.209275</td>\n",
       "      <td>0.222400</td>\n",
       "    </tr>\n",
       "    <tr>\n",
       "      <th>50%</th>\n",
       "      <td>0.274350</td>\n",
       "      <td>0.243650</td>\n",
       "      <td>0.197400</td>\n",
       "      <td>0.184900</td>\n",
       "      <td>0.264900</td>\n",
       "      <td>0.272400</td>\n",
       "    </tr>\n",
       "    <tr>\n",
       "      <th>75%</th>\n",
       "      <td>9.990000</td>\n",
       "      <td>0.272400</td>\n",
       "      <td>0.220000</td>\n",
       "      <td>0.232400</td>\n",
       "      <td>0.317425</td>\n",
       "      <td>0.292400</td>\n",
       "    </tr>\n",
       "    <tr>\n",
       "      <th>max</th>\n",
       "      <td>9.990000</td>\n",
       "      <td>9.990000</td>\n",
       "      <td>9.990000</td>\n",
       "      <td>9.990000</td>\n",
       "      <td>9.990000</td>\n",
       "      <td>9.990000</td>\n",
       "    </tr>\n",
       "  </tbody>\n",
       "</table>\n",
       "</div>"
      ],
      "text/plain": [
       "       PF_Credit_APR  Good_Credit_APR  Great_Credit_APR  Minimum APR  \\\n",
       "count     362.000000       362.000000        362.000000   634.000000   \n",
       "mean        3.405962         0.687660          0.458316     0.704495   \n",
       "std         4.585383         2.068337          1.609361     2.178740   \n",
       "min         0.000000         0.102500          0.077500     0.000000   \n",
       "25%         0.219900         0.197400          0.164900     0.149900   \n",
       "50%         0.274350         0.243650          0.197400     0.184900   \n",
       "75%         9.990000         0.272400          0.220000     0.232400   \n",
       "max         9.990000         9.990000          9.990000     9.990000   \n",
       "\n",
       "       Median APR  Maximum APR  \n",
       "count  272.000000   634.000000  \n",
       "mean     0.684211     0.762063  \n",
       "std      2.004383     2.164822  \n",
       "min      0.000000     0.000000  \n",
       "25%      0.209275     0.222400  \n",
       "50%      0.264900     0.272400  \n",
       "75%      0.317425     0.292400  \n",
       "max      9.990000     9.990000  "
      ]
     },
     "execution_count": 124,
     "metadata": {},
     "output_type": "execute_result"
    }
   ],
   "source": [
    "df_to_cluster[[\"PF_Credit_APR\",\"Good_Credit_APR\",\"Great_Credit_APR\",\"Minimum APR\",\"Median APR\",\"Maximum APR\"]].describe()"
   ]
  },
  {
   "cell_type": "markdown",
   "id": "b96fca5b-fa88-48b2-9563-74e36e7268ad",
   "metadata": {},
   "source": [
    "As the Survey results mention in the csv file: \"../data/cfpb_updated_tccp.csv\", values of 999.00% should be interpreted as \"not applicable\":\n",
    " - For both imputation and reality, we will need to change the values of numeric columns that have these kinds of values present, like all the above as you can see by the max row\n",
    " - We will impute all these values as 0.0%, and take note of the overall stat difference to account for reality"
   ]
  },
  {
   "cell_type": "code",
   "execution_count": 125,
   "id": "b54cf5ff-7aba-4de6-b90a-8dfbdd9588ef",
   "metadata": {},
   "outputs": [
    {
     "data": {
      "text/html": [
       "<div>\n",
       "<style scoped>\n",
       "    .dataframe tbody tr th:only-of-type {\n",
       "        vertical-align: middle;\n",
       "    }\n",
       "\n",
       "    .dataframe tbody tr th {\n",
       "        vertical-align: top;\n",
       "    }\n",
       "\n",
       "    .dataframe thead th {\n",
       "        text-align: right;\n",
       "    }\n",
       "</style>\n",
       "<table border=\"1\" class=\"dataframe\">\n",
       "  <thead>\n",
       "    <tr style=\"text-align: right;\">\n",
       "      <th></th>\n",
       "      <th>PF_Credit_APR</th>\n",
       "      <th>Good_Credit_APR</th>\n",
       "      <th>Great_Credit_APR</th>\n",
       "      <th>Minimum APR</th>\n",
       "      <th>Median APR</th>\n",
       "      <th>Maximum APR</th>\n",
       "      <th>BT_Min_APR</th>\n",
       "      <th>BT_Max_APR</th>\n",
       "      <th>Median Length of Balance Transfer APR</th>\n",
       "      <th>CA_Min_APR</th>\n",
       "      <th>CA_Median_APR</th>\n",
       "      <th>CA_Max_APR</th>\n",
       "      <th>Grace Period</th>\n",
       "      <th>Min_FinCharge_USD</th>\n",
       "      <th>BT_Fee_Percent</th>\n",
       "      <th>FgnTx_Fee_Percent</th>\n",
       "      <th>LF_6mo_BillCycle</th>\n",
       "      <th>Poor_Fair_Group</th>\n",
       "      <th>Good_Credit_Group</th>\n",
       "      <th>Great_Credit_Group</th>\n",
       "    </tr>\n",
       "  </thead>\n",
       "  <tbody>\n",
       "    <tr>\n",
       "      <th>count</th>\n",
       "      <td>362.000000</td>\n",
       "      <td>362.000000</td>\n",
       "      <td>362.000000</td>\n",
       "      <td>634.000000</td>\n",
       "      <td>272.000000</td>\n",
       "      <td>634.000000</td>\n",
       "      <td>648.000000</td>\n",
       "      <td>648.000000</td>\n",
       "      <td>6.480000e+02</td>\n",
       "      <td>639.000000</td>\n",
       "      <td>566.000000</td>\n",
       "      <td>639.000000</td>\n",
       "      <td>648.000000</td>\n",
       "      <td>648.000000</td>\n",
       "      <td>648.000000</td>\n",
       "      <td>648.000000</td>\n",
       "      <td>648.000000</td>\n",
       "      <td>648.000000</td>\n",
       "      <td>648.000000</td>\n",
       "      <td>648.000000</td>\n",
       "    </tr>\n",
       "    <tr>\n",
       "      <th>mean</th>\n",
       "      <td>3.405962</td>\n",
       "      <td>0.687660</td>\n",
       "      <td>0.458316</td>\n",
       "      <td>0.704495</td>\n",
       "      <td>0.684211</td>\n",
       "      <td>0.762063</td>\n",
       "      <td>0.348484</td>\n",
       "      <td>0.056838</td>\n",
       "      <td>1.543275e+06</td>\n",
       "      <td>0.446215</td>\n",
       "      <td>0.544291</td>\n",
       "      <td>0.466182</td>\n",
       "      <td>23.740741</td>\n",
       "      <td>1.124676</td>\n",
       "      <td>0.025965</td>\n",
       "      <td>1.553383</td>\n",
       "      <td>30.986883</td>\n",
       "      <td>0.557099</td>\n",
       "      <td>0.739198</td>\n",
       "      <td>0.814815</td>\n",
       "    </tr>\n",
       "    <tr>\n",
       "      <th>std</th>\n",
       "      <td>4.585383</td>\n",
       "      <td>2.068337</td>\n",
       "      <td>1.609361</td>\n",
       "      <td>2.178740</td>\n",
       "      <td>2.004383</td>\n",
       "      <td>2.164822</td>\n",
       "      <td>7.855506</td>\n",
       "      <td>0.099072</td>\n",
       "      <td>3.928371e+07</td>\n",
       "      <td>1.378366</td>\n",
       "      <td>1.613544</td>\n",
       "      <td>1.374850</td>\n",
       "      <td>3.437327</td>\n",
       "      <td>2.392789</td>\n",
       "      <td>0.022432</td>\n",
       "      <td>1.934268</td>\n",
       "      <td>18.104716</td>\n",
       "      <td>0.497113</td>\n",
       "      <td>0.439412</td>\n",
       "      <td>0.388748</td>\n",
       "    </tr>\n",
       "    <tr>\n",
       "      <th>min</th>\n",
       "      <td>0.000000</td>\n",
       "      <td>0.102500</td>\n",
       "      <td>0.077500</td>\n",
       "      <td>0.000000</td>\n",
       "      <td>0.000000</td>\n",
       "      <td>0.000000</td>\n",
       "      <td>0.000000</td>\n",
       "      <td>0.000000</td>\n",
       "      <td>0.000000e+00</td>\n",
       "      <td>0.000000</td>\n",
       "      <td>0.000000</td>\n",
       "      <td>0.000000</td>\n",
       "      <td>0.000000</td>\n",
       "      <td>0.000000</td>\n",
       "      <td>0.000000</td>\n",
       "      <td>0.010000</td>\n",
       "      <td>0.000000</td>\n",
       "      <td>0.000000</td>\n",
       "      <td>0.000000</td>\n",
       "      <td>0.000000</td>\n",
       "    </tr>\n",
       "    <tr>\n",
       "      <th>25%</th>\n",
       "      <td>0.219900</td>\n",
       "      <td>0.197400</td>\n",
       "      <td>0.164900</td>\n",
       "      <td>0.149900</td>\n",
       "      <td>0.209275</td>\n",
       "      <td>0.222400</td>\n",
       "      <td>0.000000</td>\n",
       "      <td>0.000000</td>\n",
       "      <td>0.000000e+00</td>\n",
       "      <td>0.231150</td>\n",
       "      <td>0.266725</td>\n",
       "      <td>0.253750</td>\n",
       "      <td>21.000000</td>\n",
       "      <td>0.000000</td>\n",
       "      <td>0.000000</td>\n",
       "      <td>0.030000</td>\n",
       "      <td>28.500000</td>\n",
       "      <td>0.000000</td>\n",
       "      <td>0.000000</td>\n",
       "      <td>1.000000</td>\n",
       "    </tr>\n",
       "    <tr>\n",
       "      <th>50%</th>\n",
       "      <td>0.274350</td>\n",
       "      <td>0.243650</td>\n",
       "      <td>0.197400</td>\n",
       "      <td>0.184900</td>\n",
       "      <td>0.264900</td>\n",
       "      <td>0.272400</td>\n",
       "      <td>0.000000</td>\n",
       "      <td>0.000000</td>\n",
       "      <td>0.000000e+00</td>\n",
       "      <td>0.264900</td>\n",
       "      <td>0.274900</td>\n",
       "      <td>0.282400</td>\n",
       "      <td>25.000000</td>\n",
       "      <td>1.000000</td>\n",
       "      <td>0.030000</td>\n",
       "      <td>0.030000</td>\n",
       "      <td>40.000000</td>\n",
       "      <td>1.000000</td>\n",
       "      <td>1.000000</td>\n",
       "      <td>1.000000</td>\n",
       "    </tr>\n",
       "    <tr>\n",
       "      <th>75%</th>\n",
       "      <td>9.990000</td>\n",
       "      <td>0.272400</td>\n",
       "      <td>0.220000</td>\n",
       "      <td>0.232400</td>\n",
       "      <td>0.317425</td>\n",
       "      <td>0.292400</td>\n",
       "      <td>0.059000</td>\n",
       "      <td>0.105000</td>\n",
       "      <td>1.200000e+01</td>\n",
       "      <td>0.292400</td>\n",
       "      <td>0.298600</td>\n",
       "      <td>0.299900</td>\n",
       "      <td>25.000000</td>\n",
       "      <td>1.750000</td>\n",
       "      <td>0.050000</td>\n",
       "      <td>4.000000</td>\n",
       "      <td>40.000000</td>\n",
       "      <td>1.000000</td>\n",
       "      <td>1.000000</td>\n",
       "      <td>1.000000</td>\n",
       "    </tr>\n",
       "    <tr>\n",
       "      <th>max</th>\n",
       "      <td>9.990000</td>\n",
       "      <td>9.990000</td>\n",
       "      <td>9.990000</td>\n",
       "      <td>9.990000</td>\n",
       "      <td>9.990000</td>\n",
       "      <td>9.990000</td>\n",
       "      <td>200.000000</td>\n",
       "      <td>0.360000</td>\n",
       "      <td>1.000000e+09</td>\n",
       "      <td>9.990000</td>\n",
       "      <td>9.990000</td>\n",
       "      <td>9.990000</td>\n",
       "      <td>30.000000</td>\n",
       "      <td>25.000000</td>\n",
       "      <td>0.100000</td>\n",
       "      <td>4.000000</td>\n",
       "      <td>246.000000</td>\n",
       "      <td>1.000000</td>\n",
       "      <td>1.000000</td>\n",
       "      <td>1.000000</td>\n",
       "    </tr>\n",
       "  </tbody>\n",
       "</table>\n",
       "</div>"
      ],
      "text/plain": [
       "       PF_Credit_APR  Good_Credit_APR  Great_Credit_APR  Minimum APR  \\\n",
       "count     362.000000       362.000000        362.000000   634.000000   \n",
       "mean        3.405962         0.687660          0.458316     0.704495   \n",
       "std         4.585383         2.068337          1.609361     2.178740   \n",
       "min         0.000000         0.102500          0.077500     0.000000   \n",
       "25%         0.219900         0.197400          0.164900     0.149900   \n",
       "50%         0.274350         0.243650          0.197400     0.184900   \n",
       "75%         9.990000         0.272400          0.220000     0.232400   \n",
       "max         9.990000         9.990000          9.990000     9.990000   \n",
       "\n",
       "       Median APR  Maximum APR  BT_Min_APR  BT_Max_APR  \\\n",
       "count  272.000000   634.000000  648.000000  648.000000   \n",
       "mean     0.684211     0.762063    0.348484    0.056838   \n",
       "std      2.004383     2.164822    7.855506    0.099072   \n",
       "min      0.000000     0.000000    0.000000    0.000000   \n",
       "25%      0.209275     0.222400    0.000000    0.000000   \n",
       "50%      0.264900     0.272400    0.000000    0.000000   \n",
       "75%      0.317425     0.292400    0.059000    0.105000   \n",
       "max      9.990000     9.990000  200.000000    0.360000   \n",
       "\n",
       "       Median Length of Balance Transfer APR  CA_Min_APR  CA_Median_APR  \\\n",
       "count                           6.480000e+02  639.000000     566.000000   \n",
       "mean                            1.543275e+06    0.446215       0.544291   \n",
       "std                             3.928371e+07    1.378366       1.613544   \n",
       "min                             0.000000e+00    0.000000       0.000000   \n",
       "25%                             0.000000e+00    0.231150       0.266725   \n",
       "50%                             0.000000e+00    0.264900       0.274900   \n",
       "75%                             1.200000e+01    0.292400       0.298600   \n",
       "max                             1.000000e+09    9.990000       9.990000   \n",
       "\n",
       "       CA_Max_APR  Grace Period  Min_FinCharge_USD  BT_Fee_Percent  \\\n",
       "count  639.000000    648.000000         648.000000      648.000000   \n",
       "mean     0.466182     23.740741           1.124676        0.025965   \n",
       "std      1.374850      3.437327           2.392789        0.022432   \n",
       "min      0.000000      0.000000           0.000000        0.000000   \n",
       "25%      0.253750     21.000000           0.000000        0.000000   \n",
       "50%      0.282400     25.000000           1.000000        0.030000   \n",
       "75%      0.299900     25.000000           1.750000        0.050000   \n",
       "max      9.990000     30.000000          25.000000        0.100000   \n",
       "\n",
       "       FgnTx_Fee_Percent  LF_6mo_BillCycle  Poor_Fair_Group  \\\n",
       "count         648.000000        648.000000       648.000000   \n",
       "mean            1.553383         30.986883         0.557099   \n",
       "std             1.934268         18.104716         0.497113   \n",
       "min             0.010000          0.000000         0.000000   \n",
       "25%             0.030000         28.500000         0.000000   \n",
       "50%             0.030000         40.000000         1.000000   \n",
       "75%             4.000000         40.000000         1.000000   \n",
       "max             4.000000        246.000000         1.000000   \n",
       "\n",
       "       Good_Credit_Group  Great_Credit_Group  \n",
       "count         648.000000          648.000000  \n",
       "mean            0.739198            0.814815  \n",
       "std             0.439412            0.388748  \n",
       "min             0.000000            0.000000  \n",
       "25%             0.000000            1.000000  \n",
       "50%             1.000000            1.000000  \n",
       "75%             1.000000            1.000000  \n",
       "max             1.000000            1.000000  "
      ]
     },
     "execution_count": 125,
     "metadata": {},
     "output_type": "execute_result"
    }
   ],
   "source": [
    "df_to_cluster.describe()"
   ]
  },
  {
   "cell_type": "markdown",
   "id": "b399a925-b196-4cf1-be08-1dbd184c2516",
   "metadata": {},
   "source": [
    "9 columns in total with values of 9.99"
   ]
  },
  {
   "cell_type": "code",
   "execution_count": 126,
   "id": "76308211-4b56-40ae-bd31-af7d11bec659",
   "metadata": {},
   "outputs": [],
   "source": [
    "cols_to_adjust = ['PF_Credit_APR','Good_Credit_APR','Great_Credit_APR',\n",
    "                  'Minimum APR','Median APR','Maximum APR','BT_Min_APR','CA_Min_APR',\n",
    "                  'CA_Median_APR','CA_Max_APR']"
   ]
  },
  {
   "cell_type": "markdown",
   "id": "ae21b887-0f14-4898-8e8f-8ad775a94731",
   "metadata": {},
   "source": [
    "quick look at BT_Min_APR with values of 200..."
   ]
  },
  {
   "cell_type": "code",
   "execution_count": 127,
   "id": "1a77ddc3-f67e-4e19-9f58-89449331af1b",
   "metadata": {},
   "outputs": [
    {
     "data": {
      "text/plain": [
       "200.0"
      ]
     },
     "execution_count": 127,
     "metadata": {},
     "output_type": "execute_result"
    }
   ],
   "source": [
    "df_to_cluster['BT_Min_APR'].max()"
   ]
  },
  {
   "cell_type": "code",
   "execution_count": 128,
   "id": "13402214-e99d-4965-86e7-15c3fd1ea04b",
   "metadata": {},
   "outputs": [
    {
     "data": {
      "text/html": [
       "<div>\n",
       "<style scoped>\n",
       "    .dataframe tbody tr th:only-of-type {\n",
       "        vertical-align: middle;\n",
       "    }\n",
       "\n",
       "    .dataframe tbody tr th {\n",
       "        vertical-align: top;\n",
       "    }\n",
       "\n",
       "    .dataframe thead th {\n",
       "        text-align: right;\n",
       "    }\n",
       "</style>\n",
       "<table border=\"1\" class=\"dataframe\">\n",
       "  <thead>\n",
       "    <tr style=\"text-align: right;\">\n",
       "      <th></th>\n",
       "      <th>Availability of Credit Card Plan</th>\n",
       "      <th>Requirements for Opening</th>\n",
       "      <th>Secured Card</th>\n",
       "      <th>Purchase APR Offered?</th>\n",
       "      <th>Purchase APR Vary by Balance</th>\n",
       "      <th>Purchase APR Index</th>\n",
       "      <th>Variable Rate Index</th>\n",
       "      <th>Index</th>\n",
       "      <th>PF_Credit_APR</th>\n",
       "      <th>Good_Credit_APR</th>\n",
       "      <th>...</th>\n",
       "      <th>Balance Transfer Fees?</th>\n",
       "      <th>BT_Fee_Percent</th>\n",
       "      <th>Cash Advance Fees?</th>\n",
       "      <th>Foreign Transaction Fees?</th>\n",
       "      <th>FgnTx_Fee_Percent</th>\n",
       "      <th>Late Fees?</th>\n",
       "      <th>LF_6mo_BillCycle</th>\n",
       "      <th>Poor_Fair_Group</th>\n",
       "      <th>Good_Credit_Group</th>\n",
       "      <th>Great_Credit_Group</th>\n",
       "    </tr>\n",
       "  </thead>\n",
       "  <tbody>\n",
       "    <tr>\n",
       "      <th>16</th>\n",
       "      <td>National</td>\n",
       "      <td>No</td>\n",
       "      <td>No</td>\n",
       "      <td>No</td>\n",
       "      <td>__</td>\n",
       "      <td>__</td>\n",
       "      <td>__</td>\n",
       "      <td>F</td>\n",
       "      <td>NaN</td>\n",
       "      <td>NaN</td>\n",
       "      <td>...</td>\n",
       "      <td>No</td>\n",
       "      <td>0.0</td>\n",
       "      <td>No</td>\n",
       "      <td>No</td>\n",
       "      <td>4.0</td>\n",
       "      <td>Yes</td>\n",
       "      <td>0.0</td>\n",
       "      <td>0</td>\n",
       "      <td>1</td>\n",
       "      <td>0</td>\n",
       "    </tr>\n",
       "  </tbody>\n",
       "</table>\n",
       "<p>1 rows × 42 columns</p>\n",
       "</div>"
      ],
      "text/plain": [
       "   Availability of Credit Card Plan Requirements for Opening Secured Card  \\\n",
       "16                         National                       No           No   \n",
       "\n",
       "   Purchase APR Offered? Purchase APR Vary by Balance Purchase APR Index  \\\n",
       "16                    No                           __                 __   \n",
       "\n",
       "   Variable Rate Index Index  PF_Credit_APR  Good_Credit_APR  ...  \\\n",
       "16                  __     F            NaN              NaN  ...   \n",
       "\n",
       "    Balance Transfer Fees?  BT_Fee_Percent  Cash Advance Fees?  \\\n",
       "16                      No             0.0                  No   \n",
       "\n",
       "    Foreign Transaction Fees? FgnTx_Fee_Percent Late Fees? LF_6mo_BillCycle  \\\n",
       "16                         No               4.0        Yes              0.0   \n",
       "\n",
       "    Poor_Fair_Group  Good_Credit_Group  Great_Credit_Group  \n",
       "16                0                  1                   0  \n",
       "\n",
       "[1 rows x 42 columns]"
      ]
     },
     "execution_count": 128,
     "metadata": {},
     "output_type": "execute_result"
    }
   ],
   "source": [
    "df_to_cluster[df_to_cluster[\"BT_Min_APR\"] == 200]"
   ]
  },
  {
   "cell_type": "markdown",
   "id": "8a1f7eb0-26e2-4f27-9909-5d902299c2c0",
   "metadata": {},
   "source": [
    "- For every column we identified with a value of 9.99, we changed every value for those columns from 9.9 to 0.0"
   ]
  },
  {
   "cell_type": "code",
   "execution_count": 129,
   "id": "02ddc0f9-f327-4603-9faf-ea3c22b7b4a3",
   "metadata": {},
   "outputs": [],
   "source": [
    "for col in cols_to_adjust:\n",
    "    df_to_cluster[col] = df_to_cluster[col].apply(lambda x: 0.0 if x >= 9.9 else x)\n",
    "    "
   ]
  },
  {
   "cell_type": "code",
   "execution_count": 130,
   "id": "e3950b8d-1eed-44f6-b204-08a8c856f8c7",
   "metadata": {},
   "outputs": [
    {
     "data": {
      "text/html": [
       "<div>\n",
       "<style scoped>\n",
       "    .dataframe tbody tr th:only-of-type {\n",
       "        vertical-align: middle;\n",
       "    }\n",
       "\n",
       "    .dataframe tbody tr th {\n",
       "        vertical-align: top;\n",
       "    }\n",
       "\n",
       "    .dataframe thead th {\n",
       "        text-align: right;\n",
       "    }\n",
       "</style>\n",
       "<table border=\"1\" class=\"dataframe\">\n",
       "  <thead>\n",
       "    <tr style=\"text-align: right;\">\n",
       "      <th></th>\n",
       "      <th>PF_Credit_APR</th>\n",
       "      <th>Good_Credit_APR</th>\n",
       "      <th>Great_Credit_APR</th>\n",
       "      <th>Minimum APR</th>\n",
       "      <th>Median APR</th>\n",
       "      <th>Maximum APR</th>\n",
       "      <th>BT_Min_APR</th>\n",
       "      <th>BT_Max_APR</th>\n",
       "      <th>Median Length of Balance Transfer APR</th>\n",
       "      <th>CA_Min_APR</th>\n",
       "      <th>CA_Median_APR</th>\n",
       "      <th>CA_Max_APR</th>\n",
       "      <th>Grace Period</th>\n",
       "      <th>Min_FinCharge_USD</th>\n",
       "      <th>BT_Fee_Percent</th>\n",
       "      <th>FgnTx_Fee_Percent</th>\n",
       "      <th>LF_6mo_BillCycle</th>\n",
       "      <th>Poor_Fair_Group</th>\n",
       "      <th>Good_Credit_Group</th>\n",
       "      <th>Great_Credit_Group</th>\n",
       "    </tr>\n",
       "  </thead>\n",
       "  <tbody>\n",
       "    <tr>\n",
       "      <th>count</th>\n",
       "      <td>362.000000</td>\n",
       "      <td>362.000000</td>\n",
       "      <td>362.000000</td>\n",
       "      <td>634.000000</td>\n",
       "      <td>272.000000</td>\n",
       "      <td>634.000000</td>\n",
       "      <td>648.000000</td>\n",
       "      <td>648.000000</td>\n",
       "      <td>6.480000e+02</td>\n",
       "      <td>639.000000</td>\n",
       "      <td>566.000000</td>\n",
       "      <td>639.000000</td>\n",
       "      <td>648.000000</td>\n",
       "      <td>648.000000</td>\n",
       "      <td>648.000000</td>\n",
       "      <td>648.000000</td>\n",
       "      <td>648.000000</td>\n",
       "      <td>648.000000</td>\n",
       "      <td>648.000000</td>\n",
       "      <td>648.000000</td>\n",
       "    </tr>\n",
       "    <tr>\n",
       "      <th>mean</th>\n",
       "      <td>0.149553</td>\n",
       "      <td>0.218517</td>\n",
       "      <td>0.182349</td>\n",
       "      <td>0.184511</td>\n",
       "      <td>0.243475</td>\n",
       "      <td>0.242079</td>\n",
       "      <td>0.039842</td>\n",
       "      <td>0.056838</td>\n",
       "      <td>1.543275e+06</td>\n",
       "      <td>0.242975</td>\n",
       "      <td>0.261888</td>\n",
       "      <td>0.262943</td>\n",
       "      <td>23.740741</td>\n",
       "      <td>1.124676</td>\n",
       "      <td>0.025965</td>\n",
       "      <td>1.553383</td>\n",
       "      <td>30.986883</td>\n",
       "      <td>0.557099</td>\n",
       "      <td>0.739198</td>\n",
       "      <td>0.814815</td>\n",
       "    </tr>\n",
       "    <tr>\n",
       "      <th>std</th>\n",
       "      <td>0.119937</td>\n",
       "      <td>0.067778</td>\n",
       "      <td>0.052814</td>\n",
       "      <td>0.084010</td>\n",
       "      <td>0.093446</td>\n",
       "      <td>0.081052</td>\n",
       "      <td>0.072164</td>\n",
       "      <td>0.099072</td>\n",
       "      <td>3.928371e+07</td>\n",
       "      <td>0.081470</td>\n",
       "      <td>0.073463</td>\n",
       "      <td>0.071327</td>\n",
       "      <td>3.437327</td>\n",
       "      <td>2.392789</td>\n",
       "      <td>0.022432</td>\n",
       "      <td>1.934268</td>\n",
       "      <td>18.104716</td>\n",
       "      <td>0.497113</td>\n",
       "      <td>0.439412</td>\n",
       "      <td>0.388748</td>\n",
       "    </tr>\n",
       "    <tr>\n",
       "      <th>min</th>\n",
       "      <td>0.000000</td>\n",
       "      <td>0.000000</td>\n",
       "      <td>0.000000</td>\n",
       "      <td>0.000000</td>\n",
       "      <td>0.000000</td>\n",
       "      <td>0.000000</td>\n",
       "      <td>0.000000</td>\n",
       "      <td>0.000000</td>\n",
       "      <td>0.000000e+00</td>\n",
       "      <td>0.000000</td>\n",
       "      <td>0.000000</td>\n",
       "      <td>0.000000</td>\n",
       "      <td>0.000000</td>\n",
       "      <td>0.000000</td>\n",
       "      <td>0.000000</td>\n",
       "      <td>0.010000</td>\n",
       "      <td>0.000000</td>\n",
       "      <td>0.000000</td>\n",
       "      <td>0.000000</td>\n",
       "      <td>0.000000</td>\n",
       "    </tr>\n",
       "    <tr>\n",
       "      <th>25%</th>\n",
       "      <td>0.000000</td>\n",
       "      <td>0.179925</td>\n",
       "      <td>0.155600</td>\n",
       "      <td>0.139925</td>\n",
       "      <td>0.198700</td>\n",
       "      <td>0.209900</td>\n",
       "      <td>0.000000</td>\n",
       "      <td>0.000000</td>\n",
       "      <td>0.000000e+00</td>\n",
       "      <td>0.207400</td>\n",
       "      <td>0.262725</td>\n",
       "      <td>0.240000</td>\n",
       "      <td>21.000000</td>\n",
       "      <td>0.000000</td>\n",
       "      <td>0.000000</td>\n",
       "      <td>0.030000</td>\n",
       "      <td>28.500000</td>\n",
       "      <td>0.000000</td>\n",
       "      <td>0.000000</td>\n",
       "      <td>1.000000</td>\n",
       "    </tr>\n",
       "    <tr>\n",
       "      <th>50%</th>\n",
       "      <td>0.180000</td>\n",
       "      <td>0.236950</td>\n",
       "      <td>0.193700</td>\n",
       "      <td>0.177400</td>\n",
       "      <td>0.261200</td>\n",
       "      <td>0.265700</td>\n",
       "      <td>0.000000</td>\n",
       "      <td>0.000000</td>\n",
       "      <td>0.000000e+00</td>\n",
       "      <td>0.264900</td>\n",
       "      <td>0.274900</td>\n",
       "      <td>0.282400</td>\n",
       "      <td>25.000000</td>\n",
       "      <td>1.000000</td>\n",
       "      <td>0.030000</td>\n",
       "      <td>0.030000</td>\n",
       "      <td>40.000000</td>\n",
       "      <td>1.000000</td>\n",
       "      <td>1.000000</td>\n",
       "      <td>1.000000</td>\n",
       "    </tr>\n",
       "    <tr>\n",
       "      <th>75%</th>\n",
       "      <td>0.264900</td>\n",
       "      <td>0.269900</td>\n",
       "      <td>0.217400</td>\n",
       "      <td>0.229900</td>\n",
       "      <td>0.295525</td>\n",
       "      <td>0.287400</td>\n",
       "      <td>0.054125</td>\n",
       "      <td>0.105000</td>\n",
       "      <td>1.200000e+01</td>\n",
       "      <td>0.292400</td>\n",
       "      <td>0.297400</td>\n",
       "      <td>0.297400</td>\n",
       "      <td>25.000000</td>\n",
       "      <td>1.750000</td>\n",
       "      <td>0.050000</td>\n",
       "      <td>4.000000</td>\n",
       "      <td>40.000000</td>\n",
       "      <td>1.000000</td>\n",
       "      <td>1.000000</td>\n",
       "      <td>1.000000</td>\n",
       "    </tr>\n",
       "    <tr>\n",
       "      <th>max</th>\n",
       "      <td>0.320000</td>\n",
       "      <td>0.299900</td>\n",
       "      <td>0.294900</td>\n",
       "      <td>0.360000</td>\n",
       "      <td>0.360000</td>\n",
       "      <td>0.360000</td>\n",
       "      <td>0.314900</td>\n",
       "      <td>0.360000</td>\n",
       "      <td>1.000000e+09</td>\n",
       "      <td>0.360000</td>\n",
       "      <td>0.360000</td>\n",
       "      <td>0.360000</td>\n",
       "      <td>30.000000</td>\n",
       "      <td>25.000000</td>\n",
       "      <td>0.100000</td>\n",
       "      <td>4.000000</td>\n",
       "      <td>246.000000</td>\n",
       "      <td>1.000000</td>\n",
       "      <td>1.000000</td>\n",
       "      <td>1.000000</td>\n",
       "    </tr>\n",
       "  </tbody>\n",
       "</table>\n",
       "</div>"
      ],
      "text/plain": [
       "       PF_Credit_APR  Good_Credit_APR  Great_Credit_APR  Minimum APR  \\\n",
       "count     362.000000       362.000000        362.000000   634.000000   \n",
       "mean        0.149553         0.218517          0.182349     0.184511   \n",
       "std         0.119937         0.067778          0.052814     0.084010   \n",
       "min         0.000000         0.000000          0.000000     0.000000   \n",
       "25%         0.000000         0.179925          0.155600     0.139925   \n",
       "50%         0.180000         0.236950          0.193700     0.177400   \n",
       "75%         0.264900         0.269900          0.217400     0.229900   \n",
       "max         0.320000         0.299900          0.294900     0.360000   \n",
       "\n",
       "       Median APR  Maximum APR  BT_Min_APR  BT_Max_APR  \\\n",
       "count  272.000000   634.000000  648.000000  648.000000   \n",
       "mean     0.243475     0.242079    0.039842    0.056838   \n",
       "std      0.093446     0.081052    0.072164    0.099072   \n",
       "min      0.000000     0.000000    0.000000    0.000000   \n",
       "25%      0.198700     0.209900    0.000000    0.000000   \n",
       "50%      0.261200     0.265700    0.000000    0.000000   \n",
       "75%      0.295525     0.287400    0.054125    0.105000   \n",
       "max      0.360000     0.360000    0.314900    0.360000   \n",
       "\n",
       "       Median Length of Balance Transfer APR  CA_Min_APR  CA_Median_APR  \\\n",
       "count                           6.480000e+02  639.000000     566.000000   \n",
       "mean                            1.543275e+06    0.242975       0.261888   \n",
       "std                             3.928371e+07    0.081470       0.073463   \n",
       "min                             0.000000e+00    0.000000       0.000000   \n",
       "25%                             0.000000e+00    0.207400       0.262725   \n",
       "50%                             0.000000e+00    0.264900       0.274900   \n",
       "75%                             1.200000e+01    0.292400       0.297400   \n",
       "max                             1.000000e+09    0.360000       0.360000   \n",
       "\n",
       "       CA_Max_APR  Grace Period  Min_FinCharge_USD  BT_Fee_Percent  \\\n",
       "count  639.000000    648.000000         648.000000      648.000000   \n",
       "mean     0.262943     23.740741           1.124676        0.025965   \n",
       "std      0.071327      3.437327           2.392789        0.022432   \n",
       "min      0.000000      0.000000           0.000000        0.000000   \n",
       "25%      0.240000     21.000000           0.000000        0.000000   \n",
       "50%      0.282400     25.000000           1.000000        0.030000   \n",
       "75%      0.297400     25.000000           1.750000        0.050000   \n",
       "max      0.360000     30.000000          25.000000        0.100000   \n",
       "\n",
       "       FgnTx_Fee_Percent  LF_6mo_BillCycle  Poor_Fair_Group  \\\n",
       "count         648.000000        648.000000       648.000000   \n",
       "mean            1.553383         30.986883         0.557099   \n",
       "std             1.934268         18.104716         0.497113   \n",
       "min             0.010000          0.000000         0.000000   \n",
       "25%             0.030000         28.500000         0.000000   \n",
       "50%             0.030000         40.000000         1.000000   \n",
       "75%             4.000000         40.000000         1.000000   \n",
       "max             4.000000        246.000000         1.000000   \n",
       "\n",
       "       Good_Credit_Group  Great_Credit_Group  \n",
       "count         648.000000          648.000000  \n",
       "mean            0.739198            0.814815  \n",
       "std             0.439412            0.388748  \n",
       "min             0.000000            0.000000  \n",
       "25%             0.000000            1.000000  \n",
       "50%             1.000000            1.000000  \n",
       "75%             1.000000            1.000000  \n",
       "max             1.000000            1.000000  "
      ]
     },
     "execution_count": 130,
     "metadata": {},
     "output_type": "execute_result"
    }
   ],
   "source": [
    "df_to_cluster.describe()"
   ]
  },
  {
   "cell_type": "code",
   "execution_count": 131,
   "id": "4d29dff2-9206-4842-9921-62addca788fa",
   "metadata": {},
   "outputs": [],
   "source": [
    "# missed one but have since added it to the cols to change list above\n",
    "df_to_cluster['Maximum APR'] = df_to_cluster['Maximum APR'].apply(lambda x: 0.0 if x >= 9.9 else x)"
   ]
  },
  {
   "cell_type": "markdown",
   "id": "d689488d-22cb-40ab-81ce-507aec9085c8",
   "metadata": {},
   "source": [
    "- Overall the values for mean are making much more sense now when it comes the APR values. The amount of values of 9.99, meaning irrelevant, was dragging the mean more positive. Changing those values to zero has had at what appears this moment a positive change to the data\n",
    "- this will also make the Knn Imputation process much more accurate when imputing values based on the distance from other neighbors. with a reduction of outlier like values, the values imputed will be closer to accurate than not."
   ]
  },
  {
   "cell_type": "code",
   "execution_count": 132,
   "id": "628f1f4a-b331-43c5-9133-2535afa971c8",
   "metadata": {},
   "outputs": [
    {
     "data": {
      "text/html": [
       "<div>\n",
       "<style scoped>\n",
       "    .dataframe tbody tr th:only-of-type {\n",
       "        vertical-align: middle;\n",
       "    }\n",
       "\n",
       "    .dataframe tbody tr th {\n",
       "        vertical-align: top;\n",
       "    }\n",
       "\n",
       "    .dataframe thead th {\n",
       "        text-align: right;\n",
       "    }\n",
       "</style>\n",
       "<table border=\"1\" class=\"dataframe\">\n",
       "  <thead>\n",
       "    <tr style=\"text-align: right;\">\n",
       "      <th></th>\n",
       "      <th>Availability of Credit Card Plan</th>\n",
       "      <th>Requirements for Opening</th>\n",
       "      <th>Secured Card</th>\n",
       "      <th>Purchase APR Offered?</th>\n",
       "      <th>Purchase APR Vary by Balance</th>\n",
       "      <th>Purchase APR Index</th>\n",
       "      <th>Variable Rate Index</th>\n",
       "      <th>Index</th>\n",
       "      <th>PF_Credit_APR</th>\n",
       "      <th>Good_Credit_APR</th>\n",
       "      <th>...</th>\n",
       "      <th>Balance Transfer Fees?</th>\n",
       "      <th>BT_Fee_Percent</th>\n",
       "      <th>Cash Advance Fees?</th>\n",
       "      <th>Foreign Transaction Fees?</th>\n",
       "      <th>FgnTx_Fee_Percent</th>\n",
       "      <th>Late Fees?</th>\n",
       "      <th>LF_6mo_BillCycle</th>\n",
       "      <th>Poor_Fair_Group</th>\n",
       "      <th>Good_Credit_Group</th>\n",
       "      <th>Great_Credit_Group</th>\n",
       "    </tr>\n",
       "  </thead>\n",
       "  <tbody>\n",
       "    <tr>\n",
       "      <th>0</th>\n",
       "      <td>National</td>\n",
       "      <td>No</td>\n",
       "      <td>No</td>\n",
       "      <td>Yes</td>\n",
       "      <td>No</td>\n",
       "      <td>No</td>\n",
       "      <td>__</td>\n",
       "      <td>F</td>\n",
       "      <td>NaN</td>\n",
       "      <td>NaN</td>\n",
       "      <td>...</td>\n",
       "      <td>Yes</td>\n",
       "      <td>0.03</td>\n",
       "      <td>Yes</td>\n",
       "      <td>Yes</td>\n",
       "      <td>0.01</td>\n",
       "      <td>Yes</td>\n",
       "      <td>0.0</td>\n",
       "      <td>0</td>\n",
       "      <td>1</td>\n",
       "      <td>0</td>\n",
       "    </tr>\n",
       "    <tr>\n",
       "      <th>1</th>\n",
       "      <td>National</td>\n",
       "      <td>No</td>\n",
       "      <td>No</td>\n",
       "      <td>Yes</td>\n",
       "      <td>No</td>\n",
       "      <td>No</td>\n",
       "      <td>__</td>\n",
       "      <td>F</td>\n",
       "      <td>NaN</td>\n",
       "      <td>NaN</td>\n",
       "      <td>...</td>\n",
       "      <td>No</td>\n",
       "      <td>0.00</td>\n",
       "      <td>No</td>\n",
       "      <td>No</td>\n",
       "      <td>4.00</td>\n",
       "      <td>No</td>\n",
       "      <td>0.0</td>\n",
       "      <td>0</td>\n",
       "      <td>1</td>\n",
       "      <td>1</td>\n",
       "    </tr>\n",
       "    <tr>\n",
       "      <th>2</th>\n",
       "      <td>National</td>\n",
       "      <td>Yes</td>\n",
       "      <td>No</td>\n",
       "      <td>Yes</td>\n",
       "      <td>No</td>\n",
       "      <td>Yes</td>\n",
       "      <td>Prime</td>\n",
       "      <td>V</td>\n",
       "      <td>NaN</td>\n",
       "      <td>NaN</td>\n",
       "      <td>...</td>\n",
       "      <td>Yes</td>\n",
       "      <td>0.03</td>\n",
       "      <td>Yes</td>\n",
       "      <td>No</td>\n",
       "      <td>4.00</td>\n",
       "      <td>Yes</td>\n",
       "      <td>40.0</td>\n",
       "      <td>0</td>\n",
       "      <td>1</td>\n",
       "      <td>1</td>\n",
       "    </tr>\n",
       "    <tr>\n",
       "      <th>3</th>\n",
       "      <td>Regional</td>\n",
       "      <td>Yes</td>\n",
       "      <td>No</td>\n",
       "      <td>No</td>\n",
       "      <td>__</td>\n",
       "      <td>__</td>\n",
       "      <td>__</td>\n",
       "      <td>F</td>\n",
       "      <td>NaN</td>\n",
       "      <td>NaN</td>\n",
       "      <td>...</td>\n",
       "      <td>No</td>\n",
       "      <td>0.00</td>\n",
       "      <td>No</td>\n",
       "      <td>Yes</td>\n",
       "      <td>0.01</td>\n",
       "      <td>Yes</td>\n",
       "      <td>0.0</td>\n",
       "      <td>1</td>\n",
       "      <td>1</td>\n",
       "      <td>1</td>\n",
       "    </tr>\n",
       "    <tr>\n",
       "      <th>4</th>\n",
       "      <td>National</td>\n",
       "      <td>No</td>\n",
       "      <td>No</td>\n",
       "      <td>Yes</td>\n",
       "      <td>No</td>\n",
       "      <td>No</td>\n",
       "      <td>__</td>\n",
       "      <td>F</td>\n",
       "      <td>0.159</td>\n",
       "      <td>0.109</td>\n",
       "      <td>...</td>\n",
       "      <td>No</td>\n",
       "      <td>0.00</td>\n",
       "      <td>No</td>\n",
       "      <td>Yes</td>\n",
       "      <td>0.01</td>\n",
       "      <td>Yes</td>\n",
       "      <td>0.0</td>\n",
       "      <td>1</td>\n",
       "      <td>1</td>\n",
       "      <td>1</td>\n",
       "    </tr>\n",
       "  </tbody>\n",
       "</table>\n",
       "<p>5 rows × 42 columns</p>\n",
       "</div>"
      ],
      "text/plain": [
       "  Availability of Credit Card Plan Requirements for Opening Secured Card  \\\n",
       "0                         National                       No           No   \n",
       "1                         National                       No           No   \n",
       "2                         National                      Yes           No   \n",
       "3                         Regional                      Yes           No   \n",
       "4                         National                       No           No   \n",
       "\n",
       "  Purchase APR Offered? Purchase APR Vary by Balance Purchase APR Index  \\\n",
       "0                   Yes                           No                 No   \n",
       "1                   Yes                           No                 No   \n",
       "2                   Yes                           No                Yes   \n",
       "3                    No                           __                 __   \n",
       "4                   Yes                           No                 No   \n",
       "\n",
       "  Variable Rate Index Index  PF_Credit_APR  Good_Credit_APR  ...  \\\n",
       "0                  __     F            NaN              NaN  ...   \n",
       "1                  __     F            NaN              NaN  ...   \n",
       "2               Prime     V            NaN              NaN  ...   \n",
       "3                  __     F            NaN              NaN  ...   \n",
       "4                  __     F          0.159            0.109  ...   \n",
       "\n",
       "   Balance Transfer Fees?  BT_Fee_Percent  Cash Advance Fees?  \\\n",
       "0                     Yes            0.03                 Yes   \n",
       "1                      No            0.00                  No   \n",
       "2                     Yes            0.03                 Yes   \n",
       "3                      No            0.00                  No   \n",
       "4                      No            0.00                  No   \n",
       "\n",
       "   Foreign Transaction Fees? FgnTx_Fee_Percent Late Fees? LF_6mo_BillCycle  \\\n",
       "0                        Yes              0.01        Yes              0.0   \n",
       "1                         No              4.00         No              0.0   \n",
       "2                         No              4.00        Yes             40.0   \n",
       "3                        Yes              0.01        Yes              0.0   \n",
       "4                        Yes              0.01        Yes              0.0   \n",
       "\n",
       "   Poor_Fair_Group  Good_Credit_Group  Great_Credit_Group  \n",
       "0                0                  1                   0  \n",
       "1                0                  1                   1  \n",
       "2                0                  1                   1  \n",
       "3                1                  1                   1  \n",
       "4                1                  1                   1  \n",
       "\n",
       "[5 rows x 42 columns]"
      ]
     },
     "execution_count": 132,
     "metadata": {},
     "output_type": "execute_result"
    }
   ],
   "source": [
    "df_to_cluster.head()"
   ]
  },
  {
   "cell_type": "markdown",
   "id": "704392d1-dd98-4bf8-9467-2f94b1309ea4",
   "metadata": {},
   "source": [
    "<a id=\"Clustering\"></a>"
   ]
  },
  {
   "cell_type": "markdown",
   "id": "3e732ac5-6f6e-409b-b89d-a2f111ec9f2a",
   "metadata": {},
   "source": [
    "TODO:\n",
    "- Add Late Fees and Rewards into cluster data set\n",
    "- Increase the amount of rows we have with either GANs or simply re-sampling\n",
    "- Investigate DBSCAN as an alternative to KMeans\n",
    "- brainstorm other features to either add or reduce fields"
   ]
  },
  {
   "cell_type": "markdown",
   "id": "eb00eed7-f54e-40fa-8179-abffc9c61e66",
   "metadata": {},
   "source": [
    "---\n",
    "## Run From Here For Clustering"
   ]
  },
  {
   "cell_type": "code",
   "execution_count": 133,
   "id": "95094156-25c2-4326-85d5-9edfbc87d228",
   "metadata": {},
   "outputs": [],
   "source": [
    "df_to_cluster.to_csv(\"../data/df_for_clustering.csv\")"
   ]
  },
  {
   "cell_type": "code",
   "execution_count": 134,
   "id": "2749c14a-a339-4f2d-8db2-004ce4566eb3",
   "metadata": {},
   "outputs": [],
   "source": [
    "df_to_cluster = pd.read_csv(\"../data/df_for_clustering.csv\", index_col = 0)"
   ]
  },
  {
   "cell_type": "markdown",
   "id": "e8968467-06ac-4c93-ac0d-caad601aec3e",
   "metadata": {},
   "source": [
    "### Imputing"
   ]
  },
  {
   "cell_type": "markdown",
   "id": "0f89274d-37c4-48ef-beed-64a3f7fd7973",
   "metadata": {},
   "source": [
    "- We've mentioned it a couple of times now so before we continue let's talk about imputing and KNN or K-nearest neighbor.\n",
    "- This <a href=\"https://www.analyticsvidhya.com/blog/2020/07/knnimputer-a-robust-way-to-impute-missing-values-using-scikit-learn/\"> blog </a> does a good job of walking through it in detail\n",
    "- Up until now you have seen us clean and remove null values from the dataset. All of that cleaning was imply identifying other values that could be interpreted as null for existing columns. But numerical values are more complicated.\n",
    "- We could just impute (which here just means 'filling in') the average of the column or the median of the column, but we want to try and be as close to reality as we can.\n",
    "- Instead we are going to take advantage of a technique called K-Nearest Neighbor"
   ]
  },
  {
   "cell_type": "markdown",
   "id": "7103aab4-115e-4b1c-bc81-861904f80fc8",
   "metadata": {},
   "source": [
    "<a href=\"https://insightimi.wordpress.com/2020/03/01/k-nearest-neighboursk-nn-algorithm-from-scratch-with-a-hands-on-example-in-r/\"> K-Nearest Neighbor </a>"
   ]
  },
  {
   "cell_type": "markdown",
   "id": "1b532b5f-82d7-4c51-8269-175b95d323a9",
   "metadata": {},
   "source": [
    "- For each missing data point we have in our numerical columns, we are going to fill in a value of it's similarly plotted and positioned neighbors\n",
    "- The distance we will be using is what is known as Euclidean \n",
    "    - Calculated as the square root of the sum of the squared differences between a new point x and and existing point y"
   ]
  },
  {
   "cell_type": "code",
   "execution_count": 135,
   "id": "6c6f011c-cc68-417f-a942-0868d953554f",
   "metadata": {},
   "outputs": [],
   "source": [
    "col_types = df_to_cluster.dtypes\n",
    "num_cols = col_types[col_types != 'object'].index.tolist()\n",
    "obj_cols = col_types[col_types == 'object'].index.tolist()"
   ]
  },
  {
   "cell_type": "markdown",
   "id": "da04cb80-d52b-4aae-92f1-e8df9cf2c9dd",
   "metadata": {},
   "source": [
    "- We instantiate an instance of KNNImputer with it to:\n",
    "    - Look at null values like that of np.nan\n",
    "    - 4 nearest neighbors\n",
    "    - using Euclidean distance"
   ]
  },
  {
   "cell_type": "code",
   "execution_count": 136,
   "id": "9afdf23e-8e31-430b-a369-4501d42dde10",
   "metadata": {},
   "outputs": [],
   "source": [
    "knn = KNNImputer(missing_values=np.nan, n_neighbors=4,metric='nan_euclidean')"
   ]
  },
  {
   "cell_type": "markdown",
   "id": "ef636532-510c-4c7f-aa46-08c9a9d568b1",
   "metadata": {},
   "source": [
    "- train our knn imputer on the data and transform it"
   ]
  },
  {
   "cell_type": "code",
   "execution_count": 137,
   "id": "eb119c68-4ef9-4617-99e9-621ee6b7de9d",
   "metadata": {},
   "outputs": [],
   "source": [
    "data = knn.fit_transform(df_to_cluster[num_cols])"
   ]
  },
  {
   "cell_type": "markdown",
   "id": "c3d25f0f-0241-4a78-9d75-5e1f72b18e25",
   "metadata": {},
   "source": [
    "- save it as a pandas dataframe"
   ]
  },
  {
   "cell_type": "code",
   "execution_count": 138,
   "id": "848d41b7-fd35-4577-9b21-514f2ce9f8e9",
   "metadata": {},
   "outputs": [],
   "source": [
    "df1_num_tf = pd.DataFrame(data=data,columns=knn.get_feature_names_out())"
   ]
  },
  {
   "cell_type": "code",
   "execution_count": 139,
   "id": "f9f4cdce-93e3-4fee-a042-a23572221e5e",
   "metadata": {},
   "outputs": [
    {
     "data": {
      "text/html": [
       "<div>\n",
       "<style scoped>\n",
       "    .dataframe tbody tr th:only-of-type {\n",
       "        vertical-align: middle;\n",
       "    }\n",
       "\n",
       "    .dataframe tbody tr th {\n",
       "        vertical-align: top;\n",
       "    }\n",
       "\n",
       "    .dataframe thead th {\n",
       "        text-align: right;\n",
       "    }\n",
       "</style>\n",
       "<table border=\"1\" class=\"dataframe\">\n",
       "  <thead>\n",
       "    <tr style=\"text-align: right;\">\n",
       "      <th></th>\n",
       "      <th>PF_Credit_APR</th>\n",
       "      <th>Good_Credit_APR</th>\n",
       "      <th>Great_Credit_APR</th>\n",
       "      <th>Minimum APR</th>\n",
       "      <th>Median APR</th>\n",
       "      <th>Maximum APR</th>\n",
       "      <th>BT_Min_APR</th>\n",
       "      <th>BT_Max_APR</th>\n",
       "      <th>Median Length of Balance Transfer APR</th>\n",
       "      <th>CA_Min_APR</th>\n",
       "      <th>CA_Median_APR</th>\n",
       "      <th>CA_Max_APR</th>\n",
       "      <th>Grace Period</th>\n",
       "      <th>Min_FinCharge_USD</th>\n",
       "      <th>BT_Fee_Percent</th>\n",
       "      <th>FgnTx_Fee_Percent</th>\n",
       "      <th>LF_6mo_BillCycle</th>\n",
       "      <th>Poor_Fair_Group</th>\n",
       "      <th>Good_Credit_Group</th>\n",
       "      <th>Great_Credit_Group</th>\n",
       "    </tr>\n",
       "  </thead>\n",
       "  <tbody>\n",
       "    <tr>\n",
       "      <th>0</th>\n",
       "      <td>0.179150</td>\n",
       "      <td>0.161025</td>\n",
       "      <td>0.140400</td>\n",
       "      <td>0.1490</td>\n",
       "      <td>0.14900</td>\n",
       "      <td>0.18000</td>\n",
       "      <td>0.1490</td>\n",
       "      <td>0.1800</td>\n",
       "      <td>0.0</td>\n",
       "      <td>0.1490</td>\n",
       "      <td>0.149000</td>\n",
       "      <td>0.1800</td>\n",
       "      <td>25.0</td>\n",
       "      <td>0.00</td>\n",
       "      <td>0.03</td>\n",
       "      <td>0.01</td>\n",
       "      <td>0.0</td>\n",
       "      <td>0.0</td>\n",
       "      <td>1.0</td>\n",
       "      <td>0.0</td>\n",
       "    </tr>\n",
       "    <tr>\n",
       "      <th>1</th>\n",
       "      <td>0.177975</td>\n",
       "      <td>0.170475</td>\n",
       "      <td>0.154825</td>\n",
       "      <td>0.1150</td>\n",
       "      <td>0.11500</td>\n",
       "      <td>0.11500</td>\n",
       "      <td>0.1150</td>\n",
       "      <td>0.1150</td>\n",
       "      <td>6.0</td>\n",
       "      <td>0.1150</td>\n",
       "      <td>0.115000</td>\n",
       "      <td>0.1150</td>\n",
       "      <td>25.0</td>\n",
       "      <td>0.01</td>\n",
       "      <td>0.00</td>\n",
       "      <td>4.00</td>\n",
       "      <td>0.0</td>\n",
       "      <td>0.0</td>\n",
       "      <td>1.0</td>\n",
       "      <td>1.0</td>\n",
       "    </tr>\n",
       "    <tr>\n",
       "      <th>2</th>\n",
       "      <td>0.253025</td>\n",
       "      <td>0.249900</td>\n",
       "      <td>0.214900</td>\n",
       "      <td>0.2099</td>\n",
       "      <td>0.20990</td>\n",
       "      <td>0.20990</td>\n",
       "      <td>0.2099</td>\n",
       "      <td>0.2099</td>\n",
       "      <td>6.0</td>\n",
       "      <td>0.2499</td>\n",
       "      <td>0.249900</td>\n",
       "      <td>0.2499</td>\n",
       "      <td>6.0</td>\n",
       "      <td>0.50</td>\n",
       "      <td>0.03</td>\n",
       "      <td>4.00</td>\n",
       "      <td>40.0</td>\n",
       "      <td>0.0</td>\n",
       "      <td>1.0</td>\n",
       "      <td>1.0</td>\n",
       "    </tr>\n",
       "    <tr>\n",
       "      <th>3</th>\n",
       "      <td>0.191175</td>\n",
       "      <td>0.227725</td>\n",
       "      <td>0.181150</td>\n",
       "      <td>0.1474</td>\n",
       "      <td>0.10595</td>\n",
       "      <td>0.23615</td>\n",
       "      <td>0.1650</td>\n",
       "      <td>0.1650</td>\n",
       "      <td>16.5</td>\n",
       "      <td>0.1650</td>\n",
       "      <td>0.165000</td>\n",
       "      <td>0.1650</td>\n",
       "      <td>25.0</td>\n",
       "      <td>0.00</td>\n",
       "      <td>0.00</td>\n",
       "      <td>0.01</td>\n",
       "      <td>0.0</td>\n",
       "      <td>1.0</td>\n",
       "      <td>1.0</td>\n",
       "      <td>1.0</td>\n",
       "    </tr>\n",
       "    <tr>\n",
       "      <th>4</th>\n",
       "      <td>0.159000</td>\n",
       "      <td>0.109000</td>\n",
       "      <td>0.079000</td>\n",
       "      <td>0.0790</td>\n",
       "      <td>0.13410</td>\n",
       "      <td>0.16900</td>\n",
       "      <td>0.0790</td>\n",
       "      <td>0.1690</td>\n",
       "      <td>6.0</td>\n",
       "      <td>0.0790</td>\n",
       "      <td>0.074725</td>\n",
       "      <td>0.1690</td>\n",
       "      <td>25.0</td>\n",
       "      <td>0.00</td>\n",
       "      <td>0.00</td>\n",
       "      <td>0.01</td>\n",
       "      <td>0.0</td>\n",
       "      <td>1.0</td>\n",
       "      <td>1.0</td>\n",
       "      <td>1.0</td>\n",
       "    </tr>\n",
       "  </tbody>\n",
       "</table>\n",
       "</div>"
      ],
      "text/plain": [
       "   PF_Credit_APR  Good_Credit_APR  Great_Credit_APR  Minimum APR  Median APR  \\\n",
       "0       0.179150         0.161025          0.140400       0.1490     0.14900   \n",
       "1       0.177975         0.170475          0.154825       0.1150     0.11500   \n",
       "2       0.253025         0.249900          0.214900       0.2099     0.20990   \n",
       "3       0.191175         0.227725          0.181150       0.1474     0.10595   \n",
       "4       0.159000         0.109000          0.079000       0.0790     0.13410   \n",
       "\n",
       "   Maximum APR  BT_Min_APR  BT_Max_APR  Median Length of Balance Transfer APR  \\\n",
       "0      0.18000      0.1490      0.1800                                    0.0   \n",
       "1      0.11500      0.1150      0.1150                                    6.0   \n",
       "2      0.20990      0.2099      0.2099                                    6.0   \n",
       "3      0.23615      0.1650      0.1650                                   16.5   \n",
       "4      0.16900      0.0790      0.1690                                    6.0   \n",
       "\n",
       "   CA_Min_APR  CA_Median_APR  CA_Max_APR  Grace Period  Min_FinCharge_USD  \\\n",
       "0      0.1490       0.149000      0.1800          25.0               0.00   \n",
       "1      0.1150       0.115000      0.1150          25.0               0.01   \n",
       "2      0.2499       0.249900      0.2499           6.0               0.50   \n",
       "3      0.1650       0.165000      0.1650          25.0               0.00   \n",
       "4      0.0790       0.074725      0.1690          25.0               0.00   \n",
       "\n",
       "   BT_Fee_Percent  FgnTx_Fee_Percent  LF_6mo_BillCycle  Poor_Fair_Group  \\\n",
       "0            0.03               0.01               0.0              0.0   \n",
       "1            0.00               4.00               0.0              0.0   \n",
       "2            0.03               4.00              40.0              0.0   \n",
       "3            0.00               0.01               0.0              1.0   \n",
       "4            0.00               0.01               0.0              1.0   \n",
       "\n",
       "   Good_Credit_Group  Great_Credit_Group  \n",
       "0                1.0                 0.0  \n",
       "1                1.0                 1.0  \n",
       "2                1.0                 1.0  \n",
       "3                1.0                 1.0  \n",
       "4                1.0                 1.0  "
      ]
     },
     "execution_count": 139,
     "metadata": {},
     "output_type": "execute_result"
    }
   ],
   "source": [
    "df1_num_tf.head()"
   ]
  },
  {
   "cell_type": "markdown",
   "id": "2fc0bc1c-aaff-4d73-ad55-e90bb344f905",
   "metadata": {},
   "source": [
    "### Second Clustering Attempt on new data set\n",
    "---"
   ]
  },
  {
   "cell_type": "markdown",
   "id": "7e3c8c32-2e54-474b-860e-c1084b9fc75a",
   "metadata": {},
   "source": [
    "- The second attempt is canon for this walk through because it takes into all the changes youve read up until this point.\n",
    "- StandardScaler is apackage that let's us translate all of our numerical features onto the same scale.\n",
    "    - This meaning we have fields together like APRs that range in the tenths (.0) and hundredths (.00) place of a decimal and fields like Grace Period that range in the ones (1.0) and tens (10.0).\n",
    "    - StandardScaler transforms our data so that it all fits between 0 and 1 capturing the full variation of the initial data.\n",
    "    - this also makes it easier for the ML model to do it's thing"
   ]
  },
  {
   "cell_type": "code",
   "execution_count": 140,
   "id": "b35cf4e7-ed43-4cc0-9af3-e5d0c44b3a6b",
   "metadata": {},
   "outputs": [],
   "source": [
    "sc = StandardScaler()"
   ]
  },
  {
   "cell_type": "code",
   "execution_count": 141,
   "id": "34690485-b6ad-4fd4-acbf-fb8d6b33d812",
   "metadata": {},
   "outputs": [],
   "source": [
    "data_scaled = sc.fit_transform(df1_num_tf)"
   ]
  },
  {
   "cell_type": "markdown",
   "id": "a845cc5a-8cfd-41f3-989d-09d826fcd08f",
   "metadata": {},
   "source": [
    "- Instantiate our KMeans clustering model looking to account for 3 clusters\n",
    "    - Random State simply signals to the model it's base of random numbers"
   ]
  },
  {
   "cell_type": "code",
   "execution_count": 142,
   "id": "813c6c2d-bbbc-410c-8a6b-77809007834c",
   "metadata": {},
   "outputs": [],
   "source": [
    "kmeans = KMeans(n_clusters=3, random_state=42)"
   ]
  },
  {
   "cell_type": "markdown",
   "id": "69efb91a-0fa4-43ca-8290-18862a1eb802",
   "metadata": {},
   "source": [
    "- Here we are fitting our unsupervised clustering KMeans model on our data\n",
    "- and creating a new column to our original phase II cleaned dataset that captures the cluster that product line belongs too\n",
    "- This is a pretty easy <a href=\"https://youtu.be/R2e3Ls9H_fc?si=pPBQalGhE2AOOGH4\"> walkthrough </a> of how this work"
   ]
  },
  {
   "cell_type": "code",
   "execution_count": 143,
   "id": "ed9c2db2-4df9-4830-bf6c-26819eddb7ff",
   "metadata": {},
   "outputs": [
    {
     "name": "stderr",
     "output_type": "stream",
     "text": [
      "C:\\Users\\User\\anaconda3_1\\envs\\dsi\\lib\\site-packages\\sklearn\\cluster\\_kmeans.py:1416: FutureWarning: The default value of `n_init` will change from 10 to 'auto' in 1.4. Set the value of `n_init` explicitly to suppress the warning\n",
      "  super()._check_params_vs_input(X, default_n_init=10)\n"
     ]
    }
   ],
   "source": [
    "df_to_cluster[\"cluster\"] = kmeans.fit_predict(data_scaled)"
   ]
  },
  {
   "cell_type": "markdown",
   "id": "a5dc51a7-5254-4138-9b6c-ba1130a920e2",
   "metadata": {},
   "source": [
    "- It's not worth going into the technical nature of PCA, however to explain a little for continuity of this walkthrough:\n",
    "- PCA is like taking a high definition picture, and reducing it's quality in order to save memory but you are still looking at the same picture\n",
    "- In our case, we are using it to reduce the data points that make up our clusters (42 incase you forgot) into 2 Dimensional space in an effort to visualize the groupings/clusters of our data.\n",
    "- if you remember from above, we programmed the Kmeans instance to look for 3 clusters"
   ]
  },
  {
   "cell_type": "code",
   "execution_count": 144,
   "id": "150f1b29-f6ab-432d-9a11-37cb21bd4aae",
   "metadata": {},
   "outputs": [],
   "source": [
    "pca = PCA(n_components=2)"
   ]
  },
  {
   "cell_type": "code",
   "execution_count": 145,
   "id": "175dc1b7-41f0-491f-bb58-94844a31c49b",
   "metadata": {},
   "outputs": [],
   "source": [
    "data_2d = pca.fit_transform(data_scaled)"
   ]
  },
  {
   "cell_type": "code",
   "execution_count": 146,
   "id": "db82c832-04e0-4407-b72b-3b0ed8ea5c67",
   "metadata": {},
   "outputs": [
    {
     "data": {
      "image/png": "[encoded data removed]",
      "text/plain": [
       "<Figure size 640x480 with 1 Axes>"
      ]
     },
     "metadata": {},
     "output_type": "display_data"
    }
   ],
   "source": [
    "plt.scatter(data_2d[:, 0], data_2d[:, 1], c=df_to_cluster['cluster'], cmap='viridis')\n",
    "plt.title('Card Clusters')\n",
    "plt.xlabel('Principal Component 1')\n",
    "plt.ylabel('Principal Component 2')\n",
    "plt.show()"
   ]
  },
  {
   "cell_type": "code",
   "execution_count": 147,
   "id": "90a9afcc-33fa-47f8-bbb9-eae161b7e7c7",
   "metadata": {},
   "outputs": [],
   "source": [
    "sil = silhouette_score(data_scaled, df_to_cluster[\"cluster\"])"
   ]
  },
  {
   "cell_type": "code",
   "execution_count": 148,
   "id": "fae8a723-0423-45a4-9371-f1d701cc115e",
   "metadata": {},
   "outputs": [
    {
     "data": {
      "text/plain": [
       "0.27699694377216477"
      ]
     },
     "execution_count": 148,
     "metadata": {},
     "output_type": "execute_result"
    }
   ],
   "source": [
    "sil"
   ]
  },
  {
   "cell_type": "markdown",
   "id": "a7b99b5e-30f0-415c-8361-721bde46547f",
   "metadata": {},
   "source": [
    "- Overall Not Bad at all for a second try, especially compared to the first\n",
    "- We can start to see the makings of 2 clusters, and a barely a third.\n",
    "- Silhouette Score is a metric for measuring the distance of point from neighboring clusters in combination with how close it is to points of its own cluster.\n",
    "- in essesnce it measures cluster distance and density, with values closer to 1 meaning good distance and density, values closer to 0 meaning more amporphous shaped clusters (like ours), and values closer to -1 meaning far away from your own cluster and close to your neighbors\n",
    "- here we scored a .3 closer to 0 than 1, but still positive. There's a lot more we can get out of this data! For now let's make some aggregate cards so SEI can start building the backend"
   ]
  },
  {
   "cell_type": "markdown",
   "id": "2fdd50cd-4d8c-4185-a38f-ad58f1b4fefa",
   "metadata": {},
   "source": [
    "## Aggregate Cards"
   ]
  },
  {
   "cell_type": "markdown",
   "id": "28b4b6ab-28a1-4301-8a4f-a952a1b5de83",
   "metadata": {},
   "source": [
    "- Here we:\n",
    "    - calculate the centroids as the mean values of the clustered data\n",
    "    - calculate the mean values of our grouping columns we created during cleaning above to signify the credit tiers the plans belonged too\n",
    "    - in case the clusters are made up of cards from all three tiers, identify the correct tier per cluster/agg card by taking the max mean the three groupings and assigning that as the correct tier"
   ]
  },
  {
   "cell_type": "code",
   "execution_count": 149,
   "id": "061752d8-0302-4b51-8e08-531fc78403e2",
   "metadata": {},
   "outputs": [
    {
     "ename": "TypeError",
     "evalue": "Could not convert NationalNationalRegionalRegionalRegionalRegionalRegionalRegionalRegionalRegionalRegionalRegionalRegionalRegionalRegionalRegionalRegionalRegionalRegionalRegionalRegionalRegionalRegionalRegionalRegionalRegionalRegionalRegionalRegionalRegionalRegionalRegionalRegionalRegionalRegionalRegionalRegionalRegionalRegionalRegionalRegionalRegionalRegionalRegionalRegionalRegionalRegionalRegionalRegionalRegionalRegionalRegionalRegionalRegionalRegionalRegionalRegionalRegionalRegionalRegionalRegionalRegionalRegionalRegionalRegionalNationalNationalNationalNationalNationalNationalNationalNationalNational to numeric",
     "output_type": "error",
     "traceback": [
      "\u001b[1;31m---------------------------------------------------------------------------\u001b[0m",
      "\u001b[1;31mNotImplementedError\u001b[0m                       Traceback (most recent call last)",
      "File \u001b[1;32m~\\anaconda3_1\\envs\\dsi\\lib\\site-packages\\pandas\\core\\groupby\\groupby.py:1490\u001b[0m, in \u001b[0;36mGroupBy._cython_agg_general.<locals>.array_func\u001b[1;34m(values)\u001b[0m\n\u001b[0;32m   1489\u001b[0m \u001b[38;5;28;01mtry\u001b[39;00m:\n\u001b[1;32m-> 1490\u001b[0m     result \u001b[38;5;241m=\u001b[39m \u001b[38;5;28;43mself\u001b[39;49m\u001b[38;5;241;43m.\u001b[39;49m\u001b[43mgrouper\u001b[49m\u001b[38;5;241;43m.\u001b[39;49m\u001b[43m_cython_operation\u001b[49m\u001b[43m(\u001b[49m\n\u001b[0;32m   1491\u001b[0m \u001b[43m        \u001b[49m\u001b[38;5;124;43m\"\u001b[39;49m\u001b[38;5;124;43maggregate\u001b[39;49m\u001b[38;5;124;43m\"\u001b[39;49m\u001b[43m,\u001b[49m\n\u001b[0;32m   1492\u001b[0m \u001b[43m        \u001b[49m\u001b[43mvalues\u001b[49m\u001b[43m,\u001b[49m\n\u001b[0;32m   1493\u001b[0m \u001b[43m        \u001b[49m\u001b[43mhow\u001b[49m\u001b[43m,\u001b[49m\n\u001b[0;32m   1494\u001b[0m \u001b[43m        \u001b[49m\u001b[43maxis\u001b[49m\u001b[38;5;241;43m=\u001b[39;49m\u001b[43mdata\u001b[49m\u001b[38;5;241;43m.\u001b[39;49m\u001b[43mndim\u001b[49m\u001b[43m \u001b[49m\u001b[38;5;241;43m-\u001b[39;49m\u001b[43m \u001b[49m\u001b[38;5;241;43m1\u001b[39;49m\u001b[43m,\u001b[49m\n\u001b[0;32m   1495\u001b[0m \u001b[43m        \u001b[49m\u001b[43mmin_count\u001b[49m\u001b[38;5;241;43m=\u001b[39;49m\u001b[43mmin_count\u001b[49m\u001b[43m,\u001b[49m\n\u001b[0;32m   1496\u001b[0m \u001b[43m        \u001b[49m\u001b[38;5;241;43m*\u001b[39;49m\u001b[38;5;241;43m*\u001b[39;49m\u001b[43mkwargs\u001b[49m\u001b[43m,\u001b[49m\n\u001b[0;32m   1497\u001b[0m \u001b[43m    \u001b[49m\u001b[43m)\u001b[49m\n\u001b[0;32m   1498\u001b[0m \u001b[38;5;28;01mexcept\u001b[39;00m \u001b[38;5;167;01mNotImplementedError\u001b[39;00m:\n\u001b[0;32m   1499\u001b[0m     \u001b[38;5;66;03m# generally if we have numeric_only=False\u001b[39;00m\n\u001b[0;32m   1500\u001b[0m     \u001b[38;5;66;03m# and non-applicable functions\u001b[39;00m\n\u001b[0;32m   1501\u001b[0m     \u001b[38;5;66;03m# try to python agg\u001b[39;00m\n\u001b[0;32m   1502\u001b[0m     \u001b[38;5;66;03m# TODO: shouldn't min_count matter?\u001b[39;00m\n",
      "File \u001b[1;32m~\\anaconda3_1\\envs\\dsi\\lib\\site-packages\\pandas\\core\\groupby\\ops.py:959\u001b[0m, in \u001b[0;36mBaseGrouper._cython_operation\u001b[1;34m(self, kind, values, how, axis, min_count, **kwargs)\u001b[0m\n\u001b[0;32m    958\u001b[0m ngroups \u001b[38;5;241m=\u001b[39m \u001b[38;5;28mself\u001b[39m\u001b[38;5;241m.\u001b[39mngroups\n\u001b[1;32m--> 959\u001b[0m \u001b[38;5;28;01mreturn\u001b[39;00m \u001b[43mcy_op\u001b[49m\u001b[38;5;241;43m.\u001b[39;49m\u001b[43mcython_operation\u001b[49m\u001b[43m(\u001b[49m\n\u001b[0;32m    960\u001b[0m \u001b[43m    \u001b[49m\u001b[43mvalues\u001b[49m\u001b[38;5;241;43m=\u001b[39;49m\u001b[43mvalues\u001b[49m\u001b[43m,\u001b[49m\n\u001b[0;32m    961\u001b[0m \u001b[43m    \u001b[49m\u001b[43maxis\u001b[49m\u001b[38;5;241;43m=\u001b[39;49m\u001b[43maxis\u001b[49m\u001b[43m,\u001b[49m\n\u001b[0;32m    962\u001b[0m \u001b[43m    \u001b[49m\u001b[43mmin_count\u001b[49m\u001b[38;5;241;43m=\u001b[39;49m\u001b[43mmin_count\u001b[49m\u001b[43m,\u001b[49m\n\u001b[0;32m    963\u001b[0m \u001b[43m    \u001b[49m\u001b[43mcomp_ids\u001b[49m\u001b[38;5;241;43m=\u001b[39;49m\u001b[43mids\u001b[49m\u001b[43m,\u001b[49m\n\u001b[0;32m    964\u001b[0m \u001b[43m    \u001b[49m\u001b[43mngroups\u001b[49m\u001b[38;5;241;43m=\u001b[39;49m\u001b[43mngroups\u001b[49m\u001b[43m,\u001b[49m\n\u001b[0;32m    965\u001b[0m \u001b[43m    \u001b[49m\u001b[38;5;241;43m*\u001b[39;49m\u001b[38;5;241;43m*\u001b[39;49m\u001b[43mkwargs\u001b[49m\u001b[43m,\u001b[49m\n\u001b[0;32m    966\u001b[0m \u001b[43m\u001b[49m\u001b[43m)\u001b[49m\n",
      "File \u001b[1;32m~\\anaconda3_1\\envs\\dsi\\lib\\site-packages\\pandas\\core\\groupby\\ops.py:657\u001b[0m, in \u001b[0;36mWrappedCythonOp.cython_operation\u001b[1;34m(self, values, axis, min_count, comp_ids, ngroups, **kwargs)\u001b[0m\n\u001b[0;32m    649\u001b[0m     \u001b[38;5;28;01mreturn\u001b[39;00m \u001b[38;5;28mself\u001b[39m\u001b[38;5;241m.\u001b[39m_ea_wrap_cython_operation(\n\u001b[0;32m    650\u001b[0m         values,\n\u001b[0;32m    651\u001b[0m         min_count\u001b[38;5;241m=\u001b[39mmin_count,\n\u001b[1;32m   (...)\u001b[0m\n\u001b[0;32m    654\u001b[0m         \u001b[38;5;241m*\u001b[39m\u001b[38;5;241m*\u001b[39mkwargs,\n\u001b[0;32m    655\u001b[0m     )\n\u001b[1;32m--> 657\u001b[0m \u001b[38;5;28;01mreturn\u001b[39;00m \u001b[38;5;28;43mself\u001b[39;49m\u001b[38;5;241;43m.\u001b[39;49m\u001b[43m_cython_op_ndim_compat\u001b[49m\u001b[43m(\u001b[49m\n\u001b[0;32m    658\u001b[0m \u001b[43m    \u001b[49m\u001b[43mvalues\u001b[49m\u001b[43m,\u001b[49m\n\u001b[0;32m    659\u001b[0m \u001b[43m    \u001b[49m\u001b[43mmin_count\u001b[49m\u001b[38;5;241;43m=\u001b[39;49m\u001b[43mmin_count\u001b[49m\u001b[43m,\u001b[49m\n\u001b[0;32m    660\u001b[0m \u001b[43m    \u001b[49m\u001b[43mngroups\u001b[49m\u001b[38;5;241;43m=\u001b[39;49m\u001b[43mngroups\u001b[49m\u001b[43m,\u001b[49m\n\u001b[0;32m    661\u001b[0m \u001b[43m    \u001b[49m\u001b[43mcomp_ids\u001b[49m\u001b[38;5;241;43m=\u001b[39;49m\u001b[43mcomp_ids\u001b[49m\u001b[43m,\u001b[49m\n\u001b[0;32m    662\u001b[0m \u001b[43m    \u001b[49m\u001b[43mmask\u001b[49m\u001b[38;5;241;43m=\u001b[39;49m\u001b[38;5;28;43;01mNone\u001b[39;49;00m\u001b[43m,\u001b[49m\n\u001b[0;32m    663\u001b[0m \u001b[43m    \u001b[49m\u001b[38;5;241;43m*\u001b[39;49m\u001b[38;5;241;43m*\u001b[39;49m\u001b[43mkwargs\u001b[49m\u001b[43m,\u001b[49m\n\u001b[0;32m    664\u001b[0m \u001b[43m\u001b[49m\u001b[43m)\u001b[49m\n",
      "File \u001b[1;32m~\\anaconda3_1\\envs\\dsi\\lib\\site-packages\\pandas\\core\\groupby\\ops.py:497\u001b[0m, in \u001b[0;36mWrappedCythonOp._cython_op_ndim_compat\u001b[1;34m(self, values, min_count, ngroups, comp_ids, mask, result_mask, **kwargs)\u001b[0m\n\u001b[0;32m    495\u001b[0m     \u001b[38;5;28;01mreturn\u001b[39;00m res\u001b[38;5;241m.\u001b[39mT\n\u001b[1;32m--> 497\u001b[0m \u001b[38;5;28;01mreturn\u001b[39;00m \u001b[38;5;28;43mself\u001b[39;49m\u001b[38;5;241;43m.\u001b[39;49m\u001b[43m_call_cython_op\u001b[49m\u001b[43m(\u001b[49m\n\u001b[0;32m    498\u001b[0m \u001b[43m    \u001b[49m\u001b[43mvalues\u001b[49m\u001b[43m,\u001b[49m\n\u001b[0;32m    499\u001b[0m \u001b[43m    \u001b[49m\u001b[43mmin_count\u001b[49m\u001b[38;5;241;43m=\u001b[39;49m\u001b[43mmin_count\u001b[49m\u001b[43m,\u001b[49m\n\u001b[0;32m    500\u001b[0m \u001b[43m    \u001b[49m\u001b[43mngroups\u001b[49m\u001b[38;5;241;43m=\u001b[39;49m\u001b[43mngroups\u001b[49m\u001b[43m,\u001b[49m\n\u001b[0;32m    501\u001b[0m \u001b[43m    \u001b[49m\u001b[43mcomp_ids\u001b[49m\u001b[38;5;241;43m=\u001b[39;49m\u001b[43mcomp_ids\u001b[49m\u001b[43m,\u001b[49m\n\u001b[0;32m    502\u001b[0m \u001b[43m    \u001b[49m\u001b[43mmask\u001b[49m\u001b[38;5;241;43m=\u001b[39;49m\u001b[43mmask\u001b[49m\u001b[43m,\u001b[49m\n\u001b[0;32m    503\u001b[0m \u001b[43m    \u001b[49m\u001b[43mresult_mask\u001b[49m\u001b[38;5;241;43m=\u001b[39;49m\u001b[43mresult_mask\u001b[49m\u001b[43m,\u001b[49m\n\u001b[0;32m    504\u001b[0m \u001b[43m    \u001b[49m\u001b[38;5;241;43m*\u001b[39;49m\u001b[38;5;241;43m*\u001b[39;49m\u001b[43mkwargs\u001b[49m\u001b[43m,\u001b[49m\n\u001b[0;32m    505\u001b[0m \u001b[43m\u001b[49m\u001b[43m)\u001b[49m\n",
      "File \u001b[1;32m~\\anaconda3_1\\envs\\dsi\\lib\\site-packages\\pandas\\core\\groupby\\ops.py:541\u001b[0m, in \u001b[0;36mWrappedCythonOp._call_cython_op\u001b[1;34m(self, values, min_count, ngroups, comp_ids, mask, result_mask, **kwargs)\u001b[0m\n\u001b[0;32m    540\u001b[0m out_shape \u001b[38;5;241m=\u001b[39m \u001b[38;5;28mself\u001b[39m\u001b[38;5;241m.\u001b[39m_get_output_shape(ngroups, values)\n\u001b[1;32m--> 541\u001b[0m func \u001b[38;5;241m=\u001b[39m \u001b[38;5;28;43mself\u001b[39;49m\u001b[38;5;241;43m.\u001b[39;49m\u001b[43m_get_cython_function\u001b[49m\u001b[43m(\u001b[49m\u001b[38;5;28;43mself\u001b[39;49m\u001b[38;5;241;43m.\u001b[39;49m\u001b[43mkind\u001b[49m\u001b[43m,\u001b[49m\u001b[43m \u001b[49m\u001b[38;5;28;43mself\u001b[39;49m\u001b[38;5;241;43m.\u001b[39;49m\u001b[43mhow\u001b[49m\u001b[43m,\u001b[49m\u001b[43m \u001b[49m\u001b[43mvalues\u001b[49m\u001b[38;5;241;43m.\u001b[39;49m\u001b[43mdtype\u001b[49m\u001b[43m,\u001b[49m\u001b[43m \u001b[49m\u001b[43mis_numeric\u001b[49m\u001b[43m)\u001b[49m\n\u001b[0;32m    542\u001b[0m values \u001b[38;5;241m=\u001b[39m \u001b[38;5;28mself\u001b[39m\u001b[38;5;241m.\u001b[39m_get_cython_vals(values)\n",
      "File \u001b[1;32m~\\anaconda3_1\\envs\\dsi\\lib\\site-packages\\pandas\\core\\groupby\\ops.py:173\u001b[0m, in \u001b[0;36mWrappedCythonOp._get_cython_function\u001b[1;34m(cls, kind, how, dtype, is_numeric)\u001b[0m\n\u001b[0;32m    171\u001b[0m \u001b[38;5;28;01mif\u001b[39;00m \u001b[38;5;124m\"\u001b[39m\u001b[38;5;124mobject\u001b[39m\u001b[38;5;124m\"\u001b[39m \u001b[38;5;129;01mnot\u001b[39;00m \u001b[38;5;129;01min\u001b[39;00m f\u001b[38;5;241m.\u001b[39m__signatures__:\n\u001b[0;32m    172\u001b[0m     \u001b[38;5;66;03m# raise NotImplementedError here rather than TypeError later\u001b[39;00m\n\u001b[1;32m--> 173\u001b[0m     \u001b[38;5;28;01mraise\u001b[39;00m \u001b[38;5;167;01mNotImplementedError\u001b[39;00m(\n\u001b[0;32m    174\u001b[0m         \u001b[38;5;124mf\u001b[39m\u001b[38;5;124m\"\u001b[39m\u001b[38;5;124mfunction is not implemented for this dtype: \u001b[39m\u001b[38;5;124m\"\u001b[39m\n\u001b[0;32m    175\u001b[0m         \u001b[38;5;124mf\u001b[39m\u001b[38;5;124m\"\u001b[39m\u001b[38;5;124m[how->\u001b[39m\u001b[38;5;132;01m{\u001b[39;00mhow\u001b[38;5;132;01m}\u001b[39;00m\u001b[38;5;124m,dtype->\u001b[39m\u001b[38;5;132;01m{\u001b[39;00mdtype_str\u001b[38;5;132;01m}\u001b[39;00m\u001b[38;5;124m]\u001b[39m\u001b[38;5;124m\"\u001b[39m\n\u001b[0;32m    176\u001b[0m     )\n\u001b[0;32m    177\u001b[0m \u001b[38;5;28;01mreturn\u001b[39;00m f\n",
      "\u001b[1;31mNotImplementedError\u001b[0m: function is not implemented for this dtype: [how->mean,dtype->object]",
      "\nDuring handling of the above exception, another exception occurred:\n",
      "\u001b[1;31mValueError\u001b[0m                                Traceback (most recent call last)",
      "File \u001b[1;32m~\\anaconda3_1\\envs\\dsi\\lib\\site-packages\\pandas\\core\\nanops.py:1692\u001b[0m, in \u001b[0;36m_ensure_numeric\u001b[1;34m(x)\u001b[0m\n\u001b[0;32m   1691\u001b[0m \u001b[38;5;28;01mtry\u001b[39;00m:\n\u001b[1;32m-> 1692\u001b[0m     x \u001b[38;5;241m=\u001b[39m \u001b[38;5;28;43mfloat\u001b[39;49m\u001b[43m(\u001b[49m\u001b[43mx\u001b[49m\u001b[43m)\u001b[49m\n\u001b[0;32m   1693\u001b[0m \u001b[38;5;28;01mexcept\u001b[39;00m (\u001b[38;5;167;01mTypeError\u001b[39;00m, \u001b[38;5;167;01mValueError\u001b[39;00m):\n\u001b[0;32m   1694\u001b[0m     \u001b[38;5;66;03m# e.g. \"1+1j\" or \"foo\"\u001b[39;00m\n",
      "\u001b[1;31mValueError\u001b[0m: could not convert string to float: 'NationalNationalRegionalRegionalRegionalRegionalRegionalRegionalRegionalRegionalRegionalRegionalRegionalRegionalRegionalRegionalRegionalRegionalRegionalRegionalRegionalRegionalRegionalRegionalRegionalRegionalRegionalRegionalRegionalRegionalRegionalRegionalRegionalRegionalRegionalRegionalRegionalRegionalRegionalRegionalRegionalRegionalRegionalRegionalRegionalRegionalRegionalRegionalRegionalRegionalRegionalRegionalRegionalRegionalRegionalRegionalRegionalRegionalRegionalRegionalRegionalRegionalRegionalRegionalRegionalNationalNationalNationalNationalNationalNationalNationalNationalNational'",
      "\nDuring handling of the above exception, another exception occurred:\n",
      "\u001b[1;31mValueError\u001b[0m                                Traceback (most recent call last)",
      "File \u001b[1;32m~\\anaconda3_1\\envs\\dsi\\lib\\site-packages\\pandas\\core\\nanops.py:1696\u001b[0m, in \u001b[0;36m_ensure_numeric\u001b[1;34m(x)\u001b[0m\n\u001b[0;32m   1695\u001b[0m \u001b[38;5;28;01mtry\u001b[39;00m:\n\u001b[1;32m-> 1696\u001b[0m     x \u001b[38;5;241m=\u001b[39m \u001b[38;5;28;43mcomplex\u001b[39;49m\u001b[43m(\u001b[49m\u001b[43mx\u001b[49m\u001b[43m)\u001b[49m\n\u001b[0;32m   1697\u001b[0m \u001b[38;5;28;01mexcept\u001b[39;00m \u001b[38;5;167;01mValueError\u001b[39;00m \u001b[38;5;28;01mas\u001b[39;00m err:\n\u001b[0;32m   1698\u001b[0m     \u001b[38;5;66;03m# e.g. \"foo\"\u001b[39;00m\n",
      "\u001b[1;31mValueError\u001b[0m: complex() arg is a malformed string",
      "\nThe above exception was the direct cause of the following exception:\n",
      "\u001b[1;31mTypeError\u001b[0m                                 Traceback (most recent call last)",
      "Cell \u001b[1;32mIn[149], line 1\u001b[0m\n\u001b[1;32m----> 1\u001b[0m cluster_centroids \u001b[38;5;241m=\u001b[39m \u001b[43mdf_to_cluster\u001b[49m\u001b[38;5;241;43m.\u001b[39;49m\u001b[43mgroupby\u001b[49m\u001b[43m(\u001b[49m\u001b[38;5;124;43m'\u001b[39;49m\u001b[38;5;124;43mcluster\u001b[39;49m\u001b[38;5;124;43m'\u001b[39;49m\u001b[43m)\u001b[49m\u001b[38;5;241;43m.\u001b[39;49m\u001b[43mmean\u001b[49m\u001b[43m(\u001b[49m\u001b[43m)\u001b[49m\n",
      "File \u001b[1;32m~\\anaconda3_1\\envs\\dsi\\lib\\site-packages\\pandas\\core\\groupby\\groupby.py:1855\u001b[0m, in \u001b[0;36mGroupBy.mean\u001b[1;34m(self, numeric_only, engine, engine_kwargs)\u001b[0m\n\u001b[0;32m   1853\u001b[0m     \u001b[38;5;28;01mreturn\u001b[39;00m \u001b[38;5;28mself\u001b[39m\u001b[38;5;241m.\u001b[39m_numba_agg_general(sliding_mean, engine_kwargs)\n\u001b[0;32m   1854\u001b[0m \u001b[38;5;28;01melse\u001b[39;00m:\n\u001b[1;32m-> 1855\u001b[0m     result \u001b[38;5;241m=\u001b[39m \u001b[38;5;28;43mself\u001b[39;49m\u001b[38;5;241;43m.\u001b[39;49m\u001b[43m_cython_agg_general\u001b[49m\u001b[43m(\u001b[49m\n\u001b[0;32m   1856\u001b[0m \u001b[43m        \u001b[49m\u001b[38;5;124;43m\"\u001b[39;49m\u001b[38;5;124;43mmean\u001b[39;49m\u001b[38;5;124;43m\"\u001b[39;49m\u001b[43m,\u001b[49m\n\u001b[0;32m   1857\u001b[0m \u001b[43m        \u001b[49m\u001b[43malt\u001b[49m\u001b[38;5;241;43m=\u001b[39;49m\u001b[38;5;28;43;01mlambda\u001b[39;49;00m\u001b[43m \u001b[49m\u001b[43mx\u001b[49m\u001b[43m:\u001b[49m\u001b[43m \u001b[49m\u001b[43mSeries\u001b[49m\u001b[43m(\u001b[49m\u001b[43mx\u001b[49m\u001b[43m)\u001b[49m\u001b[38;5;241;43m.\u001b[39;49m\u001b[43mmean\u001b[49m\u001b[43m(\u001b[49m\u001b[43mnumeric_only\u001b[49m\u001b[38;5;241;43m=\u001b[39;49m\u001b[43mnumeric_only\u001b[49m\u001b[43m)\u001b[49m\u001b[43m,\u001b[49m\n\u001b[0;32m   1858\u001b[0m \u001b[43m        \u001b[49m\u001b[43mnumeric_only\u001b[49m\u001b[38;5;241;43m=\u001b[39;49m\u001b[43mnumeric_only\u001b[49m\u001b[43m,\u001b[49m\n\u001b[0;32m   1859\u001b[0m \u001b[43m    \u001b[49m\u001b[43m)\u001b[49m\n\u001b[0;32m   1860\u001b[0m     \u001b[38;5;28;01mreturn\u001b[39;00m result\u001b[38;5;241m.\u001b[39m__finalize__(\u001b[38;5;28mself\u001b[39m\u001b[38;5;241m.\u001b[39mobj, method\u001b[38;5;241m=\u001b[39m\u001b[38;5;124m\"\u001b[39m\u001b[38;5;124mgroupby\u001b[39m\u001b[38;5;124m\"\u001b[39m)\n",
      "File \u001b[1;32m~\\anaconda3_1\\envs\\dsi\\lib\\site-packages\\pandas\\core\\groupby\\groupby.py:1507\u001b[0m, in \u001b[0;36mGroupBy._cython_agg_general\u001b[1;34m(self, how, alt, numeric_only, min_count, **kwargs)\u001b[0m\n\u001b[0;32m   1503\u001b[0m         result \u001b[38;5;241m=\u001b[39m \u001b[38;5;28mself\u001b[39m\u001b[38;5;241m.\u001b[39m_agg_py_fallback(values, ndim\u001b[38;5;241m=\u001b[39mdata\u001b[38;5;241m.\u001b[39mndim, alt\u001b[38;5;241m=\u001b[39malt)\n\u001b[0;32m   1505\u001b[0m     \u001b[38;5;28;01mreturn\u001b[39;00m result\n\u001b[1;32m-> 1507\u001b[0m new_mgr \u001b[38;5;241m=\u001b[39m \u001b[43mdata\u001b[49m\u001b[38;5;241;43m.\u001b[39;49m\u001b[43mgrouped_reduce\u001b[49m\u001b[43m(\u001b[49m\u001b[43marray_func\u001b[49m\u001b[43m)\u001b[49m\n\u001b[0;32m   1508\u001b[0m res \u001b[38;5;241m=\u001b[39m \u001b[38;5;28mself\u001b[39m\u001b[38;5;241m.\u001b[39m_wrap_agged_manager(new_mgr)\n\u001b[0;32m   1509\u001b[0m out \u001b[38;5;241m=\u001b[39m \u001b[38;5;28mself\u001b[39m\u001b[38;5;241m.\u001b[39m_wrap_aggregated_output(res)\n",
      "File \u001b[1;32m~\\anaconda3_1\\envs\\dsi\\lib\\site-packages\\pandas\\core\\internals\\managers.py:1503\u001b[0m, in \u001b[0;36mBlockManager.grouped_reduce\u001b[1;34m(self, func)\u001b[0m\n\u001b[0;32m   1499\u001b[0m \u001b[38;5;28;01mif\u001b[39;00m blk\u001b[38;5;241m.\u001b[39mis_object:\n\u001b[0;32m   1500\u001b[0m     \u001b[38;5;66;03m# split on object-dtype blocks bc some columns may raise\u001b[39;00m\n\u001b[0;32m   1501\u001b[0m     \u001b[38;5;66;03m#  while others do not.\u001b[39;00m\n\u001b[0;32m   1502\u001b[0m     \u001b[38;5;28;01mfor\u001b[39;00m sb \u001b[38;5;129;01min\u001b[39;00m blk\u001b[38;5;241m.\u001b[39m_split():\n\u001b[1;32m-> 1503\u001b[0m         applied \u001b[38;5;241m=\u001b[39m \u001b[43msb\u001b[49m\u001b[38;5;241;43m.\u001b[39;49m\u001b[43mapply\u001b[49m\u001b[43m(\u001b[49m\u001b[43mfunc\u001b[49m\u001b[43m)\u001b[49m\n\u001b[0;32m   1504\u001b[0m         result_blocks \u001b[38;5;241m=\u001b[39m extend_blocks(applied, result_blocks)\n\u001b[0;32m   1505\u001b[0m \u001b[38;5;28;01melse\u001b[39;00m:\n",
      "File \u001b[1;32m~\\anaconda3_1\\envs\\dsi\\lib\\site-packages\\pandas\\core\\internals\\blocks.py:329\u001b[0m, in \u001b[0;36mBlock.apply\u001b[1;34m(self, func, **kwargs)\u001b[0m\n\u001b[0;32m    323\u001b[0m \u001b[38;5;129m@final\u001b[39m\n\u001b[0;32m    324\u001b[0m \u001b[38;5;28;01mdef\u001b[39;00m \u001b[38;5;21mapply\u001b[39m(\u001b[38;5;28mself\u001b[39m, func, \u001b[38;5;241m*\u001b[39m\u001b[38;5;241m*\u001b[39mkwargs) \u001b[38;5;241m-\u001b[39m\u001b[38;5;241m>\u001b[39m \u001b[38;5;28mlist\u001b[39m[Block]:\n\u001b[0;32m    325\u001b[0m \u001b[38;5;250m    \u001b[39m\u001b[38;5;124;03m\"\"\"\u001b[39;00m\n\u001b[0;32m    326\u001b[0m \u001b[38;5;124;03m    apply the function to my values; return a block if we are not\u001b[39;00m\n\u001b[0;32m    327\u001b[0m \u001b[38;5;124;03m    one\u001b[39;00m\n\u001b[0;32m    328\u001b[0m \u001b[38;5;124;03m    \"\"\"\u001b[39;00m\n\u001b[1;32m--> 329\u001b[0m     result \u001b[38;5;241m=\u001b[39m \u001b[43mfunc\u001b[49m\u001b[43m(\u001b[49m\u001b[38;5;28;43mself\u001b[39;49m\u001b[38;5;241;43m.\u001b[39;49m\u001b[43mvalues\u001b[49m\u001b[43m,\u001b[49m\u001b[43m \u001b[49m\u001b[38;5;241;43m*\u001b[39;49m\u001b[38;5;241;43m*\u001b[39;49m\u001b[43mkwargs\u001b[49m\u001b[43m)\u001b[49m\n\u001b[0;32m    331\u001b[0m     \u001b[38;5;28;01mreturn\u001b[39;00m \u001b[38;5;28mself\u001b[39m\u001b[38;5;241m.\u001b[39m_split_op_result(result)\n",
      "File \u001b[1;32m~\\anaconda3_1\\envs\\dsi\\lib\\site-packages\\pandas\\core\\groupby\\groupby.py:1503\u001b[0m, in \u001b[0;36mGroupBy._cython_agg_general.<locals>.array_func\u001b[1;34m(values)\u001b[0m\n\u001b[0;32m   1490\u001b[0m     result \u001b[38;5;241m=\u001b[39m \u001b[38;5;28mself\u001b[39m\u001b[38;5;241m.\u001b[39mgrouper\u001b[38;5;241m.\u001b[39m_cython_operation(\n\u001b[0;32m   1491\u001b[0m         \u001b[38;5;124m\"\u001b[39m\u001b[38;5;124maggregate\u001b[39m\u001b[38;5;124m\"\u001b[39m,\n\u001b[0;32m   1492\u001b[0m         values,\n\u001b[1;32m   (...)\u001b[0m\n\u001b[0;32m   1496\u001b[0m         \u001b[38;5;241m*\u001b[39m\u001b[38;5;241m*\u001b[39mkwargs,\n\u001b[0;32m   1497\u001b[0m     )\n\u001b[0;32m   1498\u001b[0m \u001b[38;5;28;01mexcept\u001b[39;00m \u001b[38;5;167;01mNotImplementedError\u001b[39;00m:\n\u001b[0;32m   1499\u001b[0m     \u001b[38;5;66;03m# generally if we have numeric_only=False\u001b[39;00m\n\u001b[0;32m   1500\u001b[0m     \u001b[38;5;66;03m# and non-applicable functions\u001b[39;00m\n\u001b[0;32m   1501\u001b[0m     \u001b[38;5;66;03m# try to python agg\u001b[39;00m\n\u001b[0;32m   1502\u001b[0m     \u001b[38;5;66;03m# TODO: shouldn't min_count matter?\u001b[39;00m\n\u001b[1;32m-> 1503\u001b[0m     result \u001b[38;5;241m=\u001b[39m \u001b[38;5;28;43mself\u001b[39;49m\u001b[38;5;241;43m.\u001b[39;49m\u001b[43m_agg_py_fallback\u001b[49m\u001b[43m(\u001b[49m\u001b[43mvalues\u001b[49m\u001b[43m,\u001b[49m\u001b[43m \u001b[49m\u001b[43mndim\u001b[49m\u001b[38;5;241;43m=\u001b[39;49m\u001b[43mdata\u001b[49m\u001b[38;5;241;43m.\u001b[39;49m\u001b[43mndim\u001b[49m\u001b[43m,\u001b[49m\u001b[43m \u001b[49m\u001b[43malt\u001b[49m\u001b[38;5;241;43m=\u001b[39;49m\u001b[43malt\u001b[49m\u001b[43m)\u001b[49m\n\u001b[0;32m   1505\u001b[0m \u001b[38;5;28;01mreturn\u001b[39;00m result\n",
      "File \u001b[1;32m~\\anaconda3_1\\envs\\dsi\\lib\\site-packages\\pandas\\core\\groupby\\groupby.py:1457\u001b[0m, in \u001b[0;36mGroupBy._agg_py_fallback\u001b[1;34m(self, values, ndim, alt)\u001b[0m\n\u001b[0;32m   1452\u001b[0m     ser \u001b[38;5;241m=\u001b[39m df\u001b[38;5;241m.\u001b[39miloc[:, \u001b[38;5;241m0\u001b[39m]\n\u001b[0;32m   1454\u001b[0m \u001b[38;5;66;03m# We do not get here with UDFs, so we know that our dtype\u001b[39;00m\n\u001b[0;32m   1455\u001b[0m \u001b[38;5;66;03m#  should always be preserved by the implemented aggregations\u001b[39;00m\n\u001b[0;32m   1456\u001b[0m \u001b[38;5;66;03m# TODO: Is this exactly right; see WrappedCythonOp get_result_dtype?\u001b[39;00m\n\u001b[1;32m-> 1457\u001b[0m res_values \u001b[38;5;241m=\u001b[39m \u001b[38;5;28;43mself\u001b[39;49m\u001b[38;5;241;43m.\u001b[39;49m\u001b[43mgrouper\u001b[49m\u001b[38;5;241;43m.\u001b[39;49m\u001b[43magg_series\u001b[49m\u001b[43m(\u001b[49m\u001b[43mser\u001b[49m\u001b[43m,\u001b[49m\u001b[43m \u001b[49m\u001b[43malt\u001b[49m\u001b[43m,\u001b[49m\u001b[43m \u001b[49m\u001b[43mpreserve_dtype\u001b[49m\u001b[38;5;241;43m=\u001b[39;49m\u001b[38;5;28;43;01mTrue\u001b[39;49;00m\u001b[43m)\u001b[49m\n\u001b[0;32m   1459\u001b[0m \u001b[38;5;28;01mif\u001b[39;00m \u001b[38;5;28misinstance\u001b[39m(values, Categorical):\n\u001b[0;32m   1460\u001b[0m     \u001b[38;5;66;03m# Because we only get here with known dtype-preserving\u001b[39;00m\n\u001b[0;32m   1461\u001b[0m     \u001b[38;5;66;03m#  reductions, we cast back to Categorical.\u001b[39;00m\n\u001b[0;32m   1462\u001b[0m     \u001b[38;5;66;03m# TODO: if we ever get \"rank\" working, exclude it here.\u001b[39;00m\n\u001b[0;32m   1463\u001b[0m     res_values \u001b[38;5;241m=\u001b[39m \u001b[38;5;28mtype\u001b[39m(values)\u001b[38;5;241m.\u001b[39m_from_sequence(res_values, dtype\u001b[38;5;241m=\u001b[39mvalues\u001b[38;5;241m.\u001b[39mdtype)\n",
      "File \u001b[1;32m~\\anaconda3_1\\envs\\dsi\\lib\\site-packages\\pandas\\core\\groupby\\ops.py:994\u001b[0m, in \u001b[0;36mBaseGrouper.agg_series\u001b[1;34m(self, obj, func, preserve_dtype)\u001b[0m\n\u001b[0;32m    987\u001b[0m \u001b[38;5;28;01mif\u001b[39;00m \u001b[38;5;28mlen\u001b[39m(obj) \u001b[38;5;241m>\u001b[39m \u001b[38;5;241m0\u001b[39m \u001b[38;5;129;01mand\u001b[39;00m \u001b[38;5;129;01mnot\u001b[39;00m \u001b[38;5;28misinstance\u001b[39m(obj\u001b[38;5;241m.\u001b[39m_values, np\u001b[38;5;241m.\u001b[39mndarray):\n\u001b[0;32m    988\u001b[0m     \u001b[38;5;66;03m# we can preserve a little bit more aggressively with EA dtype\u001b[39;00m\n\u001b[0;32m    989\u001b[0m     \u001b[38;5;66;03m#  because maybe_cast_pointwise_result will do a try/except\u001b[39;00m\n\u001b[0;32m    990\u001b[0m     \u001b[38;5;66;03m#  with _from_sequence.  NB we are assuming here that _from_sequence\u001b[39;00m\n\u001b[0;32m    991\u001b[0m     \u001b[38;5;66;03m#  is sufficiently strict that it casts appropriately.\u001b[39;00m\n\u001b[0;32m    992\u001b[0m     preserve_dtype \u001b[38;5;241m=\u001b[39m \u001b[38;5;28;01mTrue\u001b[39;00m\n\u001b[1;32m--> 994\u001b[0m result \u001b[38;5;241m=\u001b[39m \u001b[38;5;28;43mself\u001b[39;49m\u001b[38;5;241;43m.\u001b[39;49m\u001b[43m_aggregate_series_pure_python\u001b[49m\u001b[43m(\u001b[49m\u001b[43mobj\u001b[49m\u001b[43m,\u001b[49m\u001b[43m \u001b[49m\u001b[43mfunc\u001b[49m\u001b[43m)\u001b[49m\n\u001b[0;32m    996\u001b[0m npvalues \u001b[38;5;241m=\u001b[39m lib\u001b[38;5;241m.\u001b[39mmaybe_convert_objects(result, try_float\u001b[38;5;241m=\u001b[39m\u001b[38;5;28;01mFalse\u001b[39;00m)\n\u001b[0;32m    997\u001b[0m \u001b[38;5;28;01mif\u001b[39;00m preserve_dtype:\n",
      "File \u001b[1;32m~\\anaconda3_1\\envs\\dsi\\lib\\site-packages\\pandas\\core\\groupby\\ops.py:1015\u001b[0m, in \u001b[0;36mBaseGrouper._aggregate_series_pure_python\u001b[1;34m(self, obj, func)\u001b[0m\n\u001b[0;32m   1012\u001b[0m splitter \u001b[38;5;241m=\u001b[39m \u001b[38;5;28mself\u001b[39m\u001b[38;5;241m.\u001b[39m_get_splitter(obj, axis\u001b[38;5;241m=\u001b[39m\u001b[38;5;241m0\u001b[39m)\n\u001b[0;32m   1014\u001b[0m \u001b[38;5;28;01mfor\u001b[39;00m i, group \u001b[38;5;129;01min\u001b[39;00m \u001b[38;5;28menumerate\u001b[39m(splitter):\n\u001b[1;32m-> 1015\u001b[0m     res \u001b[38;5;241m=\u001b[39m \u001b[43mfunc\u001b[49m\u001b[43m(\u001b[49m\u001b[43mgroup\u001b[49m\u001b[43m)\u001b[49m\n\u001b[0;32m   1016\u001b[0m     res \u001b[38;5;241m=\u001b[39m libreduction\u001b[38;5;241m.\u001b[39mextract_result(res)\n\u001b[0;32m   1018\u001b[0m     \u001b[38;5;28;01mif\u001b[39;00m \u001b[38;5;129;01mnot\u001b[39;00m initialized:\n\u001b[0;32m   1019\u001b[0m         \u001b[38;5;66;03m# We only do this validation on the first iteration\u001b[39;00m\n",
      "File \u001b[1;32m~\\anaconda3_1\\envs\\dsi\\lib\\site-packages\\pandas\\core\\groupby\\groupby.py:1857\u001b[0m, in \u001b[0;36mGroupBy.mean.<locals>.<lambda>\u001b[1;34m(x)\u001b[0m\n\u001b[0;32m   1853\u001b[0m     \u001b[38;5;28;01mreturn\u001b[39;00m \u001b[38;5;28mself\u001b[39m\u001b[38;5;241m.\u001b[39m_numba_agg_general(sliding_mean, engine_kwargs)\n\u001b[0;32m   1854\u001b[0m \u001b[38;5;28;01melse\u001b[39;00m:\n\u001b[0;32m   1855\u001b[0m     result \u001b[38;5;241m=\u001b[39m \u001b[38;5;28mself\u001b[39m\u001b[38;5;241m.\u001b[39m_cython_agg_general(\n\u001b[0;32m   1856\u001b[0m         \u001b[38;5;124m\"\u001b[39m\u001b[38;5;124mmean\u001b[39m\u001b[38;5;124m\"\u001b[39m,\n\u001b[1;32m-> 1857\u001b[0m         alt\u001b[38;5;241m=\u001b[39m\u001b[38;5;28;01mlambda\u001b[39;00m x: \u001b[43mSeries\u001b[49m\u001b[43m(\u001b[49m\u001b[43mx\u001b[49m\u001b[43m)\u001b[49m\u001b[38;5;241;43m.\u001b[39;49m\u001b[43mmean\u001b[49m\u001b[43m(\u001b[49m\u001b[43mnumeric_only\u001b[49m\u001b[38;5;241;43m=\u001b[39;49m\u001b[43mnumeric_only\u001b[49m\u001b[43m)\u001b[49m,\n\u001b[0;32m   1858\u001b[0m         numeric_only\u001b[38;5;241m=\u001b[39mnumeric_only,\n\u001b[0;32m   1859\u001b[0m     )\n\u001b[0;32m   1860\u001b[0m     \u001b[38;5;28;01mreturn\u001b[39;00m result\u001b[38;5;241m.\u001b[39m__finalize__(\u001b[38;5;28mself\u001b[39m\u001b[38;5;241m.\u001b[39mobj, method\u001b[38;5;241m=\u001b[39m\u001b[38;5;124m\"\u001b[39m\u001b[38;5;124mgroupby\u001b[39m\u001b[38;5;124m\"\u001b[39m)\n",
      "File \u001b[1;32m~\\anaconda3_1\\envs\\dsi\\lib\\site-packages\\pandas\\core\\generic.py:11556\u001b[0m, in \u001b[0;36mNDFrame._add_numeric_operations.<locals>.mean\u001b[1;34m(self, axis, skipna, numeric_only, **kwargs)\u001b[0m\n\u001b[0;32m  11539\u001b[0m \u001b[38;5;129m@doc\u001b[39m(\n\u001b[0;32m  11540\u001b[0m     _num_doc,\n\u001b[0;32m  11541\u001b[0m     desc\u001b[38;5;241m=\u001b[39m\u001b[38;5;124m\"\u001b[39m\u001b[38;5;124mReturn the mean of the values over the requested axis.\u001b[39m\u001b[38;5;124m\"\u001b[39m,\n\u001b[1;32m   (...)\u001b[0m\n\u001b[0;32m  11554\u001b[0m     \u001b[38;5;241m*\u001b[39m\u001b[38;5;241m*\u001b[39mkwargs,\n\u001b[0;32m  11555\u001b[0m ):\n\u001b[1;32m> 11556\u001b[0m     \u001b[38;5;28;01mreturn\u001b[39;00m \u001b[43mNDFrame\u001b[49m\u001b[38;5;241;43m.\u001b[39;49m\u001b[43mmean\u001b[49m\u001b[43m(\u001b[49m\u001b[38;5;28;43mself\u001b[39;49m\u001b[43m,\u001b[49m\u001b[43m \u001b[49m\u001b[43maxis\u001b[49m\u001b[43m,\u001b[49m\u001b[43m \u001b[49m\u001b[43mskipna\u001b[49m\u001b[43m,\u001b[49m\u001b[43m \u001b[49m\u001b[43mnumeric_only\u001b[49m\u001b[43m,\u001b[49m\u001b[43m \u001b[49m\u001b[38;5;241;43m*\u001b[39;49m\u001b[38;5;241;43m*\u001b[39;49m\u001b[43mkwargs\u001b[49m\u001b[43m)\u001b[49m\n",
      "File \u001b[1;32m~\\anaconda3_1\\envs\\dsi\\lib\\site-packages\\pandas\\core\\generic.py:11201\u001b[0m, in \u001b[0;36mNDFrame.mean\u001b[1;34m(self, axis, skipna, numeric_only, **kwargs)\u001b[0m\n\u001b[0;32m  11194\u001b[0m \u001b[38;5;28;01mdef\u001b[39;00m \u001b[38;5;21mmean\u001b[39m(\n\u001b[0;32m  11195\u001b[0m     \u001b[38;5;28mself\u001b[39m,\n\u001b[0;32m  11196\u001b[0m     axis: Axis \u001b[38;5;241m|\u001b[39m \u001b[38;5;28;01mNone\u001b[39;00m \u001b[38;5;241m=\u001b[39m \u001b[38;5;241m0\u001b[39m,\n\u001b[1;32m   (...)\u001b[0m\n\u001b[0;32m  11199\u001b[0m     \u001b[38;5;241m*\u001b[39m\u001b[38;5;241m*\u001b[39mkwargs,\n\u001b[0;32m  11200\u001b[0m ) \u001b[38;5;241m-\u001b[39m\u001b[38;5;241m>\u001b[39m Series \u001b[38;5;241m|\u001b[39m \u001b[38;5;28mfloat\u001b[39m:\n\u001b[1;32m> 11201\u001b[0m     \u001b[38;5;28;01mreturn\u001b[39;00m \u001b[38;5;28;43mself\u001b[39;49m\u001b[38;5;241;43m.\u001b[39;49m\u001b[43m_stat_function\u001b[49m\u001b[43m(\u001b[49m\n\u001b[0;32m  11202\u001b[0m \u001b[43m        \u001b[49m\u001b[38;5;124;43m\"\u001b[39;49m\u001b[38;5;124;43mmean\u001b[39;49m\u001b[38;5;124;43m\"\u001b[39;49m\u001b[43m,\u001b[49m\u001b[43m \u001b[49m\u001b[43mnanops\u001b[49m\u001b[38;5;241;43m.\u001b[39;49m\u001b[43mnanmean\u001b[49m\u001b[43m,\u001b[49m\u001b[43m \u001b[49m\u001b[43maxis\u001b[49m\u001b[43m,\u001b[49m\u001b[43m \u001b[49m\u001b[43mskipna\u001b[49m\u001b[43m,\u001b[49m\u001b[43m \u001b[49m\u001b[43mnumeric_only\u001b[49m\u001b[43m,\u001b[49m\u001b[43m \u001b[49m\u001b[38;5;241;43m*\u001b[39;49m\u001b[38;5;241;43m*\u001b[39;49m\u001b[43mkwargs\u001b[49m\n\u001b[0;32m  11203\u001b[0m \u001b[43m    \u001b[49m\u001b[43m)\u001b[49m\n",
      "File \u001b[1;32m~\\anaconda3_1\\envs\\dsi\\lib\\site-packages\\pandas\\core\\generic.py:11158\u001b[0m, in \u001b[0;36mNDFrame._stat_function\u001b[1;34m(self, name, func, axis, skipna, numeric_only, **kwargs)\u001b[0m\n\u001b[0;32m  11154\u001b[0m     nv\u001b[38;5;241m.\u001b[39mvalidate_stat_func((), kwargs, fname\u001b[38;5;241m=\u001b[39mname)\n\u001b[0;32m  11156\u001b[0m validate_bool_kwarg(skipna, \u001b[38;5;124m\"\u001b[39m\u001b[38;5;124mskipna\u001b[39m\u001b[38;5;124m\"\u001b[39m, none_allowed\u001b[38;5;241m=\u001b[39m\u001b[38;5;28;01mFalse\u001b[39;00m)\n\u001b[1;32m> 11158\u001b[0m \u001b[38;5;28;01mreturn\u001b[39;00m \u001b[38;5;28;43mself\u001b[39;49m\u001b[38;5;241;43m.\u001b[39;49m\u001b[43m_reduce\u001b[49m\u001b[43m(\u001b[49m\n\u001b[0;32m  11159\u001b[0m \u001b[43m    \u001b[49m\u001b[43mfunc\u001b[49m\u001b[43m,\u001b[49m\u001b[43m \u001b[49m\u001b[43mname\u001b[49m\u001b[38;5;241;43m=\u001b[39;49m\u001b[43mname\u001b[49m\u001b[43m,\u001b[49m\u001b[43m \u001b[49m\u001b[43maxis\u001b[49m\u001b[38;5;241;43m=\u001b[39;49m\u001b[43maxis\u001b[49m\u001b[43m,\u001b[49m\u001b[43m \u001b[49m\u001b[43mskipna\u001b[49m\u001b[38;5;241;43m=\u001b[39;49m\u001b[43mskipna\u001b[49m\u001b[43m,\u001b[49m\u001b[43m \u001b[49m\u001b[43mnumeric_only\u001b[49m\u001b[38;5;241;43m=\u001b[39;49m\u001b[43mnumeric_only\u001b[49m\n\u001b[0;32m  11160\u001b[0m \u001b[43m\u001b[49m\u001b[43m)\u001b[49m\n",
      "File \u001b[1;32m~\\anaconda3_1\\envs\\dsi\\lib\\site-packages\\pandas\\core\\series.py:4670\u001b[0m, in \u001b[0;36mSeries._reduce\u001b[1;34m(self, op, name, axis, skipna, numeric_only, filter_type, **kwds)\u001b[0m\n\u001b[0;32m   4665\u001b[0m     \u001b[38;5;28;01mraise\u001b[39;00m \u001b[38;5;167;01mTypeError\u001b[39;00m(\n\u001b[0;32m   4666\u001b[0m         \u001b[38;5;124mf\u001b[39m\u001b[38;5;124m\"\u001b[39m\u001b[38;5;124mSeries.\u001b[39m\u001b[38;5;132;01m{\u001b[39;00mname\u001b[38;5;132;01m}\u001b[39;00m\u001b[38;5;124m does not allow \u001b[39m\u001b[38;5;132;01m{\u001b[39;00mkwd_name\u001b[38;5;132;01m}\u001b[39;00m\u001b[38;5;124m=\u001b[39m\u001b[38;5;132;01m{\u001b[39;00mnumeric_only\u001b[38;5;132;01m}\u001b[39;00m\u001b[38;5;124m \u001b[39m\u001b[38;5;124m\"\u001b[39m\n\u001b[0;32m   4667\u001b[0m         \u001b[38;5;124m\"\u001b[39m\u001b[38;5;124mwith non-numeric dtypes.\u001b[39m\u001b[38;5;124m\"\u001b[39m\n\u001b[0;32m   4668\u001b[0m     )\n\u001b[0;32m   4669\u001b[0m \u001b[38;5;28;01mwith\u001b[39;00m np\u001b[38;5;241m.\u001b[39merrstate(\u001b[38;5;28mall\u001b[39m\u001b[38;5;241m=\u001b[39m\u001b[38;5;124m\"\u001b[39m\u001b[38;5;124mignore\u001b[39m\u001b[38;5;124m\"\u001b[39m):\n\u001b[1;32m-> 4670\u001b[0m     \u001b[38;5;28;01mreturn\u001b[39;00m \u001b[43mop\u001b[49m\u001b[43m(\u001b[49m\u001b[43mdelegate\u001b[49m\u001b[43m,\u001b[49m\u001b[43m \u001b[49m\u001b[43mskipna\u001b[49m\u001b[38;5;241;43m=\u001b[39;49m\u001b[43mskipna\u001b[49m\u001b[43m,\u001b[49m\u001b[43m \u001b[49m\u001b[38;5;241;43m*\u001b[39;49m\u001b[38;5;241;43m*\u001b[39;49m\u001b[43mkwds\u001b[49m\u001b[43m)\u001b[49m\n",
      "File \u001b[1;32m~\\anaconda3_1\\envs\\dsi\\lib\\site-packages\\pandas\\core\\nanops.py:96\u001b[0m, in \u001b[0;36mdisallow.__call__.<locals>._f\u001b[1;34m(*args, **kwargs)\u001b[0m\n\u001b[0;32m     94\u001b[0m \u001b[38;5;28;01mtry\u001b[39;00m:\n\u001b[0;32m     95\u001b[0m     \u001b[38;5;28;01mwith\u001b[39;00m np\u001b[38;5;241m.\u001b[39merrstate(invalid\u001b[38;5;241m=\u001b[39m\u001b[38;5;124m\"\u001b[39m\u001b[38;5;124mignore\u001b[39m\u001b[38;5;124m\"\u001b[39m):\n\u001b[1;32m---> 96\u001b[0m         \u001b[38;5;28;01mreturn\u001b[39;00m \u001b[43mf\u001b[49m\u001b[43m(\u001b[49m\u001b[38;5;241;43m*\u001b[39;49m\u001b[43margs\u001b[49m\u001b[43m,\u001b[49m\u001b[43m \u001b[49m\u001b[38;5;241;43m*\u001b[39;49m\u001b[38;5;241;43m*\u001b[39;49m\u001b[43mkwargs\u001b[49m\u001b[43m)\u001b[49m\n\u001b[0;32m     97\u001b[0m \u001b[38;5;28;01mexcept\u001b[39;00m \u001b[38;5;167;01mValueError\u001b[39;00m \u001b[38;5;28;01mas\u001b[39;00m e:\n\u001b[0;32m     98\u001b[0m     \u001b[38;5;66;03m# we want to transform an object array\u001b[39;00m\n\u001b[0;32m     99\u001b[0m     \u001b[38;5;66;03m# ValueError message to the more typical TypeError\u001b[39;00m\n\u001b[0;32m    100\u001b[0m     \u001b[38;5;66;03m# e.g. this is normally a disallowed function on\u001b[39;00m\n\u001b[0;32m    101\u001b[0m     \u001b[38;5;66;03m# object arrays that contain strings\u001b[39;00m\n\u001b[0;32m    102\u001b[0m     \u001b[38;5;28;01mif\u001b[39;00m is_object_dtype(args[\u001b[38;5;241m0\u001b[39m]):\n",
      "File \u001b[1;32m~\\anaconda3_1\\envs\\dsi\\lib\\site-packages\\pandas\\core\\nanops.py:158\u001b[0m, in \u001b[0;36mbottleneck_switch.__call__.<locals>.f\u001b[1;34m(values, axis, skipna, **kwds)\u001b[0m\n\u001b[0;32m    156\u001b[0m         result \u001b[38;5;241m=\u001b[39m alt(values, axis\u001b[38;5;241m=\u001b[39maxis, skipna\u001b[38;5;241m=\u001b[39mskipna, \u001b[38;5;241m*\u001b[39m\u001b[38;5;241m*\u001b[39mkwds)\n\u001b[0;32m    157\u001b[0m \u001b[38;5;28;01melse\u001b[39;00m:\n\u001b[1;32m--> 158\u001b[0m     result \u001b[38;5;241m=\u001b[39m \u001b[43malt\u001b[49m\u001b[43m(\u001b[49m\u001b[43mvalues\u001b[49m\u001b[43m,\u001b[49m\u001b[43m \u001b[49m\u001b[43maxis\u001b[49m\u001b[38;5;241;43m=\u001b[39;49m\u001b[43maxis\u001b[49m\u001b[43m,\u001b[49m\u001b[43m \u001b[49m\u001b[43mskipna\u001b[49m\u001b[38;5;241;43m=\u001b[39;49m\u001b[43mskipna\u001b[49m\u001b[43m,\u001b[49m\u001b[43m \u001b[49m\u001b[38;5;241;43m*\u001b[39;49m\u001b[38;5;241;43m*\u001b[39;49m\u001b[43mkwds\u001b[49m\u001b[43m)\u001b[49m\n\u001b[0;32m    160\u001b[0m \u001b[38;5;28;01mreturn\u001b[39;00m result\n",
      "File \u001b[1;32m~\\anaconda3_1\\envs\\dsi\\lib\\site-packages\\pandas\\core\\nanops.py:421\u001b[0m, in \u001b[0;36m_datetimelike_compat.<locals>.new_func\u001b[1;34m(values, axis, skipna, mask, **kwargs)\u001b[0m\n\u001b[0;32m    418\u001b[0m \u001b[38;5;28;01mif\u001b[39;00m datetimelike \u001b[38;5;129;01mand\u001b[39;00m mask \u001b[38;5;129;01mis\u001b[39;00m \u001b[38;5;28;01mNone\u001b[39;00m:\n\u001b[0;32m    419\u001b[0m     mask \u001b[38;5;241m=\u001b[39m isna(values)\n\u001b[1;32m--> 421\u001b[0m result \u001b[38;5;241m=\u001b[39m \u001b[43mfunc\u001b[49m\u001b[43m(\u001b[49m\u001b[43mvalues\u001b[49m\u001b[43m,\u001b[49m\u001b[43m \u001b[49m\u001b[43maxis\u001b[49m\u001b[38;5;241;43m=\u001b[39;49m\u001b[43maxis\u001b[49m\u001b[43m,\u001b[49m\u001b[43m \u001b[49m\u001b[43mskipna\u001b[49m\u001b[38;5;241;43m=\u001b[39;49m\u001b[43mskipna\u001b[49m\u001b[43m,\u001b[49m\u001b[43m \u001b[49m\u001b[43mmask\u001b[49m\u001b[38;5;241;43m=\u001b[39;49m\u001b[43mmask\u001b[49m\u001b[43m,\u001b[49m\u001b[43m \u001b[49m\u001b[38;5;241;43m*\u001b[39;49m\u001b[38;5;241;43m*\u001b[39;49m\u001b[43mkwargs\u001b[49m\u001b[43m)\u001b[49m\n\u001b[0;32m    423\u001b[0m \u001b[38;5;28;01mif\u001b[39;00m datetimelike:\n\u001b[0;32m    424\u001b[0m     result \u001b[38;5;241m=\u001b[39m _wrap_results(result, orig_values\u001b[38;5;241m.\u001b[39mdtype, fill_value\u001b[38;5;241m=\u001b[39miNaT)\n",
      "File \u001b[1;32m~\\anaconda3_1\\envs\\dsi\\lib\\site-packages\\pandas\\core\\nanops.py:727\u001b[0m, in \u001b[0;36mnanmean\u001b[1;34m(values, axis, skipna, mask)\u001b[0m\n\u001b[0;32m    724\u001b[0m     dtype_count \u001b[38;5;241m=\u001b[39m dtype\n\u001b[0;32m    726\u001b[0m count \u001b[38;5;241m=\u001b[39m _get_counts(values\u001b[38;5;241m.\u001b[39mshape, mask, axis, dtype\u001b[38;5;241m=\u001b[39mdtype_count)\n\u001b[1;32m--> 727\u001b[0m the_sum \u001b[38;5;241m=\u001b[39m \u001b[43m_ensure_numeric\u001b[49m\u001b[43m(\u001b[49m\u001b[43mvalues\u001b[49m\u001b[38;5;241;43m.\u001b[39;49m\u001b[43msum\u001b[49m\u001b[43m(\u001b[49m\u001b[43maxis\u001b[49m\u001b[43m,\u001b[49m\u001b[43m \u001b[49m\u001b[43mdtype\u001b[49m\u001b[38;5;241;43m=\u001b[39;49m\u001b[43mdtype_sum\u001b[49m\u001b[43m)\u001b[49m\u001b[43m)\u001b[49m\n\u001b[0;32m    729\u001b[0m \u001b[38;5;28;01mif\u001b[39;00m axis \u001b[38;5;129;01mis\u001b[39;00m \u001b[38;5;129;01mnot\u001b[39;00m \u001b[38;5;28;01mNone\u001b[39;00m \u001b[38;5;129;01mand\u001b[39;00m \u001b[38;5;28mgetattr\u001b[39m(the_sum, \u001b[38;5;124m\"\u001b[39m\u001b[38;5;124mndim\u001b[39m\u001b[38;5;124m\"\u001b[39m, \u001b[38;5;28;01mFalse\u001b[39;00m):\n\u001b[0;32m    730\u001b[0m     count \u001b[38;5;241m=\u001b[39m cast(np\u001b[38;5;241m.\u001b[39mndarray, count)\n",
      "File \u001b[1;32m~\\anaconda3_1\\envs\\dsi\\lib\\site-packages\\pandas\\core\\nanops.py:1699\u001b[0m, in \u001b[0;36m_ensure_numeric\u001b[1;34m(x)\u001b[0m\n\u001b[0;32m   1696\u001b[0m             x \u001b[38;5;241m=\u001b[39m \u001b[38;5;28mcomplex\u001b[39m(x)\n\u001b[0;32m   1697\u001b[0m         \u001b[38;5;28;01mexcept\u001b[39;00m \u001b[38;5;167;01mValueError\u001b[39;00m \u001b[38;5;28;01mas\u001b[39;00m err:\n\u001b[0;32m   1698\u001b[0m             \u001b[38;5;66;03m# e.g. \"foo\"\u001b[39;00m\n\u001b[1;32m-> 1699\u001b[0m             \u001b[38;5;28;01mraise\u001b[39;00m \u001b[38;5;167;01mTypeError\u001b[39;00m(\u001b[38;5;124mf\u001b[39m\u001b[38;5;124m\"\u001b[39m\u001b[38;5;124mCould not convert \u001b[39m\u001b[38;5;132;01m{\u001b[39;00mx\u001b[38;5;132;01m}\u001b[39;00m\u001b[38;5;124m to numeric\u001b[39m\u001b[38;5;124m\"\u001b[39m) \u001b[38;5;28;01mfrom\u001b[39;00m \u001b[38;5;21;01merr\u001b[39;00m\n\u001b[0;32m   1700\u001b[0m \u001b[38;5;28;01mreturn\u001b[39;00m x\n",
      "\u001b[1;31mTypeError\u001b[0m: Could not convert NationalNationalRegionalRegionalRegionalRegionalRegionalRegionalRegionalRegionalRegionalRegionalRegionalRegionalRegionalRegionalRegionalRegionalRegionalRegionalRegionalRegionalRegionalRegionalRegionalRegionalRegionalRegionalRegionalRegionalRegionalRegionalRegionalRegionalRegionalRegionalRegionalRegionalRegionalRegionalRegionalRegionalRegionalRegionalRegionalRegionalRegionalRegionalRegionalRegionalRegionalRegionalRegionalRegionalRegionalRegionalRegionalRegionalRegionalRegionalRegionalRegionalRegionalRegionalRegionalNationalNationalNationalNationalNationalNationalNationalNationalNational to numeric"
     ]
    }
   ],
   "source": [
    "cluster_centroids = df_to_cluster.groupby('cluster').mean()"
   ]
  },
  {
   "cell_type": "code",
   "execution_count": null,
   "id": "2d9f4407-877c-43f3-ad0e-86513bc692d5",
   "metadata": {},
   "outputs": [],
   "source": [
    "# Calculate the mean values of the binary columns for each cluster\n",
    "binary_columns = ['Poor_Fair_Group', 'Good_Credit_Group', 'Great_Credit_Group']\n",
    "mean_binary_values = cluster_centroids[binary_columns]"
   ]
  },
  {
   "cell_type": "code",
   "execution_count": null,
   "id": "12d8a6f7-ccad-4843-a011-36c155436868",
   "metadata": {},
   "outputs": [],
   "source": [
    "# Determine the credit group associated with each cluster\n",
    "credit_groups = []\n",
    "for cluster_idx, row in mean_binary_values.iterrows():\n",
    "    max_mean_value = row.max()\n",
    "    associated_group = row[row == max_mean_value].index[0]\n",
    "    credit_groups.append(associated_group)"
   ]
  },
  {
   "cell_type": "code",
   "execution_count": null,
   "id": "1805e8cb-f47a-4386-a6b2-5fc7da58972c",
   "metadata": {},
   "outputs": [],
   "source": [
    "# Add the determined credit group to the cluster_centroids DataFrame\n",
    "cluster_centroids['Credit_Group'] = credit_groups"
   ]
  },
  {
   "cell_type": "code",
   "execution_count": null,
   "id": "f0f0e9af-0d6c-4929-be61-f3877217d04a",
   "metadata": {},
   "outputs": [],
   "source": [
    "cluster_centroids"
   ]
  },
  {
   "cell_type": "markdown",
   "id": "833c4c89-0269-4bb4-b2cc-bf5cfeaa07c5",
   "metadata": {},
   "source": [
    "- here we reorder the columns so that the cluster and the credit groups are in the beginning columns for the other teams and better readability"
   ]
  },
  {
   "cell_type": "code",
   "execution_count": null,
   "id": "24f1e96b-2a7a-4fc6-9fed-af8187f41555",
   "metadata": {},
   "outputs": [],
   "source": [
    "cluster_centroids.columns"
   ]
  },
  {
   "cell_type": "code",
   "execution_count": null,
   "id": "cc9e8dd6-5d41-4590-92e2-d2506b6e5009",
   "metadata": {},
   "outputs": [],
   "source": [
    "column_order = ['Credit_Group','PF_Credit_APR', 'Good_Credit_APR', 'Great_Credit_APR', 'Minimum APR',\n",
    "       'Median APR', 'Maximum APR', 'BT_Min_APR', 'BT_Max_APR',\n",
    "       'Median Length of Balance Transfer APR', 'CA_Min_APR', 'CA_Median_APR',\n",
    "       'CA_Max_APR', 'Grace Period', 'Min_FinCharge_USD', 'BT_Fee_Percent',\n",
    "       'FgnTx_Fee_Percent', 'LF_6mo_BillCycle', 'Poor_Fair_Group',\n",
    "       'Good_Credit_Group', 'Great_Credit_Group']"
   ]
  },
  {
   "cell_type": "code",
   "execution_count": null,
   "id": "90418799-3d23-409e-a86a-62721fee3131",
   "metadata": {},
   "outputs": [],
   "source": [
    "cluster_centroids[column_order].to_csv('../data/aggregate_cards.csv')"
   ]
  },
  {
   "cell_type": "code",
   "execution_count": null,
   "id": "6de807ec-e117-49d8-a968-eb573040863b",
   "metadata": {},
   "outputs": [],
   "source": [
    "col_order=['cluster','Availability of Credit Card Plan', 'Requirements for Opening',\n",
    "       'Secured Card', 'Purchase APR Offered?', 'Purchase APR Vary by Balance',\n",
    "       'Purchase APR Index', 'Variable Rate Index', 'Index', 'PF_Credit_APR',\n",
    "       'Good_Credit_APR', 'Great_Credit_APR', 'Minimum APR', 'Median APR',\n",
    "       'Maximum APR', 'Introductory APR Offered?', 'Balance Transfer Offered?',\n",
    "       'Balance Transfer APR Vary by Credit Tier', 'BT_Min_APR', 'BT_Max_APR',\n",
    "       'Median Length of Balance Transfer APR',\n",
    "       'Balance Transfer Grace Period', 'Cash Advance APR Offered?',\n",
    "       'Cash Advance APR Vary by Credit Tier', 'CA_Min_APR', 'CA_Median_APR',\n",
    "       'CA_Max_APR', 'Grace Period Offered?', 'Grace Period',\n",
    "       'Minimum Finance Charge?', 'Min_FinCharge_USD',\n",
    "       'Balance Computation Method', 'Purchase Transaction Fees',\n",
    "       'Balance Transfer Fees?', 'BT_Fee_Percent', 'Cash Advance Fees?',\n",
    "       'Foreign Transaction Fees?', 'FgnTx_Fee_Percent', 'Late Fees?',\n",
    "       'LF_6mo_BillCycle', 'Poor_Fair_Group', 'Good_Credit_Group',\n",
    "       'Great_Credit_Group']"
   ]
  },
  {
   "cell_type": "code",
   "execution_count": null,
   "id": "8b322624-e22d-40d8-8f30-6589b335e19f",
   "metadata": {},
   "outputs": [],
   "source": [
    "df_to_cluster[col_order].to_csv('../data/clustered_data.csv')"
   ]
  },
  {
   "cell_type": "markdown",
   "id": "f8c8cdef-70fc-4c89-96b8-acae933442d0",
   "metadata": {},
   "source": [
    "### One Hot Encoded Attempt"
   ]
  },
  {
   "cell_type": "markdown",
   "id": "447a8dcd-4e66-4379-a932-716fb49110bf",
   "metadata": {},
   "source": [
    "- Overall Much better than the results below! \n",
    "- Cleaning the Data more closely as well as removing outliers with respect to the \"9.99\" values has created much clearer groupings.\n",
    "- There is still a weaker third grouping and this can probably be improved with the addition of other categorical values. let's try adding a view to see if it helps distinguish. if not or even if slightly better we will use these as the initial aggregate cards"
   ]
  },
  {
   "cell_type": "code",
   "execution_count": null,
   "id": "f206e2d1-4640-4ffc-aa3a-7fa6fc5b28f0",
   "metadata": {},
   "outputs": [],
   "source": [
    "df_to_cluster[obj_cols].head()"
   ]
  },
  {
   "cell_type": "code",
   "execution_count": null,
   "id": "53762c83-754b-4a83-9a56-c59aa035ce9b",
   "metadata": {},
   "outputs": [],
   "source": [
    "cols_to_encode = ['Availability of Credit Card Plan','Requirements for Opening','Index',\n",
    "                  'Grace Period Offered?','Minimum Finance Charge?','Purchase Transaction Fees',\n",
    "                  'Balance Transfer Fees?','Cash Advance Fees?','Foreign Transaction Fees?','Late Fees?']"
   ]
  },
  {
   "cell_type": "markdown",
   "id": "afd22fe1-0fc8-4ecf-be86-fb08ba6372b5",
   "metadata": {},
   "source": [
    "OHE Pipeline"
   ]
  },
  {
   "cell_type": "code",
   "execution_count": null,
   "id": "2da23877-748d-49b3-b49b-d284810bed74",
   "metadata": {},
   "outputs": [],
   "source": [
    "# Create a ColumnTransformer\n",
    "column_transformer = make_column_transformer(\n",
    "    (OneHotEncoder(), cols_to_encode),\n",
    "    remainder='passthrough',\n",
    ")"
   ]
  },
  {
   "cell_type": "code",
   "execution_count": null,
   "id": "33db20ab-752b-44d7-9c03-edd4522b41f5",
   "metadata": {},
   "outputs": [],
   "source": [
    "ohe_transformed = column_transformer.fit_transform(df_to_cluster[cols_to_encode])"
   ]
  },
  {
   "cell_type": "code",
   "execution_count": null,
   "id": "4d41852f-e465-4266-a817-b2d7d1ef8220",
   "metadata": {},
   "outputs": [],
   "source": [
    "encoded_column_names = column_transformer.named_transformers_['onehotencoder'].get_feature_names_out(cols_to_encode)"
   ]
  },
  {
   "cell_type": "code",
   "execution_count": null,
   "id": "1341d6d7-84c6-495b-9a47-2b557091d2e1",
   "metadata": {},
   "outputs": [],
   "source": [
    "df_transformed = pd.DataFrame(data=ohe_transformed,columns=encoded_column_names)"
   ]
  },
  {
   "cell_type": "code",
   "execution_count": null,
   "id": "11b1cf6b-dd81-43c5-8e09-0dacbc046148",
   "metadata": {},
   "outputs": [],
   "source": [
    "df_transformed.head()"
   ]
  },
  {
   "cell_type": "markdown",
   "id": "ee091199-4d67-4694-bdef-182e02a388d4",
   "metadata": {},
   "source": [
    "As you can see we now have columns that represent all options for the categorical fields we selected.\n",
    "- now we combine numerical and ohe\n",
    "- scale our data\n",
    "- try clustering again!"
   ]
  },
  {
   "cell_type": "code",
   "execution_count": null,
   "id": "d50b7380-70a6-401d-8cbb-71fb4a1023ee",
   "metadata": {},
   "outputs": [],
   "source": [
    "transformed_df_clustering = pd.concat([df1_num_tf,df_transformed], axis=1)"
   ]
  },
  {
   "cell_type": "code",
   "execution_count": null,
   "id": "d418667d-fb4a-4b1e-a450-901ebd7b1bd8",
   "metadata": {},
   "outputs": [],
   "source": [
    "sc = StandardScaler()"
   ]
  },
  {
   "cell_type": "code",
   "execution_count": null,
   "id": "305a9323-394a-45e5-b016-d084c97f4ea7",
   "metadata": {},
   "outputs": [],
   "source": [
    "data_scaled = sc.fit_transform(transformed_df_clustering)"
   ]
  },
  {
   "cell_type": "code",
   "execution_count": null,
   "id": "677e29ae-0edb-48b1-b389-8b1ddedbfc8a",
   "metadata": {},
   "outputs": [],
   "source": [
    "kmeans2 = KMeans(n_clusters=3, random_state=42)"
   ]
  },
  {
   "cell_type": "code",
   "execution_count": null,
   "id": "4a626276-8af8-4bcc-b36d-4125a7f2a9c5",
   "metadata": {},
   "outputs": [],
   "source": [
    "df_to_cluster[\"cluster\"] = kmeans2.fit_predict(data_scaled)"
   ]
  },
  {
   "cell_type": "code",
   "execution_count": null,
   "id": "37bcddfa-2f35-44cc-b543-42214685e55c",
   "metadata": {},
   "outputs": [],
   "source": [
    "pca = PCA(n_components=2)"
   ]
  },
  {
   "cell_type": "code",
   "execution_count": null,
   "id": "d698ddab-6905-4f41-b81c-f17679dc6fcd",
   "metadata": {},
   "outputs": [],
   "source": [
    "data_2d = pca.fit_transform(data_scaled)"
   ]
  },
  {
   "cell_type": "code",
   "execution_count": null,
   "id": "a08cedac-72bf-4b14-a6d0-9ce8cca7f708",
   "metadata": {},
   "outputs": [],
   "source": [
    "plt.scatter(data_2d[:, 0], data_2d[:, 1], c=df_to_cluster['cluster'], cmap='viridis')\n",
    "plt.title('Card Clusters')\n",
    "plt.xlabel('Principal Component 1')\n",
    "plt.ylabel('Principal Component 2')\n",
    "plt.show()"
   ]
  },
  {
   "cell_type": "code",
   "execution_count": null,
   "id": "d06909b3-d091-484c-b3a6-495d9868274a",
   "metadata": {},
   "outputs": [],
   "source": [
    "sil = silhouette_score(data_scaled, df_to_cluster[\"cluster\"])"
   ]
  },
  {
   "cell_type": "code",
   "execution_count": null,
   "id": "f3d148bb-2f80-4b09-89cc-35b98ffde15d",
   "metadata": {},
   "outputs": [],
   "source": [
    "sil"
   ]
  },
  {
   "cell_type": "markdown",
   "id": "0e81d874-3a3b-49b0-91bb-cbd1380a1321",
   "metadata": {},
   "source": [
    "### Original Clustering Attempt on new data set\n",
    "---"
   ]
  },
  {
   "cell_type": "code",
   "execution_count": null,
   "id": "ac0f3f13-9c71-4c08-af4c-d56a0e25aee1",
   "metadata": {},
   "outputs": [],
   "source": [
    "df1 = df.copy()"
   ]
  },
  {
   "cell_type": "code",
   "execution_count": null,
   "id": "e5de716b-463a-4339-aafa-cb296cc05e93",
   "metadata": {},
   "outputs": [],
   "source": [
    "df1_num = df[num_cols]"
   ]
  },
  {
   "cell_type": "code",
   "execution_count": null,
   "id": "8aa58015-4a50-47bd-bc2b-defe2b8efb43",
   "metadata": {},
   "outputs": [],
   "source": [
    "from sklearn.impute import KNNImputer"
   ]
  },
  {
   "cell_type": "code",
   "execution_count": null,
   "id": "711f55fa-a279-4abe-ad65-709b3c1f386a",
   "metadata": {},
   "outputs": [],
   "source": [
    "knn = KNNImputer(missing_values=np.nan, n_neighbors=5,metric='nan_euclidean')"
   ]
  },
  {
   "cell_type": "code",
   "execution_count": null,
   "id": "73e60752-3ce7-4aa2-a970-0c9d36be4f41",
   "metadata": {},
   "outputs": [],
   "source": [
    "data = knn.fit_transform(df1_num)"
   ]
  },
  {
   "cell_type": "code",
   "execution_count": null,
   "id": "69b7ee62-1ebe-47ea-a2e5-ce0fa6419a02",
   "metadata": {},
   "outputs": [],
   "source": [
    "df1_num_tf = pd.DataFrame(data=data,columns=knn.get_feature_names_out())"
   ]
  },
  {
   "cell_type": "code",
   "execution_count": null,
   "id": "499db78e-56d3-4da1-98a5-cf8ac6041b2f",
   "metadata": {},
   "outputs": [],
   "source": [
    "df1_num_tf.head()"
   ]
  },
  {
   "cell_type": "markdown",
   "id": "9afae7f0-53ec-4917-b4fc-5b60dc818183",
   "metadata": {},
   "source": [
    "Clustering Alpha"
   ]
  },
  {
   "cell_type": "code",
   "execution_count": null,
   "id": "11d89705-42e8-42b4-a4a8-882d1cc05f54",
   "metadata": {},
   "outputs": [],
   "source": [
    "# preprocessing\n",
    "from sklearn.preprocessing import StandardScaler\n",
    "from sklearn.compose import make_column_transformer\n",
    "#clustering\n",
    "from sklearn.cluster import KMeans, DBSCAN\n",
    "from sklearn.metrics import silhouette_score\n",
    "from sklearn.mixture import GaussianMixture\n",
    "from sklearn.decomposition import PCA"
   ]
  },
  {
   "cell_type": "code",
   "execution_count": null,
   "id": "82b434a1-9041-4dbb-ac22-7c1b36191aa2",
   "metadata": {},
   "outputs": [],
   "source": [
    "sc = StandardScaler()"
   ]
  },
  {
   "cell_type": "code",
   "execution_count": null,
   "id": "ef18fa3f-1dbe-4ab7-b34a-703b56d7f622",
   "metadata": {},
   "outputs": [],
   "source": [
    "data_scaled = sc.fit_transform(df1_num_tf)"
   ]
  },
  {
   "cell_type": "code",
   "execution_count": null,
   "id": "17cc5e21-e0e6-4448-8f35-e2a67a2e8b59",
   "metadata": {},
   "outputs": [],
   "source": [
    "kmeans = KMeans(n_clusters=3, random_state=42)"
   ]
  },
  {
   "cell_type": "code",
   "execution_count": null,
   "id": "c6ef1360-64f1-415f-8abe-4f07f07c7838",
   "metadata": {},
   "outputs": [],
   "source": [
    "df1_num_tf[\"cluster\"] = kmeans.fit_predict(data_scaled)"
   ]
  },
  {
   "cell_type": "code",
   "execution_count": null,
   "id": "57b24ec5-ac90-4bed-95e7-a2fca37dfcfc",
   "metadata": {},
   "outputs": [],
   "source": [
    "pca = PCA(n_components=2)"
   ]
  },
  {
   "cell_type": "code",
   "execution_count": null,
   "id": "eda2819d-4487-46ae-b6c6-80ac5d69bb6e",
   "metadata": {},
   "outputs": [],
   "source": [
    "data_2d = pca.fit_transform(data_scaled)"
   ]
  },
  {
   "cell_type": "code",
   "execution_count": null,
   "id": "617d20dd-2e8b-468a-97a4-5e38432d000e",
   "metadata": {},
   "outputs": [],
   "source": [
    "plt.scatter(data_2d[:, 0], data_2d[:, 1], c=df1_num_tf['cluster'], cmap='viridis')\n",
    "plt.title('Card Clusters')\n",
    "plt.xlabel('Principal Component 1')\n",
    "plt.ylabel('Principal Component 2')\n",
    "plt.show()"
   ]
  },
  {
   "cell_type": "code",
   "execution_count": null,
   "id": "faf9a331-62bb-4057-a466-9592b106e0f2",
   "metadata": {},
   "outputs": [],
   "source": [
    "sil = silhouette_score(data_scaled, df1_num_tf[\"cluster\"])"
   ]
  },
  {
   "cell_type": "code",
   "execution_count": null,
   "id": "b138915d-1d6a-4fbe-9f4d-b8304ea78cc8",
   "metadata": {},
   "outputs": [],
   "source": [
    "sil"
   ]
  },
  {
   "cell_type": "code",
   "execution_count": null,
   "id": "9da9d7f7-1a5d-4cdd-97f5-69732784faf6",
   "metadata": {},
   "outputs": [],
   "source": []
  }
 ],
 "metadata": {
  "kernelspec": {
   "display_name": "Python 3 (ipykernel)",
   "language": "python",
   "name": "python3"
  },
  "language_info": {
   "codemirror_mode": {
    "name": "ipython",
    "version": 3
   },
   "file_extension": ".py",
   "mimetype": "text/x-python",
   "name": "python",
   "nbconvert_exporter": "python",
   "pygments_lexer": "ipython3",
   "version": "3.8.0"
  }
 },
 "nbformat": 4,
 "nbformat_minor": 5
}
