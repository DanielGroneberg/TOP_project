{
 "cells": [
  {
   "cell_type": "markdown",
   "id": "cb2dfd17-20c3-4194-9768-7d3f790a98a5",
   "metadata": {},
   "source": [
    "## Data Dictionary for CFPB Credit Card Plan Surveys"
   ]
  },
  {
   "cell_type": "markdown",
   "id": "0cc54a56-9400-4040-be44-9778ea61e858",
   "metadata": {},
   "source": [
    "1. [Jump to Imports and Ingest](#import_ingest)\n",
    "2. [Jump to Beginning of EDA](#EDA_Header)\n",
    "3. [Jump to Item v. Unit Missingness](#missingness)\n",
    "4. [Jump to Cleaning Null Values](#cleaning_nulls)\n",
    "    - [Jump to Cleaning Plan_Name](#plane-name)\n",
    "    - [Jump to Cleaning Availability of Credit Card Plans](#available)\n",
    "    - [Jump to Cleaning Location](#location)\n",
    "    - [Jump to Cleaning APR](#apr)\n",
    "    - [Jump to Cleaning Index](#index)\n",
    "    - [Jump to Cleaning Variable Rate Index](#vari)\n",
    "    - [Jump to Cleaning Grace Period & Telephone Number](#gp-tn)\n",
    "    - [Jump to Cleaning Annual & Late Fees](#annual_late)\n",
    "5. [Jump to Exploratory Data Analysis](#EDA)\n",
    "    - [Jump to EDA APR](#apr-plots)"
   ]
  },
  {
   "cell_type": "markdown",
   "id": "d079b877-2388-4415-be46-f07ba1610446",
   "metadata": {},
   "source": [
    "## Data Dictionary\n",
    "|Feature|Type|Description|\n",
    "|:---|:---:|:---:|\n",
    "|**Agreement_Date**|*datetime*|6-month interval for a given year when this report was provided by participants|\n",
    "|**Institution_Name**|*object*|The name of the Institution that issued the credit card plan.|\n",
    "|**Plan_Name**|*object*|The name of the credit card plan.|\n",
    "|**Availability_of_Credit_Card_Plan**|*object*|States whether the credit card is available nationally, regionally, or only in one state. Options include: National, Regional, and One State.|\n",
    "|**Location**|*object*|If the credit card plan is available regionally or within a single state, the ‘Location’ column will list the state(s) in which the credit card plan is available. In the event the credit card plan is available nationally, the ‘Location’ cell will be null.|\n",
    "|**APR**|*float64*|“Annual Percentage Rate” states the annualized interest rate that is used to compute finance charges for purchases. If the purchase APR for new customers varies by customer segment, the APR reported is the midpoint of the range of APRs offered to new customers of the product as of the reporting date.|\n",
    "|**Index**|*object*|Displays V (variable) in the event the credit card plan’s interest rate is variable. If the credit card plan has a fixed interest rate, then the Index column will display F (fixed).|\n",
    "|**Variable_Rate_Index**|*object*|If the credit card plan has a variable rate, the ’Variable Rate Index’ column shows the index used to set the rate. Options include: Prime, One-month T-bill, Three-month T-bill, Six-month T- bill, One-year T-bill, Fed Funds, Cost of Funds, Federal Reserve Discount Rate, and Other.|\n",
    "|**Grace_Period**|*float64*|States the period of time from the end of the billing cycle in which credit extended for purchases during that billing cycle may be repaid without incurring a finance charge.|\n",
    "|**Annual_Fee**|*float64*|Changed from \"Annual Fee\" for processing. The annual charge, expressed as an annualized amount, that is imposed for the issuance or availability of the credit card.|\n",
    "|**Late_Fee**|*float64*|The fee imposed by an issuer for a late payment.|\n",
    "|**Telephone_Number_for_Consumers**|*object*|The phone number where the institution in question can be reached.|\n",
    "\n",
    "Source: https://cfpb.my.salesforce-sites.com/CreditCardPlanSurveys/resource/1600984878000/TccpPublicSiteQuickReferenceGuide (Page 4)"
   ]
  },
  {
   "cell_type": "markdown",
   "id": "f2398cd3-0222-4526-b141-191422ec3a26",
   "metadata": {},
   "source": [
    "<a id=\"import_ingest\"></a>"
   ]
  },
  {
   "cell_type": "markdown",
   "id": "6d49b9ab-ada4-47a2-966a-daafbe71362d",
   "metadata": {},
   "source": [
    "---\n",
    "## Imports and Ingest\n",
    "\n",
    "----"
   ]
  },
  {
   "cell_type": "code",
   "execution_count": 363,
   "id": "6956d927-c907-415e-9150-1fb1e7c233d6",
   "metadata": {},
   "outputs": [],
   "source": [
    "import pandas as pd\n",
    "import matplotlib.pyplot as plt\n",
    "from matplotlib import cm\n",
    "import seaborn as sns\n",
    "import re\n",
    "import networkx"
   ]
  },
  {
   "cell_type": "code",
   "execution_count": 7,
   "id": "7bd6344c-6683-40bd-8a16-2b709e4477d1",
   "metadata": {},
   "outputs": [],
   "source": [
    "tccp = pd.read_csv(\"../data/TCCP_Surveys.csv\")"
   ]
  },
  {
   "cell_type": "code",
   "execution_count": 8,
   "id": "33982885-e69c-460f-9cb8-ec221d61b761",
   "metadata": {},
   "outputs": [
    {
     "data": {
      "text/plain": [
       "Index(['Agreement Date', 'Institution Name', 'Plan Name',\n",
       "       'Availability of Credit Card Plan', 'Location', 'APR', 'Index',\n",
       "       'Variable Rate Index', 'Grace Period', 'Annual Fee', 'Late Fee',\n",
       "       'Telephone Number for Consumers'],\n",
       "      dtype='object')"
      ]
     },
     "execution_count": 8,
     "metadata": {},
     "output_type": "execute_result"
    }
   ],
   "source": [
    "tccp.columns"
   ]
  },
  {
   "cell_type": "code",
   "execution_count": 9,
   "id": "a818ed01-f846-4d31-87b2-3cb390ecdfcd",
   "metadata": {},
   "outputs": [],
   "source": [
    "tccp.columns = [col.replace(\" \",\"_\") for col in tccp.columns]"
   ]
  },
  {
   "cell_type": "code",
   "execution_count": 10,
   "id": "ac82b16e-194c-45ef-89b9-7ba3f0105e27",
   "metadata": {},
   "outputs": [
    {
     "data": {
      "text/plain": [
       "Index(['Agreement_Date', 'Institution_Name', 'Plan_Name',\n",
       "       'Availability_of_Credit_Card_Plan', 'Location', 'APR', 'Index',\n",
       "       'Variable_Rate_Index', 'Grace_Period', 'Annual_Fee', 'Late_Fee',\n",
       "       'Telephone_Number_for_Consumers'],\n",
       "      dtype='object')"
      ]
     },
     "execution_count": 10,
     "metadata": {},
     "output_type": "execute_result"
    }
   ],
   "source": [
    "tccp.columns"
   ]
  },
  {
   "cell_type": "code",
   "execution_count": 11,
   "id": "7e95abaa-1488-4e1b-bcf6-f6f73cce626d",
   "metadata": {},
   "outputs": [
    {
     "name": "stdout",
     "output_type": "stream",
     "text": [
      "<class 'pandas.core.frame.DataFrame'>\n",
      "RangeIndex: 9556 entries, 0 to 9555\n",
      "Data columns (total 12 columns):\n",
      " #   Column                            Non-Null Count  Dtype  \n",
      "---  ------                            --------------  -----  \n",
      " 0   Agreement_Date                    9556 non-null   object \n",
      " 1   Institution_Name                  9556 non-null   object \n",
      " 2   Plan_Name                         9552 non-null   object \n",
      " 3   Availability_of_Credit_Card_Plan  9551 non-null   object \n",
      " 4   Location                          8755 non-null   object \n",
      " 5   APR                               9522 non-null   float64\n",
      " 6   Index                             9554 non-null   object \n",
      " 7   Variable_Rate_Index               5787 non-null   object \n",
      " 8   Grace_Period                      9474 non-null   float64\n",
      " 9   Annual_Fee                        8011 non-null   float64\n",
      " 10  Late_Fee                          2540 non-null   float64\n",
      " 11  Telephone_Number_for_Consumers    9474 non-null   object \n",
      "dtypes: float64(4), object(8)\n",
      "memory usage: 896.0+ KB\n"
     ]
    }
   ],
   "source": [
    "tccp.info()"
   ]
  },
  {
   "cell_type": "code",
   "execution_count": 13,
   "id": "a060273d-703c-49b8-a8a2-a429c1650a46",
   "metadata": {},
   "outputs": [
    {
     "data": {
      "text/plain": [
       "13340"
      ]
     },
     "execution_count": 13,
     "metadata": {},
     "output_type": "execute_result"
    }
   ],
   "source": [
    "tccp.isnull().sum().sum()"
   ]
  },
  {
   "cell_type": "markdown",
   "id": "0f622299-e5ea-406d-be6a-4ceb90852e88",
   "metadata": {},
   "source": [
    "Based on the data dictionary available, there is only 1 features where we knowingly expect NULL values:\n",
    "- `Location`: If the credit card plan is available nationally, the cell will be listed as NULL\n",
    "\n",
    "    \n",
    "Below we will look to explore the other features with NULL values to:\n",
    "- `Identify Unit Missingness` v. `Item Missingness`:\n",
    "    - `Unit Missingness`: all values missing from an observation\n",
    "    - `Item Missingness`: some but not all values are missing from an observation\n",
    "- Define `MCAR`, `MAR`, `NMAR`:\n",
    "    - `MCAR`: Missing Completely at Random\n",
    "    - `MAR`: Missing at Random\n",
    "    - `NMAR`: Not Missing at Random\n",
    "- Decide on how to account for missing data"
   ]
  },
  {
   "cell_type": "markdown",
   "id": "81279b49-8c73-4762-adcb-f3d972e83c99",
   "metadata": {},
   "source": [
    "<a id=\"EDA_Header\"></a>"
   ]
  },
  {
   "cell_type": "markdown",
   "id": "e399c56f-042f-49c4-96ee-de788d3a85ab",
   "metadata": {},
   "source": [
    "---\n",
    "## EDA - Exploration of Null Values/Clean\n",
    "\n",
    "----"
   ]
  },
  {
   "cell_type": "markdown",
   "id": "38550d57-1fac-45fe-87fb-9de3ccd48d80",
   "metadata": {},
   "source": [
    "We'll keep a running tally for the amount of rows and cols we drop to ensure the amount we drop is less than 5% of the original total rows, and keep in mind features"
   ]
  },
  {
   "cell_type": "code",
   "execution_count": 93,
   "id": "20efbd16-2e81-4065-8a0c-632c72d6145a",
   "metadata": {},
   "outputs": [],
   "source": [
    "total_null_rows_dropped = 0\n",
    "total_null_cols_dropped = 0"
   ]
  },
  {
   "cell_type": "markdown",
   "id": "56fc926c-92be-4531-b1e9-91da94ccbd13",
   "metadata": {},
   "source": [
    "### Null Count per feature"
   ]
  },
  {
   "cell_type": "code",
   "execution_count": 15,
   "id": "03712bae-bbb0-439b-ae5c-a1532de4e27b",
   "metadata": {},
   "outputs": [
    {
     "data": {
      "text/plain": [
       "Agreement_Date                         0\n",
       "Institution_Name                       0\n",
       "Plan_Name                              4\n",
       "Availability_of_Credit_Card_Plan       5\n",
       "Location                             801\n",
       "APR                                   34\n",
       "Index                                  2\n",
       "Variable_Rate_Index                 3769\n",
       "Grace_Period                          82\n",
       "Annual_Fee                          1545\n",
       "Late_Fee                            7016\n",
       "Telephone_Number_for_Consumers        82\n",
       "dtype: int64"
      ]
     },
     "execution_count": 15,
     "metadata": {},
     "output_type": "execute_result"
    }
   ],
   "source": [
    "tccp.isnull().sum()"
   ]
  },
  {
   "cell_type": "markdown",
   "id": "4da95ca3-d689-49f5-a709-bcfd69b4f540",
   "metadata": {},
   "source": [
    "#### Total Rows"
   ]
  },
  {
   "cell_type": "code",
   "execution_count": 17,
   "id": "aed8b72b-1bf1-49e7-b5b2-88872cc2e8c7",
   "metadata": {},
   "outputs": [
    {
     "data": {
      "text/plain": [
       "9556"
      ]
     },
     "execution_count": 17,
     "metadata": {},
     "output_type": "execute_result"
    }
   ],
   "source": [
    "tccp.shape[0]"
   ]
  },
  {
   "cell_type": "markdown",
   "id": "f0200b49-f657-427d-9a6a-8593388c5701",
   "metadata": {},
   "source": [
    "<a id=\"missingness\"></a>"
   ]
  },
  {
   "cell_type": "markdown",
   "id": "1f486670-d8f6-49ae-9523-25c5ebcaf3a8",
   "metadata": {},
   "source": [
    "----\n",
    "### Unit Missingness v. Item Missingness\n",
    "\n",
    "\n",
    "----"
   ]
  },
  {
   "cell_type": "markdown",
   "id": "0f01d76b-e5fe-42aa-95d8-0adf9090e0fa",
   "metadata": {},
   "source": [
    "`Unit Missingness` can be ruled out simply by Agreement_Date and Institution_Date having no recorded NULL values <br>\n",
    "`Item Missingness` by Feature:\n",
    "- `Plan_Name`: **<~1% of rows are missing this value.** `MCAR`, each card is required to have a name, and given the volume of missing values (<~1%), this is most likely a data entry or systems error on the part of the institution who entered it.\n",
    "- `Availability_of_Credit_Card_Plan`: **<~1% of rows are missing this value.** `MCAR`, similar logic as `Plan_Name`; an alternative could be a misunderstanding during data entry/collection with Location and these 5 have NULL instead of 'National', an easy check is checking if `Location` is NULL for these 5 rows.\n",
    "- `Location`: **~8% of rows are missing this value.** `NMAR`, as mentioned above, this could simply mean we have 801 nationally available cards.\n",
    "- `APR`: **<~1% of rows are missing this value.** `NMAR`, it's possible some of these offerings have 0% APR (doubt it), or an initial period of 0% APR.\n",
    "- `Index`: **<~1% of rows are missing this value.** `MCAR`, similar logic to `Plan_Name`, and small  population (<~1%)\n",
    "- `Variable_Rate_Index`: **~40% of rows are missing this value.** `NMAR`, as this field is only populated if the credit card has a variable rate. This will be dependent upon the `Index` feature. An easy check will be the number of rows where `Index` = \"V\".\n",
    "- `Grace_Period`: **<~1% of rows are missing this value.** `NMAR`, dependent upon if the there is a grace period, if this data includes Charge Cards such as AMEX, there is no grace period and the bill is expected to be paid at the end of every month. We will check the different plan names v. these values to confirm that suspicion.\n",
    "- `Annual_Fee`: **~16% of rows are missing this value.** NMAR, not all cards to my knowledge have Annual Fees\n",
    "- `Late_Fee`: **~73% of rows are missing this value.** `Unsure`, the majority of credit card providers have late fees, including smaller banks and credit unions. According to CFPB there is an increasing but small percentage of companies that charge no late fees or offer products with increased flexibilioty for late payments (<a href=\"https://s3.amazonaws.com/files.consumerfinance.gov/f/documents/cfpb_credit-card-late-fees_report_2022-03.pdf\">SOURCE</a> ), but even so I'd expect the reverse where a quarter of rows were missing this value. It might be worth it to translate this field into a boolean value depending on the variety of late fees and if they are all similar.\n",
    "- `Telephone_Number_for_Consumers`: **<~1% of rows are missing this value.** `MCAR`, similar logic to `Plan_Name`\n",
    "----"
   ]
  },
  {
   "cell_type": "markdown",
   "id": "f3d64303-a11c-47d0-89ce-4d14a422398c",
   "metadata": {},
   "source": [
    "<a id=\"cleaning_nulls\"></a>"
   ]
  },
  {
   "cell_type": "markdown",
   "id": "d1f9dc8b-a26d-4d3d-bcb4-a86116901e6d",
   "metadata": {},
   "source": [
    "## Cleaning of Null Values"
   ]
  },
  {
   "cell_type": "code",
   "execution_count": 26,
   "id": "ce58a239-0551-46bf-9207-0d67dc210ae0",
   "metadata": {},
   "outputs": [
    {
     "data": {
      "text/plain": [
       "Agreement_Date                         0\n",
       "Institution_Name                       0\n",
       "Plan_Name                              4\n",
       "Availability_of_Credit_Card_Plan       5\n",
       "Location                             801\n",
       "APR                                   34\n",
       "Index                                  2\n",
       "Variable_Rate_Index                 3769\n",
       "Grace_Period                          82\n",
       "Annual_Fee                          1545\n",
       "Late_Fee                            7016\n",
       "Telephone_Number_for_Consumers        82\n",
       "dtype: int64"
      ]
     },
     "execution_count": 26,
     "metadata": {},
     "output_type": "execute_result"
    }
   ],
   "source": [
    "tccp.isnull().sum()"
   ]
  },
  {
   "cell_type": "markdown",
   "id": "1c6ddcdc-1dae-4524-b3ad-20a3ee6b65f1",
   "metadata": {},
   "source": [
    "Plan Name"
   ]
  },
  {
   "cell_type": "markdown",
   "id": "23647c41-6737-442f-bac7-72299db1e0be",
   "metadata": {},
   "source": [
    "<a id=\"plane-name\"></a>"
   ]
  },
  {
   "cell_type": "markdown",
   "id": "3a66305f-9c1b-4d30-852a-8c9d2419a4c0",
   "metadata": {},
   "source": [
    "---\n",
    "## Plan Name\n",
    "\n",
    "\n",
    "---"
   ]
  },
  {
   "cell_type": "code",
   "execution_count": 36,
   "id": "56dfc2f8-8272-41dd-8b9d-a6132ebc7a8c",
   "metadata": {},
   "outputs": [
    {
     "data": {
      "text/html": [
       "<div>\n",
       "<style scoped>\n",
       "    .dataframe tbody tr th:only-of-type {\n",
       "        vertical-align: middle;\n",
       "    }\n",
       "\n",
       "    .dataframe tbody tr th {\n",
       "        vertical-align: top;\n",
       "    }\n",
       "\n",
       "    .dataframe thead th {\n",
       "        text-align: right;\n",
       "    }\n",
       "</style>\n",
       "<table border=\"1\" class=\"dataframe\">\n",
       "  <thead>\n",
       "    <tr style=\"text-align: right;\">\n",
       "      <th></th>\n",
       "      <th>Agreement_Date</th>\n",
       "      <th>Institution_Name</th>\n",
       "      <th>Plan_Name</th>\n",
       "      <th>Availability_of_Credit_Card_Plan</th>\n",
       "      <th>Location</th>\n",
       "      <th>APR</th>\n",
       "      <th>Index</th>\n",
       "      <th>Variable_Rate_Index</th>\n",
       "      <th>Grace_Period</th>\n",
       "      <th>Annual_Fee</th>\n",
       "      <th>Late_Fee</th>\n",
       "      <th>Telephone_Number_for_Consumers</th>\n",
       "    </tr>\n",
       "  </thead>\n",
       "  <tbody>\n",
       "    <tr>\n",
       "      <th>1478</th>\n",
       "      <td>2017-01-31</td>\n",
       "      <td>First National Bank Alaska</td>\n",
       "      <td>NaN</td>\n",
       "      <td>One State</td>\n",
       "      <td>AK</td>\n",
       "      <td>13.90</td>\n",
       "      <td>F</td>\n",
       "      <td>NaN</td>\n",
       "      <td>25.0</td>\n",
       "      <td>NaN</td>\n",
       "      <td>NaN</td>\n",
       "      <td>(800) 856-4362</td>\n",
       "    </tr>\n",
       "    <tr>\n",
       "      <th>3024</th>\n",
       "      <td>2012-07-31</td>\n",
       "      <td>INTRUST BANK, NATIONAL ASSOCIATION</td>\n",
       "      <td>NaN</td>\n",
       "      <td>National</td>\n",
       "      <td>NaN</td>\n",
       "      <td>10.90</td>\n",
       "      <td>V</td>\n",
       "      <td>Prime</td>\n",
       "      <td>25.0</td>\n",
       "      <td>0.0</td>\n",
       "      <td>35.0</td>\n",
       "      <td>(800) 222-7458</td>\n",
       "    </tr>\n",
       "    <tr>\n",
       "      <th>3856</th>\n",
       "      <td>2009-07-31</td>\n",
       "      <td>HEARTLAND BANK</td>\n",
       "      <td>NaN</td>\n",
       "      <td>Single State</td>\n",
       "      <td>OH</td>\n",
       "      <td>11.65</td>\n",
       "      <td>V</td>\n",
       "      <td>Prime</td>\n",
       "      <td>25.0</td>\n",
       "      <td>18.0</td>\n",
       "      <td>NaN</td>\n",
       "      <td>(800) 697-0049</td>\n",
       "    </tr>\n",
       "    <tr>\n",
       "      <th>7068</th>\n",
       "      <td>1998-01-31</td>\n",
       "      <td>FIRST OF AMERICA BANK, NATIONAL ASSOCIATION</td>\n",
       "      <td>NaN</td>\n",
       "      <td>National</td>\n",
       "      <td>N</td>\n",
       "      <td>15.40</td>\n",
       "      <td>V</td>\n",
       "      <td>Prime</td>\n",
       "      <td>25.0</td>\n",
       "      <td>0.0</td>\n",
       "      <td>NaN</td>\n",
       "      <td>(800) 423-3883</td>\n",
       "    </tr>\n",
       "  </tbody>\n",
       "</table>\n",
       "</div>"
      ],
      "text/plain": [
       "     Agreement_Date                             Institution_Name Plan_Name  \\\n",
       "1478     2017-01-31                   First National Bank Alaska       NaN   \n",
       "3024     2012-07-31           INTRUST BANK, NATIONAL ASSOCIATION       NaN   \n",
       "3856     2009-07-31                               HEARTLAND BANK       NaN   \n",
       "7068     1998-01-31  FIRST OF AMERICA BANK, NATIONAL ASSOCIATION       NaN   \n",
       "\n",
       "     Availability_of_Credit_Card_Plan Location    APR Index  \\\n",
       "1478                        One State       AK  13.90     F   \n",
       "3024                         National      NaN  10.90     V   \n",
       "3856                     Single State       OH  11.65     V   \n",
       "7068                         National        N  15.40     V   \n",
       "\n",
       "     Variable_Rate_Index  Grace_Period  Annual_Fee  Late_Fee  \\\n",
       "1478                 NaN          25.0         NaN       NaN   \n",
       "3024               Prime          25.0         0.0      35.0   \n",
       "3856               Prime          25.0        18.0       NaN   \n",
       "7068               Prime          25.0         0.0       NaN   \n",
       "\n",
       "     Telephone_Number_for_Consumers  \n",
       "1478                 (800) 856-4362  \n",
       "3024                 (800) 222-7458  \n",
       "3856                 (800) 697-0049  \n",
       "7068                 (800) 423-3883  "
      ]
     },
     "execution_count": 36,
     "metadata": {},
     "output_type": "execute_result"
    }
   ],
   "source": [
    "tccp[tccp[\"Plan_Name\"].isna()].head()"
   ]
  },
  {
   "cell_type": "markdown",
   "id": "e29494e4-62bd-4b24-ba30-c319da1b24e5",
   "metadata": {},
   "source": [
    "- Before filtering, I was hoping that the plan name would be an extension of the institution name.\n",
    "- I looked up the most recent offerring which was First National Bank Alaska 2017, and they have multiple offerings now which makes it harder to fill in.\n",
    "- Let's just check if there are other records with the Plan_Name Filled in"
   ]
  },
  {
   "cell_type": "code",
   "execution_count": 43,
   "id": "a31942df-f378-4b6a-aacf-c00602ce36d0",
   "metadata": {},
   "outputs": [
    {
     "data": {
      "text/plain": [
       "array(['VISA Platinum', 'VISA PLATINUM', nan, 'VISA REGULAR', 'VISA',\n",
       "       'MASTERCARD/VISA', 'REGULAR MASTERCARD/VISA'], dtype=object)"
      ]
     },
     "execution_count": 43,
     "metadata": {},
     "output_type": "execute_result"
    }
   ],
   "source": [
    "tccp[tccp[\"Institution_Name\"] == \"INTRUST BANK, NATIONAL ASSOCIATION\"][\"Plan_Name\"].unique()"
   ]
  },
  {
   "cell_type": "code",
   "execution_count": 44,
   "id": "f1e7754f-641a-4f90-842c-fa999b798806",
   "metadata": {},
   "outputs": [
    {
     "data": {
      "text/plain": [
       "array([nan, 'MasterCard'], dtype=object)"
      ]
     },
     "execution_count": 44,
     "metadata": {},
     "output_type": "execute_result"
    }
   ],
   "source": [
    "tccp[tccp[\"Institution_Name\"] == \"First National Bank Alaska\"][\"Plan_Name\"].unique()"
   ]
  },
  {
   "cell_type": "code",
   "execution_count": 46,
   "id": "59b8f28c-d913-4328-ad0f-725ea5a970f1",
   "metadata": {},
   "outputs": [
    {
     "data": {
      "text/plain": [
       "array(['Classic Visa', 'MASTERCARD CLASSIC', 'CLASSIC MASTERCARD',\n",
       "       'MASTERCARD', nan, 'MASTERCARD-CLASSIC', 'HEARTLAND BANK',\n",
       "       'NAME OF PLAN: MASTERCARD', 'NAME OF THE CREDIT CARD PLAN: MASTER',\n",
       "       'MASTER CARD'], dtype=object)"
      ]
     },
     "execution_count": 46,
     "metadata": {},
     "output_type": "execute_result"
    }
   ],
   "source": [
    "tccp[tccp[\"Institution_Name\"] == \"HEARTLAND BANK\"][\"Plan_Name\"].unique()"
   ]
  },
  {
   "cell_type": "code",
   "execution_count": 47,
   "id": "6e374db2-40b2-4288-8f8d-0ec8dc082e21",
   "metadata": {},
   "outputs": [
    {
     "data": {
      "text/plain": [
       "array(['MICHIGAN EDUCATION ASSOCIATION (MEA)', nan,\n",
       "       'MICHIGAN ED ASSOC. (MEA) CLASSIC'], dtype=object)"
      ]
     },
     "execution_count": 47,
     "metadata": {},
     "output_type": "execute_result"
    }
   ],
   "source": [
    "tccp[tccp[\"Institution_Name\"] == \"FIRST OF AMERICA BANK, NATIONAL ASSOCIATION\"][\"Plan_Name\"].unique()"
   ]
  },
  {
   "cell_type": "markdown",
   "id": "7d9f0ed3-3368-4c13-92ec-4202d7eb0b53",
   "metadata": {},
   "source": [
    "- Ultimately only 4 records, for sake of time I will fill in for First National Bank Alaska which time wise is arguably the most relevant rates wise. Drop the rest until further notice"
   ]
  },
  {
   "cell_type": "code",
   "execution_count": 56,
   "id": "1d72046a-a82b-4a88-bf0d-1a55e6cf271f",
   "metadata": {},
   "outputs": [
    {
     "data": {
      "text/html": [
       "<div>\n",
       "<style scoped>\n",
       "    .dataframe tbody tr th:only-of-type {\n",
       "        vertical-align: middle;\n",
       "    }\n",
       "\n",
       "    .dataframe tbody tr th {\n",
       "        vertical-align: top;\n",
       "    }\n",
       "\n",
       "    .dataframe thead th {\n",
       "        text-align: right;\n",
       "    }\n",
       "</style>\n",
       "<table border=\"1\" class=\"dataframe\">\n",
       "  <thead>\n",
       "    <tr style=\"text-align: right;\">\n",
       "      <th></th>\n",
       "      <th>Agreement_Date</th>\n",
       "      <th>Institution_Name</th>\n",
       "      <th>Plan_Name</th>\n",
       "      <th>Availability_of_Credit_Card_Plan</th>\n",
       "      <th>Location</th>\n",
       "      <th>APR</th>\n",
       "      <th>Index</th>\n",
       "      <th>Variable_Rate_Index</th>\n",
       "      <th>Grace_Period</th>\n",
       "      <th>Annual_Fee</th>\n",
       "      <th>Late_Fee</th>\n",
       "      <th>Telephone_Number_for_Consumers</th>\n",
       "    </tr>\n",
       "  </thead>\n",
       "  <tbody>\n",
       "    <tr>\n",
       "      <th>1478</th>\n",
       "      <td>2017-01-31</td>\n",
       "      <td>First National Bank Alaska</td>\n",
       "      <td>NaN</td>\n",
       "      <td>One State</td>\n",
       "      <td>AK</td>\n",
       "      <td>13.9</td>\n",
       "      <td>F</td>\n",
       "      <td>NaN</td>\n",
       "      <td>25.0</td>\n",
       "      <td>NaN</td>\n",
       "      <td>NaN</td>\n",
       "      <td>(800) 856-4362</td>\n",
       "    </tr>\n",
       "  </tbody>\n",
       "</table>\n",
       "</div>"
      ],
      "text/plain": [
       "     Agreement_Date            Institution_Name Plan_Name  \\\n",
       "1478     2017-01-31  First National Bank Alaska       NaN   \n",
       "\n",
       "     Availability_of_Credit_Card_Plan Location   APR Index  \\\n",
       "1478                        One State       AK  13.9     F   \n",
       "\n",
       "     Variable_Rate_Index  Grace_Period  Annual_Fee  Late_Fee  \\\n",
       "1478                 NaN          25.0         NaN       NaN   \n",
       "\n",
       "     Telephone_Number_for_Consumers  \n",
       "1478                 (800) 856-4362  "
      ]
     },
     "execution_count": 56,
     "metadata": {},
     "output_type": "execute_result"
    }
   ],
   "source": [
    "tccp[(tccp[\"Plan_Name\"].isna()) & (tccp[\"Institution_Name\"] == \"First National Bank Alaska\")]"
   ]
  },
  {
   "cell_type": "code",
   "execution_count": 54,
   "id": "0a3f15e5-6d3f-4c92-849c-839cff1496b8",
   "metadata": {},
   "outputs": [
    {
     "data": {
      "text/plain": [
       "'First National Bank Alaska'"
      ]
     },
     "execution_count": 54,
     "metadata": {},
     "output_type": "execute_result"
    }
   ],
   "source": [
    "tccp.iloc[1478, 1]"
   ]
  },
  {
   "cell_type": "code",
   "execution_count": 58,
   "id": "01017dde-b639-4a0b-9198-7a6457e2dbba",
   "metadata": {},
   "outputs": [],
   "source": [
    "tccp.iloc[1478, 2] = \"MasterCard\""
   ]
  },
  {
   "cell_type": "code",
   "execution_count": 59,
   "id": "58433819-23c7-45b4-a4c2-a20e6982d94a",
   "metadata": {},
   "outputs": [
    {
     "data": {
      "text/html": [
       "<div>\n",
       "<style scoped>\n",
       "    .dataframe tbody tr th:only-of-type {\n",
       "        vertical-align: middle;\n",
       "    }\n",
       "\n",
       "    .dataframe tbody tr th {\n",
       "        vertical-align: top;\n",
       "    }\n",
       "\n",
       "    .dataframe thead th {\n",
       "        text-align: right;\n",
       "    }\n",
       "</style>\n",
       "<table border=\"1\" class=\"dataframe\">\n",
       "  <thead>\n",
       "    <tr style=\"text-align: right;\">\n",
       "      <th></th>\n",
       "      <th>Agreement_Date</th>\n",
       "      <th>Institution_Name</th>\n",
       "      <th>Plan_Name</th>\n",
       "      <th>Availability_of_Credit_Card_Plan</th>\n",
       "      <th>Location</th>\n",
       "      <th>APR</th>\n",
       "      <th>Index</th>\n",
       "      <th>Variable_Rate_Index</th>\n",
       "      <th>Grace_Period</th>\n",
       "      <th>Annual_Fee</th>\n",
       "      <th>Late_Fee</th>\n",
       "      <th>Telephone_Number_for_Consumers</th>\n",
       "    </tr>\n",
       "  </thead>\n",
       "  <tbody>\n",
       "  </tbody>\n",
       "</table>\n",
       "</div>"
      ],
      "text/plain": [
       "Empty DataFrame\n",
       "Columns: [Agreement_Date, Institution_Name, Plan_Name, Availability_of_Credit_Card_Plan, Location, APR, Index, Variable_Rate_Index, Grace_Period, Annual_Fee, Late_Fee, Telephone_Number_for_Consumers]\n",
       "Index: []"
      ]
     },
     "execution_count": 59,
     "metadata": {},
     "output_type": "execute_result"
    }
   ],
   "source": [
    "tccp[(tccp[\"Plan_Name\"].isna()) & (tccp[\"Institution_Name\"] == \"First National Bank Alaska\")]"
   ]
  },
  {
   "cell_type": "markdown",
   "id": "323eef59-039e-4fe0-a63e-e5014f649500",
   "metadata": {},
   "source": [
    "Success! Let's drop the rest for now"
   ]
  },
  {
   "cell_type": "code",
   "execution_count": 81,
   "id": "56dc7c2f-cbef-4d91-9387-e2923f77f699",
   "metadata": {},
   "outputs": [
    {
     "data": {
      "text/html": [
       "<div>\n",
       "<style scoped>\n",
       "    .dataframe tbody tr th:only-of-type {\n",
       "        vertical-align: middle;\n",
       "    }\n",
       "\n",
       "    .dataframe tbody tr th {\n",
       "        vertical-align: top;\n",
       "    }\n",
       "\n",
       "    .dataframe thead th {\n",
       "        text-align: right;\n",
       "    }\n",
       "</style>\n",
       "<table border=\"1\" class=\"dataframe\">\n",
       "  <thead>\n",
       "    <tr style=\"text-align: right;\">\n",
       "      <th></th>\n",
       "      <th>Agreement_Date</th>\n",
       "      <th>Institution_Name</th>\n",
       "      <th>Plan_Name</th>\n",
       "      <th>Availability_of_Credit_Card_Plan</th>\n",
       "      <th>Location</th>\n",
       "      <th>APR</th>\n",
       "      <th>Index</th>\n",
       "      <th>Variable_Rate_Index</th>\n",
       "      <th>Grace_Period</th>\n",
       "      <th>Annual_Fee</th>\n",
       "      <th>Late_Fee</th>\n",
       "      <th>Telephone_Number_for_Consumers</th>\n",
       "    </tr>\n",
       "  </thead>\n",
       "  <tbody>\n",
       "    <tr>\n",
       "      <th>3024</th>\n",
       "      <td>2012-07-31</td>\n",
       "      <td>INTRUST BANK, NATIONAL ASSOCIATION</td>\n",
       "      <td>NaN</td>\n",
       "      <td>National</td>\n",
       "      <td>NaN</td>\n",
       "      <td>10.90</td>\n",
       "      <td>V</td>\n",
       "      <td>Prime</td>\n",
       "      <td>25.0</td>\n",
       "      <td>0.0</td>\n",
       "      <td>35.0</td>\n",
       "      <td>(800) 222-7458</td>\n",
       "    </tr>\n",
       "    <tr>\n",
       "      <th>3856</th>\n",
       "      <td>2009-07-31</td>\n",
       "      <td>HEARTLAND BANK</td>\n",
       "      <td>NaN</td>\n",
       "      <td>Single State</td>\n",
       "      <td>OH</td>\n",
       "      <td>11.65</td>\n",
       "      <td>V</td>\n",
       "      <td>Prime</td>\n",
       "      <td>25.0</td>\n",
       "      <td>18.0</td>\n",
       "      <td>NaN</td>\n",
       "      <td>(800) 697-0049</td>\n",
       "    </tr>\n",
       "    <tr>\n",
       "      <th>7068</th>\n",
       "      <td>1998-01-31</td>\n",
       "      <td>FIRST OF AMERICA BANK, NATIONAL ASSOCIATION</td>\n",
       "      <td>NaN</td>\n",
       "      <td>National</td>\n",
       "      <td>N</td>\n",
       "      <td>15.40</td>\n",
       "      <td>V</td>\n",
       "      <td>Prime</td>\n",
       "      <td>25.0</td>\n",
       "      <td>0.0</td>\n",
       "      <td>NaN</td>\n",
       "      <td>(800) 423-3883</td>\n",
       "    </tr>\n",
       "  </tbody>\n",
       "</table>\n",
       "</div>"
      ],
      "text/plain": [
       "     Agreement_Date                             Institution_Name Plan_Name  \\\n",
       "3024     2012-07-31           INTRUST BANK, NATIONAL ASSOCIATION       NaN   \n",
       "3856     2009-07-31                               HEARTLAND BANK       NaN   \n",
       "7068     1998-01-31  FIRST OF AMERICA BANK, NATIONAL ASSOCIATION       NaN   \n",
       "\n",
       "     Availability_of_Credit_Card_Plan Location    APR Index  \\\n",
       "3024                         National      NaN  10.90     V   \n",
       "3856                     Single State       OH  11.65     V   \n",
       "7068                         National        N  15.40     V   \n",
       "\n",
       "     Variable_Rate_Index  Grace_Period  Annual_Fee  Late_Fee  \\\n",
       "3024               Prime          25.0         0.0      35.0   \n",
       "3856               Prime          25.0        18.0       NaN   \n",
       "7068               Prime          25.0         0.0       NaN   \n",
       "\n",
       "     Telephone_Number_for_Consumers  \n",
       "3024                 (800) 222-7458  \n",
       "3856                 (800) 697-0049  \n",
       "7068                 (800) 423-3883  "
      ]
     },
     "execution_count": 81,
     "metadata": {},
     "output_type": "execute_result"
    }
   ],
   "source": [
    "tccp[tccp[\"Plan_Name\"].isna()]"
   ]
  },
  {
   "cell_type": "code",
   "execution_count": 87,
   "id": "0823eee5-b2fc-4c2d-89a9-f7ba13dccc7d",
   "metadata": {},
   "outputs": [],
   "source": [
    "rows_to_drop = [index for index in tccp[tccp[\"Plan_Name\"].isna()].index]"
   ]
  },
  {
   "cell_type": "code",
   "execution_count": 89,
   "id": "c815e176-a27d-4373-933c-a46d50566de6",
   "metadata": {},
   "outputs": [
    {
     "data": {
      "text/plain": [
       "9556"
      ]
     },
     "execution_count": 89,
     "metadata": {},
     "output_type": "execute_result"
    }
   ],
   "source": [
    "tccp.shape[0]"
   ]
  },
  {
   "cell_type": "code",
   "execution_count": 90,
   "id": "e1b22e54-7282-4d49-a9dd-f7ca89c341d6",
   "metadata": {},
   "outputs": [],
   "source": [
    "tccp.drop(index=rows_to_drop,inplace=True)"
   ]
  },
  {
   "cell_type": "code",
   "execution_count": 91,
   "id": "872cf7ee-0187-496a-adf1-7b9fe42e5550",
   "metadata": {},
   "outputs": [
    {
     "data": {
      "text/plain": [
       "9553"
      ]
     },
     "execution_count": 91,
     "metadata": {},
     "output_type": "execute_result"
    }
   ],
   "source": [
    "tccp.shape[0]"
   ]
  },
  {
   "cell_type": "code",
   "execution_count": 92,
   "id": "d9f4209c-aa9a-4b93-b81c-e7521fb841c4",
   "metadata": {},
   "outputs": [
    {
     "data": {
      "text/html": [
       "<div>\n",
       "<style scoped>\n",
       "    .dataframe tbody tr th:only-of-type {\n",
       "        vertical-align: middle;\n",
       "    }\n",
       "\n",
       "    .dataframe tbody tr th {\n",
       "        vertical-align: top;\n",
       "    }\n",
       "\n",
       "    .dataframe thead th {\n",
       "        text-align: right;\n",
       "    }\n",
       "</style>\n",
       "<table border=\"1\" class=\"dataframe\">\n",
       "  <thead>\n",
       "    <tr style=\"text-align: right;\">\n",
       "      <th></th>\n",
       "      <th>Agreement_Date</th>\n",
       "      <th>Institution_Name</th>\n",
       "      <th>Plan_Name</th>\n",
       "      <th>Availability_of_Credit_Card_Plan</th>\n",
       "      <th>Location</th>\n",
       "      <th>APR</th>\n",
       "      <th>Index</th>\n",
       "      <th>Variable_Rate_Index</th>\n",
       "      <th>Grace_Period</th>\n",
       "      <th>Annual_Fee</th>\n",
       "      <th>Late_Fee</th>\n",
       "      <th>Telephone_Number_for_Consumers</th>\n",
       "    </tr>\n",
       "  </thead>\n",
       "  <tbody>\n",
       "  </tbody>\n",
       "</table>\n",
       "</div>"
      ],
      "text/plain": [
       "Empty DataFrame\n",
       "Columns: [Agreement_Date, Institution_Name, Plan_Name, Availability_of_Credit_Card_Plan, Location, APR, Index, Variable_Rate_Index, Grace_Period, Annual_Fee, Late_Fee, Telephone_Number_for_Consumers]\n",
       "Index: []"
      ]
     },
     "execution_count": 92,
     "metadata": {},
     "output_type": "execute_result"
    }
   ],
   "source": [
    "tccp[tccp[\"Plan_Name\"].isna()]"
   ]
  },
  {
   "cell_type": "code",
   "execution_count": 94,
   "id": "eae6cf0c-e754-495c-abcc-55a5a58ca772",
   "metadata": {},
   "outputs": [],
   "source": [
    "total_null_rows_dropped += 3"
   ]
  },
  {
   "cell_type": "markdown",
   "id": "1e433f0c-f22d-4ea9-8d19-751ce55a8487",
   "metadata": {},
   "source": [
    "<a id=\"available\"></a>"
   ]
  },
  {
   "cell_type": "markdown",
   "id": "d38fe9e6-78bd-4b20-8eed-91b2e6db5259",
   "metadata": {},
   "source": [
    "---\n",
    "## Availability_of_Credit_Card_Plan\n",
    "\n",
    "\n",
    "----"
   ]
  },
  {
   "cell_type": "code",
   "execution_count": 97,
   "id": "c795199c-5a4e-40c1-986e-16e12bd0f0b9",
   "metadata": {},
   "outputs": [
    {
     "data": {
      "text/html": [
       "<div>\n",
       "<style scoped>\n",
       "    .dataframe tbody tr th:only-of-type {\n",
       "        vertical-align: middle;\n",
       "    }\n",
       "\n",
       "    .dataframe tbody tr th {\n",
       "        vertical-align: top;\n",
       "    }\n",
       "\n",
       "    .dataframe thead th {\n",
       "        text-align: right;\n",
       "    }\n",
       "</style>\n",
       "<table border=\"1\" class=\"dataframe\">\n",
       "  <thead>\n",
       "    <tr style=\"text-align: right;\">\n",
       "      <th></th>\n",
       "      <th>Agreement_Date</th>\n",
       "      <th>Institution_Name</th>\n",
       "      <th>Plan_Name</th>\n",
       "      <th>Availability_of_Credit_Card_Plan</th>\n",
       "      <th>Location</th>\n",
       "      <th>APR</th>\n",
       "      <th>Index</th>\n",
       "      <th>Variable_Rate_Index</th>\n",
       "      <th>Grace_Period</th>\n",
       "      <th>Annual_Fee</th>\n",
       "      <th>Late_Fee</th>\n",
       "      <th>Telephone_Number_for_Consumers</th>\n",
       "    </tr>\n",
       "  </thead>\n",
       "  <tbody>\n",
       "    <tr>\n",
       "      <th>1644</th>\n",
       "      <td>2016-07-31</td>\n",
       "      <td>Northwest Bank</td>\n",
       "      <td>Northwest Loyalty Visa</td>\n",
       "      <td>NaN</td>\n",
       "      <td>MD, NY, OH, PA</td>\n",
       "      <td>7.99</td>\n",
       "      <td>V</td>\n",
       "      <td>Prime</td>\n",
       "      <td>25.0</td>\n",
       "      <td>0.0</td>\n",
       "      <td>0.0</td>\n",
       "      <td>NaN</td>\n",
       "    </tr>\n",
       "    <tr>\n",
       "      <th>1807</th>\n",
       "      <td>2016-01-31</td>\n",
       "      <td>Northwest Bank</td>\n",
       "      <td>Northwest Loyalty Visa</td>\n",
       "      <td>NaN</td>\n",
       "      <td>MD, NY, OH, PA</td>\n",
       "      <td>7.74</td>\n",
       "      <td>V</td>\n",
       "      <td>Prime</td>\n",
       "      <td>25.0</td>\n",
       "      <td>0.0</td>\n",
       "      <td>0.0</td>\n",
       "      <td>NaN</td>\n",
       "    </tr>\n",
       "    <tr>\n",
       "      <th>1816</th>\n",
       "      <td>2016-01-31</td>\n",
       "      <td>Michigan State University Federal Credit Union</td>\n",
       "      <td>Platinum VISA</td>\n",
       "      <td>NaN</td>\n",
       "      <td>National</td>\n",
       "      <td>12.90</td>\n",
       "      <td>F</td>\n",
       "      <td>NaN</td>\n",
       "      <td>25.0</td>\n",
       "      <td>0.0</td>\n",
       "      <td>15.0</td>\n",
       "      <td>(800) 678-6967</td>\n",
       "    </tr>\n",
       "    <tr>\n",
       "      <th>1821</th>\n",
       "      <td>2016-01-31</td>\n",
       "      <td>Los Alamos National Bank</td>\n",
       "      <td>Visa</td>\n",
       "      <td>NaN</td>\n",
       "      <td>National</td>\n",
       "      <td>10.50</td>\n",
       "      <td>F</td>\n",
       "      <td>NaN</td>\n",
       "      <td>25.0</td>\n",
       "      <td>0.0</td>\n",
       "      <td>25.0</td>\n",
       "      <td>(800) 525-9634</td>\n",
       "    </tr>\n",
       "    <tr>\n",
       "      <th>1856</th>\n",
       "      <td>2016-01-31</td>\n",
       "      <td>Farmers &amp; Merchants State Bank</td>\n",
       "      <td>MasterCard</td>\n",
       "      <td>NaN</td>\n",
       "      <td>National</td>\n",
       "      <td>15.99</td>\n",
       "      <td>F</td>\n",
       "      <td>NaN</td>\n",
       "      <td>25.0</td>\n",
       "      <td>NaN</td>\n",
       "      <td>NaN</td>\n",
       "      <td>(800) 451-7843</td>\n",
       "    </tr>\n",
       "  </tbody>\n",
       "</table>\n",
       "</div>"
      ],
      "text/plain": [
       "     Agreement_Date                                Institution_Name  \\\n",
       "1644     2016-07-31                                  Northwest Bank   \n",
       "1807     2016-01-31                                  Northwest Bank   \n",
       "1816     2016-01-31  Michigan State University Federal Credit Union   \n",
       "1821     2016-01-31                        Los Alamos National Bank   \n",
       "1856     2016-01-31                  Farmers & Merchants State Bank   \n",
       "\n",
       "                   Plan_Name Availability_of_Credit_Card_Plan        Location  \\\n",
       "1644  Northwest Loyalty Visa                              NaN  MD, NY, OH, PA   \n",
       "1807  Northwest Loyalty Visa                              NaN  MD, NY, OH, PA   \n",
       "1816           Platinum VISA                              NaN        National   \n",
       "1821                    Visa                              NaN        National   \n",
       "1856              MasterCard                              NaN        National   \n",
       "\n",
       "        APR Index Variable_Rate_Index  Grace_Period  Annual_Fee  Late_Fee  \\\n",
       "1644   7.99     V               Prime          25.0         0.0       0.0   \n",
       "1807   7.74     V               Prime          25.0         0.0       0.0   \n",
       "1816  12.90     F                 NaN          25.0         0.0      15.0   \n",
       "1821  10.50     F                 NaN          25.0         0.0      25.0   \n",
       "1856  15.99     F                 NaN          25.0         NaN       NaN   \n",
       "\n",
       "     Telephone_Number_for_Consumers  \n",
       "1644                            NaN  \n",
       "1807                            NaN  \n",
       "1816                 (800) 678-6967  \n",
       "1821                 (800) 525-9634  \n",
       "1856                 (800) 451-7843  "
      ]
     },
     "execution_count": 97,
     "metadata": {},
     "output_type": "execute_result"
    }
   ],
   "source": [
    "tccp[tccp[\"Availability_of_Credit_Card_Plan\"].isna()]"
   ]
  },
  {
   "cell_type": "markdown",
   "id": "0dbf70c8-7004-404c-b89d-40b907c279f8",
   "metadata": {},
   "source": [
    "Simple Imputation here:\n",
    "- Location can be null when the row is available nationally, in this instance our focus column is NaN but according to the Data Dictionary can also be National as an option.\n",
    "- We'll check for other records of the other two to see if they say regional or other options to also impute\n",
    "    - As seen below, safe assumption to impute regional based on other similar records"
   ]
  },
  {
   "cell_type": "code",
   "execution_count": 101,
   "id": "faeb0565-2152-4363-8716-5675ff125519",
   "metadata": {},
   "outputs": [],
   "source": [
    "rows_to_alter = [index for index in tccp[(tccp[\"Availability_of_Credit_Card_Plan\"].isna()) & (tccp[\"Institution_Name\"] != \"Northwest Bank\")].index]"
   ]
  },
  {
   "cell_type": "code",
   "execution_count": 105,
   "id": "9e4245a2-40cf-4d61-b3e9-2a182ef896c7",
   "metadata": {},
   "outputs": [],
   "source": [
    "tccp.loc[rows_to_alter, \"Availability_of_Credit_Card_Plan\"] = \"National\""
   ]
  },
  {
   "cell_type": "code",
   "execution_count": 118,
   "id": "c040dc32-a712-4055-ae2b-3c72c0727ceb",
   "metadata": {},
   "outputs": [],
   "source": [
    "# accidentally reran after the fact\n",
    "# tccp[tccp[\"Availability_of_Credit_Card_Plan\"].isna()].index"
   ]
  },
  {
   "cell_type": "code",
   "execution_count": 109,
   "id": "e8746c52-debf-4c60-a42f-5f8fe3efbe7d",
   "metadata": {},
   "outputs": [
    {
     "data": {
      "text/html": [
       "<div>\n",
       "<style scoped>\n",
       "    .dataframe tbody tr th:only-of-type {\n",
       "        vertical-align: middle;\n",
       "    }\n",
       "\n",
       "    .dataframe tbody tr th {\n",
       "        vertical-align: top;\n",
       "    }\n",
       "\n",
       "    .dataframe thead th {\n",
       "        text-align: right;\n",
       "    }\n",
       "</style>\n",
       "<table border=\"1\" class=\"dataframe\">\n",
       "  <thead>\n",
       "    <tr style=\"text-align: right;\">\n",
       "      <th></th>\n",
       "      <th>Agreement_Date</th>\n",
       "      <th>Institution_Name</th>\n",
       "      <th>Plan_Name</th>\n",
       "      <th>Availability_of_Credit_Card_Plan</th>\n",
       "      <th>Location</th>\n",
       "      <th>APR</th>\n",
       "      <th>Index</th>\n",
       "      <th>Variable_Rate_Index</th>\n",
       "      <th>Grace_Period</th>\n",
       "      <th>Annual_Fee</th>\n",
       "      <th>Late_Fee</th>\n",
       "      <th>Telephone_Number_for_Consumers</th>\n",
       "    </tr>\n",
       "  </thead>\n",
       "  <tbody>\n",
       "    <tr>\n",
       "      <th>1270</th>\n",
       "      <td>2018-01-31</td>\n",
       "      <td>Northwest Bank</td>\n",
       "      <td>Northwest Loyalty Visa</td>\n",
       "      <td>Regional</td>\n",
       "      <td>NY, OH, PA</td>\n",
       "      <td>8.99</td>\n",
       "      <td>V</td>\n",
       "      <td>Prime</td>\n",
       "      <td>0.0</td>\n",
       "      <td>25.0</td>\n",
       "      <td>35.0</td>\n",
       "      <td>(877) 300-5768</td>\n",
       "    </tr>\n",
       "    <tr>\n",
       "      <th>1360</th>\n",
       "      <td>2017-07-31</td>\n",
       "      <td>Northwest Bank</td>\n",
       "      <td>Northwest Loyalty Visa</td>\n",
       "      <td>Regional</td>\n",
       "      <td>NY, OH, PA</td>\n",
       "      <td>8.74</td>\n",
       "      <td>V</td>\n",
       "      <td>Prime</td>\n",
       "      <td>25.0</td>\n",
       "      <td>0.0</td>\n",
       "      <td>35.0</td>\n",
       "      <td>(877) 300-5768</td>\n",
       "    </tr>\n",
       "    <tr>\n",
       "      <th>1450</th>\n",
       "      <td>2017-01-31</td>\n",
       "      <td>Northwest Bank</td>\n",
       "      <td>Northwest Loyalty Visa</td>\n",
       "      <td>Regional</td>\n",
       "      <td>MD, NY, OH, PA</td>\n",
       "      <td>8.24</td>\n",
       "      <td>V</td>\n",
       "      <td>Prime</td>\n",
       "      <td>25.0</td>\n",
       "      <td>0.0</td>\n",
       "      <td>0.0</td>\n",
       "      <td>NaN</td>\n",
       "    </tr>\n",
       "    <tr>\n",
       "      <th>1644</th>\n",
       "      <td>2016-07-31</td>\n",
       "      <td>Northwest Bank</td>\n",
       "      <td>Northwest Loyalty Visa</td>\n",
       "      <td>NaN</td>\n",
       "      <td>MD, NY, OH, PA</td>\n",
       "      <td>7.99</td>\n",
       "      <td>V</td>\n",
       "      <td>Prime</td>\n",
       "      <td>25.0</td>\n",
       "      <td>0.0</td>\n",
       "      <td>0.0</td>\n",
       "      <td>NaN</td>\n",
       "    </tr>\n",
       "    <tr>\n",
       "      <th>1807</th>\n",
       "      <td>2016-01-31</td>\n",
       "      <td>Northwest Bank</td>\n",
       "      <td>Northwest Loyalty Visa</td>\n",
       "      <td>NaN</td>\n",
       "      <td>MD, NY, OH, PA</td>\n",
       "      <td>7.74</td>\n",
       "      <td>V</td>\n",
       "      <td>Prime</td>\n",
       "      <td>25.0</td>\n",
       "      <td>0.0</td>\n",
       "      <td>0.0</td>\n",
       "      <td>NaN</td>\n",
       "    </tr>\n",
       "  </tbody>\n",
       "</table>\n",
       "</div>"
      ],
      "text/plain": [
       "     Agreement_Date Institution_Name               Plan_Name  \\\n",
       "1270     2018-01-31   Northwest Bank  Northwest Loyalty Visa   \n",
       "1360     2017-07-31   Northwest Bank  Northwest Loyalty Visa   \n",
       "1450     2017-01-31   Northwest Bank  Northwest Loyalty Visa   \n",
       "1644     2016-07-31   Northwest Bank  Northwest Loyalty Visa   \n",
       "1807     2016-01-31   Northwest Bank  Northwest Loyalty Visa   \n",
       "\n",
       "     Availability_of_Credit_Card_Plan        Location   APR Index  \\\n",
       "1270                         Regional      NY, OH, PA  8.99     V   \n",
       "1360                         Regional      NY, OH, PA  8.74     V   \n",
       "1450                         Regional  MD, NY, OH, PA  8.24     V   \n",
       "1644                              NaN  MD, NY, OH, PA  7.99     V   \n",
       "1807                              NaN  MD, NY, OH, PA  7.74     V   \n",
       "\n",
       "     Variable_Rate_Index  Grace_Period  Annual_Fee  Late_Fee  \\\n",
       "1270               Prime           0.0        25.0      35.0   \n",
       "1360               Prime          25.0         0.0      35.0   \n",
       "1450               Prime          25.0         0.0       0.0   \n",
       "1644               Prime          25.0         0.0       0.0   \n",
       "1807               Prime          25.0         0.0       0.0   \n",
       "\n",
       "     Telephone_Number_for_Consumers  \n",
       "1270                 (877) 300-5768  \n",
       "1360                 (877) 300-5768  \n",
       "1450                            NaN  \n",
       "1644                            NaN  \n",
       "1807                            NaN  "
      ]
     },
     "execution_count": 109,
     "metadata": {},
     "output_type": "execute_result"
    }
   ],
   "source": [
    "tccp[(tccp[\"Institution_Name\"]==\"Northwest Bank\") & (tccp[\"Plan_Name\"]==\"Northwest Loyalty Visa\")]"
   ]
  },
  {
   "cell_type": "code",
   "execution_count": 110,
   "id": "c86adbe1-6dc9-4738-a1fb-3df32660ef15",
   "metadata": {},
   "outputs": [],
   "source": [
    "rows_to_alter = [index for index in tccp[tccp[\"Availability_of_Credit_Card_Plan\"].isna()].index]"
   ]
  },
  {
   "cell_type": "code",
   "execution_count": 112,
   "id": "587b40c4-52c9-47b3-840b-7c718e7f5d1c",
   "metadata": {},
   "outputs": [
    {
     "data": {
      "text/plain": [
       "[1644, 1807]"
      ]
     },
     "execution_count": 112,
     "metadata": {},
     "output_type": "execute_result"
    }
   ],
   "source": [
    "rows_to_alter"
   ]
  },
  {
   "cell_type": "code",
   "execution_count": 113,
   "id": "c7fd518f-ac58-4bba-a1d9-bf388774ddd9",
   "metadata": {},
   "outputs": [],
   "source": [
    "tccp.loc[rows_to_alter, \"Availability_of_Credit_Card_Plan\"] = \"Regional\""
   ]
  },
  {
   "cell_type": "code",
   "execution_count": 114,
   "id": "68760800-9b11-4bf1-9d49-d683c5a660d2",
   "metadata": {},
   "outputs": [
    {
     "data": {
      "text/html": [
       "<div>\n",
       "<style scoped>\n",
       "    .dataframe tbody tr th:only-of-type {\n",
       "        vertical-align: middle;\n",
       "    }\n",
       "\n",
       "    .dataframe tbody tr th {\n",
       "        vertical-align: top;\n",
       "    }\n",
       "\n",
       "    .dataframe thead th {\n",
       "        text-align: right;\n",
       "    }\n",
       "</style>\n",
       "<table border=\"1\" class=\"dataframe\">\n",
       "  <thead>\n",
       "    <tr style=\"text-align: right;\">\n",
       "      <th></th>\n",
       "      <th>Agreement_Date</th>\n",
       "      <th>Institution_Name</th>\n",
       "      <th>Plan_Name</th>\n",
       "      <th>Availability_of_Credit_Card_Plan</th>\n",
       "      <th>Location</th>\n",
       "      <th>APR</th>\n",
       "      <th>Index</th>\n",
       "      <th>Variable_Rate_Index</th>\n",
       "      <th>Grace_Period</th>\n",
       "      <th>Annual_Fee</th>\n",
       "      <th>Late_Fee</th>\n",
       "      <th>Telephone_Number_for_Consumers</th>\n",
       "    </tr>\n",
       "  </thead>\n",
       "  <tbody>\n",
       "  </tbody>\n",
       "</table>\n",
       "</div>"
      ],
      "text/plain": [
       "Empty DataFrame\n",
       "Columns: [Agreement_Date, Institution_Name, Plan_Name, Availability_of_Credit_Card_Plan, Location, APR, Index, Variable_Rate_Index, Grace_Period, Annual_Fee, Late_Fee, Telephone_Number_for_Consumers]\n",
       "Index: []"
      ]
     },
     "execution_count": 114,
     "metadata": {},
     "output_type": "execute_result"
    }
   ],
   "source": [
    "tccp[tccp[\"Availability_of_Credit_Card_Plan\"].isna()]"
   ]
  },
  {
   "cell_type": "code",
   "execution_count": 115,
   "id": "5b57b93d-9e3c-4c0c-b667-7d4f9987fcbd",
   "metadata": {},
   "outputs": [
    {
     "data": {
      "text/plain": [
       "Agreement_Date                         0\n",
       "Institution_Name                       0\n",
       "Plan_Name                              0\n",
       "Availability_of_Credit_Card_Plan       0\n",
       "Location                             800\n",
       "APR                                   34\n",
       "Index                                  2\n",
       "Variable_Rate_Index                 3769\n",
       "Grace_Period                          82\n",
       "Annual_Fee                          1545\n",
       "Late_Fee                            7014\n",
       "Telephone_Number_for_Consumers        82\n",
       "dtype: int64"
      ]
     },
     "execution_count": 115,
     "metadata": {},
     "output_type": "execute_result"
    }
   ],
   "source": [
    "tccp.isnull().sum()"
   ]
  },
  {
   "cell_type": "markdown",
   "id": "8eb6bf5d-f202-403d-8e45-a2db34255690",
   "metadata": {},
   "source": [
    "#### The below is after initial clean step, index is reset after the initial path through"
   ]
  },
  {
   "cell_type": "code",
   "execution_count": 311,
   "id": "10c3dba3-9477-47e9-ba64-1f6960acea50",
   "metadata": {},
   "outputs": [
    {
     "data": {
      "text/plain": [
       "array(['Regional', 'One State', 'National', 'Single State', '-', '#REF!'],\n",
       "      dtype=object)"
      ]
     },
     "execution_count": 311,
     "metadata": {},
     "output_type": "execute_result"
    }
   ],
   "source": [
    "tccp['Availability_of_Credit_Card_Plan'].unique()"
   ]
  },
  {
   "cell_type": "code",
   "execution_count": 318,
   "id": "581edad0-d25f-49b6-b320-609b5ef2dc9a",
   "metadata": {},
   "outputs": [
    {
     "data": {
      "text/html": [
       "<div>\n",
       "<style scoped>\n",
       "    .dataframe tbody tr th:only-of-type {\n",
       "        vertical-align: middle;\n",
       "    }\n",
       "\n",
       "    .dataframe tbody tr th {\n",
       "        vertical-align: top;\n",
       "    }\n",
       "\n",
       "    .dataframe thead th {\n",
       "        text-align: right;\n",
       "    }\n",
       "</style>\n",
       "<table border=\"1\" class=\"dataframe\">\n",
       "  <thead>\n",
       "    <tr style=\"text-align: right;\">\n",
       "      <th></th>\n",
       "      <th>Agreement_Date</th>\n",
       "      <th>Institution_Name</th>\n",
       "      <th>Plan_Name</th>\n",
       "      <th>Availability_of_Credit_Card_Plan</th>\n",
       "      <th>Location</th>\n",
       "      <th>APR</th>\n",
       "      <th>Index</th>\n",
       "      <th>Variable_Rate_Index</th>\n",
       "      <th>Grace_Period</th>\n",
       "      <th>Annual_Fee</th>\n",
       "      <th>Late_Fee</th>\n",
       "      <th>Telephone_Number_for_Consumers</th>\n",
       "    </tr>\n",
       "  </thead>\n",
       "  <tbody>\n",
       "    <tr>\n",
       "      <th>2697</th>\n",
       "      <td>2013-01-31</td>\n",
       "      <td>KENTUCKY BANK</td>\n",
       "      <td>VISA</td>\n",
       "      <td>#REF!</td>\n",
       "      <td>KY</td>\n",
       "      <td>11.15</td>\n",
       "      <td>V</td>\n",
       "      <td>Prime</td>\n",
       "      <td>25.0</td>\n",
       "      <td>0.0</td>\n",
       "      <td>20.0</td>\n",
       "      <td>(800) 467-1939</td>\n",
       "    </tr>\n",
       "  </tbody>\n",
       "</table>\n",
       "</div>"
      ],
      "text/plain": [
       "     Agreement_Date Institution_Name Plan_Name  \\\n",
       "2697     2013-01-31    KENTUCKY BANK      VISA   \n",
       "\n",
       "     Availability_of_Credit_Card_Plan Location    APR Index  \\\n",
       "2697                            #REF!       KY  11.15     V   \n",
       "\n",
       "     Variable_Rate_Index  Grace_Period  Annual_Fee  Late_Fee  \\\n",
       "2697               Prime          25.0         0.0      20.0   \n",
       "\n",
       "     Telephone_Number_for_Consumers  \n",
       "2697                 (800) 467-1939  "
      ]
     },
     "execution_count": 318,
     "metadata": {},
     "output_type": "execute_result"
    }
   ],
   "source": [
    "tccp[tccp['Availability_of_Credit_Card_Plan']=='#REF!']"
   ]
  },
  {
   "cell_type": "code",
   "execution_count": 322,
   "id": "99da6a81-3981-4cb4-8bab-5f8fa2218044",
   "metadata": {},
   "outputs": [
    {
     "data": {
      "text/plain": [
       "'#REF!'"
      ]
     },
     "execution_count": 322,
     "metadata": {},
     "output_type": "execute_result"
    }
   ],
   "source": [
    "tccp.iloc[2697]['Availability_of_Credit_Card_Plan']"
   ]
  },
  {
   "cell_type": "code",
   "execution_count": 324,
   "id": "21a9911b-d0b9-43b8-bb77-fe19fe84a74a",
   "metadata": {},
   "outputs": [],
   "source": [
    "tccp.loc[[2697],['Availability_of_Credit_Card_Plan']] = \"Single State\""
   ]
  },
  {
   "cell_type": "code",
   "execution_count": 326,
   "id": "e3638228-7319-4fe3-b95d-007698dd3552",
   "metadata": {},
   "outputs": [],
   "source": [
    "rows_to_altar = tccp[tccp['Availability_of_Credit_Card_Plan']=='Single State'].index"
   ]
  },
  {
   "cell_type": "code",
   "execution_count": 329,
   "id": "2da9db15-ff36-490a-8a5e-a689b51e9254",
   "metadata": {},
   "outputs": [],
   "source": [
    "tccp.loc[rows_to_altar,['Availability_of_Credit_Card_Plan']] = \"One State\""
   ]
  },
  {
   "cell_type": "code",
   "execution_count": 330,
   "id": "38840373-b051-4f30-b74a-44b1c2e37583",
   "metadata": {},
   "outputs": [
    {
     "data": {
      "text/plain": [
       "array(['Regional', 'One State', 'National', '-'], dtype=object)"
      ]
     },
     "execution_count": 330,
     "metadata": {},
     "output_type": "execute_result"
    }
   ],
   "source": [
    "tccp['Availability_of_Credit_Card_Plan'].unique()"
   ]
  },
  {
   "cell_type": "markdown",
   "id": "d56ab480-e6d8-406c-911c-33fd0b0948c3",
   "metadata": {},
   "source": [
    "<a id=\"location\"></a>"
   ]
  },
  {
   "cell_type": "markdown",
   "id": "04c1a505-6b06-4fb5-b188-b722213d69f0",
   "metadata": {},
   "source": [
    "---\n",
    "## Location\n",
    "---"
   ]
  },
  {
   "cell_type": "code",
   "execution_count": 119,
   "id": "13925c40-f2ec-467b-932d-9331ae68404f",
   "metadata": {},
   "outputs": [
    {
     "data": {
      "text/plain": [
       "(4356, 12)"
      ]
     },
     "execution_count": 119,
     "metadata": {},
     "output_type": "execute_result"
    }
   ],
   "source": [
    "tccp[tccp[\"Availability_of_Credit_Card_Plan\"]==\"National\"].shape"
   ]
  },
  {
   "cell_type": "markdown",
   "id": "b84ea135-6cc6-4f05-9172-497d0f54e4ac",
   "metadata": {},
   "source": [
    "- okay there are 4356 nationally avaialble plans, and 800 null Locations (which again, can be null if available nationally.\n",
    "- quick check to see if all 800 are included and a simple imputation and we can move on\n",
    "    - RIP 471\n",
    "    - additional dive to see other potential value imputations"
   ]
  },
  {
   "cell_type": "code",
   "execution_count": 121,
   "id": "56f67b30-50aa-40c8-95fc-186fb113b510",
   "metadata": {},
   "outputs": [
    {
     "data": {
      "text/plain": [
       "(471, 12)"
      ]
     },
     "execution_count": 121,
     "metadata": {},
     "output_type": "execute_result"
    }
   ],
   "source": [
    "tccp[(tccp[\"Availability_of_Credit_Card_Plan\"]==\"National\") & (tccp[\"Location\"].isna())].shape"
   ]
  },
  {
   "cell_type": "code",
   "execution_count": 122,
   "id": "2dfa1f42-2620-4f55-965c-181e1e075994",
   "metadata": {},
   "outputs": [],
   "source": [
    "rows_to_alter = [index for index in tccp[(tccp[\"Availability_of_Credit_Card_Plan\"]==\"National\") & (tccp[\"Location\"].isna())].index]"
   ]
  },
  {
   "cell_type": "code",
   "execution_count": 125,
   "id": "54084a3c-50f6-4f18-87c1-c8fdd483f60d",
   "metadata": {
    "tags": []
   },
   "outputs": [
    {
     "data": {
      "text/plain": [
       "471"
      ]
     },
     "execution_count": 125,
     "metadata": {},
     "output_type": "execute_result"
    }
   ],
   "source": [
    "len(rows_to_alter)"
   ]
  },
  {
   "cell_type": "code",
   "execution_count": 126,
   "id": "df612293-40f4-429a-a537-eece80050f51",
   "metadata": {},
   "outputs": [],
   "source": [
    "tccp.loc[rows_to_alter, \"Location\"] = \"National\""
   ]
  },
  {
   "cell_type": "code",
   "execution_count": 127,
   "id": "6090bba8-2ee5-41b4-87f9-079a03940259",
   "metadata": {},
   "outputs": [
    {
     "data": {
      "text/plain": [
       "(329, 12)"
      ]
     },
     "execution_count": 127,
     "metadata": {},
     "output_type": "execute_result"
    }
   ],
   "source": [
    "tccp[tccp[\"Location\"].isna()].shape"
   ]
  },
  {
   "cell_type": "code",
   "execution_count": 129,
   "id": "72d8739f-bab7-4147-83e6-ff94d6c33710",
   "metadata": {},
   "outputs": [
    {
     "data": {
      "text/plain": [
       "329"
      ]
     },
     "execution_count": 129,
     "metadata": {},
     "output_type": "execute_result"
    }
   ],
   "source": [
    "len(tccp[tccp[\"Location\"].isna()].index)"
   ]
  },
  {
   "cell_type": "code",
   "execution_count": 131,
   "id": "4c3f61ef-1cca-4702-bc84-1deee7254f52",
   "metadata": {},
   "outputs": [
    {
     "data": {
      "text/plain": [
       "array(['Regional', 'One State'], dtype=object)"
      ]
     },
     "execution_count": 131,
     "metadata": {},
     "output_type": "execute_result"
    }
   ],
   "source": [
    "tccp.loc[tccp[tccp[\"Location\"].isna()].index, \"Availability_of_Credit_Card_Plan\"].unique()"
   ]
  },
  {
   "cell_type": "code",
   "execution_count": 140,
   "id": "66f3c3d9-460e-4456-b771-119dbc206667",
   "metadata": {},
   "outputs": [],
   "source": [
    "num_rows = tccp[(tccp[\"Availability_of_Credit_Card_Plan\"]==\"Regional\") & (tccp[\"Location\"].isna())].shape[0]"
   ]
  },
  {
   "cell_type": "code",
   "execution_count": 141,
   "id": "d2347916-7b3c-4761-9761-6991f111c60a",
   "metadata": {},
   "outputs": [
    {
     "data": {
      "text/plain": [
       "2.208730241808856"
      ]
     },
     "execution_count": 141,
     "metadata": {},
     "output_type": "execute_result"
    }
   ],
   "source": [
    "num_rows/tccp.shape[0]*100"
   ]
  },
  {
   "cell_type": "markdown",
   "id": "aebf8184-fcfd-4aa3-bcbc-145bee125d40",
   "metadata": {},
   "source": [
    "- 211 rows is 2.2 % of total rows in our current set\n",
    "- There's no simple path forward for finding the states for the plans, but thinking down the road, the states available I think will be nice to have and to save time let's drop for now and we can return later if need be to add them back\n",
    "- Additionally one way to keep them to iterate over the unique combinations of Institution, Plan, and Region, and fill in values where location is not null"
   ]
  },
  {
   "cell_type": "code",
   "execution_count": 189,
   "id": "bc07df67-efd0-46cd-b12b-2a22785839e3",
   "metadata": {},
   "outputs": [],
   "source": [
    "# Group the DataFrame by the specified columns\n",
    "grouped = tccp.groupby([\"Institution_Name\", \"Plan_Name\", \"Availability_of_Credit_Card_Plan\"])"
   ]
  },
  {
   "cell_type": "code",
   "execution_count": 190,
   "id": "c7a9f946-e1ae-4687-8cd2-b203d1323110",
   "metadata": {},
   "outputs": [],
   "source": [
    "# Define a function to fill null values within each group with the first non-null value\n",
    "def fillna_group(group):\n",
    "    group[\"Location\"] = group[\"Location\"].fillna(method=\"ffill\")\n",
    "    return group"
   ]
  },
  {
   "cell_type": "code",
   "execution_count": 191,
   "id": "87ef74f1-2da3-4749-9db0-6baf4e1b3f15",
   "metadata": {},
   "outputs": [],
   "source": [
    "tccp = grouped.apply(fillna_group)"
   ]
  },
  {
   "cell_type": "markdown",
   "id": "03a83e2b-f299-4556-8307-4cd351ac8ebc",
   "metadata": {},
   "source": [
    "We reduced the Location NULL rows to 116 from 800, let's drop the rest and continue"
   ]
  },
  {
   "cell_type": "code",
   "execution_count": 193,
   "id": "0045cd72-1109-4448-8301-4bd1bb71493f",
   "metadata": {},
   "outputs": [],
   "source": [
    "tccp.dropna(subset=[\"Location\"], inplace=True)"
   ]
  },
  {
   "cell_type": "code",
   "execution_count": 195,
   "id": "4de02850-8293-4564-ad29-4c81e32e8af5",
   "metadata": {},
   "outputs": [],
   "source": [
    "total_null_rows_dropped += 116"
   ]
  },
  {
   "cell_type": "code",
   "execution_count": 196,
   "id": "7df72c65-4291-490e-b7e9-3056204a55c3",
   "metadata": {},
   "outputs": [
    {
     "data": {
      "text/plain": [
       "119"
      ]
     },
     "execution_count": 196,
     "metadata": {},
     "output_type": "execute_result"
    }
   ],
   "source": [
    "total_null_rows_dropped"
   ]
  },
  {
   "cell_type": "markdown",
   "id": "a6237c34-8c1f-4eda-bcd6-88557fb2a473",
   "metadata": {},
   "source": [
    "<a id=\"apr\"></a>"
   ]
  },
  {
   "cell_type": "markdown",
   "id": "a27b7a0a-88bb-43c2-a1c8-80bc84bc8006",
   "metadata": {},
   "source": [
    "---\n",
    "## APR\n",
    "----"
   ]
  },
  {
   "cell_type": "markdown",
   "id": "37819b1a-af34-4b58-8d9d-91ba1c768629",
   "metadata": {},
   "source": [
    "- considering there's only 34 missing APR and that APR is most likely a median of variable rates as per the data dictionary, let's impute the median because it is less affected by outliers than the mean."
   ]
  },
  {
   "cell_type": "code",
   "execution_count": 198,
   "id": "4155617a-9d8e-4ba7-975e-5f8b5a3106d0",
   "metadata": {},
   "outputs": [],
   "source": [
    "tccp[\"APR\"].fillna(tccp[\"APR\"].median(), inplace=True)"
   ]
  },
  {
   "cell_type": "markdown",
   "id": "366122be-845c-44d1-8904-fe349dc736f1",
   "metadata": {},
   "source": [
    "<a id=\"index\"></a>"
   ]
  },
  {
   "cell_type": "markdown",
   "id": "9f096667-e6fe-4277-92ba-f89b49514600",
   "metadata": {},
   "source": [
    "---\n",
    "## Index\n",
    "----"
   ]
  },
  {
   "cell_type": "code",
   "execution_count": 201,
   "id": "e8c65ad8-4ac5-4514-a70b-0e730ce29cc0",
   "metadata": {},
   "outputs": [
    {
     "data": {
      "text/html": [
       "<div>\n",
       "<style scoped>\n",
       "    .dataframe tbody tr th:only-of-type {\n",
       "        vertical-align: middle;\n",
       "    }\n",
       "\n",
       "    .dataframe tbody tr th {\n",
       "        vertical-align: top;\n",
       "    }\n",
       "\n",
       "    .dataframe thead th {\n",
       "        text-align: right;\n",
       "    }\n",
       "</style>\n",
       "<table border=\"1\" class=\"dataframe\">\n",
       "  <thead>\n",
       "    <tr style=\"text-align: right;\">\n",
       "      <th></th>\n",
       "      <th>Agreement_Date</th>\n",
       "      <th>Institution_Name</th>\n",
       "      <th>Plan_Name</th>\n",
       "      <th>Availability_of_Credit_Card_Plan</th>\n",
       "      <th>Location</th>\n",
       "      <th>APR</th>\n",
       "      <th>Index</th>\n",
       "      <th>Variable_Rate_Index</th>\n",
       "      <th>Grace_Period</th>\n",
       "      <th>Annual_Fee</th>\n",
       "      <th>Late_Fee</th>\n",
       "      <th>Telephone_Number_for_Consumers</th>\n",
       "    </tr>\n",
       "  </thead>\n",
       "  <tbody>\n",
       "    <tr>\n",
       "      <th>1386</th>\n",
       "      <td>2017-07-31</td>\n",
       "      <td>First State Bank</td>\n",
       "      <td>MasterCard Classic</td>\n",
       "      <td>One State</td>\n",
       "      <td>NM</td>\n",
       "      <td>14.90</td>\n",
       "      <td>NaN</td>\n",
       "      <td>NaN</td>\n",
       "      <td>25.0</td>\n",
       "      <td>0.0</td>\n",
       "      <td>1.0</td>\n",
       "      <td>(800) 423-7503</td>\n",
       "    </tr>\n",
       "    <tr>\n",
       "      <th>1426</th>\n",
       "      <td>2017-07-31</td>\n",
       "      <td>Baxter Credit Union</td>\n",
       "      <td>Visa Platinum Travel Rewards</td>\n",
       "      <td>National</td>\n",
       "      <td>National</td>\n",
       "      <td>15.15</td>\n",
       "      <td>NaN</td>\n",
       "      <td>NaN</td>\n",
       "      <td>25.0</td>\n",
       "      <td>NaN</td>\n",
       "      <td>NaN</td>\n",
       "      <td>(800) 388-7000</td>\n",
       "    </tr>\n",
       "  </tbody>\n",
       "</table>\n",
       "</div>"
      ],
      "text/plain": [
       "     Agreement_Date     Institution_Name                     Plan_Name  \\\n",
       "1386     2017-07-31     First State Bank            MasterCard Classic   \n",
       "1426     2017-07-31  Baxter Credit Union  Visa Platinum Travel Rewards   \n",
       "\n",
       "     Availability_of_Credit_Card_Plan  Location    APR Index  \\\n",
       "1386                        One State        NM  14.90   NaN   \n",
       "1426                         National  National  15.15   NaN   \n",
       "\n",
       "     Variable_Rate_Index  Grace_Period  Annual_Fee  Late_Fee  \\\n",
       "1386                 NaN          25.0         0.0       1.0   \n",
       "1426                 NaN          25.0         NaN       NaN   \n",
       "\n",
       "     Telephone_Number_for_Consumers  \n",
       "1386                 (800) 423-7503  \n",
       "1426                 (800) 388-7000  "
      ]
     },
     "execution_count": 201,
     "metadata": {},
     "output_type": "execute_result"
    }
   ],
   "source": [
    "tccp[tccp['Index'].isna()]"
   ]
  },
  {
   "cell_type": "markdown",
   "id": "62db30fe-ca65-4ae5-9831-f0d664752af6",
   "metadata": {},
   "source": [
    "- no real pattern to impute, and only 2 rows, let's drop and continue on to a larger set: Variable_Rate_Index"
   ]
  },
  {
   "cell_type": "code",
   "execution_count": 202,
   "id": "9286233c-62d1-4ff4-95f8-b9f002d4ba4b",
   "metadata": {},
   "outputs": [],
   "source": [
    "tccp.dropna(subset=[\"Index\"], inplace=True)"
   ]
  },
  {
   "cell_type": "code",
   "execution_count": 208,
   "id": "d9e267ae-86a3-4987-89dd-955fe7d672a2",
   "metadata": {},
   "outputs": [],
   "source": [
    "total_null_rows_dropped += 2"
   ]
  },
  {
   "cell_type": "code",
   "execution_count": 203,
   "id": "7a47a9a3-bb89-4421-a404-b178535a664b",
   "metadata": {},
   "outputs": [
    {
     "data": {
      "text/plain": [
       "Agreement_Date                         0\n",
       "Institution_Name                       0\n",
       "Plan_Name                              0\n",
       "Availability_of_Credit_Card_Plan       0\n",
       "Location                               0\n",
       "APR                                    0\n",
       "Index                                  0\n",
       "Variable_Rate_Index                 3729\n",
       "Grace_Period                          72\n",
       "Annual_Fee                          1457\n",
       "Late_Fee                            6989\n",
       "Telephone_Number_for_Consumers        82\n",
       "dtype: int64"
      ]
     },
     "execution_count": 203,
     "metadata": {},
     "output_type": "execute_result"
    }
   ],
   "source": [
    "tccp.isnull().sum()"
   ]
  },
  {
   "cell_type": "markdown",
   "id": "f8662c4d-3211-40f0-b38e-056d12343362",
   "metadata": {},
   "source": [
    "<a id=\"vari\"></a>"
   ]
  },
  {
   "cell_type": "markdown",
   "id": "1ab5d1c1-5ee9-413a-bca3-4f42ebce398e",
   "metadata": {},
   "source": [
    "---\n",
    "## Variable_Rate_Index\n",
    "----"
   ]
  },
  {
   "cell_type": "code",
   "execution_count": 205,
   "id": "9bb2ebdb-b58a-4672-8777-35d7631d3b8a",
   "metadata": {},
   "outputs": [
    {
     "data": {
      "text/plain": [
       "(3729, 12)"
      ]
     },
     "execution_count": 205,
     "metadata": {},
     "output_type": "execute_result"
    }
   ],
   "source": [
    "tccp[tccp['Variable_Rate_Index'].isna()].shape"
   ]
  },
  {
   "cell_type": "code",
   "execution_count": 210,
   "id": "4452d82b-c9e7-4184-a5ad-304c703096e0",
   "metadata": {},
   "outputs": [
    {
     "data": {
      "text/plain": [
       "(3724, 12)"
      ]
     },
     "execution_count": 210,
     "metadata": {},
     "output_type": "execute_result"
    }
   ],
   "source": [
    "tccp[tccp[\"Index\"]=='F'].shape"
   ]
  },
  {
   "cell_type": "markdown",
   "id": "374e655f-5a85-4ced-8764-92ce87806ca9",
   "metadata": {},
   "source": [
    "Variable_Rate_Index is only populated when Index = V, a large portion of these we are expecting"
   ]
  },
  {
   "cell_type": "code",
   "execution_count": 213,
   "id": "fee3c00f-937d-4029-b1ed-29f0789f6161",
   "metadata": {},
   "outputs": [
    {
     "data": {
      "text/plain": [
       "(14, 12)"
      ]
     },
     "execution_count": 213,
     "metadata": {},
     "output_type": "execute_result"
    }
   ],
   "source": [
    "tccp[(tccp[\"Index\"]=='V') & (tccp['Variable_Rate_Index'].isna())].shape"
   ]
  },
  {
   "cell_type": "markdown",
   "id": "846b0a29-ad66-42e6-93d6-c54c10dd6135",
   "metadata": {},
   "source": [
    "- Let's remove the 14 as our total number of rows removed is still under 5% and we'll fill the all the ones we expect due to Index = F with \"--\" as a placeholder"
   ]
  },
  {
   "cell_type": "code",
   "execution_count": 216,
   "id": "da19f36e-d499-4495-9195-5fd426ae754b",
   "metadata": {},
   "outputs": [
    {
     "data": {
      "text/plain": [
       "1.2662201758057765"
      ]
     },
     "execution_count": 216,
     "metadata": {},
     "output_type": "execute_result"
    }
   ],
   "source": [
    "total_null_rows_dropped/9556*100"
   ]
  },
  {
   "cell_type": "code",
   "execution_count": 217,
   "id": "878d791f-4a2c-41b6-b989-808927322b51",
   "metadata": {},
   "outputs": [],
   "source": [
    "tccp.loc[(tccp[\"Index\"] == 'F') & (tccp[\"Variable_Rate_Index\"].isna()), \"Variable_Rate_Index\"] = \"--\""
   ]
  },
  {
   "cell_type": "code",
   "execution_count": 219,
   "id": "119b1810-6e55-442b-9706-8f37b190573b",
   "metadata": {},
   "outputs": [],
   "source": [
    "tccp.dropna(subset=[\"Variable_Rate_Index\"], inplace=True)"
   ]
  },
  {
   "cell_type": "code",
   "execution_count": 221,
   "id": "172d5117-97ab-4e37-b42f-ae0c76619d85",
   "metadata": {},
   "outputs": [],
   "source": [
    "total_null_rows_dropped += 14"
   ]
  },
  {
   "cell_type": "code",
   "execution_count": 224,
   "id": "68aa7d18-aa4b-4c73-8d8f-a880d75da298",
   "metadata": {},
   "outputs": [
    {
     "data": {
      "text/plain": [
       "1.4127249895353704"
      ]
     },
     "execution_count": 224,
     "metadata": {},
     "output_type": "execute_result"
    }
   ],
   "source": [
    "total_null_rows_dropped/9556*100"
   ]
  },
  {
   "cell_type": "markdown",
   "id": "c115e23e-fabb-43e2-9f0d-8d7b9d891d32",
   "metadata": {},
   "source": [
    "<a id=\"gp-tn\"></a>"
   ]
  },
  {
   "cell_type": "markdown",
   "id": "462e8b11-f2c8-4e3a-ab44-0405390872ab",
   "metadata": {},
   "source": [
    "---\n",
    "### Grace_Period & Telephone Number for Consumer\n",
    "---"
   ]
  },
  {
   "cell_type": "markdown",
   "id": "fe24e937-f9c2-4cd4-b551-28f326417045",
   "metadata": {},
   "source": [
    "- Grouped together because there's no easy way atm to impute these values, we could try an webscrape these values, but we are still well below 5% of total rows being removed. Let's drop and move on."
   ]
  },
  {
   "cell_type": "code",
   "execution_count": 225,
   "id": "2b367aeb-6450-41a2-bf9c-052391b9d70c",
   "metadata": {},
   "outputs": [],
   "source": [
    "tccp.dropna(subset=[\"Grace_Period\", \"Telephone_Number_for_Consumers\"], inplace=True)"
   ]
  },
  {
   "cell_type": "code",
   "execution_count": 226,
   "id": "5600b5a9-afcb-472c-b1b0-241ccfb57cdf",
   "metadata": {},
   "outputs": [
    {
     "data": {
      "text/plain": [
       "Agreement_Date                         0\n",
       "Institution_Name                       0\n",
       "Plan_Name                              0\n",
       "Availability_of_Credit_Card_Plan       0\n",
       "Location                               0\n",
       "APR                                    0\n",
       "Index                                  0\n",
       "Variable_Rate_Index                    0\n",
       "Grace_Period                           0\n",
       "Annual_Fee                          1370\n",
       "Late_Fee                            6914\n",
       "Telephone_Number_for_Consumers         0\n",
       "dtype: int64"
      ]
     },
     "execution_count": 226,
     "metadata": {},
     "output_type": "execute_result"
    }
   ],
   "source": [
    "tccp.isnull().sum()"
   ]
  },
  {
   "cell_type": "markdown",
   "id": "eb1212af-5452-41db-8324-95efa4d26819",
   "metadata": {},
   "source": [
    "<a id=\"annual_late\"></a>"
   ]
  },
  {
   "cell_type": "markdown",
   "id": "4e0c201f-25be-49f7-804d-a09b4d0fb92b",
   "metadata": {},
   "source": [
    "---\n",
    "### Annual Fee and Late Fee\n",
    "---"
   ]
  },
  {
   "cell_type": "markdown",
   "id": "bde7c014-17a6-4769-901c-4bd4614c2540",
   "metadata": {},
   "source": [
    "- Annual Fees\n",
    "    - Not all Cards have Annual Fees (outside this dataset)\n",
    "    - In this dataset, the minority is annual fees only 35% have values above 0, and 50 currently without, the leftover 15% is currently null\n",
    "    - <a href=\"https://money.usnews.com/credit-cards/articles/fee-survey#:~:text=Nearly%2070%20percent%20of%20credit,late%20fee%20is%20about%20%2436.\">Nearly 70% of credit cards dont charge an annual fee</a>\n",
    "    - Let's impute the median of 0 and move onto Late Fees which we will handle with similar logic"
   ]
  },
  {
   "cell_type": "code",
   "execution_count": 240,
   "id": "d109b71b-17fa-4530-8837-4778e7a8f398",
   "metadata": {},
   "outputs": [
    {
     "data": {
      "text/html": [
       "<div>\n",
       "<style scoped>\n",
       "    .dataframe tbody tr th:only-of-type {\n",
       "        vertical-align: middle;\n",
       "    }\n",
       "\n",
       "    .dataframe tbody tr th {\n",
       "        vertical-align: top;\n",
       "    }\n",
       "\n",
       "    .dataframe thead th {\n",
       "        text-align: right;\n",
       "    }\n",
       "</style>\n",
       "<table border=\"1\" class=\"dataframe\">\n",
       "  <thead>\n",
       "    <tr style=\"text-align: right;\">\n",
       "      <th></th>\n",
       "      <th>Annual_Fee</th>\n",
       "    </tr>\n",
       "  </thead>\n",
       "  <tbody>\n",
       "    <tr>\n",
       "      <th>count</th>\n",
       "      <td>9275.000000</td>\n",
       "    </tr>\n",
       "    <tr>\n",
       "      <th>mean</th>\n",
       "      <td>8.773606</td>\n",
       "    </tr>\n",
       "    <tr>\n",
       "      <th>std</th>\n",
       "      <td>16.132058</td>\n",
       "    </tr>\n",
       "    <tr>\n",
       "      <th>min</th>\n",
       "      <td>0.000000</td>\n",
       "    </tr>\n",
       "    <tr>\n",
       "      <th>25%</th>\n",
       "      <td>0.000000</td>\n",
       "    </tr>\n",
       "    <tr>\n",
       "      <th>50%</th>\n",
       "      <td>0.000000</td>\n",
       "    </tr>\n",
       "    <tr>\n",
       "      <th>75%</th>\n",
       "      <td>17.000000</td>\n",
       "    </tr>\n",
       "    <tr>\n",
       "      <th>max</th>\n",
       "      <td>175.000000</td>\n",
       "    </tr>\n",
       "  </tbody>\n",
       "</table>\n",
       "</div>"
      ],
      "text/plain": [
       "        Annual_Fee\n",
       "count  9275.000000\n",
       "mean      8.773606\n",
       "std      16.132058\n",
       "min       0.000000\n",
       "25%       0.000000\n",
       "50%       0.000000\n",
       "75%      17.000000\n",
       "max     175.000000"
      ]
     },
     "execution_count": 240,
     "metadata": {},
     "output_type": "execute_result"
    }
   ],
   "source": [
    "tccp[[\"Annual_Fee\"]].describe()"
   ]
  },
  {
   "cell_type": "code",
   "execution_count": 232,
   "id": "e2d38cfc-bf3f-41f6-8571-8c1bfc4e7189",
   "metadata": {},
   "outputs": [
    {
     "data": {
      "text/plain": [
       "(4651, 50.1455525606469)"
      ]
     },
     "execution_count": 232,
     "metadata": {},
     "output_type": "execute_result"
    }
   ],
   "source": [
    "tccp[tccp[\"Annual_Fee\"]==0].shape[0],tccp[tccp[\"Annual_Fee\"]==0].shape[0]/tccp.shape[0]*100"
   ]
  },
  {
   "cell_type": "code",
   "execution_count": 233,
   "id": "20d5a6a7-75fd-4dd7-af5c-8526eca6fa6a",
   "metadata": {},
   "outputs": [
    {
     "data": {
      "text/plain": [
       "(3254, 35.08355795148248)"
      ]
     },
     "execution_count": 233,
     "metadata": {},
     "output_type": "execute_result"
    }
   ],
   "source": [
    "tccp[tccp[\"Annual_Fee\"]>0].shape[0],tccp[tccp[\"Annual_Fee\"]>0].shape[0]/tccp.shape[0]*100"
   ]
  },
  {
   "cell_type": "code",
   "execution_count": 236,
   "id": "f78704b7-e807-4c3a-95ed-0653911ad0fa",
   "metadata": {},
   "outputs": [
    {
     "data": {
      "text/plain": [
       "0.0"
      ]
     },
     "execution_count": 236,
     "metadata": {},
     "output_type": "execute_result"
    }
   ],
   "source": [
    "tccp[\"Annual_Fee\"].median()"
   ]
  },
  {
   "cell_type": "code",
   "execution_count": 237,
   "id": "69971dd4-68da-4bed-8c26-6620721421c4",
   "metadata": {},
   "outputs": [],
   "source": [
    "tccp[\"Annual_Fee\"].fillna(tccp[\"Annual_Fee\"].median(), inplace=True)"
   ]
  },
  {
   "cell_type": "markdown",
   "id": "dd789b59-8afb-4187-a8b9-2ed7164b7190",
   "metadata": {},
   "source": [
    "- Late Fees\n",
    "    - Most if not all Cards have Late Fees (outside this dataset), even when considering Charge Cards v. Credit Cards\n",
    "    - In this instance I think it would be best to impute the mean, because the range of fees within the dataset is wide even with ~7000 rows missing. Given that Late Fees today are almost a certainty, let's for now treat that as a certainty in the data, even historically."
   ]
  },
  {
   "cell_type": "code",
   "execution_count": 239,
   "id": "42105c2e-fd2f-45e6-8cf1-df1f01370763",
   "metadata": {},
   "outputs": [
    {
     "data": {
      "text/html": [
       "<div>\n",
       "<style scoped>\n",
       "    .dataframe tbody tr th:only-of-type {\n",
       "        vertical-align: middle;\n",
       "    }\n",
       "\n",
       "    .dataframe tbody tr th {\n",
       "        vertical-align: top;\n",
       "    }\n",
       "\n",
       "    .dataframe thead th {\n",
       "        text-align: right;\n",
       "    }\n",
       "</style>\n",
       "<table border=\"1\" class=\"dataframe\">\n",
       "  <thead>\n",
       "    <tr style=\"text-align: right;\">\n",
       "      <th></th>\n",
       "      <th>Late_Fee</th>\n",
       "    </tr>\n",
       "  </thead>\n",
       "  <tbody>\n",
       "    <tr>\n",
       "      <th>count</th>\n",
       "      <td>2361.000000</td>\n",
       "    </tr>\n",
       "    <tr>\n",
       "      <th>mean</th>\n",
       "      <td>23.211017</td>\n",
       "    </tr>\n",
       "    <tr>\n",
       "      <th>std</th>\n",
       "      <td>9.372574</td>\n",
       "    </tr>\n",
       "    <tr>\n",
       "      <th>min</th>\n",
       "      <td>0.000000</td>\n",
       "    </tr>\n",
       "    <tr>\n",
       "      <th>25%</th>\n",
       "      <td>20.000000</td>\n",
       "    </tr>\n",
       "    <tr>\n",
       "      <th>50%</th>\n",
       "      <td>25.000000</td>\n",
       "    </tr>\n",
       "    <tr>\n",
       "      <th>75%</th>\n",
       "      <td>28.000000</td>\n",
       "    </tr>\n",
       "    <tr>\n",
       "      <th>max</th>\n",
       "      <td>41.000000</td>\n",
       "    </tr>\n",
       "  </tbody>\n",
       "</table>\n",
       "</div>"
      ],
      "text/plain": [
       "          Late_Fee\n",
       "count  2361.000000\n",
       "mean     23.211017\n",
       "std       9.372574\n",
       "min       0.000000\n",
       "25%      20.000000\n",
       "50%      25.000000\n",
       "75%      28.000000\n",
       "max      41.000000"
      ]
     },
     "execution_count": 239,
     "metadata": {},
     "output_type": "execute_result"
    }
   ],
   "source": [
    "tccp[[\"Late_Fee\"]].describe()"
   ]
  },
  {
   "cell_type": "code",
   "execution_count": 241,
   "id": "18f17287-a306-4fdb-90f9-a529fb531da5",
   "metadata": {},
   "outputs": [
    {
     "data": {
      "text/plain": [
       "(80, 0.862533692722372)"
      ]
     },
     "execution_count": 241,
     "metadata": {},
     "output_type": "execute_result"
    }
   ],
   "source": [
    "tccp[tccp[\"Late_Fee\"]==0].shape[0],tccp[tccp[\"Late_Fee\"]==0].shape[0]/tccp.shape[0]*100"
   ]
  },
  {
   "cell_type": "code",
   "execution_count": 242,
   "id": "9eb28181-79dd-450d-9306-8d0183089f05",
   "metadata": {},
   "outputs": [
    {
     "data": {
      "text/plain": [
       "(2281, 24.59299191374663)"
      ]
     },
     "execution_count": 242,
     "metadata": {},
     "output_type": "execute_result"
    }
   ],
   "source": [
    "tccp[tccp[\"Late_Fee\"]>0].shape[0],tccp[tccp[\"Late_Fee\"]>0].shape[0]/tccp.shape[0]*100"
   ]
  },
  {
   "cell_type": "code",
   "execution_count": 244,
   "id": "bcfa1476-4653-454b-98fd-8a048cbe89da",
   "metadata": {},
   "outputs": [],
   "source": [
    "tccp[\"Late_Fee\"].fillna(tccp[\"Late_Fee\"].mean(), inplace=True)"
   ]
  },
  {
   "cell_type": "code",
   "execution_count": 245,
   "id": "5f89e265-2cca-4dd0-bf97-c6582080923a",
   "metadata": {},
   "outputs": [
    {
     "data": {
      "text/plain": [
       "Agreement_Date                      0\n",
       "Institution_Name                    0\n",
       "Plan_Name                           0\n",
       "Availability_of_Credit_Card_Plan    0\n",
       "Location                            0\n",
       "APR                                 0\n",
       "Index                               0\n",
       "Variable_Rate_Index                 0\n",
       "Grace_Period                        0\n",
       "Annual_Fee                          0\n",
       "Late_Fee                            0\n",
       "Telephone_Number_for_Consumers      0\n",
       "dtype: int64"
      ]
     },
     "execution_count": 245,
     "metadata": {},
     "output_type": "execute_result"
    }
   ],
   "source": [
    "tccp.isnull().sum()"
   ]
  },
  {
   "cell_type": "code",
   "execution_count": 246,
   "id": "02fb3c01-978a-4e8d-950e-3b6dd9d7c1ec",
   "metadata": {},
   "outputs": [
    {
     "data": {
      "text/html": [
       "<div>\n",
       "<style scoped>\n",
       "    .dataframe tbody tr th:only-of-type {\n",
       "        vertical-align: middle;\n",
       "    }\n",
       "\n",
       "    .dataframe tbody tr th {\n",
       "        vertical-align: top;\n",
       "    }\n",
       "\n",
       "    .dataframe thead th {\n",
       "        text-align: right;\n",
       "    }\n",
       "</style>\n",
       "<table border=\"1\" class=\"dataframe\">\n",
       "  <thead>\n",
       "    <tr style=\"text-align: right;\">\n",
       "      <th></th>\n",
       "      <th>Annual_Fee</th>\n",
       "      <th>Late_Fee</th>\n",
       "    </tr>\n",
       "  </thead>\n",
       "  <tbody>\n",
       "    <tr>\n",
       "      <th>count</th>\n",
       "      <td>9275.000000</td>\n",
       "      <td>9275.000000</td>\n",
       "    </tr>\n",
       "    <tr>\n",
       "      <th>mean</th>\n",
       "      <td>8.773606</td>\n",
       "      <td>23.211017</td>\n",
       "    </tr>\n",
       "    <tr>\n",
       "      <th>std</th>\n",
       "      <td>16.132058</td>\n",
       "      <td>4.728042</td>\n",
       "    </tr>\n",
       "    <tr>\n",
       "      <th>min</th>\n",
       "      <td>0.000000</td>\n",
       "      <td>0.000000</td>\n",
       "    </tr>\n",
       "    <tr>\n",
       "      <th>25%</th>\n",
       "      <td>0.000000</td>\n",
       "      <td>23.211017</td>\n",
       "    </tr>\n",
       "    <tr>\n",
       "      <th>50%</th>\n",
       "      <td>0.000000</td>\n",
       "      <td>23.211017</td>\n",
       "    </tr>\n",
       "    <tr>\n",
       "      <th>75%</th>\n",
       "      <td>17.000000</td>\n",
       "      <td>23.211017</td>\n",
       "    </tr>\n",
       "    <tr>\n",
       "      <th>max</th>\n",
       "      <td>175.000000</td>\n",
       "      <td>41.000000</td>\n",
       "    </tr>\n",
       "  </tbody>\n",
       "</table>\n",
       "</div>"
      ],
      "text/plain": [
       "        Annual_Fee     Late_Fee\n",
       "count  9275.000000  9275.000000\n",
       "mean      8.773606    23.211017\n",
       "std      16.132058     4.728042\n",
       "min       0.000000     0.000000\n",
       "25%       0.000000    23.211017\n",
       "50%       0.000000    23.211017\n",
       "75%      17.000000    23.211017\n",
       "max     175.000000    41.000000"
      ]
     },
     "execution_count": 246,
     "metadata": {},
     "output_type": "execute_result"
    }
   ],
   "source": [
    "tccp[[\"Annual_Fee\",\"Late_Fee\"]].describe()"
   ]
  },
  {
   "cell_type": "markdown",
   "id": "aaef731d-eb1e-43d2-aea9-bfa0e113cfa8",
   "metadata": {},
   "source": [
    "<a id=\"EDA\"></a>"
   ]
  },
  {
   "cell_type": "markdown",
   "id": "e1832c0f-e2d3-4a40-913d-ccac0c92ff42",
   "metadata": {},
   "source": [
    "---\n",
    "## Exploratory Data Analysis\n",
    "\n",
    "---"
   ]
  },
  {
   "cell_type": "markdown",
   "id": "b929fe13-f776-4d56-a07c-bf34457dfd55",
   "metadata": {},
   "source": [
    "## Descriptive Statistics"
   ]
  },
  {
   "cell_type": "code",
   "execution_count": 266,
   "id": "fe7068b1-d13d-4208-a35c-ff79fa4f8f7c",
   "metadata": {},
   "outputs": [],
   "source": [
    "tccp.reset_index(drop=True, inplace=True)"
   ]
  },
  {
   "cell_type": "code",
   "execution_count": 267,
   "id": "78992705-6ba4-4977-b4f9-d4845566d288",
   "metadata": {},
   "outputs": [
    {
     "name": "stdout",
     "output_type": "stream",
     "text": [
      "<class 'pandas.core.frame.DataFrame'>\n",
      "RangeIndex: 9275 entries, 0 to 9274\n",
      "Data columns (total 12 columns):\n",
      " #   Column                            Non-Null Count  Dtype         \n",
      "---  ------                            --------------  -----         \n",
      " 0   Agreement_Date                    9275 non-null   datetime64[ns]\n",
      " 1   Institution_Name                  9275 non-null   object        \n",
      " 2   Plan_Name                         9275 non-null   object        \n",
      " 3   Availability_of_Credit_Card_Plan  9275 non-null   object        \n",
      " 4   Location                          9275 non-null   object        \n",
      " 5   APR                               9275 non-null   float64       \n",
      " 6   Index                             9275 non-null   object        \n",
      " 7   Variable_Rate_Index               9275 non-null   object        \n",
      " 8   Grace_Period                      9275 non-null   float64       \n",
      " 9   Annual_Fee                        9275 non-null   float64       \n",
      " 10  Late_Fee                          9275 non-null   float64       \n",
      " 11  Telephone_Number_for_Consumers    9275 non-null   object        \n",
      "dtypes: datetime64[ns](1), float64(4), object(7)\n",
      "memory usage: 869.7+ KB\n"
     ]
    }
   ],
   "source": [
    "tccp.info()"
   ]
  },
  {
   "cell_type": "code",
   "execution_count": 252,
   "id": "007c2e24-2d9b-454e-a60b-22bb13efde6b",
   "metadata": {},
   "outputs": [],
   "source": [
    "tccp[\"Agreement_Date\"] = pd.to_datetime(tccp[\"Agreement_Date\"])"
   ]
  },
  {
   "cell_type": "code",
   "execution_count": 254,
   "id": "e92a091c-7600-478e-936b-cabebd8c6f8e",
   "metadata": {},
   "outputs": [
    {
     "data": {
      "text/html": [
       "<div>\n",
       "<style scoped>\n",
       "    .dataframe tbody tr th:only-of-type {\n",
       "        vertical-align: middle;\n",
       "    }\n",
       "\n",
       "    .dataframe tbody tr th {\n",
       "        vertical-align: top;\n",
       "    }\n",
       "\n",
       "    .dataframe thead th {\n",
       "        text-align: right;\n",
       "    }\n",
       "</style>\n",
       "<table border=\"1\" class=\"dataframe\">\n",
       "  <thead>\n",
       "    <tr style=\"text-align: right;\">\n",
       "      <th></th>\n",
       "      <th>APR</th>\n",
       "      <th>Grace_Period</th>\n",
       "      <th>Annual_Fee</th>\n",
       "      <th>Late_Fee</th>\n",
       "    </tr>\n",
       "  </thead>\n",
       "  <tbody>\n",
       "    <tr>\n",
       "      <th>count</th>\n",
       "      <td>9275.000000</td>\n",
       "      <td>9275.000000</td>\n",
       "      <td>9275.000000</td>\n",
       "      <td>9275.000000</td>\n",
       "    </tr>\n",
       "    <tr>\n",
       "      <th>mean</th>\n",
       "      <td>14.818508</td>\n",
       "      <td>24.101240</td>\n",
       "      <td>8.773606</td>\n",
       "      <td>23.211017</td>\n",
       "    </tr>\n",
       "    <tr>\n",
       "      <th>std</th>\n",
       "      <td>3.907835</td>\n",
       "      <td>5.566427</td>\n",
       "      <td>16.132058</td>\n",
       "      <td>4.728042</td>\n",
       "    </tr>\n",
       "    <tr>\n",
       "      <th>min</th>\n",
       "      <td>0.140000</td>\n",
       "      <td>0.000000</td>\n",
       "      <td>0.000000</td>\n",
       "      <td>0.000000</td>\n",
       "    </tr>\n",
       "    <tr>\n",
       "      <th>25%</th>\n",
       "      <td>12.240000</td>\n",
       "      <td>25.000000</td>\n",
       "      <td>0.000000</td>\n",
       "      <td>23.211017</td>\n",
       "    </tr>\n",
       "    <tr>\n",
       "      <th>50%</th>\n",
       "      <td>14.900000</td>\n",
       "      <td>25.000000</td>\n",
       "      <td>0.000000</td>\n",
       "      <td>23.211017</td>\n",
       "    </tr>\n",
       "    <tr>\n",
       "      <th>75%</th>\n",
       "      <td>17.400000</td>\n",
       "      <td>25.000000</td>\n",
       "      <td>17.000000</td>\n",
       "      <td>23.211017</td>\n",
       "    </tr>\n",
       "    <tr>\n",
       "      <th>max</th>\n",
       "      <td>36.000000</td>\n",
       "      <td>99.000000</td>\n",
       "      <td>175.000000</td>\n",
       "      <td>41.000000</td>\n",
       "    </tr>\n",
       "  </tbody>\n",
       "</table>\n",
       "</div>"
      ],
      "text/plain": [
       "               APR  Grace_Period   Annual_Fee     Late_Fee\n",
       "count  9275.000000   9275.000000  9275.000000  9275.000000\n",
       "mean     14.818508     24.101240     8.773606    23.211017\n",
       "std       3.907835      5.566427    16.132058     4.728042\n",
       "min       0.140000      0.000000     0.000000     0.000000\n",
       "25%      12.240000     25.000000     0.000000    23.211017\n",
       "50%      14.900000     25.000000     0.000000    23.211017\n",
       "75%      17.400000     25.000000    17.000000    23.211017\n",
       "max      36.000000     99.000000   175.000000    41.000000"
      ]
     },
     "execution_count": 254,
     "metadata": {},
     "output_type": "execute_result"
    }
   ],
   "source": [
    "tccp.describe()"
   ]
  },
  {
   "cell_type": "code",
   "execution_count": 257,
   "id": "05506cd7-d929-4791-817f-6d01b494f86a",
   "metadata": {},
   "outputs": [],
   "source": [
    "min_date = tccp[\"Agreement_Date\"].min()\n",
    "max_date = tccp[\"Agreement_Date\"].max()"
   ]
  },
  {
   "cell_type": "code",
   "execution_count": 260,
   "id": "c814659e-753c-4fec-ac76-598cb24bace8",
   "metadata": {},
   "outputs": [
    {
     "data": {
      "text/plain": [
       "(Timestamp('1990-01-31 00:00:00'), Timestamp('2022-07-31 00:00:00'))"
      ]
     },
     "execution_count": 260,
     "metadata": {},
     "output_type": "execute_result"
    }
   ],
   "source": [
    "min_date, max_date"
   ]
  },
  {
   "cell_type": "code",
   "execution_count": 265,
   "id": "bd284065-db63-4394-82c5-07eafdc4c345",
   "metadata": {},
   "outputs": [
    {
     "name": "stdout",
     "output_type": "stream",
     "text": [
      "This is range of years for this dataset: 32.49555099247091, this is the number of reports: 64\n"
     ]
    }
   ],
   "source": [
    "print(f\"This is range of years for this dataset: {(max_date - min_date).days/365.25}, this is the number of reports: {tccp['Agreement_Date'].unique().shape[0]}\")"
   ]
  },
  {
   "cell_type": "markdown",
   "id": "12d48d7b-adca-4311-9158-d801927e2746",
   "metadata": {},
   "source": [
    "Correlation"
   ]
  },
  {
   "cell_type": "code",
   "execution_count": 361,
   "id": "755f0e0b-99a8-4519-8d55-385fc6476b4d",
   "metadata": {},
   "outputs": [
    {
     "data": {
      "text/html": [
       "<div>\n",
       "<style scoped>\n",
       "    .dataframe tbody tr th:only-of-type {\n",
       "        vertical-align: middle;\n",
       "    }\n",
       "\n",
       "    .dataframe tbody tr th {\n",
       "        vertical-align: top;\n",
       "    }\n",
       "\n",
       "    .dataframe thead th {\n",
       "        text-align: right;\n",
       "    }\n",
       "</style>\n",
       "<table border=\"1\" class=\"dataframe\">\n",
       "  <thead>\n",
       "    <tr style=\"text-align: right;\">\n",
       "      <th></th>\n",
       "      <th>APR</th>\n",
       "      <th>Grace_Period</th>\n",
       "      <th>Annual_Fee</th>\n",
       "      <th>Late_Fee</th>\n",
       "    </tr>\n",
       "  </thead>\n",
       "  <tbody>\n",
       "    <tr>\n",
       "      <th>APR</th>\n",
       "      <td>1.000000</td>\n",
       "      <td>-0.044512</td>\n",
       "      <td>0.324629</td>\n",
       "      <td>0.155529</td>\n",
       "    </tr>\n",
       "    <tr>\n",
       "      <th>Grace_Period</th>\n",
       "      <td>-0.044512</td>\n",
       "      <td>1.000000</td>\n",
       "      <td>-0.093876</td>\n",
       "      <td>0.010118</td>\n",
       "    </tr>\n",
       "    <tr>\n",
       "      <th>Annual_Fee</th>\n",
       "      <td>0.324629</td>\n",
       "      <td>-0.093876</td>\n",
       "      <td>1.000000</td>\n",
       "      <td>0.002935</td>\n",
       "    </tr>\n",
       "    <tr>\n",
       "      <th>Late_Fee</th>\n",
       "      <td>0.155529</td>\n",
       "      <td>0.010118</td>\n",
       "      <td>0.002935</td>\n",
       "      <td>1.000000</td>\n",
       "    </tr>\n",
       "  </tbody>\n",
       "</table>\n",
       "</div>"
      ],
      "text/plain": [
       "                   APR  Grace_Period  Annual_Fee  Late_Fee\n",
       "APR           1.000000     -0.044512    0.324629  0.155529\n",
       "Grace_Period -0.044512      1.000000   -0.093876  0.010118\n",
       "Annual_Fee    0.324629     -0.093876    1.000000  0.002935\n",
       "Late_Fee      0.155529      0.010118    0.002935  1.000000"
      ]
     },
     "execution_count": 361,
     "metadata": {},
     "output_type": "execute_result"
    }
   ],
   "source": [
    "tccp.corr()"
   ]
  },
  {
   "cell_type": "markdown",
   "id": "34c8d6fe-b934-428a-974e-8640c3a3ecb7",
   "metadata": {},
   "source": [
    "At a glance the values aren't too correlated with one another, with APR and Late Fees having the highest correlation at 0.32"
   ]
  },
  {
   "cell_type": "code",
   "execution_count": 362,
   "id": "8d161b5d-84e6-4ba0-bc3d-55a7c1974cf9",
   "metadata": {
    "jupyter": {
     "source_hidden": true
    },
    "tags": []
   },
   "outputs": [
    {
     "data": {
      "image/png": "[encoded data removed]",
      "text/plain": [
       "<Figure size 1000x800 with 2 Axes>"
      ]
     },
     "metadata": {},
     "output_type": "display_data"
    }
   ],
   "source": [
    "plt.figure(figsize=(10, 8))  # Set the figure size\n",
    "\n",
    "# Create the heatmap\n",
    "sns.heatmap(\n",
    "    tccp.corr(),\n",
    "    annot=True,  # Display values in each cell\n",
    "    cmap='coolwarm',  # Choose a color map (e.g., 'viridis', 'coolwarm', 'YlGnBu', etc.)\n",
    "    linewidths=0.5,  # Add gridlines between cells\n",
    ")\n",
    "plt.title('Correlation Heatmap')  # Set the heatmap title\n",
    "\n",
    "plt.show()  # Display the heatmap"
   ]
  },
  {
   "cell_type": "markdown",
   "id": "e1a41591-e8f2-4bbe-b9ad-50b363501cfb",
   "metadata": {},
   "source": [
    "<a id=\"apr-plots\"></a>"
   ]
  },
  {
   "cell_type": "markdown",
   "id": "c2dfce08-697f-4ec9-b59c-574cfc2ae7fa",
   "metadata": {},
   "source": [
    "---\n",
    "## Plots on APR and different filters of APR\n",
    "---"
   ]
  },
  {
   "cell_type": "code",
   "execution_count": 274,
   "id": "dd0fcbbb-7de5-4972-9ab6-2948af3b0b30",
   "metadata": {},
   "outputs": [],
   "source": [
    "apr_mean_ot = tccp.groupby(tccp['Agreement_Date'].dt.date)['APR'].mean()\n",
    "apr_max_ot = tccp.groupby(tccp['Agreement_Date'].dt.date)['APR'].max()\n",
    "apr_min_ot = tccp.groupby(tccp['Agreement_Date'].dt.date)['APR'].min()"
   ]
  },
  {
   "cell_type": "code",
   "execution_count": 280,
   "id": "28074490-ae63-43d3-a6ce-2c6aad5f69c2",
   "metadata": {
    "jupyter": {
     "source_hidden": true
    },
    "tags": []
   },
   "outputs": [
    {
     "data": {
      "image/png": "[encoded data removed]",
      "text/plain": [
       "<Figure size 1200x600 with 1 Axes>"
      ]
     },
     "metadata": {},
     "output_type": "display_data"
    }
   ],
   "source": [
    "plt.figure(figsize=(12, 6))\n",
    "apr_mean_ot.plot(kind=\"line\",marker=\"o\", linestyle=\"-\", label=\"Mean APR\")\n",
    "apr_max_ot.plot(kind=\"line\",marker=\"o\", linestyle=\"-\", label=\"Max APR\")\n",
    "apr_min_ot.plot(kind=\"line\",marker=\"o\", linestyle=\"-\", label=\"Min APR\")\n",
    "plt.cm.viridis\n",
    "plt.title(\"APR Over Time\")\n",
    "plt.xlabel(\"Agreement Date\")\n",
    "plt.ylabel(\"APR Value\")\n",
    "plt.grid(True)\n",
    "plt.legend()\n",
    "plt.show()"
   ]
  },
  {
   "cell_type": "code",
   "execution_count": 307,
   "id": "f3cd8b6c-23ae-4fbb-8b3d-271c00512c21",
   "metadata": {},
   "outputs": [],
   "source": [
    "# Define regex patterns for variations of Mastercard and Visa\n",
    "mastercard_pattern = re.compile(r'.*Mastercard.*', flags=re.IGNORECASE)\n",
    "visa_pattern = re.compile(r'.*Visa.*', flags=re.IGNORECASE)\n",
    "\n",
    "# Create separate DataFrames for Visa and Mastercard\n",
    "visa_df = tccp[tccp['Plan_Name'].str.contains(visa_pattern)]\n",
    "mastercard_df = tccp[tccp['Plan_Name'].str.contains(mastercard_pattern)]\n",
    "\n",
    "# Group by Agreement_Date and calculate the mean APR for Visa and Mastercard\n",
    "mean_apr_visa = visa_df.groupby(visa_df['Agreement_Date'].dt.date)['APR'].mean()\n",
    "mean_apr_mastercard = mastercard_df.groupby(mastercard_df['Agreement_Date'].dt.date)['APR'].mean()\n"
   ]
  },
  {
   "cell_type": "code",
   "execution_count": 308,
   "id": "4e3d75ef-8b0c-4064-bff6-27cef4056a20",
   "metadata": {
    "jupyter": {
     "source_hidden": true
    },
    "tags": []
   },
   "outputs": [
    {
     "data": {
      "image/png": "[encoded data removed]",
      "text/plain": [
       "<Figure size 1200x600 with 1 Axes>"
      ]
     },
     "metadata": {},
     "output_type": "display_data"
    }
   ],
   "source": [
    "# Create a figure and axis\n",
    "fig, ax = plt.subplots(figsize=(12, 6))\n",
    "# Plot APR Lines\n",
    "ax.plot(apr_max_ot, label=\"Max APR\", marker=\"o\", linestyle=\":\")\n",
    "ax.plot(apr_mean_ot, label=\"Mean APR\", marker=\"o\", linestyle=\":\")\n",
    "ax.plot(apr_min_ot, label=\"Min APR\", marker=\"o\", linestyle=\":\")\n",
    "ax.plot(mean_apr_visa.index, mean_apr_visa.values, label=\"Mean APR (Visa)\", marker=\"*\", linestyle=\"-\")\n",
    "ax.plot(mean_apr_mastercard.index, mean_apr_mastercard.values, label=\"Mean APR (Mastercard)\", marker=\"*\", linestyle=\"-\")\n",
    "# Set labels and title\n",
    "ax.set_xlabel(\"Agreement Date\")\n",
    "ax.set_ylabel(\"APR Value\")\n",
    "ax.set_title(\"APR Over Time\")\n",
    "\n",
    "# Add legend\n",
    "ax.legend()\n",
    "plt.grid(True)\n",
    "\n",
    "# Show the plot\n",
    "plt.show()\n"
   ]
  },
  {
   "cell_type": "markdown",
   "id": "36f45481-27ae-4db6-a3c9-96bd5a666184",
   "metadata": {},
   "source": [
    "- Over time the APR range has only widened, which is part of the problem statement, and guessing a number 1 complaint from User Advocates\n",
    "- Plans that mention Visa or Mastercard in their name are co-linear with the mean APR over Time\n",
    "- The mean looks to be more closely correlated with the mininum APR values over time. This to me means there's a higher percentage of values closer to the mininum value over the maximum value\n",
    "- Good news is that for different scenarios (Region, Plan Names, others), the values are more or less evenly distributed and centered around the mean, this means that while the range is widening, most reported offers are middle ground.\n",
    "- Bad news, according to the data dictionary, if the APR is variable by customer segment, the data is just recorded as the middle point of their offerings."
   ]
  },
  {
   "cell_type": "code",
   "execution_count": 354,
   "id": "99cf27bc-01d0-45f7-a4e8-41c6c02a8ca2",
   "metadata": {
    "jupyter": {
     "source_hidden": true
    },
    "tags": []
   },
   "outputs": [],
   "source": [
    "mean_visa_val = visa_df['APR'].mean()\n",
    "visa_std_val = visa_df['APR'].std()\n",
    "mean_mc_val = mastercard_df['APR'].mean()\n",
    "mc_std_value = mastercard_df['APR'].std()"
   ]
  },
  {
   "cell_type": "code",
   "execution_count": 356,
   "id": "20df278f-7624-4cab-8a2c-c701b80fec7f",
   "metadata": {
    "jupyter": {
     "source_hidden": true
    },
    "tags": []
   },
   "outputs": [
    {
     "data": {
      "image/png": "[encoded data removed]",
      "text/plain": [
       "<Figure size 1600x800 with 2 Axes>"
      ]
     },
     "metadata": {},
     "output_type": "display_data"
    }
   ],
   "source": [
    "# Create a figure with multiple subplots\n",
    "fig, axes = plt.subplots(nrows=1, ncols=2, figsize=(16, 8))\n",
    "\n",
    "# Plot the distribution of APR values\n",
    "axes[0].hist(visa_df['APR'], bins=20, alpha=0.5, label=\"Visa Plans\")\n",
    "axes[0].axvline(mean_visa_val, color='r', linestyle='dashed', linewidth=2, label='Mean')\n",
    "axes[0].axvline(mean_visa_val + visa_std_val, color='g', linestyle='dashed', linewidth=2, label='Mean + 1 Std Dev')\n",
    "axes[0].axvline(mean_visa_val - visa_std_val, color='g', linestyle='dashed', linewidth=2, label='Mean - 1 Std Dev')\n",
    "axes[1].hist(mastercard_df['APR'], bins=20, alpha=0.5, label=\"Mastercard Plans\")\n",
    "axes[1].axvline(mean_mc_val, color='r', linestyle='dashed', linewidth=2, label='Mean')\n",
    "axes[1].axvline(mean_mc_val + mc_std_value, color='g', linestyle='dashed', linewidth=2, label='Mean + 1 Std Dev')\n",
    "axes[1].axvline(mean_mc_val - mc_std_value, color='g', linestyle='dashed', linewidth=2, label='Mean - 1 Std Dev')\n",
    "\n",
    "# Set labels and title\n",
    "axes[0].set_xlabel(\"APR Value\")\n",
    "axes[0].set_ylabel(\"Frequency\")\n",
    "axes[0].set_title(\"Distribution of APR Values Visa Plans\")\n",
    "axes[1].set_xlabel(\"APR Value\")\n",
    "axes[1].set_ylabel(\"Frequency\")\n",
    "axes[1].set_title(\"Distribution of APR Values MasterCard Plans\")\n",
    "\n",
    "# Show the plot\n",
    "plt.show()"
   ]
  },
  {
   "cell_type": "code",
   "execution_count": 332,
   "id": "02c01f0a-2fb0-4f6e-8467-d5ecdda59c27",
   "metadata": {
    "jupyter": {
     "source_hidden": true
    },
    "tags": []
   },
   "outputs": [],
   "source": [
    "# Create separate DataFrames for Visa and Mastercard\n",
    "regional_df = tccp[tccp['Availability_of_Credit_Card_Plan']==\"Regional\"]\n",
    "national_df = tccp[tccp['Availability_of_Credit_Card_Plan']==\"National\"]\n",
    "one_state_df = tccp[tccp['Availability_of_Credit_Card_Plan']==\"One State\"]\n",
    "\n",
    "# Group by Agreement_Date and calculate the mean APR for Visa and Mastercard\n",
    "mean_regional = regional_df.groupby(regional_df['Agreement_Date'].dt.date)['APR'].mean()\n",
    "mean_national = national_df.groupby(national_df['Agreement_Date'].dt.date)['APR'].mean()\n",
    "mean_one_state = one_state_df.groupby(one_state_df['Agreement_Date'].dt.date)['APR'].mean()\n"
   ]
  },
  {
   "cell_type": "code",
   "execution_count": 338,
   "id": "614f01ce-ff73-4b8f-9591-715050661a9b",
   "metadata": {
    "jupyter": {
     "source_hidden": true
    },
    "tags": []
   },
   "outputs": [
    {
     "data": {
      "image/png": "[encoded data removed]",
      "text/plain": [
       "<Figure size 1200x600 with 1 Axes>"
      ]
     },
     "metadata": {},
     "output_type": "display_data"
    }
   ],
   "source": [
    "# Create a figure and axis\n",
    "fig, ax = plt.subplots(figsize=(12, 6))\n",
    "# Plot APR Lines\n",
    "ax.plot(apr_max_ot, label=\"Max APR\", marker=\"o\", linestyle=\":\")\n",
    "ax.plot(apr_mean_ot, label=\"Mean APR\", marker=\"o\", linestyle=\":\")\n",
    "ax.plot(apr_min_ot, label=\"Min APR\", marker=\"o\", linestyle=\":\")\n",
    "ax.plot(mean_regional.index, mean_regional.values, label=\"Mean APR (Regional Plans)\", marker=\"*\", linestyle=\"--\")\n",
    "ax.plot(mean_national.index, mean_national.values, label=\"Mean APR (National Plans)\", marker=\"*\", linestyle=\"--\")\n",
    "ax.plot(mean_one_state.index, mean_one_state.values, label=\"Mean APR (One State Plans)\", marker=\"*\", linestyle=\"--\")\n",
    "# Set labels and title\n",
    "ax.set_xlabel(\"Agreement Date\")\n",
    "ax.set_ylabel(\"APR Value\")\n",
    "ax.set_title(\"APR Over Time by Availability\")\n",
    "\n",
    "# Add legend\n",
    "ax.legend()\n",
    "plt.grid(True)\n",
    "\n",
    "# Show the plot\n",
    "plt.show()\n"
   ]
  },
  {
   "cell_type": "code",
   "execution_count": 358,
   "id": "727684c5-8dd1-4239-8efa-726b515e6d08",
   "metadata": {
    "jupyter": {
     "source_hidden": true
    },
    "tags": []
   },
   "outputs": [],
   "source": [
    "mean_regional_val = regional_df['APR'].mean()\n",
    "std_regional_val = regional_df['APR'].std()\n",
    "mean_national_val = national_df['APR'].mean()\n",
    "std_national_value = national_df['APR'].std()\n",
    "mean_os_val = one_state_df['APR'].mean()\n",
    "std_os_value = one_state_df['APR'].std()"
   ]
  },
  {
   "cell_type": "code",
   "execution_count": 359,
   "id": "bcf44bd7-0f8d-49ae-820d-edff5deb7f26",
   "metadata": {
    "jupyter": {
     "source_hidden": true
    },
    "tags": []
   },
   "outputs": [
    {
     "data": {
      "image/png": "[encoded data removed]",
      "text/plain": [
       "<Figure size 1600x800 with 3 Axes>"
      ]
     },
     "metadata": {},
     "output_type": "display_data"
    }
   ],
   "source": [
    "# Create a figure with multiple subplots\n",
    "fig, axes = plt.subplots(nrows=1, ncols=3, figsize=(16, 8))\n",
    "\n",
    "# Plot the distribution of APR values\n",
    "axes[0].hist(regional_df['APR'], bins=20, alpha=0.5, label=\"Visa Plans\")\n",
    "axes[0].axvline(mean_regional_val, color='r', linestyle='dashed', linewidth=2, label='Mean')\n",
    "axes[0].axvline(mean_regional_val + std_regional_val, color='g', linestyle='dashed', linewidth=2, label='Mean + 1 Std Dev')\n",
    "axes[0].axvline(mean_regional_val - std_regional_val, color='g', linestyle='dashed', linewidth=2, label='Mean - 1 Std Dev')\n",
    "axes[1].hist(national_df['APR'], bins=20, alpha=0.5, label=\"Mastercard Plans\")\n",
    "axes[1].axvline(mean_national_val, color='r', linestyle='dashed', linewidth=2, label='Mean')\n",
    "axes[1].axvline(mean_national_val + std_national_value, color='g', linestyle='dashed', linewidth=2, label='Mean + 1 Std Dev')\n",
    "axes[1].axvline(mean_national_val - std_national_value, color='g', linestyle='dashed', linewidth=2, label='Mean - 1 Std Dev')\n",
    "axes[2].hist(one_state_df['APR'], bins=20, alpha=0.5, label=\"Mastercard Plans\")\n",
    "axes[2].axvline(mean_os_val, color='r', linestyle='dashed', linewidth=2, label='Mean')\n",
    "axes[2].axvline(mean_os_val + std_os_value, color='g', linestyle='dashed', linewidth=2, label='Mean + 1 Std Dev')\n",
    "axes[2].axvline(mean_os_val - std_os_value, color='g', linestyle='dashed', linewidth=2, label='Mean - 1 Std Dev')\n",
    "\n",
    "# Set labels and title\n",
    "axes[0].set_xlabel(\"APR Value\")\n",
    "axes[0].set_ylabel(\"Frequency\")\n",
    "axes[0].set_title(\"Distribution of APR Values Visa Plans\")\n",
    "axes[1].set_xlabel(\"APR Value\")\n",
    "axes[1].set_ylabel(\"Frequency\")\n",
    "axes[1].set_title(\"Distribution of APR Values MasterCard Plans\")\n",
    "axes[2].set_xlabel(\"APR Value\")\n",
    "axes[2].set_ylabel(\"Frequency\")\n",
    "axes[2].set_title(\"Distribution of APR Values MasterCard Plans\")\n",
    "\n",
    "# Show the plot\n",
    "plt.show()"
   ]
  },
  {
   "cell_type": "markdown",
   "id": "86e4f06b-e9bf-467b-acf4-81b77c3177b4",
   "metadata": {},
   "source": [
    "### Networks and Graph Database"
   ]
  },
  {
   "cell_type": "code",
   "execution_count": null,
   "id": "0987b143-bad3-4da2-bd98-c9c1773e62a6",
   "metadata": {},
   "outputs": [],
   "source": []
  }
 ],
 "metadata": {
  "kernelspec": {
   "display_name": "Python 3 (ipykernel)",
   "language": "python",
   "name": "python3"
  },
  "language_info": {
   "codemirror_mode": {
    "name": "ipython",
    "version": 3
   },
   "file_extension": ".py",
   "mimetype": "text/x-python",
   "name": "python",
   "nbconvert_exporter": "python",
   "pygments_lexer": "ipython3",
   "version": "3.9.13"
  }
 },
 "nbformat": 4,
 "nbformat_minor": 5
}
